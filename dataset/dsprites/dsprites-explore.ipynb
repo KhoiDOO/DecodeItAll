{
 "cells": [
  {
   "cell_type": "code",
   "execution_count": 1,
   "id": "1a15e999-c110-404e-9de3-0155b6491ff5",
   "metadata": {},
   "outputs": [],
   "source": [
    "import os\n",
    "from matplotlib import pyplot as plt\n",
    "import numpy as np\n",
    "import seaborn as sns"
   ]
  },
  {
   "cell_type": "code",
   "execution_count": 27,
   "id": "50e6d3a8-3e66-409b-833f-9298f0846ad8",
   "metadata": {},
   "outputs": [
    {
     "data": {
      "text/plain": [
       "numpy.lib.npyio.NpzFile"
      ]
     },
     "execution_count": 27,
     "metadata": {},
     "output_type": "execute_result"
    }
   ],
   "source": [
    "dataset_zip = np.load(os.getcwd() + '/source/dsprites_ndarray_co1sh3sc6or40x32y32_64x64.npz', \n",
    "                      allow_pickle=True,\n",
    "                      encoding='bytes'\n",
    "                     )\n",
    "type(dataset_zip)"
   ]
  },
  {
   "cell_type": "code",
   "execution_count": 29,
   "id": "942e5f44-da36-43c9-9180-e5febe705fd3",
   "metadata": {},
   "outputs": [
    {
     "name": "stdout",
     "output_type": "stream",
     "text": [
      "['metadata', 'imgs', 'latents_classes', 'latents_values']\n"
     ]
    }
   ],
   "source": [
    "print(list(dataset_zip.keys()))"
   ]
  },
  {
   "cell_type": "code",
   "execution_count": 30,
   "id": "02fcf14d-2009-4b09-a2a6-7cc69ccc062a",
   "metadata": {},
   "outputs": [
    {
     "name": "stdout",
     "output_type": "stream",
     "text": [
      "<class 'numpy.ndarray'>\n"
     ]
    }
   ],
   "source": [
    "imgs = dataset_zip['imgs']\n",
    "print(type(imgs))"
   ]
  },
  {
   "cell_type": "code",
   "execution_count": 31,
   "id": "1ff02491-772a-4efe-a107-a26750d7b986",
   "metadata": {},
   "outputs": [
    {
     "data": {
      "text/plain": [
       "(737280, 64, 64)"
      ]
     },
     "execution_count": 31,
     "metadata": {},
     "output_type": "execute_result"
    }
   ],
   "source": [
    "imgs.shape"
   ]
  },
  {
   "cell_type": "code",
   "execution_count": 32,
   "id": "dfbd9385-4b14-4e6f-955e-d4bb3ad32979",
   "metadata": {},
   "outputs": [
    {
     "data": {
      "text/plain": [
       "(737280, 6)"
      ]
     },
     "execution_count": 32,
     "metadata": {},
     "output_type": "execute_result"
    }
   ],
   "source": [
    "latents_values = dataset_zip['latents_values']\n",
    "latents_values.shape"
   ]
  },
  {
   "cell_type": "code",
   "execution_count": 33,
   "id": "48905b25-e96b-4747-84d5-22c0239cc5e8",
   "metadata": {},
   "outputs": [
    {
     "data": {
      "text/plain": [
       "array([1.        , 1.        , 0.5       , 0.        , 0.09677419,\n",
       "       0.12903226])"
      ]
     },
     "execution_count": 33,
     "metadata": {},
     "output_type": "execute_result"
    }
   ],
   "source": [
    "latents_values[100]"
   ]
  },
  {
   "cell_type": "code",
   "execution_count": 34,
   "id": "1eb8f3a5-ce49-4c48-b68f-294aca000a08",
   "metadata": {},
   "outputs": [
    {
     "data": {
      "text/plain": [
       "(737280, 6)"
      ]
     },
     "execution_count": 34,
     "metadata": {},
     "output_type": "execute_result"
    }
   ],
   "source": [
    "latents_classes = dataset_zip['latents_classes']\n",
    "latents_classes.shape"
   ]
  },
  {
   "cell_type": "code",
   "execution_count": 35,
   "id": "9f816c16-228c-4369-92d4-89711710a7eb",
   "metadata": {},
   "outputs": [
    {
     "data": {
      "text/plain": [
       "array([ 0,  0,  0,  1, 14, 28])"
      ]
     },
     "execution_count": 35,
     "metadata": {},
     "output_type": "execute_result"
    }
   ],
   "source": [
    "latents_classes[1500]"
   ]
  },
  {
   "cell_type": "code",
   "execution_count": 39,
   "id": "156924a3-8640-4455-a40b-9a87b00005b4",
   "metadata": {},
   "outputs": [],
   "source": [
    "metadata = dataset_zip['metadata'][()]"
   ]
  },
  {
   "cell_type": "code",
   "execution_count": 40,
   "id": "b7754aa1-a04a-4755-980d-4c2247e637f2",
   "metadata": {},
   "outputs": [
    {
     "data": {
      "text/plain": [
       "dict"
      ]
     },
     "execution_count": 40,
     "metadata": {},
     "output_type": "execute_result"
    }
   ],
   "source": [
    "type(metadata)"
   ]
  },
  {
   "cell_type": "code",
   "execution_count": 43,
   "id": "f8fdccff-6d5f-4a41-bfed-1d274ee5bea5",
   "metadata": {},
   "outputs": [
    {
     "data": {
      "text/plain": [
       "[b'date',\n",
       " b'description',\n",
       " b'version',\n",
       " b'latents_names',\n",
       " b'latents_possible_values',\n",
       " b'latents_sizes',\n",
       " b'author',\n",
       " b'title']"
      ]
     },
     "execution_count": 43,
     "metadata": {},
     "output_type": "execute_result"
    }
   ],
   "source": [
    "list(metadata.keys())"
   ]
  },
  {
   "cell_type": "code",
   "execution_count": 47,
   "id": "902b75b3-28f4-4619-8412-450ea3e4a1be",
   "metadata": {},
   "outputs": [
    {
     "data": {
      "text/plain": [
       "array([ 1,  3,  6, 40, 32, 32])"
      ]
     },
     "execution_count": 47,
     "metadata": {},
     "output_type": "execute_result"
    }
   ],
   "source": [
    "latents_sizes = metadata[b'latents_sizes']\n",
    "latents_sizes"
   ]
  },
  {
   "cell_type": "code",
   "execution_count": 48,
   "id": "161c5f26-3167-4a92-84b4-e7032b044d17",
   "metadata": {},
   "outputs": [
    {
     "data": {
      "text/plain": [
       "array([737280, 245760,  40960,   1024,     32,      1])"
      ]
     },
     "execution_count": 48,
     "metadata": {},
     "output_type": "execute_result"
    }
   ],
   "source": [
    "latents_bases = np.concatenate((latents_sizes[::-1].cumprod()[::-1][1:], np.array([1,])))\n",
    "latents_bases"
   ]
  },
  {
   "cell_type": "code",
   "execution_count": 49,
   "id": "9f8393e4-dbc0-4933-a867-71395d18ea9a",
   "metadata": {},
   "outputs": [
    {
     "data": {
      "text/plain": [
       "array([    32,   1024,  40960, 245760, 737280, 737280])"
      ]
     },
     "execution_count": 49,
     "metadata": {},
     "output_type": "execute_result"
    }
   ],
   "source": [
    "latents_sizes[::-1].cumprod()"
   ]
  },
  {
   "cell_type": "code",
   "execution_count": 50,
   "id": "242e4c2d-78ed-48a9-ab28-dade19bb8bf0",
   "metadata": {},
   "outputs": [
    {
     "data": {
      "text/plain": [
       "array([737280, 737280, 245760,  40960,   1024,     32])"
      ]
     },
     "execution_count": 50,
     "metadata": {},
     "output_type": "execute_result"
    }
   ],
   "source": [
    "latents_sizes[::-1].cumprod()[::-1]"
   ]
  },
  {
   "cell_type": "code",
   "execution_count": null,
   "id": "234cefff-0f67-484d-8c00-3d8177b68474",
   "metadata": {},
   "outputs": [],
   "source": []
  }
 ],
 "metadata": {
  "kernelspec": {
   "display_name": "Python 3 (ipykernel)",
   "language": "python",
   "name": "python3"
  },
  "language_info": {
   "codemirror_mode": {
    "name": "ipython",
    "version": 3
   },
   "file_extension": ".py",
   "mimetype": "text/x-python",
   "name": "python",
   "nbconvert_exporter": "python",
   "pygments_lexer": "ipython3",
   "version": "3.8.10"
  }
 },
 "nbformat": 4,
 "nbformat_minor": 5
}
