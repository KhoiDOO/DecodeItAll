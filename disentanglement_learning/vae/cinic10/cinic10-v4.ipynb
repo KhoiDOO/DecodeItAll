{
 "cells": [
  {
   "cell_type": "code",
   "execution_count": 1,
   "id": "a83951c0-4675-402b-b085-1a6234776f33",
   "metadata": {
    "execution": {
     "iopub.execute_input": "2023-12-21T11:26:52.778405Z",
     "iopub.status.busy": "2023-12-21T11:26:52.777957Z",
     "iopub.status.idle": "2023-12-21T11:26:54.810079Z",
     "shell.execute_reply": "2023-12-21T11:26:54.809600Z"
    }
   },
   "outputs": [],
   "source": [
    "import os\n",
    "import pandas\n",
    "import matplotlib.pyplot as plt\n",
    "import seaborn\n",
    "from tqdm import tqdm\n",
    "import numpy as np\n",
    "\n",
    "import torch\n",
    "from torch import nn\n",
    "from torch.optim import Adam\n",
    "from torch.optim.lr_scheduler import CosineAnnealingLR\n",
    "from torch.utils.data import Dataset, DataLoader\n",
    "from torchvision.datasets import ImageFolder\n",
    "from torchvision import transforms\n",
    "import torchvision.transforms.functional as F\n",
    "from torchvision.utils import make_grid\n",
    "\n",
    "plt.rcParams[\"savefig.bbox\"] = 'tight'"
   ]
  },
  {
   "cell_type": "code",
   "execution_count": 2,
   "id": "500a119c-671f-43c4-98fd-b3972c0ce05a",
   "metadata": {
    "execution": {
     "iopub.execute_input": "2023-12-21T11:26:54.812778Z",
     "iopub.status.busy": "2023-12-21T11:26:54.812367Z",
     "iopub.status.idle": "2023-12-21T11:26:54.820102Z",
     "shell.execute_reply": "2023-12-21T11:26:54.819701Z"
    }
   },
   "outputs": [],
   "source": [
    "class CNN_Cinic10(nn.Module):\n",
    "    def __init__(self):\n",
    "        super(CNN_Cinic10, self).__init__()\n",
    "\n",
    "        self.encoder = nn.Sequential(\n",
    "            nn.Conv2d(3, 128, kernel_size=3, stride=1, padding=1),\n",
    "            nn.BatchNorm2d(128),\n",
    "            nn.LeakyReLU(),\n",
    "            nn.Conv2d(128, 256, kernel_size=3, stride=1, padding=1),\n",
    "            nn.BatchNorm2d(256),\n",
    "            nn.LeakyReLU(),\n",
    "            nn.Conv2d(256, 512, kernel_size=3, stride=2, padding=1),\n",
    "            nn.BatchNorm2d(512),\n",
    "            nn.LeakyReLU(),\n",
    "            nn.Conv2d(512, 1024, kernel_size=3, stride=2, padding=1),\n",
    "            nn.BatchNorm2d(1024),\n",
    "            nn.LeakyReLU(),\n",
    "            nn.Conv2d(1024, 2048, kernel_size=3, stride=2, padding=1),\n",
    "            nn.BatchNorm2d(2048),\n",
    "            nn.LeakyReLU(),\n",
    "            nn.Flatten()\n",
    "        )\n",
    "\n",
    "        self.z_mean = nn.Linear(2048*4*4, 512)\n",
    "        self.z_log_var = nn.Linear(2048*4*4, 512)\n",
    "\n",
    "        self.decoder = nn.Sequential(\n",
    "            nn.Linear(512, 2048*4*4),\n",
    "            nn.Unflatten(1, (2048, 4, 4)),\n",
    "            nn.ConvTranspose2d(2048, 1024, kernel_size=3, stride=2, padding=1, output_padding=1),\n",
    "            nn.BatchNorm2d(1024),\n",
    "            nn.LeakyReLU(),\n",
    "            nn.ConvTranspose2d(1024, 512, kernel_size=3, stride=2, padding=1, output_padding=1),\n",
    "            nn.BatchNorm2d(512),\n",
    "            nn.LeakyReLU(),\n",
    "            nn.ConvTranspose2d(512, 256, kernel_size=3, stride=2, padding=1, output_padding=1),\n",
    "            nn.BatchNorm2d(256),\n",
    "            nn.LeakyReLU(),\n",
    "            nn.ConvTranspose2d(256, 128, kernel_size=3, stride=1, padding=1),\n",
    "            nn.BatchNorm2d(128),\n",
    "            nn.LeakyReLU(),            \n",
    "            nn.ConvTranspose2d(128, 128, kernel_size=3, stride=1, padding=1),\n",
    "            nn.BatchNorm2d(128),\n",
    "            nn.LeakyReLU(),\n",
    "            nn.Conv2d(128, 3, kernel_size=3, padding=1),\n",
    "            nn.Tanh()\n",
    "        )\n",
    "\n",
    "    def forward(self, x):\n",
    "        enc = self.encoder(x)\n",
    "        mu = self.z_mean(enc)\n",
    "        lv = self.z_log_var(enc)\n",
    "        lat = self.reparam(mu, lv)\n",
    "        dec = self.decoder(lat)\n",
    "        \n",
    "        return dec, mu, lv\n",
    "\n",
    "    def reparam(self, mu, lv):\n",
    "        std = torch.exp(0.5 * lv)\n",
    "        eps = torch.randn_like(std)\n",
    "        return mu + std * eps\n",
    "\n",
    "    def get_latent(self, x):\n",
    "        enc = self.encoder(x)\n",
    "        mu = self.z_mean(enc)\n",
    "        lv = self.z_log_var(enc)\n",
    "        lat = self.reparam(mu, lv)\n",
    "\n",
    "        return lat"
   ]
  },
  {
   "cell_type": "code",
   "execution_count": 3,
   "id": "01c3c3b1-7c72-4f5c-8360-5b5d3094b8a9",
   "metadata": {
    "execution": {
     "iopub.execute_input": "2023-12-21T11:26:54.821945Z",
     "iopub.status.busy": "2023-12-21T11:26:54.821758Z",
     "iopub.status.idle": "2023-12-21T11:26:55.301866Z",
     "shell.execute_reply": "2023-12-21T11:26:55.301264Z"
    }
   },
   "outputs": [
    {
     "name": "stdout",
     "output_type": "stream",
     "text": [
      "90000 90000 90000\n",
      "704 704 704\n"
     ]
    }
   ],
   "source": [
    "mean = [0.47889522, 0.47227842, 0.43047404]\n",
    "std = [0.24205776, 0.23828046, 0.25874835]\n",
    "\n",
    "transform = transforms.Compose(\n",
    "    [\n",
    "        transforms.RandomHorizontalFlip(),\n",
    "        transforms.ToTensor(),\n",
    "        transforms.Normalize(mean=mean, std=std),\n",
    "    ]\n",
    ")\n",
    "\n",
    "root_dir = '/media/mountHDD2/data/cinic10'\n",
    "\n",
    "trainset = ImageFolder(root=root_dir + \"/train\", transform=transform)\n",
    "train_dl = DataLoader(trainset, batch_size=128, shuffle=True, num_workers=24)\n",
    "validset = ImageFolder(root=root_dir + \"/valid\", transform=transform)\n",
    "valid_dl = DataLoader(validset, batch_size=128, shuffle=False, num_workers=24)\n",
    "testset = ImageFolder(root=root_dir + \"/test\", transform=transform)\n",
    "test_dl = DataLoader(testset, batch_size=128, shuffle=False, num_workers=24)\n",
    "\n",
    "print(len(trainset), len(validset), len(testset))\n",
    "print(len(train_dl), len(valid_dl), len(test_dl))"
   ]
  },
  {
   "cell_type": "code",
   "execution_count": 4,
   "id": "91ab9101-dea7-4816-bb2d-ae49161ce046",
   "metadata": {
    "execution": {
     "iopub.execute_input": "2023-12-21T11:26:55.303930Z",
     "iopub.status.busy": "2023-12-21T11:26:55.303706Z",
     "iopub.status.idle": "2023-12-21T11:26:55.309699Z",
     "shell.execute_reply": "2023-12-21T11:26:55.309198Z"
    }
   },
   "outputs": [
    {
     "name": "stdout",
     "output_type": "stream",
     "text": [
      "torch.Size([3, 32, 32])\n"
     ]
    }
   ],
   "source": [
    "sample, _ = trainset[0]\n",
    "print(sample.shape)"
   ]
  },
  {
   "cell_type": "code",
   "execution_count": 5,
   "id": "3b6cd11c-330d-4fd6-9af5-4afa8813ba4e",
   "metadata": {
    "execution": {
     "iopub.execute_input": "2023-12-21T11:26:55.311703Z",
     "iopub.status.busy": "2023-12-21T11:26:55.311454Z",
     "iopub.status.idle": "2023-12-21T11:26:55.314115Z",
     "shell.execute_reply": "2023-12-21T11:26:55.313638Z"
    }
   },
   "outputs": [],
   "source": [
    "def gaussian_kls(mu, logvar):\n",
    "    kld_loss = -0.5 * torch.sum(1 + logvar - mu.pow(2) - logvar.exp(), dim=1)\n",
    "    return torch.mean(kld_loss)"
   ]
  },
  {
   "cell_type": "code",
   "execution_count": 6,
   "id": "9b305b95-bf53-4184-8250-fc6185528c30",
   "metadata": {
    "execution": {
     "iopub.execute_input": "2023-12-21T11:26:55.315886Z",
     "iopub.status.busy": "2023-12-21T11:26:55.315649Z",
     "iopub.status.idle": "2023-12-21T11:26:57.649982Z",
     "shell.execute_reply": "2023-12-21T11:26:57.649408Z"
    }
   },
   "outputs": [],
   "source": [
    "device = torch.device(\"cuda\" if torch.cuda.is_available() else \"cpu\", index = 0)\n",
    "\n",
    "model = CNN_Cinic10().to(device)\n",
    "\n",
    "optimizer = Adam(params = model.parameters(), lr = 0.005)\n",
    "\n",
    "epochs = 200\n",
    "\n",
    "scheduler = CosineAnnealingLR(optimizer, epochs*len(train_dl))\n",
    "\n",
    "recon_loss = nn.MSELoss(reduction='none')\n",
    "\n",
    "def loss_fn(recon_x, x):\n",
    "    return torch.mean(torch.sum(recon_loss(recon_x, x), dim=(1,2,3)))"
   ]
  },
  {
   "cell_type": "code",
   "execution_count": 7,
   "id": "3b48f956-f65d-4a83-8d32-060ffe4d33e2",
   "metadata": {
    "execution": {
     "iopub.execute_input": "2023-12-21T11:26:57.652844Z",
     "iopub.status.busy": "2023-12-21T11:26:57.652697Z",
     "iopub.status.idle": "2023-12-21T17:18:02.440723Z",
     "shell.execute_reply": "2023-12-21T17:18:02.440097Z"
    }
   },
   "outputs": [
    {
     "name": "stderr",
     "output_type": "stream",
     "text": [
      "100%|██████████████████████████████████████████████████████████████████| 704/704 [02:15<00:00,  5.21it/s]\n",
      "100%|██████████████████████████████████████████████████████████████████| 704/704 [00:39<00:00, 17.80it/s]\n"
     ]
    },
    {
     "name": "stdout",
     "output_type": "stream",
     "text": [
      "Epoch: 0 - TrainRecLoss: nan - ValidRecLoss: nan\n",
      "Epoch: 0 - TrainDivLoss: nan - ValidDivLoss: nan\n"
     ]
    },
    {
     "name": "stderr",
     "output_type": "stream",
     "text": [
      "100%|██████████████████████████████████████████████████████████████████| 704/704 [02:11<00:00,  5.37it/s]\n",
      "100%|██████████████████████████████████████████████████████████████████| 704/704 [00:40<00:00, 17.42it/s]\n"
     ]
    },
    {
     "name": "stdout",
     "output_type": "stream",
     "text": [
      "Epoch: 1 - TrainRecLoss: nan - ValidRecLoss: nan\n",
      "Epoch: 1 - TrainDivLoss: nan - ValidDivLoss: nan\n"
     ]
    },
    {
     "name": "stderr",
     "output_type": "stream",
     "text": [
      "100%|██████████████████████████████████████████████████████████████████| 704/704 [02:10<00:00,  5.38it/s]\n",
      "100%|██████████████████████████████████████████████████████████████████| 704/704 [00:40<00:00, 17.39it/s]\n"
     ]
    },
    {
     "name": "stdout",
     "output_type": "stream",
     "text": [
      "Epoch: 2 - TrainRecLoss: nan - ValidRecLoss: nan\n",
      "Epoch: 2 - TrainDivLoss: nan - ValidDivLoss: nan\n"
     ]
    },
    {
     "name": "stderr",
     "output_type": "stream",
     "text": [
      "100%|██████████████████████████████████████████████████████████████████| 704/704 [02:11<00:00,  5.35it/s]\n",
      "100%|██████████████████████████████████████████████████████████████████| 704/704 [00:39<00:00, 17.77it/s]\n"
     ]
    },
    {
     "name": "stdout",
     "output_type": "stream",
     "text": [
      "Epoch: 3 - TrainRecLoss: nan - ValidRecLoss: nan\n",
      "Epoch: 3 - TrainDivLoss: nan - ValidDivLoss: nan\n"
     ]
    },
    {
     "name": "stderr",
     "output_type": "stream",
     "text": [
      "100%|██████████████████████████████████████████████████████████████████| 704/704 [02:11<00:00,  5.35it/s]\n",
      "100%|██████████████████████████████████████████████████████████████████| 704/704 [00:39<00:00, 17.82it/s]\n"
     ]
    },
    {
     "name": "stdout",
     "output_type": "stream",
     "text": [
      "Epoch: 4 - TrainRecLoss: nan - ValidRecLoss: nan\n",
      "Epoch: 4 - TrainDivLoss: nan - ValidDivLoss: nan\n"
     ]
    },
    {
     "name": "stderr",
     "output_type": "stream",
     "text": [
      "100%|██████████████████████████████████████████████████████████████████| 704/704 [02:10<00:00,  5.39it/s]\n",
      "100%|██████████████████████████████████████████████████████████████████| 704/704 [00:39<00:00, 17.62it/s]\n"
     ]
    },
    {
     "name": "stdout",
     "output_type": "stream",
     "text": [
      "Epoch: 5 - TrainRecLoss: nan - ValidRecLoss: nan\n",
      "Epoch: 5 - TrainDivLoss: nan - ValidDivLoss: nan\n"
     ]
    },
    {
     "name": "stderr",
     "output_type": "stream",
     "text": [
      "100%|██████████████████████████████████████████████████████████████████| 704/704 [02:10<00:00,  5.39it/s]\n",
      "100%|██████████████████████████████████████████████████████████████████| 704/704 [00:40<00:00, 17.51it/s]\n"
     ]
    },
    {
     "name": "stdout",
     "output_type": "stream",
     "text": [
      "Epoch: 6 - TrainRecLoss: nan - ValidRecLoss: nan\n",
      "Epoch: 6 - TrainDivLoss: nan - ValidDivLoss: nan\n"
     ]
    },
    {
     "name": "stderr",
     "output_type": "stream",
     "text": [
      "100%|██████████████████████████████████████████████████████████████████| 704/704 [02:11<00:00,  5.34it/s]\n",
      "100%|██████████████████████████████████████████████████████████████████| 704/704 [00:39<00:00, 17.95it/s]\n"
     ]
    },
    {
     "name": "stdout",
     "output_type": "stream",
     "text": [
      "Epoch: 7 - TrainRecLoss: nan - ValidRecLoss: nan\n",
      "Epoch: 7 - TrainDivLoss: nan - ValidDivLoss: nan\n"
     ]
    },
    {
     "name": "stderr",
     "output_type": "stream",
     "text": [
      "100%|██████████████████████████████████████████████████████████████████| 704/704 [02:11<00:00,  5.36it/s]\n",
      "100%|██████████████████████████████████████████████████████████████████| 704/704 [00:39<00:00, 17.83it/s]\n"
     ]
    },
    {
     "name": "stdout",
     "output_type": "stream",
     "text": [
      "Epoch: 8 - TrainRecLoss: nan - ValidRecLoss: nan\n",
      "Epoch: 8 - TrainDivLoss: nan - ValidDivLoss: nan\n"
     ]
    },
    {
     "name": "stderr",
     "output_type": "stream",
     "text": [
      "100%|██████████████████████████████████████████████████████████████████| 704/704 [02:10<00:00,  5.38it/s]\n",
      "100%|██████████████████████████████████████████████████████████████████| 704/704 [00:40<00:00, 17.45it/s]\n"
     ]
    },
    {
     "name": "stdout",
     "output_type": "stream",
     "text": [
      "Epoch: 9 - TrainRecLoss: nan - ValidRecLoss: nan\n",
      "Epoch: 9 - TrainDivLoss: nan - ValidDivLoss: nan\n"
     ]
    },
    {
     "name": "stderr",
     "output_type": "stream",
     "text": [
      "100%|██████████████████████████████████████████████████████████████████| 704/704 [02:10<00:00,  5.38it/s]\n",
      "100%|██████████████████████████████████████████████████████████████████| 704/704 [00:40<00:00, 17.34it/s]\n"
     ]
    },
    {
     "name": "stdout",
     "output_type": "stream",
     "text": [
      "Epoch: 10 - TrainRecLoss: nan - ValidRecLoss: nan\n",
      "Epoch: 10 - TrainDivLoss: nan - ValidDivLoss: nan\n"
     ]
    },
    {
     "name": "stderr",
     "output_type": "stream",
     "text": [
      "100%|██████████████████████████████████████████████████████████████████| 704/704 [02:11<00:00,  5.35it/s]\n",
      "100%|██████████████████████████████████████████████████████████████████| 704/704 [00:39<00:00, 17.79it/s]\n"
     ]
    },
    {
     "name": "stdout",
     "output_type": "stream",
     "text": [
      "Epoch: 11 - TrainRecLoss: nan - ValidRecLoss: nan\n",
      "Epoch: 11 - TrainDivLoss: nan - ValidDivLoss: nan\n"
     ]
    },
    {
     "name": "stderr",
     "output_type": "stream",
     "text": [
      "100%|██████████████████████████████████████████████████████████████████| 704/704 [02:11<00:00,  5.35it/s]\n",
      "100%|██████████████████████████████████████████████████████████████████| 704/704 [00:39<00:00, 17.78it/s]\n"
     ]
    },
    {
     "name": "stdout",
     "output_type": "stream",
     "text": [
      "Epoch: 12 - TrainRecLoss: nan - ValidRecLoss: nan\n",
      "Epoch: 12 - TrainDivLoss: nan - ValidDivLoss: nan\n"
     ]
    },
    {
     "name": "stderr",
     "output_type": "stream",
     "text": [
      "100%|██████████████████████████████████████████████████████████████████| 704/704 [02:10<00:00,  5.39it/s]\n",
      "100%|██████████████████████████████████████████████████████████████████| 704/704 [00:40<00:00, 17.55it/s]\n"
     ]
    },
    {
     "name": "stdout",
     "output_type": "stream",
     "text": [
      "Epoch: 13 - TrainRecLoss: nan - ValidRecLoss: nan\n",
      "Epoch: 13 - TrainDivLoss: nan - ValidDivLoss: nan\n"
     ]
    },
    {
     "name": "stderr",
     "output_type": "stream",
     "text": [
      "100%|██████████████████████████████████████████████████████████████████| 704/704 [02:10<00:00,  5.38it/s]\n",
      "100%|██████████████████████████████████████████████████████████████████| 704/704 [00:40<00:00, 17.32it/s]\n"
     ]
    },
    {
     "name": "stdout",
     "output_type": "stream",
     "text": [
      "Epoch: 14 - TrainRecLoss: nan - ValidRecLoss: nan\n",
      "Epoch: 14 - TrainDivLoss: nan - ValidDivLoss: nan\n"
     ]
    },
    {
     "name": "stderr",
     "output_type": "stream",
     "text": [
      "100%|██████████████████████████████████████████████████████████████████| 704/704 [02:11<00:00,  5.35it/s]\n",
      "100%|██████████████████████████████████████████████████████████████████| 704/704 [00:39<00:00, 17.85it/s]\n"
     ]
    },
    {
     "name": "stdout",
     "output_type": "stream",
     "text": [
      "Epoch: 15 - TrainRecLoss: nan - ValidRecLoss: nan\n",
      "Epoch: 15 - TrainDivLoss: nan - ValidDivLoss: nan\n"
     ]
    },
    {
     "name": "stderr",
     "output_type": "stream",
     "text": [
      "100%|██████████████████████████████████████████████████████████████████| 704/704 [02:11<00:00,  5.36it/s]\n",
      "100%|██████████████████████████████████████████████████████████████████| 704/704 [00:39<00:00, 17.86it/s]\n"
     ]
    },
    {
     "name": "stdout",
     "output_type": "stream",
     "text": [
      "Epoch: 16 - TrainRecLoss: nan - ValidRecLoss: nan\n",
      "Epoch: 16 - TrainDivLoss: nan - ValidDivLoss: nan\n"
     ]
    },
    {
     "name": "stderr",
     "output_type": "stream",
     "text": [
      "100%|██████████████████████████████████████████████████████████████████| 704/704 [02:11<00:00,  5.37it/s]\n",
      "100%|██████████████████████████████████████████████████████████████████| 704/704 [00:40<00:00, 17.33it/s]\n"
     ]
    },
    {
     "name": "stdout",
     "output_type": "stream",
     "text": [
      "Epoch: 17 - TrainRecLoss: nan - ValidRecLoss: nan\n",
      "Epoch: 17 - TrainDivLoss: nan - ValidDivLoss: nan\n"
     ]
    },
    {
     "name": "stderr",
     "output_type": "stream",
     "text": [
      "100%|██████████████████████████████████████████████████████████████████| 704/704 [02:10<00:00,  5.37it/s]\n",
      "100%|██████████████████████████████████████████████████████████████████| 704/704 [00:40<00:00, 17.28it/s]\n"
     ]
    },
    {
     "name": "stdout",
     "output_type": "stream",
     "text": [
      "Epoch: 18 - TrainRecLoss: nan - ValidRecLoss: nan\n",
      "Epoch: 18 - TrainDivLoss: nan - ValidDivLoss: nan\n"
     ]
    },
    {
     "name": "stderr",
     "output_type": "stream",
     "text": [
      "100%|██████████████████████████████████████████████████████████████████| 704/704 [02:11<00:00,  5.35it/s]\n",
      "100%|██████████████████████████████████████████████████████████████████| 704/704 [00:39<00:00, 17.77it/s]\n"
     ]
    },
    {
     "name": "stdout",
     "output_type": "stream",
     "text": [
      "Epoch: 19 - TrainRecLoss: nan - ValidRecLoss: nan\n",
      "Epoch: 19 - TrainDivLoss: nan - ValidDivLoss: nan\n"
     ]
    },
    {
     "name": "stderr",
     "output_type": "stream",
     "text": [
      "100%|██████████████████████████████████████████████████████████████████| 704/704 [02:11<00:00,  5.35it/s]\n",
      "100%|██████████████████████████████████████████████████████████████████| 704/704 [00:39<00:00, 17.81it/s]\n"
     ]
    },
    {
     "name": "stdout",
     "output_type": "stream",
     "text": [
      "Epoch: 20 - TrainRecLoss: nan - ValidRecLoss: nan\n",
      "Epoch: 20 - TrainDivLoss: nan - ValidDivLoss: nan\n"
     ]
    },
    {
     "name": "stderr",
     "output_type": "stream",
     "text": [
      "100%|██████████████████████████████████████████████████████████████████| 704/704 [02:10<00:00,  5.38it/s]\n",
      "100%|██████████████████████████████████████████████████████████████████| 704/704 [00:40<00:00, 17.53it/s]\n"
     ]
    },
    {
     "name": "stdout",
     "output_type": "stream",
     "text": [
      "Epoch: 21 - TrainRecLoss: nan - ValidRecLoss: nan\n",
      "Epoch: 21 - TrainDivLoss: nan - ValidDivLoss: nan\n"
     ]
    },
    {
     "name": "stderr",
     "output_type": "stream",
     "text": [
      "100%|██████████████████████████████████████████████████████████████████| 704/704 [02:10<00:00,  5.38it/s]\n",
      "100%|██████████████████████████████████████████████████████████████████| 704/704 [00:40<00:00, 17.36it/s]\n"
     ]
    },
    {
     "name": "stdout",
     "output_type": "stream",
     "text": [
      "Epoch: 22 - TrainRecLoss: nan - ValidRecLoss: nan\n",
      "Epoch: 22 - TrainDivLoss: nan - ValidDivLoss: nan\n"
     ]
    },
    {
     "name": "stderr",
     "output_type": "stream",
     "text": [
      "100%|██████████████████████████████████████████████████████████████████| 704/704 [02:11<00:00,  5.35it/s]\n",
      "100%|██████████████████████████████████████████████████████████████████| 704/704 [00:39<00:00, 17.78it/s]\n"
     ]
    },
    {
     "name": "stdout",
     "output_type": "stream",
     "text": [
      "Epoch: 23 - TrainRecLoss: nan - ValidRecLoss: nan\n",
      "Epoch: 23 - TrainDivLoss: nan - ValidDivLoss: nan\n"
     ]
    },
    {
     "name": "stderr",
     "output_type": "stream",
     "text": [
      "100%|██████████████████████████████████████████████████████████████████| 704/704 [02:11<00:00,  5.36it/s]\n",
      "100%|██████████████████████████████████████████████████████████████████| 704/704 [00:39<00:00, 17.83it/s]\n"
     ]
    },
    {
     "name": "stdout",
     "output_type": "stream",
     "text": [
      "Epoch: 24 - TrainRecLoss: nan - ValidRecLoss: nan\n",
      "Epoch: 24 - TrainDivLoss: nan - ValidDivLoss: nan\n"
     ]
    },
    {
     "name": "stderr",
     "output_type": "stream",
     "text": [
      "100%|██████████████████████████████████████████████████████████████████| 704/704 [02:10<00:00,  5.39it/s]\n",
      "100%|██████████████████████████████████████████████████████████████████| 704/704 [00:40<00:00, 17.53it/s]\n"
     ]
    },
    {
     "name": "stdout",
     "output_type": "stream",
     "text": [
      "Epoch: 25 - TrainRecLoss: nan - ValidRecLoss: nan\n",
      "Epoch: 25 - TrainDivLoss: nan - ValidDivLoss: nan\n"
     ]
    },
    {
     "name": "stderr",
     "output_type": "stream",
     "text": [
      "100%|██████████████████████████████████████████████████████████████████| 704/704 [02:10<00:00,  5.39it/s]\n",
      "100%|██████████████████████████████████████████████████████████████████| 704/704 [00:40<00:00, 17.46it/s]\n"
     ]
    },
    {
     "name": "stdout",
     "output_type": "stream",
     "text": [
      "Epoch: 26 - TrainRecLoss: nan - ValidRecLoss: nan\n",
      "Epoch: 26 - TrainDivLoss: nan - ValidDivLoss: nan\n"
     ]
    },
    {
     "name": "stderr",
     "output_type": "stream",
     "text": [
      "100%|██████████████████████████████████████████████████████████████████| 704/704 [02:11<00:00,  5.35it/s]\n",
      "100%|██████████████████████████████████████████████████████████████████| 704/704 [00:39<00:00, 17.78it/s]\n"
     ]
    },
    {
     "name": "stdout",
     "output_type": "stream",
     "text": [
      "Epoch: 27 - TrainRecLoss: nan - ValidRecLoss: nan\n",
      "Epoch: 27 - TrainDivLoss: nan - ValidDivLoss: nan\n"
     ]
    },
    {
     "name": "stderr",
     "output_type": "stream",
     "text": [
      "100%|██████████████████████████████████████████████████████████████████| 704/704 [02:11<00:00,  5.35it/s]\n",
      "100%|██████████████████████████████████████████████████████████████████| 704/704 [00:39<00:00, 17.74it/s]\n"
     ]
    },
    {
     "name": "stdout",
     "output_type": "stream",
     "text": [
      "Epoch: 28 - TrainRecLoss: nan - ValidRecLoss: nan\n",
      "Epoch: 28 - TrainDivLoss: nan - ValidDivLoss: nan\n"
     ]
    },
    {
     "name": "stderr",
     "output_type": "stream",
     "text": [
      "100%|██████████████████████████████████████████████████████████████████| 704/704 [02:10<00:00,  5.41it/s]\n",
      "100%|██████████████████████████████████████████████████████████████████| 704/704 [00:39<00:00, 17.77it/s]\n"
     ]
    },
    {
     "name": "stdout",
     "output_type": "stream",
     "text": [
      "Epoch: 29 - TrainRecLoss: nan - ValidRecLoss: nan\n",
      "Epoch: 29 - TrainDivLoss: nan - ValidDivLoss: nan\n"
     ]
    },
    {
     "name": "stderr",
     "output_type": "stream",
     "text": [
      "100%|██████████████████████████████████████████████████████████████████| 704/704 [02:10<00:00,  5.41it/s]\n",
      "100%|██████████████████████████████████████████████████████████████████| 704/704 [00:39<00:00, 17.61it/s]\n"
     ]
    },
    {
     "name": "stdout",
     "output_type": "stream",
     "text": [
      "Epoch: 30 - TrainRecLoss: nan - ValidRecLoss: nan\n",
      "Epoch: 30 - TrainDivLoss: nan - ValidDivLoss: nan\n"
     ]
    },
    {
     "name": "stderr",
     "output_type": "stream",
     "text": [
      "100%|██████████████████████████████████████████████████████████████████| 704/704 [02:11<00:00,  5.35it/s]\n",
      "100%|██████████████████████████████████████████████████████████████████| 704/704 [00:39<00:00, 17.79it/s]\n"
     ]
    },
    {
     "name": "stdout",
     "output_type": "stream",
     "text": [
      "Epoch: 31 - TrainRecLoss: nan - ValidRecLoss: nan\n",
      "Epoch: 31 - TrainDivLoss: nan - ValidDivLoss: nan\n"
     ]
    },
    {
     "name": "stderr",
     "output_type": "stream",
     "text": [
      "100%|██████████████████████████████████████████████████████████████████| 704/704 [02:11<00:00,  5.36it/s]\n",
      "100%|██████████████████████████████████████████████████████████████████| 704/704 [00:39<00:00, 17.79it/s]\n"
     ]
    },
    {
     "name": "stdout",
     "output_type": "stream",
     "text": [
      "Epoch: 32 - TrainRecLoss: nan - ValidRecLoss: nan\n",
      "Epoch: 32 - TrainDivLoss: nan - ValidDivLoss: nan\n"
     ]
    },
    {
     "name": "stderr",
     "output_type": "stream",
     "text": [
      "100%|██████████████████████████████████████████████████████████████████| 704/704 [02:10<00:00,  5.41it/s]\n",
      "100%|██████████████████████████████████████████████████████████████████| 704/704 [00:39<00:00, 17.61it/s]\n"
     ]
    },
    {
     "name": "stdout",
     "output_type": "stream",
     "text": [
      "Epoch: 33 - TrainRecLoss: nan - ValidRecLoss: nan\n",
      "Epoch: 33 - TrainDivLoss: nan - ValidDivLoss: nan\n"
     ]
    },
    {
     "name": "stderr",
     "output_type": "stream",
     "text": [
      "100%|██████████████████████████████████████████████████████████████████| 704/704 [02:10<00:00,  5.39it/s]\n",
      "100%|██████████████████████████████████████████████████████████████████| 704/704 [00:40<00:00, 17.39it/s]\n"
     ]
    },
    {
     "name": "stdout",
     "output_type": "stream",
     "text": [
      "Epoch: 34 - TrainRecLoss: nan - ValidRecLoss: nan\n",
      "Epoch: 34 - TrainDivLoss: nan - ValidDivLoss: nan\n"
     ]
    },
    {
     "name": "stderr",
     "output_type": "stream",
     "text": [
      "100%|██████████████████████████████████████████████████████████████████| 704/704 [02:11<00:00,  5.36it/s]\n",
      "100%|██████████████████████████████████████████████████████████████████| 704/704 [00:39<00:00, 17.81it/s]\n"
     ]
    },
    {
     "name": "stdout",
     "output_type": "stream",
     "text": [
      "Epoch: 35 - TrainRecLoss: nan - ValidRecLoss: nan\n",
      "Epoch: 35 - TrainDivLoss: nan - ValidDivLoss: nan\n"
     ]
    },
    {
     "name": "stderr",
     "output_type": "stream",
     "text": [
      "100%|██████████████████████████████████████████████████████████████████| 704/704 [02:11<00:00,  5.36it/s]\n",
      "100%|██████████████████████████████████████████████████████████████████| 704/704 [00:39<00:00, 17.80it/s]\n"
     ]
    },
    {
     "name": "stdout",
     "output_type": "stream",
     "text": [
      "Epoch: 36 - TrainRecLoss: nan - ValidRecLoss: nan\n",
      "Epoch: 36 - TrainDivLoss: nan - ValidDivLoss: nan\n"
     ]
    },
    {
     "name": "stderr",
     "output_type": "stream",
     "text": [
      "100%|██████████████████████████████████████████████████████████████████| 704/704 [02:11<00:00,  5.37it/s]\n",
      "100%|██████████████████████████████████████████████████████████████████| 704/704 [00:40<00:00, 17.38it/s]\n"
     ]
    },
    {
     "name": "stdout",
     "output_type": "stream",
     "text": [
      "Epoch: 37 - TrainRecLoss: nan - ValidRecLoss: nan\n",
      "Epoch: 37 - TrainDivLoss: nan - ValidDivLoss: nan\n"
     ]
    },
    {
     "name": "stderr",
     "output_type": "stream",
     "text": [
      "100%|██████████████████████████████████████████████████████████████████| 704/704 [02:10<00:00,  5.38it/s]\n",
      "100%|██████████████████████████████████████████████████████████████████| 704/704 [00:40<00:00, 17.31it/s]\n"
     ]
    },
    {
     "name": "stdout",
     "output_type": "stream",
     "text": [
      "Epoch: 38 - TrainRecLoss: nan - ValidRecLoss: nan\n",
      "Epoch: 38 - TrainDivLoss: nan - ValidDivLoss: nan\n"
     ]
    },
    {
     "name": "stderr",
     "output_type": "stream",
     "text": [
      "100%|██████████████████████████████████████████████████████████████████| 704/704 [01:12<00:00,  9.77it/s]\n",
      "100%|██████████████████████████████████████████████████████████████████| 704/704 [00:21<00:00, 32.68it/s]\n"
     ]
    },
    {
     "name": "stdout",
     "output_type": "stream",
     "text": [
      "Epoch: 39 - TrainRecLoss: nan - ValidRecLoss: nan\n",
      "Epoch: 39 - TrainDivLoss: nan - ValidDivLoss: nan\n"
     ]
    },
    {
     "name": "stderr",
     "output_type": "stream",
     "text": [
      "100%|██████████████████████████████████████████████████████████████████| 704/704 [01:07<00:00, 10.39it/s]\n",
      "100%|██████████████████████████████████████████████████████████████████| 704/704 [00:21<00:00, 32.71it/s]\n"
     ]
    },
    {
     "name": "stdout",
     "output_type": "stream",
     "text": [
      "Epoch: 40 - TrainRecLoss: nan - ValidRecLoss: nan\n",
      "Epoch: 40 - TrainDivLoss: nan - ValidDivLoss: nan\n"
     ]
    },
    {
     "name": "stderr",
     "output_type": "stream",
     "text": [
      "100%|██████████████████████████████████████████████████████████████████| 704/704 [01:07<00:00, 10.39it/s]\n",
      "100%|██████████████████████████████████████████████████████████████████| 704/704 [00:21<00:00, 32.72it/s]\n"
     ]
    },
    {
     "name": "stdout",
     "output_type": "stream",
     "text": [
      "Epoch: 41 - TrainRecLoss: nan - ValidRecLoss: nan\n",
      "Epoch: 41 - TrainDivLoss: nan - ValidDivLoss: nan\n"
     ]
    },
    {
     "name": "stderr",
     "output_type": "stream",
     "text": [
      "100%|██████████████████████████████████████████████████████████████████| 704/704 [01:07<00:00, 10.39it/s]\n",
      "100%|██████████████████████████████████████████████████████████████████| 704/704 [00:21<00:00, 32.74it/s]\n"
     ]
    },
    {
     "name": "stdout",
     "output_type": "stream",
     "text": [
      "Epoch: 42 - TrainRecLoss: nan - ValidRecLoss: nan\n",
      "Epoch: 42 - TrainDivLoss: nan - ValidDivLoss: nan\n"
     ]
    },
    {
     "name": "stderr",
     "output_type": "stream",
     "text": [
      "100%|██████████████████████████████████████████████████████████████████| 704/704 [01:07<00:00, 10.39it/s]\n",
      "100%|██████████████████████████████████████████████████████████████████| 704/704 [00:21<00:00, 32.67it/s]\n"
     ]
    },
    {
     "name": "stdout",
     "output_type": "stream",
     "text": [
      "Epoch: 43 - TrainRecLoss: nan - ValidRecLoss: nan\n",
      "Epoch: 43 - TrainDivLoss: nan - ValidDivLoss: nan\n"
     ]
    },
    {
     "name": "stderr",
     "output_type": "stream",
     "text": [
      "100%|██████████████████████████████████████████████████████████████████| 704/704 [01:07<00:00, 10.39it/s]\n",
      "100%|██████████████████████████████████████████████████████████████████| 704/704 [00:21<00:00, 32.71it/s]\n"
     ]
    },
    {
     "name": "stdout",
     "output_type": "stream",
     "text": [
      "Epoch: 44 - TrainRecLoss: nan - ValidRecLoss: nan\n",
      "Epoch: 44 - TrainDivLoss: nan - ValidDivLoss: nan\n"
     ]
    },
    {
     "name": "stderr",
     "output_type": "stream",
     "text": [
      "100%|██████████████████████████████████████████████████████████████████| 704/704 [01:07<00:00, 10.38it/s]\n",
      "100%|██████████████████████████████████████████████████████████████████| 704/704 [00:21<00:00, 32.76it/s]\n"
     ]
    },
    {
     "name": "stdout",
     "output_type": "stream",
     "text": [
      "Epoch: 45 - TrainRecLoss: nan - ValidRecLoss: nan\n",
      "Epoch: 45 - TrainDivLoss: nan - ValidDivLoss: nan\n"
     ]
    },
    {
     "name": "stderr",
     "output_type": "stream",
     "text": [
      "100%|██████████████████████████████████████████████████████████████████| 704/704 [01:07<00:00, 10.39it/s]\n",
      "100%|██████████████████████████████████████████████████████████████████| 704/704 [00:21<00:00, 32.74it/s]\n"
     ]
    },
    {
     "name": "stdout",
     "output_type": "stream",
     "text": [
      "Epoch: 46 - TrainRecLoss: nan - ValidRecLoss: nan\n",
      "Epoch: 46 - TrainDivLoss: nan - ValidDivLoss: nan\n"
     ]
    },
    {
     "name": "stderr",
     "output_type": "stream",
     "text": [
      "100%|██████████████████████████████████████████████████████████████████| 704/704 [01:07<00:00, 10.38it/s]\n",
      "100%|██████████████████████████████████████████████████████████████████| 704/704 [00:21<00:00, 32.68it/s]\n"
     ]
    },
    {
     "name": "stdout",
     "output_type": "stream",
     "text": [
      "Epoch: 47 - TrainRecLoss: nan - ValidRecLoss: nan\n",
      "Epoch: 47 - TrainDivLoss: nan - ValidDivLoss: nan\n"
     ]
    },
    {
     "name": "stderr",
     "output_type": "stream",
     "text": [
      "100%|██████████████████████████████████████████████████████████████████| 704/704 [01:07<00:00, 10.39it/s]\n",
      "100%|██████████████████████████████████████████████████████████████████| 704/704 [00:21<00:00, 32.71it/s]\n"
     ]
    },
    {
     "name": "stdout",
     "output_type": "stream",
     "text": [
      "Epoch: 48 - TrainRecLoss: nan - ValidRecLoss: nan\n",
      "Epoch: 48 - TrainDivLoss: nan - ValidDivLoss: nan\n"
     ]
    },
    {
     "name": "stderr",
     "output_type": "stream",
     "text": [
      "100%|██████████████████████████████████████████████████████████████████| 704/704 [01:07<00:00, 10.38it/s]\n",
      "100%|██████████████████████████████████████████████████████████████████| 704/704 [00:21<00:00, 32.69it/s]\n"
     ]
    },
    {
     "name": "stdout",
     "output_type": "stream",
     "text": [
      "Epoch: 49 - TrainRecLoss: nan - ValidRecLoss: nan\n",
      "Epoch: 49 - TrainDivLoss: nan - ValidDivLoss: nan\n"
     ]
    },
    {
     "name": "stderr",
     "output_type": "stream",
     "text": [
      "100%|██████████████████████████████████████████████████████████████████| 704/704 [01:07<00:00, 10.38it/s]\n",
      "100%|██████████████████████████████████████████████████████████████████| 704/704 [00:21<00:00, 32.78it/s]\n"
     ]
    },
    {
     "name": "stdout",
     "output_type": "stream",
     "text": [
      "Epoch: 50 - TrainRecLoss: nan - ValidRecLoss: nan\n",
      "Epoch: 50 - TrainDivLoss: nan - ValidDivLoss: nan\n"
     ]
    },
    {
     "name": "stderr",
     "output_type": "stream",
     "text": [
      "100%|██████████████████████████████████████████████████████████████████| 704/704 [01:07<00:00, 10.38it/s]\n",
      "100%|██████████████████████████████████████████████████████████████████| 704/704 [00:21<00:00, 32.78it/s]\n"
     ]
    },
    {
     "name": "stdout",
     "output_type": "stream",
     "text": [
      "Epoch: 51 - TrainRecLoss: nan - ValidRecLoss: nan\n",
      "Epoch: 51 - TrainDivLoss: nan - ValidDivLoss: nan\n"
     ]
    },
    {
     "name": "stderr",
     "output_type": "stream",
     "text": [
      "100%|██████████████████████████████████████████████████████████████████| 704/704 [01:07<00:00, 10.39it/s]\n",
      "100%|██████████████████████████████████████████████████████████████████| 704/704 [00:21<00:00, 32.75it/s]\n"
     ]
    },
    {
     "name": "stdout",
     "output_type": "stream",
     "text": [
      "Epoch: 52 - TrainRecLoss: nan - ValidRecLoss: nan\n",
      "Epoch: 52 - TrainDivLoss: nan - ValidDivLoss: nan\n"
     ]
    },
    {
     "name": "stderr",
     "output_type": "stream",
     "text": [
      "100%|██████████████████████████████████████████████████████████████████| 704/704 [01:07<00:00, 10.39it/s]\n",
      "100%|██████████████████████████████████████████████████████████████████| 704/704 [00:21<00:00, 32.67it/s]\n"
     ]
    },
    {
     "name": "stdout",
     "output_type": "stream",
     "text": [
      "Epoch: 53 - TrainRecLoss: nan - ValidRecLoss: nan\n",
      "Epoch: 53 - TrainDivLoss: nan - ValidDivLoss: nan\n"
     ]
    },
    {
     "name": "stderr",
     "output_type": "stream",
     "text": [
      "100%|██████████████████████████████████████████████████████████████████| 704/704 [01:07<00:00, 10.39it/s]\n",
      "100%|██████████████████████████████████████████████████████████████████| 704/704 [00:21<00:00, 32.75it/s]\n"
     ]
    },
    {
     "name": "stdout",
     "output_type": "stream",
     "text": [
      "Epoch: 54 - TrainRecLoss: nan - ValidRecLoss: nan\n",
      "Epoch: 54 - TrainDivLoss: nan - ValidDivLoss: nan\n"
     ]
    },
    {
     "name": "stderr",
     "output_type": "stream",
     "text": [
      "100%|██████████████████████████████████████████████████████████████████| 704/704 [01:07<00:00, 10.38it/s]\n",
      "100%|██████████████████████████████████████████████████████████████████| 704/704 [00:21<00:00, 32.69it/s]\n"
     ]
    },
    {
     "name": "stdout",
     "output_type": "stream",
     "text": [
      "Epoch: 55 - TrainRecLoss: nan - ValidRecLoss: nan\n",
      "Epoch: 55 - TrainDivLoss: nan - ValidDivLoss: nan\n"
     ]
    },
    {
     "name": "stderr",
     "output_type": "stream",
     "text": [
      "100%|██████████████████████████████████████████████████████████████████| 704/704 [01:07<00:00, 10.39it/s]\n",
      "100%|██████████████████████████████████████████████████████████████████| 704/704 [00:21<00:00, 32.59it/s]\n"
     ]
    },
    {
     "name": "stdout",
     "output_type": "stream",
     "text": [
      "Epoch: 56 - TrainRecLoss: nan - ValidRecLoss: nan\n",
      "Epoch: 56 - TrainDivLoss: nan - ValidDivLoss: nan\n"
     ]
    },
    {
     "name": "stderr",
     "output_type": "stream",
     "text": [
      "100%|██████████████████████████████████████████████████████████████████| 704/704 [01:07<00:00, 10.39it/s]\n",
      "100%|██████████████████████████████████████████████████████████████████| 704/704 [00:21<00:00, 32.63it/s]\n"
     ]
    },
    {
     "name": "stdout",
     "output_type": "stream",
     "text": [
      "Epoch: 57 - TrainRecLoss: nan - ValidRecLoss: nan\n",
      "Epoch: 57 - TrainDivLoss: nan - ValidDivLoss: nan\n"
     ]
    },
    {
     "name": "stderr",
     "output_type": "stream",
     "text": [
      "100%|██████████████████████████████████████████████████████████████████| 704/704 [01:07<00:00, 10.38it/s]\n",
      "100%|██████████████████████████████████████████████████████████████████| 704/704 [00:21<00:00, 32.71it/s]\n"
     ]
    },
    {
     "name": "stdout",
     "output_type": "stream",
     "text": [
      "Epoch: 58 - TrainRecLoss: nan - ValidRecLoss: nan\n",
      "Epoch: 58 - TrainDivLoss: nan - ValidDivLoss: nan\n"
     ]
    },
    {
     "name": "stderr",
     "output_type": "stream",
     "text": [
      "100%|██████████████████████████████████████████████████████████████████| 704/704 [01:07<00:00, 10.38it/s]\n",
      "100%|██████████████████████████████████████████████████████████████████| 704/704 [00:21<00:00, 32.68it/s]\n"
     ]
    },
    {
     "name": "stdout",
     "output_type": "stream",
     "text": [
      "Epoch: 59 - TrainRecLoss: nan - ValidRecLoss: nan\n",
      "Epoch: 59 - TrainDivLoss: nan - ValidDivLoss: nan\n"
     ]
    },
    {
     "name": "stderr",
     "output_type": "stream",
     "text": [
      "100%|██████████████████████████████████████████████████████████████████| 704/704 [01:07<00:00, 10.39it/s]\n",
      "100%|██████████████████████████████████████████████████████████████████| 704/704 [00:21<00:00, 32.76it/s]\n"
     ]
    },
    {
     "name": "stdout",
     "output_type": "stream",
     "text": [
      "Epoch: 60 - TrainRecLoss: nan - ValidRecLoss: nan\n",
      "Epoch: 60 - TrainDivLoss: nan - ValidDivLoss: nan\n"
     ]
    },
    {
     "name": "stderr",
     "output_type": "stream",
     "text": [
      "100%|██████████████████████████████████████████████████████████████████| 704/704 [01:07<00:00, 10.38it/s]\n",
      "100%|██████████████████████████████████████████████████████████████████| 704/704 [00:21<00:00, 32.66it/s]\n"
     ]
    },
    {
     "name": "stdout",
     "output_type": "stream",
     "text": [
      "Epoch: 61 - TrainRecLoss: nan - ValidRecLoss: nan\n",
      "Epoch: 61 - TrainDivLoss: nan - ValidDivLoss: nan\n"
     ]
    },
    {
     "name": "stderr",
     "output_type": "stream",
     "text": [
      "100%|██████████████████████████████████████████████████████████████████| 704/704 [01:07<00:00, 10.38it/s]\n",
      "100%|██████████████████████████████████████████████████████████████████| 704/704 [00:21<00:00, 32.72it/s]\n"
     ]
    },
    {
     "name": "stdout",
     "output_type": "stream",
     "text": [
      "Epoch: 62 - TrainRecLoss: nan - ValidRecLoss: nan\n",
      "Epoch: 62 - TrainDivLoss: nan - ValidDivLoss: nan\n"
     ]
    },
    {
     "name": "stderr",
     "output_type": "stream",
     "text": [
      "100%|██████████████████████████████████████████████████████████████████| 704/704 [01:07<00:00, 10.38it/s]\n",
      "100%|██████████████████████████████████████████████████████████████████| 704/704 [00:21<00:00, 32.66it/s]\n"
     ]
    },
    {
     "name": "stdout",
     "output_type": "stream",
     "text": [
      "Epoch: 63 - TrainRecLoss: nan - ValidRecLoss: nan\n",
      "Epoch: 63 - TrainDivLoss: nan - ValidDivLoss: nan\n"
     ]
    },
    {
     "name": "stderr",
     "output_type": "stream",
     "text": [
      "100%|██████████████████████████████████████████████████████████████████| 704/704 [01:07<00:00, 10.38it/s]\n",
      "100%|██████████████████████████████████████████████████████████████████| 704/704 [00:21<00:00, 32.71it/s]\n"
     ]
    },
    {
     "name": "stdout",
     "output_type": "stream",
     "text": [
      "Epoch: 64 - TrainRecLoss: nan - ValidRecLoss: nan\n",
      "Epoch: 64 - TrainDivLoss: nan - ValidDivLoss: nan\n"
     ]
    },
    {
     "name": "stderr",
     "output_type": "stream",
     "text": [
      "100%|██████████████████████████████████████████████████████████████████| 704/704 [01:07<00:00, 10.39it/s]\n",
      "100%|██████████████████████████████████████████████████████████████████| 704/704 [00:21<00:00, 32.69it/s]\n"
     ]
    },
    {
     "name": "stdout",
     "output_type": "stream",
     "text": [
      "Epoch: 65 - TrainRecLoss: nan - ValidRecLoss: nan\n",
      "Epoch: 65 - TrainDivLoss: nan - ValidDivLoss: nan\n"
     ]
    },
    {
     "name": "stderr",
     "output_type": "stream",
     "text": [
      "100%|██████████████████████████████████████████████████████████████████| 704/704 [01:07<00:00, 10.38it/s]\n",
      "100%|██████████████████████████████████████████████████████████████████| 704/704 [00:21<00:00, 32.65it/s]\n"
     ]
    },
    {
     "name": "stdout",
     "output_type": "stream",
     "text": [
      "Epoch: 66 - TrainRecLoss: nan - ValidRecLoss: nan\n",
      "Epoch: 66 - TrainDivLoss: nan - ValidDivLoss: nan\n"
     ]
    },
    {
     "name": "stderr",
     "output_type": "stream",
     "text": [
      "100%|██████████████████████████████████████████████████████████████████| 704/704 [01:07<00:00, 10.38it/s]\n",
      "100%|██████████████████████████████████████████████████████████████████| 704/704 [00:21<00:00, 32.66it/s]\n"
     ]
    },
    {
     "name": "stdout",
     "output_type": "stream",
     "text": [
      "Epoch: 67 - TrainRecLoss: nan - ValidRecLoss: nan\n",
      "Epoch: 67 - TrainDivLoss: nan - ValidDivLoss: nan\n"
     ]
    },
    {
     "name": "stderr",
     "output_type": "stream",
     "text": [
      "100%|██████████████████████████████████████████████████████████████████| 704/704 [01:07<00:00, 10.39it/s]\n",
      "100%|██████████████████████████████████████████████████████████████████| 704/704 [00:21<00:00, 32.67it/s]\n"
     ]
    },
    {
     "name": "stdout",
     "output_type": "stream",
     "text": [
      "Epoch: 68 - TrainRecLoss: nan - ValidRecLoss: nan\n",
      "Epoch: 68 - TrainDivLoss: nan - ValidDivLoss: nan\n"
     ]
    },
    {
     "name": "stderr",
     "output_type": "stream",
     "text": [
      "100%|██████████████████████████████████████████████████████████████████| 704/704 [01:07<00:00, 10.38it/s]\n",
      "100%|██████████████████████████████████████████████████████████████████| 704/704 [00:21<00:00, 32.69it/s]\n"
     ]
    },
    {
     "name": "stdout",
     "output_type": "stream",
     "text": [
      "Epoch: 69 - TrainRecLoss: nan - ValidRecLoss: nan\n",
      "Epoch: 69 - TrainDivLoss: nan - ValidDivLoss: nan\n"
     ]
    },
    {
     "name": "stderr",
     "output_type": "stream",
     "text": [
      "100%|██████████████████████████████████████████████████████████████████| 704/704 [01:07<00:00, 10.38it/s]\n",
      "100%|██████████████████████████████████████████████████████████████████| 704/704 [00:21<00:00, 32.63it/s]\n"
     ]
    },
    {
     "name": "stdout",
     "output_type": "stream",
     "text": [
      "Epoch: 70 - TrainRecLoss: nan - ValidRecLoss: nan\n",
      "Epoch: 70 - TrainDivLoss: nan - ValidDivLoss: nan\n"
     ]
    },
    {
     "name": "stderr",
     "output_type": "stream",
     "text": [
      "100%|██████████████████████████████████████████████████████████████████| 704/704 [01:07<00:00, 10.38it/s]\n",
      "100%|██████████████████████████████████████████████████████████████████| 704/704 [00:21<00:00, 32.64it/s]\n"
     ]
    },
    {
     "name": "stdout",
     "output_type": "stream",
     "text": [
      "Epoch: 71 - TrainRecLoss: nan - ValidRecLoss: nan\n",
      "Epoch: 71 - TrainDivLoss: nan - ValidDivLoss: nan\n"
     ]
    },
    {
     "name": "stderr",
     "output_type": "stream",
     "text": [
      "100%|██████████████████████████████████████████████████████████████████| 704/704 [01:07<00:00, 10.38it/s]\n",
      "100%|██████████████████████████████████████████████████████████████████| 704/704 [00:21<00:00, 32.72it/s]\n"
     ]
    },
    {
     "name": "stdout",
     "output_type": "stream",
     "text": [
      "Epoch: 72 - TrainRecLoss: nan - ValidRecLoss: nan\n",
      "Epoch: 72 - TrainDivLoss: nan - ValidDivLoss: nan\n"
     ]
    },
    {
     "name": "stderr",
     "output_type": "stream",
     "text": [
      "100%|██████████████████████████████████████████████████████████████████| 704/704 [01:07<00:00, 10.38it/s]\n",
      "100%|██████████████████████████████████████████████████████████████████| 704/704 [00:21<00:00, 32.65it/s]\n"
     ]
    },
    {
     "name": "stdout",
     "output_type": "stream",
     "text": [
      "Epoch: 73 - TrainRecLoss: nan - ValidRecLoss: nan\n",
      "Epoch: 73 - TrainDivLoss: nan - ValidDivLoss: nan\n"
     ]
    },
    {
     "name": "stderr",
     "output_type": "stream",
     "text": [
      "100%|██████████████████████████████████████████████████████████████████| 704/704 [01:07<00:00, 10.38it/s]\n",
      "100%|██████████████████████████████████████████████████████████████████| 704/704 [00:21<00:00, 32.70it/s]\n"
     ]
    },
    {
     "name": "stdout",
     "output_type": "stream",
     "text": [
      "Epoch: 74 - TrainRecLoss: nan - ValidRecLoss: nan\n",
      "Epoch: 74 - TrainDivLoss: nan - ValidDivLoss: nan\n"
     ]
    },
    {
     "name": "stderr",
     "output_type": "stream",
     "text": [
      "100%|██████████████████████████████████████████████████████████████████| 704/704 [01:07<00:00, 10.38it/s]\n",
      "100%|██████████████████████████████████████████████████████████████████| 704/704 [00:21<00:00, 32.72it/s]\n"
     ]
    },
    {
     "name": "stdout",
     "output_type": "stream",
     "text": [
      "Epoch: 75 - TrainRecLoss: nan - ValidRecLoss: nan\n",
      "Epoch: 75 - TrainDivLoss: nan - ValidDivLoss: nan\n"
     ]
    },
    {
     "name": "stderr",
     "output_type": "stream",
     "text": [
      "100%|██████████████████████████████████████████████████████████████████| 704/704 [01:07<00:00, 10.38it/s]\n",
      "100%|██████████████████████████████████████████████████████████████████| 704/704 [00:21<00:00, 32.69it/s]\n"
     ]
    },
    {
     "name": "stdout",
     "output_type": "stream",
     "text": [
      "Epoch: 76 - TrainRecLoss: nan - ValidRecLoss: nan\n",
      "Epoch: 76 - TrainDivLoss: nan - ValidDivLoss: nan\n"
     ]
    },
    {
     "name": "stderr",
     "output_type": "stream",
     "text": [
      "100%|██████████████████████████████████████████████████████████████████| 704/704 [01:07<00:00, 10.38it/s]\n",
      "100%|██████████████████████████████████████████████████████████████████| 704/704 [00:21<00:00, 32.71it/s]\n"
     ]
    },
    {
     "name": "stdout",
     "output_type": "stream",
     "text": [
      "Epoch: 77 - TrainRecLoss: nan - ValidRecLoss: nan\n",
      "Epoch: 77 - TrainDivLoss: nan - ValidDivLoss: nan\n"
     ]
    },
    {
     "name": "stderr",
     "output_type": "stream",
     "text": [
      "100%|██████████████████████████████████████████████████████████████████| 704/704 [01:07<00:00, 10.38it/s]\n",
      "100%|██████████████████████████████████████████████████████████████████| 704/704 [00:21<00:00, 32.60it/s]\n"
     ]
    },
    {
     "name": "stdout",
     "output_type": "stream",
     "text": [
      "Epoch: 78 - TrainRecLoss: nan - ValidRecLoss: nan\n",
      "Epoch: 78 - TrainDivLoss: nan - ValidDivLoss: nan\n"
     ]
    },
    {
     "name": "stderr",
     "output_type": "stream",
     "text": [
      "100%|██████████████████████████████████████████████████████████████████| 704/704 [01:07<00:00, 10.37it/s]\n",
      "100%|██████████████████████████████████████████████████████████████████| 704/704 [00:21<00:00, 32.66it/s]\n"
     ]
    },
    {
     "name": "stdout",
     "output_type": "stream",
     "text": [
      "Epoch: 79 - TrainRecLoss: nan - ValidRecLoss: nan\n",
      "Epoch: 79 - TrainDivLoss: nan - ValidDivLoss: nan\n"
     ]
    },
    {
     "name": "stderr",
     "output_type": "stream",
     "text": [
      "100%|██████████████████████████████████████████████████████████████████| 704/704 [01:07<00:00, 10.38it/s]\n",
      "100%|██████████████████████████████████████████████████████████████████| 704/704 [00:21<00:00, 32.60it/s]\n"
     ]
    },
    {
     "name": "stdout",
     "output_type": "stream",
     "text": [
      "Epoch: 80 - TrainRecLoss: nan - ValidRecLoss: nan\n",
      "Epoch: 80 - TrainDivLoss: nan - ValidDivLoss: nan\n"
     ]
    },
    {
     "name": "stderr",
     "output_type": "stream",
     "text": [
      "100%|██████████████████████████████████████████████████████████████████| 704/704 [01:07<00:00, 10.39it/s]\n",
      "100%|██████████████████████████████████████████████████████████████████| 704/704 [00:21<00:00, 32.70it/s]\n"
     ]
    },
    {
     "name": "stdout",
     "output_type": "stream",
     "text": [
      "Epoch: 81 - TrainRecLoss: nan - ValidRecLoss: nan\n",
      "Epoch: 81 - TrainDivLoss: nan - ValidDivLoss: nan\n"
     ]
    },
    {
     "name": "stderr",
     "output_type": "stream",
     "text": [
      "100%|██████████████████████████████████████████████████████████████████| 704/704 [01:07<00:00, 10.38it/s]\n",
      "100%|██████████████████████████████████████████████████████████████████| 704/704 [00:21<00:00, 32.71it/s]\n"
     ]
    },
    {
     "name": "stdout",
     "output_type": "stream",
     "text": [
      "Epoch: 82 - TrainRecLoss: nan - ValidRecLoss: nan\n",
      "Epoch: 82 - TrainDivLoss: nan - ValidDivLoss: nan\n"
     ]
    },
    {
     "name": "stderr",
     "output_type": "stream",
     "text": [
      "100%|██████████████████████████████████████████████████████████████████| 704/704 [01:07<00:00, 10.38it/s]\n",
      "100%|██████████████████████████████████████████████████████████████████| 704/704 [00:21<00:00, 32.64it/s]\n"
     ]
    },
    {
     "name": "stdout",
     "output_type": "stream",
     "text": [
      "Epoch: 83 - TrainRecLoss: nan - ValidRecLoss: nan\n",
      "Epoch: 83 - TrainDivLoss: nan - ValidDivLoss: nan\n"
     ]
    },
    {
     "name": "stderr",
     "output_type": "stream",
     "text": [
      "100%|██████████████████████████████████████████████████████████████████| 704/704 [01:07<00:00, 10.39it/s]\n",
      "100%|██████████████████████████████████████████████████████████████████| 704/704 [00:21<00:00, 32.77it/s]\n"
     ]
    },
    {
     "name": "stdout",
     "output_type": "stream",
     "text": [
      "Epoch: 84 - TrainRecLoss: nan - ValidRecLoss: nan\n",
      "Epoch: 84 - TrainDivLoss: nan - ValidDivLoss: nan\n"
     ]
    },
    {
     "name": "stderr",
     "output_type": "stream",
     "text": [
      "100%|██████████████████████████████████████████████████████████████████| 704/704 [01:07<00:00, 10.39it/s]\n",
      "100%|██████████████████████████████████████████████████████████████████| 704/704 [00:21<00:00, 32.70it/s]\n"
     ]
    },
    {
     "name": "stdout",
     "output_type": "stream",
     "text": [
      "Epoch: 85 - TrainRecLoss: nan - ValidRecLoss: nan\n",
      "Epoch: 85 - TrainDivLoss: nan - ValidDivLoss: nan\n"
     ]
    },
    {
     "name": "stderr",
     "output_type": "stream",
     "text": [
      "100%|██████████████████████████████████████████████████████████████████| 704/704 [01:07<00:00, 10.38it/s]\n",
      "100%|██████████████████████████████████████████████████████████████████| 704/704 [00:21<00:00, 32.66it/s]\n"
     ]
    },
    {
     "name": "stdout",
     "output_type": "stream",
     "text": [
      "Epoch: 86 - TrainRecLoss: nan - ValidRecLoss: nan\n",
      "Epoch: 86 - TrainDivLoss: nan - ValidDivLoss: nan\n"
     ]
    },
    {
     "name": "stderr",
     "output_type": "stream",
     "text": [
      "100%|██████████████████████████████████████████████████████████████████| 704/704 [01:07<00:00, 10.37it/s]\n",
      "100%|██████████████████████████████████████████████████████████████████| 704/704 [00:21<00:00, 32.64it/s]\n"
     ]
    },
    {
     "name": "stdout",
     "output_type": "stream",
     "text": [
      "Epoch: 87 - TrainRecLoss: nan - ValidRecLoss: nan\n",
      "Epoch: 87 - TrainDivLoss: nan - ValidDivLoss: nan\n"
     ]
    },
    {
     "name": "stderr",
     "output_type": "stream",
     "text": [
      "100%|██████████████████████████████████████████████████████████████████| 704/704 [01:07<00:00, 10.38it/s]\n",
      "100%|██████████████████████████████████████████████████████████████████| 704/704 [00:21<00:00, 32.79it/s]\n"
     ]
    },
    {
     "name": "stdout",
     "output_type": "stream",
     "text": [
      "Epoch: 88 - TrainRecLoss: nan - ValidRecLoss: nan\n",
      "Epoch: 88 - TrainDivLoss: nan - ValidDivLoss: nan\n"
     ]
    },
    {
     "name": "stderr",
     "output_type": "stream",
     "text": [
      "100%|██████████████████████████████████████████████████████████████████| 704/704 [01:07<00:00, 10.39it/s]\n",
      "100%|██████████████████████████████████████████████████████████████████| 704/704 [00:21<00:00, 32.62it/s]\n"
     ]
    },
    {
     "name": "stdout",
     "output_type": "stream",
     "text": [
      "Epoch: 89 - TrainRecLoss: nan - ValidRecLoss: nan\n",
      "Epoch: 89 - TrainDivLoss: nan - ValidDivLoss: nan\n"
     ]
    },
    {
     "name": "stderr",
     "output_type": "stream",
     "text": [
      "100%|██████████████████████████████████████████████████████████████████| 704/704 [01:07<00:00, 10.38it/s]\n",
      "100%|██████████████████████████████████████████████████████████████████| 704/704 [00:21<00:00, 32.71it/s]\n"
     ]
    },
    {
     "name": "stdout",
     "output_type": "stream",
     "text": [
      "Epoch: 90 - TrainRecLoss: nan - ValidRecLoss: nan\n",
      "Epoch: 90 - TrainDivLoss: nan - ValidDivLoss: nan\n"
     ]
    },
    {
     "name": "stderr",
     "output_type": "stream",
     "text": [
      "100%|██████████████████████████████████████████████████████████████████| 704/704 [01:07<00:00, 10.37it/s]\n",
      "100%|██████████████████████████████████████████████████████████████████| 704/704 [00:21<00:00, 32.70it/s]\n"
     ]
    },
    {
     "name": "stdout",
     "output_type": "stream",
     "text": [
      "Epoch: 91 - TrainRecLoss: nan - ValidRecLoss: nan\n",
      "Epoch: 91 - TrainDivLoss: nan - ValidDivLoss: nan\n"
     ]
    },
    {
     "name": "stderr",
     "output_type": "stream",
     "text": [
      "100%|██████████████████████████████████████████████████████████████████| 704/704 [01:07<00:00, 10.38it/s]\n",
      "100%|██████████████████████████████████████████████████████████████████| 704/704 [00:21<00:00, 32.68it/s]\n"
     ]
    },
    {
     "name": "stdout",
     "output_type": "stream",
     "text": [
      "Epoch: 92 - TrainRecLoss: nan - ValidRecLoss: nan\n",
      "Epoch: 92 - TrainDivLoss: nan - ValidDivLoss: nan\n"
     ]
    },
    {
     "name": "stderr",
     "output_type": "stream",
     "text": [
      "100%|██████████████████████████████████████████████████████████████████| 704/704 [01:07<00:00, 10.38it/s]\n",
      "100%|██████████████████████████████████████████████████████████████████| 704/704 [00:21<00:00, 32.72it/s]\n"
     ]
    },
    {
     "name": "stdout",
     "output_type": "stream",
     "text": [
      "Epoch: 93 - TrainRecLoss: nan - ValidRecLoss: nan\n",
      "Epoch: 93 - TrainDivLoss: nan - ValidDivLoss: nan\n"
     ]
    },
    {
     "name": "stderr",
     "output_type": "stream",
     "text": [
      "100%|██████████████████████████████████████████████████████████████████| 704/704 [01:07<00:00, 10.39it/s]\n",
      "100%|██████████████████████████████████████████████████████████████████| 704/704 [00:21<00:00, 32.74it/s]\n"
     ]
    },
    {
     "name": "stdout",
     "output_type": "stream",
     "text": [
      "Epoch: 94 - TrainRecLoss: nan - ValidRecLoss: nan\n",
      "Epoch: 94 - TrainDivLoss: nan - ValidDivLoss: nan\n"
     ]
    },
    {
     "name": "stderr",
     "output_type": "stream",
     "text": [
      "100%|██████████████████████████████████████████████████████████████████| 704/704 [01:07<00:00, 10.38it/s]\n",
      "100%|██████████████████████████████████████████████████████████████████| 704/704 [00:21<00:00, 32.68it/s]\n"
     ]
    },
    {
     "name": "stdout",
     "output_type": "stream",
     "text": [
      "Epoch: 95 - TrainRecLoss: nan - ValidRecLoss: nan\n",
      "Epoch: 95 - TrainDivLoss: nan - ValidDivLoss: nan\n"
     ]
    },
    {
     "name": "stderr",
     "output_type": "stream",
     "text": [
      "100%|██████████████████████████████████████████████████████████████████| 704/704 [01:07<00:00, 10.38it/s]\n",
      "100%|██████████████████████████████████████████████████████████████████| 704/704 [00:21<00:00, 32.69it/s]\n"
     ]
    },
    {
     "name": "stdout",
     "output_type": "stream",
     "text": [
      "Epoch: 96 - TrainRecLoss: nan - ValidRecLoss: nan\n",
      "Epoch: 96 - TrainDivLoss: nan - ValidDivLoss: nan\n"
     ]
    },
    {
     "name": "stderr",
     "output_type": "stream",
     "text": [
      "100%|██████████████████████████████████████████████████████████████████| 704/704 [01:07<00:00, 10.38it/s]\n",
      "100%|██████████████████████████████████████████████████████████████████| 704/704 [00:21<00:00, 32.67it/s]\n"
     ]
    },
    {
     "name": "stdout",
     "output_type": "stream",
     "text": [
      "Epoch: 97 - TrainRecLoss: nan - ValidRecLoss: nan\n",
      "Epoch: 97 - TrainDivLoss: nan - ValidDivLoss: nan\n"
     ]
    },
    {
     "name": "stderr",
     "output_type": "stream",
     "text": [
      "100%|██████████████████████████████████████████████████████████████████| 704/704 [01:07<00:00, 10.38it/s]\n",
      "100%|██████████████████████████████████████████████████████████████████| 704/704 [00:21<00:00, 32.62it/s]\n"
     ]
    },
    {
     "name": "stdout",
     "output_type": "stream",
     "text": [
      "Epoch: 98 - TrainRecLoss: nan - ValidRecLoss: nan\n",
      "Epoch: 98 - TrainDivLoss: nan - ValidDivLoss: nan\n"
     ]
    },
    {
     "name": "stderr",
     "output_type": "stream",
     "text": [
      "100%|██████████████████████████████████████████████████████████████████| 704/704 [01:07<00:00, 10.38it/s]\n",
      "100%|██████████████████████████████████████████████████████████████████| 704/704 [00:21<00:00, 32.66it/s]\n"
     ]
    },
    {
     "name": "stdout",
     "output_type": "stream",
     "text": [
      "Epoch: 99 - TrainRecLoss: nan - ValidRecLoss: nan\n",
      "Epoch: 99 - TrainDivLoss: nan - ValidDivLoss: nan\n"
     ]
    },
    {
     "name": "stderr",
     "output_type": "stream",
     "text": [
      "100%|██████████████████████████████████████████████████████████████████| 704/704 [01:07<00:00, 10.39it/s]\n",
      "100%|██████████████████████████████████████████████████████████████████| 704/704 [00:21<00:00, 32.65it/s]\n"
     ]
    },
    {
     "name": "stdout",
     "output_type": "stream",
     "text": [
      "Epoch: 100 - TrainRecLoss: nan - ValidRecLoss: nan\n",
      "Epoch: 100 - TrainDivLoss: nan - ValidDivLoss: nan\n"
     ]
    },
    {
     "name": "stderr",
     "output_type": "stream",
     "text": [
      "100%|██████████████████████████████████████████████████████████████████| 704/704 [01:07<00:00, 10.38it/s]\n",
      "100%|██████████████████████████████████████████████████████████████████| 704/704 [00:21<00:00, 32.72it/s]\n"
     ]
    },
    {
     "name": "stdout",
     "output_type": "stream",
     "text": [
      "Epoch: 101 - TrainRecLoss: nan - ValidRecLoss: nan\n",
      "Epoch: 101 - TrainDivLoss: nan - ValidDivLoss: nan\n"
     ]
    },
    {
     "name": "stderr",
     "output_type": "stream",
     "text": [
      "100%|██████████████████████████████████████████████████████████████████| 704/704 [01:07<00:00, 10.37it/s]\n",
      "100%|██████████████████████████████████████████████████████████████████| 704/704 [00:21<00:00, 32.73it/s]\n"
     ]
    },
    {
     "name": "stdout",
     "output_type": "stream",
     "text": [
      "Epoch: 102 - TrainRecLoss: nan - ValidRecLoss: nan\n",
      "Epoch: 102 - TrainDivLoss: nan - ValidDivLoss: nan\n"
     ]
    },
    {
     "name": "stderr",
     "output_type": "stream",
     "text": [
      "100%|██████████████████████████████████████████████████████████████████| 704/704 [01:07<00:00, 10.38it/s]\n",
      "100%|██████████████████████████████████████████████████████████████████| 704/704 [00:21<00:00, 32.74it/s]\n"
     ]
    },
    {
     "name": "stdout",
     "output_type": "stream",
     "text": [
      "Epoch: 103 - TrainRecLoss: nan - ValidRecLoss: nan\n",
      "Epoch: 103 - TrainDivLoss: nan - ValidDivLoss: nan\n"
     ]
    },
    {
     "name": "stderr",
     "output_type": "stream",
     "text": [
      "100%|██████████████████████████████████████████████████████████████████| 704/704 [01:07<00:00, 10.37it/s]\n",
      "100%|██████████████████████████████████████████████████████████████████| 704/704 [00:21<00:00, 32.70it/s]\n"
     ]
    },
    {
     "name": "stdout",
     "output_type": "stream",
     "text": [
      "Epoch: 104 - TrainRecLoss: nan - ValidRecLoss: nan\n",
      "Epoch: 104 - TrainDivLoss: nan - ValidDivLoss: nan\n"
     ]
    },
    {
     "name": "stderr",
     "output_type": "stream",
     "text": [
      "100%|██████████████████████████████████████████████████████████████████| 704/704 [01:07<00:00, 10.38it/s]\n",
      "100%|██████████████████████████████████████████████████████████████████| 704/704 [00:21<00:00, 32.63it/s]\n"
     ]
    },
    {
     "name": "stdout",
     "output_type": "stream",
     "text": [
      "Epoch: 105 - TrainRecLoss: nan - ValidRecLoss: nan\n",
      "Epoch: 105 - TrainDivLoss: nan - ValidDivLoss: nan\n"
     ]
    },
    {
     "name": "stderr",
     "output_type": "stream",
     "text": [
      "100%|██████████████████████████████████████████████████████████████████| 704/704 [01:07<00:00, 10.38it/s]\n",
      "100%|██████████████████████████████████████████████████████████████████| 704/704 [00:21<00:00, 32.73it/s]\n"
     ]
    },
    {
     "name": "stdout",
     "output_type": "stream",
     "text": [
      "Epoch: 106 - TrainRecLoss: nan - ValidRecLoss: nan\n",
      "Epoch: 106 - TrainDivLoss: nan - ValidDivLoss: nan\n"
     ]
    },
    {
     "name": "stderr",
     "output_type": "stream",
     "text": [
      "100%|██████████████████████████████████████████████████████████████████| 704/704 [01:07<00:00, 10.38it/s]\n",
      "100%|██████████████████████████████████████████████████████████████████| 704/704 [00:21<00:00, 32.65it/s]\n"
     ]
    },
    {
     "name": "stdout",
     "output_type": "stream",
     "text": [
      "Epoch: 107 - TrainRecLoss: nan - ValidRecLoss: nan\n",
      "Epoch: 107 - TrainDivLoss: nan - ValidDivLoss: nan\n"
     ]
    },
    {
     "name": "stderr",
     "output_type": "stream",
     "text": [
      "100%|██████████████████████████████████████████████████████████████████| 704/704 [01:07<00:00, 10.38it/s]\n",
      "100%|██████████████████████████████████████████████████████████████████| 704/704 [00:21<00:00, 32.73it/s]\n"
     ]
    },
    {
     "name": "stdout",
     "output_type": "stream",
     "text": [
      "Epoch: 108 - TrainRecLoss: nan - ValidRecLoss: nan\n",
      "Epoch: 108 - TrainDivLoss: nan - ValidDivLoss: nan\n"
     ]
    },
    {
     "name": "stderr",
     "output_type": "stream",
     "text": [
      "100%|██████████████████████████████████████████████████████████████████| 704/704 [01:07<00:00, 10.39it/s]\n",
      "100%|██████████████████████████████████████████████████████████████████| 704/704 [00:21<00:00, 32.64it/s]\n"
     ]
    },
    {
     "name": "stdout",
     "output_type": "stream",
     "text": [
      "Epoch: 109 - TrainRecLoss: nan - ValidRecLoss: nan\n",
      "Epoch: 109 - TrainDivLoss: nan - ValidDivLoss: nan\n"
     ]
    },
    {
     "name": "stderr",
     "output_type": "stream",
     "text": [
      "100%|██████████████████████████████████████████████████████████████████| 704/704 [01:07<00:00, 10.38it/s]\n",
      "100%|██████████████████████████████████████████████████████████████████| 704/704 [00:21<00:00, 32.72it/s]\n"
     ]
    },
    {
     "name": "stdout",
     "output_type": "stream",
     "text": [
      "Epoch: 110 - TrainRecLoss: nan - ValidRecLoss: nan\n",
      "Epoch: 110 - TrainDivLoss: nan - ValidDivLoss: nan\n"
     ]
    },
    {
     "name": "stderr",
     "output_type": "stream",
     "text": [
      "100%|██████████████████████████████████████████████████████████████████| 704/704 [01:07<00:00, 10.38it/s]\n",
      "100%|██████████████████████████████████████████████████████████████████| 704/704 [00:21<00:00, 32.69it/s]\n"
     ]
    },
    {
     "name": "stdout",
     "output_type": "stream",
     "text": [
      "Epoch: 111 - TrainRecLoss: nan - ValidRecLoss: nan\n",
      "Epoch: 111 - TrainDivLoss: nan - ValidDivLoss: nan\n"
     ]
    },
    {
     "name": "stderr",
     "output_type": "stream",
     "text": [
      "100%|██████████████████████████████████████████████████████████████████| 704/704 [01:07<00:00, 10.38it/s]\n",
      "100%|██████████████████████████████████████████████████████████████████| 704/704 [00:21<00:00, 32.68it/s]\n"
     ]
    },
    {
     "name": "stdout",
     "output_type": "stream",
     "text": [
      "Epoch: 112 - TrainRecLoss: nan - ValidRecLoss: nan\n",
      "Epoch: 112 - TrainDivLoss: nan - ValidDivLoss: nan\n"
     ]
    },
    {
     "name": "stderr",
     "output_type": "stream",
     "text": [
      "100%|██████████████████████████████████████████████████████████████████| 704/704 [01:07<00:00, 10.38it/s]\n",
      "100%|██████████████████████████████████████████████████████████████████| 704/704 [00:21<00:00, 32.71it/s]\n"
     ]
    },
    {
     "name": "stdout",
     "output_type": "stream",
     "text": [
      "Epoch: 113 - TrainRecLoss: nan - ValidRecLoss: nan\n",
      "Epoch: 113 - TrainDivLoss: nan - ValidDivLoss: nan\n"
     ]
    },
    {
     "name": "stderr",
     "output_type": "stream",
     "text": [
      "100%|██████████████████████████████████████████████████████████████████| 704/704 [01:07<00:00, 10.38it/s]\n",
      "100%|██████████████████████████████████████████████████████████████████| 704/704 [00:21<00:00, 32.66it/s]\n"
     ]
    },
    {
     "name": "stdout",
     "output_type": "stream",
     "text": [
      "Epoch: 114 - TrainRecLoss: nan - ValidRecLoss: nan\n",
      "Epoch: 114 - TrainDivLoss: nan - ValidDivLoss: nan\n"
     ]
    },
    {
     "name": "stderr",
     "output_type": "stream",
     "text": [
      "100%|██████████████████████████████████████████████████████████████████| 704/704 [01:07<00:00, 10.38it/s]\n",
      "100%|██████████████████████████████████████████████████████████████████| 704/704 [00:21<00:00, 32.72it/s]\n"
     ]
    },
    {
     "name": "stdout",
     "output_type": "stream",
     "text": [
      "Epoch: 115 - TrainRecLoss: nan - ValidRecLoss: nan\n",
      "Epoch: 115 - TrainDivLoss: nan - ValidDivLoss: nan\n"
     ]
    },
    {
     "name": "stderr",
     "output_type": "stream",
     "text": [
      "100%|██████████████████████████████████████████████████████████████████| 704/704 [01:07<00:00, 10.38it/s]\n",
      "100%|██████████████████████████████████████████████████████████████████| 704/704 [00:21<00:00, 32.69it/s]\n"
     ]
    },
    {
     "name": "stdout",
     "output_type": "stream",
     "text": [
      "Epoch: 116 - TrainRecLoss: nan - ValidRecLoss: nan\n",
      "Epoch: 116 - TrainDivLoss: nan - ValidDivLoss: nan\n"
     ]
    },
    {
     "name": "stderr",
     "output_type": "stream",
     "text": [
      "100%|██████████████████████████████████████████████████████████████████| 704/704 [01:07<00:00, 10.40it/s]\n",
      "100%|██████████████████████████████████████████████████████████████████| 704/704 [00:21<00:00, 32.69it/s]\n"
     ]
    },
    {
     "name": "stdout",
     "output_type": "stream",
     "text": [
      "Epoch: 117 - TrainRecLoss: nan - ValidRecLoss: nan\n",
      "Epoch: 117 - TrainDivLoss: nan - ValidDivLoss: nan\n"
     ]
    },
    {
     "name": "stderr",
     "output_type": "stream",
     "text": [
      "100%|██████████████████████████████████████████████████████████████████| 704/704 [01:07<00:00, 10.38it/s]\n",
      "100%|██████████████████████████████████████████████████████████████████| 704/704 [00:21<00:00, 32.66it/s]\n"
     ]
    },
    {
     "name": "stdout",
     "output_type": "stream",
     "text": [
      "Epoch: 118 - TrainRecLoss: nan - ValidRecLoss: nan\n",
      "Epoch: 118 - TrainDivLoss: nan - ValidDivLoss: nan\n"
     ]
    },
    {
     "name": "stderr",
     "output_type": "stream",
     "text": [
      "100%|██████████████████████████████████████████████████████████████████| 704/704 [01:07<00:00, 10.38it/s]\n",
      "100%|██████████████████████████████████████████████████████████████████| 704/704 [00:21<00:00, 32.68it/s]\n"
     ]
    },
    {
     "name": "stdout",
     "output_type": "stream",
     "text": [
      "Epoch: 119 - TrainRecLoss: nan - ValidRecLoss: nan\n",
      "Epoch: 119 - TrainDivLoss: nan - ValidDivLoss: nan\n"
     ]
    },
    {
     "name": "stderr",
     "output_type": "stream",
     "text": [
      "100%|██████████████████████████████████████████████████████████████████| 704/704 [01:07<00:00, 10.38it/s]\n",
      "100%|██████████████████████████████████████████████████████████████████| 704/704 [00:21<00:00, 32.60it/s]\n"
     ]
    },
    {
     "name": "stdout",
     "output_type": "stream",
     "text": [
      "Epoch: 120 - TrainRecLoss: nan - ValidRecLoss: nan\n",
      "Epoch: 120 - TrainDivLoss: nan - ValidDivLoss: nan\n"
     ]
    },
    {
     "name": "stderr",
     "output_type": "stream",
     "text": [
      "100%|██████████████████████████████████████████████████████████████████| 704/704 [01:07<00:00, 10.38it/s]\n",
      "100%|██████████████████████████████████████████████████████████████████| 704/704 [00:21<00:00, 32.64it/s]\n"
     ]
    },
    {
     "name": "stdout",
     "output_type": "stream",
     "text": [
      "Epoch: 121 - TrainRecLoss: nan - ValidRecLoss: nan\n",
      "Epoch: 121 - TrainDivLoss: nan - ValidDivLoss: nan\n"
     ]
    },
    {
     "name": "stderr",
     "output_type": "stream",
     "text": [
      "100%|██████████████████████████████████████████████████████████████████| 704/704 [01:07<00:00, 10.38it/s]\n",
      "100%|██████████████████████████████████████████████████████████████████| 704/704 [00:21<00:00, 32.65it/s]\n"
     ]
    },
    {
     "name": "stdout",
     "output_type": "stream",
     "text": [
      "Epoch: 122 - TrainRecLoss: nan - ValidRecLoss: nan\n",
      "Epoch: 122 - TrainDivLoss: nan - ValidDivLoss: nan\n"
     ]
    },
    {
     "name": "stderr",
     "output_type": "stream",
     "text": [
      "100%|██████████████████████████████████████████████████████████████████| 704/704 [01:07<00:00, 10.38it/s]\n",
      "100%|██████████████████████████████████████████████████████████████████| 704/704 [00:21<00:00, 32.75it/s]\n"
     ]
    },
    {
     "name": "stdout",
     "output_type": "stream",
     "text": [
      "Epoch: 123 - TrainRecLoss: nan - ValidRecLoss: nan\n",
      "Epoch: 123 - TrainDivLoss: nan - ValidDivLoss: nan\n"
     ]
    },
    {
     "name": "stderr",
     "output_type": "stream",
     "text": [
      "100%|██████████████████████████████████████████████████████████████████| 704/704 [01:07<00:00, 10.38it/s]\n",
      "100%|██████████████████████████████████████████████████████████████████| 704/704 [00:21<00:00, 32.64it/s]\n"
     ]
    },
    {
     "name": "stdout",
     "output_type": "stream",
     "text": [
      "Epoch: 124 - TrainRecLoss: nan - ValidRecLoss: nan\n",
      "Epoch: 124 - TrainDivLoss: nan - ValidDivLoss: nan\n"
     ]
    },
    {
     "name": "stderr",
     "output_type": "stream",
     "text": [
      "100%|██████████████████████████████████████████████████████████████████| 704/704 [01:07<00:00, 10.38it/s]\n",
      "100%|██████████████████████████████████████████████████████████████████| 704/704 [00:21<00:00, 32.62it/s]\n"
     ]
    },
    {
     "name": "stdout",
     "output_type": "stream",
     "text": [
      "Epoch: 125 - TrainRecLoss: nan - ValidRecLoss: nan\n",
      "Epoch: 125 - TrainDivLoss: nan - ValidDivLoss: nan\n"
     ]
    },
    {
     "name": "stderr",
     "output_type": "stream",
     "text": [
      "100%|██████████████████████████████████████████████████████████████████| 704/704 [01:07<00:00, 10.38it/s]\n",
      "100%|██████████████████████████████████████████████████████████████████| 704/704 [00:21<00:00, 32.64it/s]\n"
     ]
    },
    {
     "name": "stdout",
     "output_type": "stream",
     "text": [
      "Epoch: 126 - TrainRecLoss: nan - ValidRecLoss: nan\n",
      "Epoch: 126 - TrainDivLoss: nan - ValidDivLoss: nan\n"
     ]
    },
    {
     "name": "stderr",
     "output_type": "stream",
     "text": [
      "100%|██████████████████████████████████████████████████████████████████| 704/704 [01:07<00:00, 10.38it/s]\n",
      "100%|██████████████████████████████████████████████████████████████████| 704/704 [00:21<00:00, 32.68it/s]\n"
     ]
    },
    {
     "name": "stdout",
     "output_type": "stream",
     "text": [
      "Epoch: 127 - TrainRecLoss: nan - ValidRecLoss: nan\n",
      "Epoch: 127 - TrainDivLoss: nan - ValidDivLoss: nan\n"
     ]
    },
    {
     "name": "stderr",
     "output_type": "stream",
     "text": [
      "100%|██████████████████████████████████████████████████████████████████| 704/704 [01:07<00:00, 10.39it/s]\n",
      "100%|██████████████████████████████████████████████████████████████████| 704/704 [00:21<00:00, 32.66it/s]\n"
     ]
    },
    {
     "name": "stdout",
     "output_type": "stream",
     "text": [
      "Epoch: 128 - TrainRecLoss: nan - ValidRecLoss: nan\n",
      "Epoch: 128 - TrainDivLoss: nan - ValidDivLoss: nan\n"
     ]
    },
    {
     "name": "stderr",
     "output_type": "stream",
     "text": [
      "100%|██████████████████████████████████████████████████████████████████| 704/704 [01:07<00:00, 10.38it/s]\n",
      "100%|██████████████████████████████████████████████████████████████████| 704/704 [00:21<00:00, 32.63it/s]\n"
     ]
    },
    {
     "name": "stdout",
     "output_type": "stream",
     "text": [
      "Epoch: 129 - TrainRecLoss: nan - ValidRecLoss: nan\n",
      "Epoch: 129 - TrainDivLoss: nan - ValidDivLoss: nan\n"
     ]
    },
    {
     "name": "stderr",
     "output_type": "stream",
     "text": [
      "100%|██████████████████████████████████████████████████████████████████| 704/704 [01:07<00:00, 10.38it/s]\n",
      "100%|██████████████████████████████████████████████████████████████████| 704/704 [00:21<00:00, 32.70it/s]\n"
     ]
    },
    {
     "name": "stdout",
     "output_type": "stream",
     "text": [
      "Epoch: 130 - TrainRecLoss: nan - ValidRecLoss: nan\n",
      "Epoch: 130 - TrainDivLoss: nan - ValidDivLoss: nan\n"
     ]
    },
    {
     "name": "stderr",
     "output_type": "stream",
     "text": [
      "100%|██████████████████████████████████████████████████████████████████| 704/704 [01:07<00:00, 10.37it/s]\n",
      "100%|██████████████████████████████████████████████████████████████████| 704/704 [00:21<00:00, 32.67it/s]\n"
     ]
    },
    {
     "name": "stdout",
     "output_type": "stream",
     "text": [
      "Epoch: 131 - TrainRecLoss: nan - ValidRecLoss: nan\n",
      "Epoch: 131 - TrainDivLoss: nan - ValidDivLoss: nan\n"
     ]
    },
    {
     "name": "stderr",
     "output_type": "stream",
     "text": [
      "100%|██████████████████████████████████████████████████████████████████| 704/704 [01:07<00:00, 10.38it/s]\n",
      "100%|██████████████████████████████████████████████████████████████████| 704/704 [00:21<00:00, 32.74it/s]\n"
     ]
    },
    {
     "name": "stdout",
     "output_type": "stream",
     "text": [
      "Epoch: 132 - TrainRecLoss: nan - ValidRecLoss: nan\n",
      "Epoch: 132 - TrainDivLoss: nan - ValidDivLoss: nan\n"
     ]
    },
    {
     "name": "stderr",
     "output_type": "stream",
     "text": [
      "100%|██████████████████████████████████████████████████████████████████| 704/704 [01:07<00:00, 10.38it/s]\n",
      "100%|██████████████████████████████████████████████████████████████████| 704/704 [00:21<00:00, 32.67it/s]\n"
     ]
    },
    {
     "name": "stdout",
     "output_type": "stream",
     "text": [
      "Epoch: 133 - TrainRecLoss: nan - ValidRecLoss: nan\n",
      "Epoch: 133 - TrainDivLoss: nan - ValidDivLoss: nan\n"
     ]
    },
    {
     "name": "stderr",
     "output_type": "stream",
     "text": [
      "100%|██████████████████████████████████████████████████████████████████| 704/704 [01:07<00:00, 10.39it/s]\n",
      "100%|██████████████████████████████████████████████████████████████████| 704/704 [00:21<00:00, 32.67it/s]\n"
     ]
    },
    {
     "name": "stdout",
     "output_type": "stream",
     "text": [
      "Epoch: 134 - TrainRecLoss: nan - ValidRecLoss: nan\n",
      "Epoch: 134 - TrainDivLoss: nan - ValidDivLoss: nan\n"
     ]
    },
    {
     "name": "stderr",
     "output_type": "stream",
     "text": [
      "100%|██████████████████████████████████████████████████████████████████| 704/704 [01:07<00:00, 10.38it/s]\n",
      "100%|██████████████████████████████████████████████████████████████████| 704/704 [00:21<00:00, 32.69it/s]\n"
     ]
    },
    {
     "name": "stdout",
     "output_type": "stream",
     "text": [
      "Epoch: 135 - TrainRecLoss: nan - ValidRecLoss: nan\n",
      "Epoch: 135 - TrainDivLoss: nan - ValidDivLoss: nan\n"
     ]
    },
    {
     "name": "stderr",
     "output_type": "stream",
     "text": [
      "100%|██████████████████████████████████████████████████████████████████| 704/704 [01:07<00:00, 10.39it/s]\n",
      "100%|██████████████████████████████████████████████████████████████████| 704/704 [00:21<00:00, 32.70it/s]\n"
     ]
    },
    {
     "name": "stdout",
     "output_type": "stream",
     "text": [
      "Epoch: 136 - TrainRecLoss: nan - ValidRecLoss: nan\n",
      "Epoch: 136 - TrainDivLoss: nan - ValidDivLoss: nan\n"
     ]
    },
    {
     "name": "stderr",
     "output_type": "stream",
     "text": [
      "100%|██████████████████████████████████████████████████████████████████| 704/704 [01:07<00:00, 10.38it/s]\n",
      "100%|██████████████████████████████████████████████████████████████████| 704/704 [00:21<00:00, 32.68it/s]\n"
     ]
    },
    {
     "name": "stdout",
     "output_type": "stream",
     "text": [
      "Epoch: 137 - TrainRecLoss: nan - ValidRecLoss: nan\n",
      "Epoch: 137 - TrainDivLoss: nan - ValidDivLoss: nan\n"
     ]
    },
    {
     "name": "stderr",
     "output_type": "stream",
     "text": [
      "100%|██████████████████████████████████████████████████████████████████| 704/704 [01:07<00:00, 10.37it/s]\n",
      "100%|██████████████████████████████████████████████████████████████████| 704/704 [00:21<00:00, 32.65it/s]\n"
     ]
    },
    {
     "name": "stdout",
     "output_type": "stream",
     "text": [
      "Epoch: 138 - TrainRecLoss: nan - ValidRecLoss: nan\n",
      "Epoch: 138 - TrainDivLoss: nan - ValidDivLoss: nan\n"
     ]
    },
    {
     "name": "stderr",
     "output_type": "stream",
     "text": [
      "100%|██████████████████████████████████████████████████████████████████| 704/704 [01:07<00:00, 10.38it/s]\n",
      "100%|██████████████████████████████████████████████████████████████████| 704/704 [00:21<00:00, 32.65it/s]\n"
     ]
    },
    {
     "name": "stdout",
     "output_type": "stream",
     "text": [
      "Epoch: 139 - TrainRecLoss: nan - ValidRecLoss: nan\n",
      "Epoch: 139 - TrainDivLoss: nan - ValidDivLoss: nan\n"
     ]
    },
    {
     "name": "stderr",
     "output_type": "stream",
     "text": [
      "100%|██████████████████████████████████████████████████████████████████| 704/704 [01:07<00:00, 10.38it/s]\n",
      "100%|██████████████████████████████████████████████████████████████████| 704/704 [00:21<00:00, 32.64it/s]\n"
     ]
    },
    {
     "name": "stdout",
     "output_type": "stream",
     "text": [
      "Epoch: 140 - TrainRecLoss: nan - ValidRecLoss: nan\n",
      "Epoch: 140 - TrainDivLoss: nan - ValidDivLoss: nan\n"
     ]
    },
    {
     "name": "stderr",
     "output_type": "stream",
     "text": [
      "100%|██████████████████████████████████████████████████████████████████| 704/704 [01:07<00:00, 10.39it/s]\n",
      "100%|██████████████████████████████████████████████████████████████████| 704/704 [00:21<00:00, 32.66it/s]\n"
     ]
    },
    {
     "name": "stdout",
     "output_type": "stream",
     "text": [
      "Epoch: 141 - TrainRecLoss: nan - ValidRecLoss: nan\n",
      "Epoch: 141 - TrainDivLoss: nan - ValidDivLoss: nan\n"
     ]
    },
    {
     "name": "stderr",
     "output_type": "stream",
     "text": [
      "100%|██████████████████████████████████████████████████████████████████| 704/704 [01:07<00:00, 10.38it/s]\n",
      "100%|██████████████████████████████████████████████████████████████████| 704/704 [00:21<00:00, 32.65it/s]\n"
     ]
    },
    {
     "name": "stdout",
     "output_type": "stream",
     "text": [
      "Epoch: 142 - TrainRecLoss: nan - ValidRecLoss: nan\n",
      "Epoch: 142 - TrainDivLoss: nan - ValidDivLoss: nan\n"
     ]
    },
    {
     "name": "stderr",
     "output_type": "stream",
     "text": [
      "100%|██████████████████████████████████████████████████████████████████| 704/704 [01:07<00:00, 10.38it/s]\n",
      "100%|██████████████████████████████████████████████████████████████████| 704/704 [00:21<00:00, 32.71it/s]\n"
     ]
    },
    {
     "name": "stdout",
     "output_type": "stream",
     "text": [
      "Epoch: 143 - TrainRecLoss: nan - ValidRecLoss: nan\n",
      "Epoch: 143 - TrainDivLoss: nan - ValidDivLoss: nan\n"
     ]
    },
    {
     "name": "stderr",
     "output_type": "stream",
     "text": [
      "100%|██████████████████████████████████████████████████████████████████| 704/704 [01:07<00:00, 10.37it/s]\n",
      "100%|██████████████████████████████████████████████████████████████████| 704/704 [00:21<00:00, 32.70it/s]\n"
     ]
    },
    {
     "name": "stdout",
     "output_type": "stream",
     "text": [
      "Epoch: 144 - TrainRecLoss: nan - ValidRecLoss: nan\n",
      "Epoch: 144 - TrainDivLoss: nan - ValidDivLoss: nan\n"
     ]
    },
    {
     "name": "stderr",
     "output_type": "stream",
     "text": [
      "100%|██████████████████████████████████████████████████████████████████| 704/704 [01:07<00:00, 10.39it/s]\n",
      "100%|██████████████████████████████████████████████████████████████████| 704/704 [00:21<00:00, 32.74it/s]\n"
     ]
    },
    {
     "name": "stdout",
     "output_type": "stream",
     "text": [
      "Epoch: 145 - TrainRecLoss: nan - ValidRecLoss: nan\n",
      "Epoch: 145 - TrainDivLoss: nan - ValidDivLoss: nan\n"
     ]
    },
    {
     "name": "stderr",
     "output_type": "stream",
     "text": [
      "100%|██████████████████████████████████████████████████████████████████| 704/704 [01:07<00:00, 10.38it/s]\n",
      "100%|██████████████████████████████████████████████████████████████████| 704/704 [00:21<00:00, 32.58it/s]\n"
     ]
    },
    {
     "name": "stdout",
     "output_type": "stream",
     "text": [
      "Epoch: 146 - TrainRecLoss: nan - ValidRecLoss: nan\n",
      "Epoch: 146 - TrainDivLoss: nan - ValidDivLoss: nan\n"
     ]
    },
    {
     "name": "stderr",
     "output_type": "stream",
     "text": [
      "100%|██████████████████████████████████████████████████████████████████| 704/704 [01:07<00:00, 10.38it/s]\n",
      "100%|██████████████████████████████████████████████████████████████████| 704/704 [00:21<00:00, 32.67it/s]\n"
     ]
    },
    {
     "name": "stdout",
     "output_type": "stream",
     "text": [
      "Epoch: 147 - TrainRecLoss: nan - ValidRecLoss: nan\n",
      "Epoch: 147 - TrainDivLoss: nan - ValidDivLoss: nan\n"
     ]
    },
    {
     "name": "stderr",
     "output_type": "stream",
     "text": [
      "100%|██████████████████████████████████████████████████████████████████| 704/704 [01:07<00:00, 10.38it/s]\n",
      "100%|██████████████████████████████████████████████████████████████████| 704/704 [00:21<00:00, 32.68it/s]\n"
     ]
    },
    {
     "name": "stdout",
     "output_type": "stream",
     "text": [
      "Epoch: 148 - TrainRecLoss: nan - ValidRecLoss: nan\n",
      "Epoch: 148 - TrainDivLoss: nan - ValidDivLoss: nan\n"
     ]
    },
    {
     "name": "stderr",
     "output_type": "stream",
     "text": [
      "100%|██████████████████████████████████████████████████████████████████| 704/704 [01:07<00:00, 10.38it/s]\n",
      "100%|██████████████████████████████████████████████████████████████████| 704/704 [00:21<00:00, 32.69it/s]\n"
     ]
    },
    {
     "name": "stdout",
     "output_type": "stream",
     "text": [
      "Epoch: 149 - TrainRecLoss: nan - ValidRecLoss: nan\n",
      "Epoch: 149 - TrainDivLoss: nan - ValidDivLoss: nan\n"
     ]
    },
    {
     "name": "stderr",
     "output_type": "stream",
     "text": [
      "100%|██████████████████████████████████████████████████████████████████| 704/704 [01:07<00:00, 10.38it/s]\n",
      "100%|██████████████████████████████████████████████████████████████████| 704/704 [00:21<00:00, 32.68it/s]\n"
     ]
    },
    {
     "name": "stdout",
     "output_type": "stream",
     "text": [
      "Epoch: 150 - TrainRecLoss: nan - ValidRecLoss: nan\n",
      "Epoch: 150 - TrainDivLoss: nan - ValidDivLoss: nan\n"
     ]
    },
    {
     "name": "stderr",
     "output_type": "stream",
     "text": [
      "100%|██████████████████████████████████████████████████████████████████| 704/704 [01:07<00:00, 10.38it/s]\n",
      "100%|██████████████████████████████████████████████████████████████████| 704/704 [00:21<00:00, 32.74it/s]\n"
     ]
    },
    {
     "name": "stdout",
     "output_type": "stream",
     "text": [
      "Epoch: 151 - TrainRecLoss: nan - ValidRecLoss: nan\n",
      "Epoch: 151 - TrainDivLoss: nan - ValidDivLoss: nan\n"
     ]
    },
    {
     "name": "stderr",
     "output_type": "stream",
     "text": [
      "100%|██████████████████████████████████████████████████████████████████| 704/704 [01:07<00:00, 10.39it/s]\n",
      "100%|██████████████████████████████████████████████████████████████████| 704/704 [00:21<00:00, 32.64it/s]\n"
     ]
    },
    {
     "name": "stdout",
     "output_type": "stream",
     "text": [
      "Epoch: 152 - TrainRecLoss: nan - ValidRecLoss: nan\n",
      "Epoch: 152 - TrainDivLoss: nan - ValidDivLoss: nan\n"
     ]
    },
    {
     "name": "stderr",
     "output_type": "stream",
     "text": [
      "100%|██████████████████████████████████████████████████████████████████| 704/704 [01:07<00:00, 10.37it/s]\n",
      "100%|██████████████████████████████████████████████████████████████████| 704/704 [00:21<00:00, 32.63it/s]\n"
     ]
    },
    {
     "name": "stdout",
     "output_type": "stream",
     "text": [
      "Epoch: 153 - TrainRecLoss: nan - ValidRecLoss: nan\n",
      "Epoch: 153 - TrainDivLoss: nan - ValidDivLoss: nan\n"
     ]
    },
    {
     "name": "stderr",
     "output_type": "stream",
     "text": [
      "100%|██████████████████████████████████████████████████████████████████| 704/704 [01:07<00:00, 10.38it/s]\n",
      "100%|██████████████████████████████████████████████████████████████████| 704/704 [00:21<00:00, 32.56it/s]\n"
     ]
    },
    {
     "name": "stdout",
     "output_type": "stream",
     "text": [
      "Epoch: 154 - TrainRecLoss: nan - ValidRecLoss: nan\n",
      "Epoch: 154 - TrainDivLoss: nan - ValidDivLoss: nan\n"
     ]
    },
    {
     "name": "stderr",
     "output_type": "stream",
     "text": [
      "100%|██████████████████████████████████████████████████████████████████| 704/704 [01:07<00:00, 10.38it/s]\n",
      "100%|██████████████████████████████████████████████████████████████████| 704/704 [00:21<00:00, 32.70it/s]\n"
     ]
    },
    {
     "name": "stdout",
     "output_type": "stream",
     "text": [
      "Epoch: 155 - TrainRecLoss: nan - ValidRecLoss: nan\n",
      "Epoch: 155 - TrainDivLoss: nan - ValidDivLoss: nan\n"
     ]
    },
    {
     "name": "stderr",
     "output_type": "stream",
     "text": [
      "100%|██████████████████████████████████████████████████████████████████| 704/704 [01:07<00:00, 10.39it/s]\n",
      "100%|██████████████████████████████████████████████████████████████████| 704/704 [00:21<00:00, 32.63it/s]\n"
     ]
    },
    {
     "name": "stdout",
     "output_type": "stream",
     "text": [
      "Epoch: 156 - TrainRecLoss: nan - ValidRecLoss: nan\n",
      "Epoch: 156 - TrainDivLoss: nan - ValidDivLoss: nan\n"
     ]
    },
    {
     "name": "stderr",
     "output_type": "stream",
     "text": [
      "100%|██████████████████████████████████████████████████████████████████| 704/704 [01:07<00:00, 10.38it/s]\n",
      "100%|██████████████████████████████████████████████████████████████████| 704/704 [00:21<00:00, 32.76it/s]\n"
     ]
    },
    {
     "name": "stdout",
     "output_type": "stream",
     "text": [
      "Epoch: 157 - TrainRecLoss: nan - ValidRecLoss: nan\n",
      "Epoch: 157 - TrainDivLoss: nan - ValidDivLoss: nan\n"
     ]
    },
    {
     "name": "stderr",
     "output_type": "stream",
     "text": [
      "100%|██████████████████████████████████████████████████████████████████| 704/704 [01:07<00:00, 10.38it/s]\n",
      "100%|██████████████████████████████████████████████████████████████████| 704/704 [00:21<00:00, 32.65it/s]\n"
     ]
    },
    {
     "name": "stdout",
     "output_type": "stream",
     "text": [
      "Epoch: 158 - TrainRecLoss: nan - ValidRecLoss: nan\n",
      "Epoch: 158 - TrainDivLoss: nan - ValidDivLoss: nan\n"
     ]
    },
    {
     "name": "stderr",
     "output_type": "stream",
     "text": [
      "100%|██████████████████████████████████████████████████████████████████| 704/704 [01:07<00:00, 10.38it/s]\n",
      "100%|██████████████████████████████████████████████████████████████████| 704/704 [00:21<00:00, 32.64it/s]\n"
     ]
    },
    {
     "name": "stdout",
     "output_type": "stream",
     "text": [
      "Epoch: 159 - TrainRecLoss: nan - ValidRecLoss: nan\n",
      "Epoch: 159 - TrainDivLoss: nan - ValidDivLoss: nan\n"
     ]
    },
    {
     "name": "stderr",
     "output_type": "stream",
     "text": [
      "100%|██████████████████████████████████████████████████████████████████| 704/704 [01:07<00:00, 10.38it/s]\n",
      "100%|██████████████████████████████████████████████████████████████████| 704/704 [00:21<00:00, 32.66it/s]\n"
     ]
    },
    {
     "name": "stdout",
     "output_type": "stream",
     "text": [
      "Epoch: 160 - TrainRecLoss: nan - ValidRecLoss: nan\n",
      "Epoch: 160 - TrainDivLoss: nan - ValidDivLoss: nan\n"
     ]
    },
    {
     "name": "stderr",
     "output_type": "stream",
     "text": [
      "100%|██████████████████████████████████████████████████████████████████| 704/704 [01:07<00:00, 10.38it/s]\n",
      "100%|██████████████████████████████████████████████████████████████████| 704/704 [00:21<00:00, 32.74it/s]\n"
     ]
    },
    {
     "name": "stdout",
     "output_type": "stream",
     "text": [
      "Epoch: 161 - TrainRecLoss: nan - ValidRecLoss: nan\n",
      "Epoch: 161 - TrainDivLoss: nan - ValidDivLoss: nan\n"
     ]
    },
    {
     "name": "stderr",
     "output_type": "stream",
     "text": [
      "100%|██████████████████████████████████████████████████████████████████| 704/704 [01:07<00:00, 10.38it/s]\n",
      "100%|██████████████████████████████████████████████████████████████████| 704/704 [00:21<00:00, 32.68it/s]\n"
     ]
    },
    {
     "name": "stdout",
     "output_type": "stream",
     "text": [
      "Epoch: 162 - TrainRecLoss: nan - ValidRecLoss: nan\n",
      "Epoch: 162 - TrainDivLoss: nan - ValidDivLoss: nan\n"
     ]
    },
    {
     "name": "stderr",
     "output_type": "stream",
     "text": [
      "100%|██████████████████████████████████████████████████████████████████| 704/704 [01:07<00:00, 10.38it/s]\n",
      "100%|██████████████████████████████████████████████████████████████████| 704/704 [00:21<00:00, 32.67it/s]\n"
     ]
    },
    {
     "name": "stdout",
     "output_type": "stream",
     "text": [
      "Epoch: 163 - TrainRecLoss: nan - ValidRecLoss: nan\n",
      "Epoch: 163 - TrainDivLoss: nan - ValidDivLoss: nan\n"
     ]
    },
    {
     "name": "stderr",
     "output_type": "stream",
     "text": [
      "100%|██████████████████████████████████████████████████████████████████| 704/704 [01:07<00:00, 10.39it/s]\n",
      "100%|██████████████████████████████████████████████████████████████████| 704/704 [00:21<00:00, 32.64it/s]\n"
     ]
    },
    {
     "name": "stdout",
     "output_type": "stream",
     "text": [
      "Epoch: 164 - TrainRecLoss: nan - ValidRecLoss: nan\n",
      "Epoch: 164 - TrainDivLoss: nan - ValidDivLoss: nan\n"
     ]
    },
    {
     "name": "stderr",
     "output_type": "stream",
     "text": [
      "100%|██████████████████████████████████████████████████████████████████| 704/704 [01:07<00:00, 10.38it/s]\n",
      "100%|██████████████████████████████████████████████████████████████████| 704/704 [00:21<00:00, 32.69it/s]\n"
     ]
    },
    {
     "name": "stdout",
     "output_type": "stream",
     "text": [
      "Epoch: 165 - TrainRecLoss: nan - ValidRecLoss: nan\n",
      "Epoch: 165 - TrainDivLoss: nan - ValidDivLoss: nan\n"
     ]
    },
    {
     "name": "stderr",
     "output_type": "stream",
     "text": [
      "100%|██████████████████████████████████████████████████████████████████| 704/704 [01:07<00:00, 10.38it/s]\n",
      "100%|██████████████████████████████████████████████████████████████████| 704/704 [00:21<00:00, 32.72it/s]\n"
     ]
    },
    {
     "name": "stdout",
     "output_type": "stream",
     "text": [
      "Epoch: 166 - TrainRecLoss: nan - ValidRecLoss: nan\n",
      "Epoch: 166 - TrainDivLoss: nan - ValidDivLoss: nan\n"
     ]
    },
    {
     "name": "stderr",
     "output_type": "stream",
     "text": [
      "100%|██████████████████████████████████████████████████████████████████| 704/704 [01:07<00:00, 10.38it/s]\n",
      "100%|██████████████████████████████████████████████████████████████████| 704/704 [00:21<00:00, 32.65it/s]\n"
     ]
    },
    {
     "name": "stdout",
     "output_type": "stream",
     "text": [
      "Epoch: 167 - TrainRecLoss: nan - ValidRecLoss: nan\n",
      "Epoch: 167 - TrainDivLoss: nan - ValidDivLoss: nan\n"
     ]
    },
    {
     "name": "stderr",
     "output_type": "stream",
     "text": [
      "100%|██████████████████████████████████████████████████████████████████| 704/704 [01:07<00:00, 10.39it/s]\n",
      "100%|██████████████████████████████████████████████████████████████████| 704/704 [00:21<00:00, 32.70it/s]\n"
     ]
    },
    {
     "name": "stdout",
     "output_type": "stream",
     "text": [
      "Epoch: 168 - TrainRecLoss: nan - ValidRecLoss: nan\n",
      "Epoch: 168 - TrainDivLoss: nan - ValidDivLoss: nan\n"
     ]
    },
    {
     "name": "stderr",
     "output_type": "stream",
     "text": [
      "100%|██████████████████████████████████████████████████████████████████| 704/704 [01:07<00:00, 10.38it/s]\n",
      "100%|██████████████████████████████████████████████████████████████████| 704/704 [00:21<00:00, 32.71it/s]\n"
     ]
    },
    {
     "name": "stdout",
     "output_type": "stream",
     "text": [
      "Epoch: 169 - TrainRecLoss: nan - ValidRecLoss: nan\n",
      "Epoch: 169 - TrainDivLoss: nan - ValidDivLoss: nan\n"
     ]
    },
    {
     "name": "stderr",
     "output_type": "stream",
     "text": [
      "100%|██████████████████████████████████████████████████████████████████| 704/704 [01:07<00:00, 10.38it/s]\n",
      "100%|██████████████████████████████████████████████████████████████████| 704/704 [00:21<00:00, 32.68it/s]\n"
     ]
    },
    {
     "name": "stdout",
     "output_type": "stream",
     "text": [
      "Epoch: 170 - TrainRecLoss: nan - ValidRecLoss: nan\n",
      "Epoch: 170 - TrainDivLoss: nan - ValidDivLoss: nan\n"
     ]
    },
    {
     "name": "stderr",
     "output_type": "stream",
     "text": [
      "100%|██████████████████████████████████████████████████████████████████| 704/704 [01:07<00:00, 10.37it/s]\n",
      "100%|██████████████████████████████████████████████████████████████████| 704/704 [00:21<00:00, 32.70it/s]\n"
     ]
    },
    {
     "name": "stdout",
     "output_type": "stream",
     "text": [
      "Epoch: 171 - TrainRecLoss: nan - ValidRecLoss: nan\n",
      "Epoch: 171 - TrainDivLoss: nan - ValidDivLoss: nan\n"
     ]
    },
    {
     "name": "stderr",
     "output_type": "stream",
     "text": [
      "100%|██████████████████████████████████████████████████████████████████| 704/704 [01:07<00:00, 10.39it/s]\n",
      "100%|██████████████████████████████████████████████████████████████████| 704/704 [00:21<00:00, 32.63it/s]\n"
     ]
    },
    {
     "name": "stdout",
     "output_type": "stream",
     "text": [
      "Epoch: 172 - TrainRecLoss: nan - ValidRecLoss: nan\n",
      "Epoch: 172 - TrainDivLoss: nan - ValidDivLoss: nan\n"
     ]
    },
    {
     "name": "stderr",
     "output_type": "stream",
     "text": [
      "100%|██████████████████████████████████████████████████████████████████| 704/704 [01:07<00:00, 10.38it/s]\n",
      "100%|██████████████████████████████████████████████████████████████████| 704/704 [00:21<00:00, 32.71it/s]\n"
     ]
    },
    {
     "name": "stdout",
     "output_type": "stream",
     "text": [
      "Epoch: 173 - TrainRecLoss: nan - ValidRecLoss: nan\n",
      "Epoch: 173 - TrainDivLoss: nan - ValidDivLoss: nan\n"
     ]
    },
    {
     "name": "stderr",
     "output_type": "stream",
     "text": [
      "100%|██████████████████████████████████████████████████████████████████| 704/704 [01:07<00:00, 10.38it/s]\n",
      "100%|██████████████████████████████████████████████████████████████████| 704/704 [00:21<00:00, 32.67it/s]\n"
     ]
    },
    {
     "name": "stdout",
     "output_type": "stream",
     "text": [
      "Epoch: 174 - TrainRecLoss: nan - ValidRecLoss: nan\n",
      "Epoch: 174 - TrainDivLoss: nan - ValidDivLoss: nan\n"
     ]
    },
    {
     "name": "stderr",
     "output_type": "stream",
     "text": [
      "100%|██████████████████████████████████████████████████████████████████| 704/704 [01:07<00:00, 10.39it/s]\n",
      "100%|██████████████████████████████████████████████████████████████████| 704/704 [00:21<00:00, 32.67it/s]\n"
     ]
    },
    {
     "name": "stdout",
     "output_type": "stream",
     "text": [
      "Epoch: 175 - TrainRecLoss: nan - ValidRecLoss: nan\n",
      "Epoch: 175 - TrainDivLoss: nan - ValidDivLoss: nan\n"
     ]
    },
    {
     "name": "stderr",
     "output_type": "stream",
     "text": [
      "100%|██████████████████████████████████████████████████████████████████| 704/704 [01:07<00:00, 10.38it/s]\n",
      "100%|██████████████████████████████████████████████████████████████████| 704/704 [00:21<00:00, 32.73it/s]\n"
     ]
    },
    {
     "name": "stdout",
     "output_type": "stream",
     "text": [
      "Epoch: 176 - TrainRecLoss: nan - ValidRecLoss: nan\n",
      "Epoch: 176 - TrainDivLoss: nan - ValidDivLoss: nan\n"
     ]
    },
    {
     "name": "stderr",
     "output_type": "stream",
     "text": [
      "100%|██████████████████████████████████████████████████████████████████| 704/704 [01:07<00:00, 10.38it/s]\n",
      "100%|██████████████████████████████████████████████████████████████████| 704/704 [00:21<00:00, 32.68it/s]\n"
     ]
    },
    {
     "name": "stdout",
     "output_type": "stream",
     "text": [
      "Epoch: 177 - TrainRecLoss: nan - ValidRecLoss: nan\n",
      "Epoch: 177 - TrainDivLoss: nan - ValidDivLoss: nan\n"
     ]
    },
    {
     "name": "stderr",
     "output_type": "stream",
     "text": [
      "100%|██████████████████████████████████████████████████████████████████| 704/704 [01:07<00:00, 10.38it/s]\n",
      "100%|██████████████████████████████████████████████████████████████████| 704/704 [00:21<00:00, 32.64it/s]\n"
     ]
    },
    {
     "name": "stdout",
     "output_type": "stream",
     "text": [
      "Epoch: 178 - TrainRecLoss: nan - ValidRecLoss: nan\n",
      "Epoch: 178 - TrainDivLoss: nan - ValidDivLoss: nan\n"
     ]
    },
    {
     "name": "stderr",
     "output_type": "stream",
     "text": [
      "100%|██████████████████████████████████████████████████████████████████| 704/704 [01:07<00:00, 10.38it/s]\n",
      "100%|██████████████████████████████████████████████████████████████████| 704/704 [00:21<00:00, 32.68it/s]\n"
     ]
    },
    {
     "name": "stdout",
     "output_type": "stream",
     "text": [
      "Epoch: 179 - TrainRecLoss: nan - ValidRecLoss: nan\n",
      "Epoch: 179 - TrainDivLoss: nan - ValidDivLoss: nan\n"
     ]
    },
    {
     "name": "stderr",
     "output_type": "stream",
     "text": [
      "100%|██████████████████████████████████████████████████████████████████| 704/704 [01:07<00:00, 10.38it/s]\n",
      "100%|██████████████████████████████████████████████████████████████████| 704/704 [00:21<00:00, 32.72it/s]\n"
     ]
    },
    {
     "name": "stdout",
     "output_type": "stream",
     "text": [
      "Epoch: 180 - TrainRecLoss: nan - ValidRecLoss: nan\n",
      "Epoch: 180 - TrainDivLoss: nan - ValidDivLoss: nan\n"
     ]
    },
    {
     "name": "stderr",
     "output_type": "stream",
     "text": [
      "100%|██████████████████████████████████████████████████████████████████| 704/704 [01:07<00:00, 10.39it/s]\n",
      "100%|██████████████████████████████████████████████████████████████████| 704/704 [00:21<00:00, 32.62it/s]\n"
     ]
    },
    {
     "name": "stdout",
     "output_type": "stream",
     "text": [
      "Epoch: 181 - TrainRecLoss: nan - ValidRecLoss: nan\n",
      "Epoch: 181 - TrainDivLoss: nan - ValidDivLoss: nan\n"
     ]
    },
    {
     "name": "stderr",
     "output_type": "stream",
     "text": [
      "100%|██████████████████████████████████████████████████████████████████| 704/704 [01:07<00:00, 10.39it/s]\n",
      "100%|██████████████████████████████████████████████████████████████████| 704/704 [00:21<00:00, 32.64it/s]\n"
     ]
    },
    {
     "name": "stdout",
     "output_type": "stream",
     "text": [
      "Epoch: 182 - TrainRecLoss: nan - ValidRecLoss: nan\n",
      "Epoch: 182 - TrainDivLoss: nan - ValidDivLoss: nan\n"
     ]
    },
    {
     "name": "stderr",
     "output_type": "stream",
     "text": [
      "100%|██████████████████████████████████████████████████████████████████| 704/704 [01:07<00:00, 10.38it/s]\n",
      "100%|██████████████████████████████████████████████████████████████████| 704/704 [00:21<00:00, 32.70it/s]\n"
     ]
    },
    {
     "name": "stdout",
     "output_type": "stream",
     "text": [
      "Epoch: 183 - TrainRecLoss: nan - ValidRecLoss: nan\n",
      "Epoch: 183 - TrainDivLoss: nan - ValidDivLoss: nan\n"
     ]
    },
    {
     "name": "stderr",
     "output_type": "stream",
     "text": [
      "100%|██████████████████████████████████████████████████████████████████| 704/704 [01:07<00:00, 10.37it/s]\n",
      "100%|██████████████████████████████████████████████████████████████████| 704/704 [00:21<00:00, 32.58it/s]\n"
     ]
    },
    {
     "name": "stdout",
     "output_type": "stream",
     "text": [
      "Epoch: 184 - TrainRecLoss: nan - ValidRecLoss: nan\n",
      "Epoch: 184 - TrainDivLoss: nan - ValidDivLoss: nan\n"
     ]
    },
    {
     "name": "stderr",
     "output_type": "stream",
     "text": [
      "100%|██████████████████████████████████████████████████████████████████| 704/704 [01:07<00:00, 10.38it/s]\n",
      "100%|██████████████████████████████████████████████████████████████████| 704/704 [00:21<00:00, 32.64it/s]\n"
     ]
    },
    {
     "name": "stdout",
     "output_type": "stream",
     "text": [
      "Epoch: 185 - TrainRecLoss: nan - ValidRecLoss: nan\n",
      "Epoch: 185 - TrainDivLoss: nan - ValidDivLoss: nan\n"
     ]
    },
    {
     "name": "stderr",
     "output_type": "stream",
     "text": [
      "100%|██████████████████████████████████████████████████████████████████| 704/704 [01:07<00:00, 10.38it/s]\n",
      "100%|██████████████████████████████████████████████████████████████████| 704/704 [00:21<00:00, 32.71it/s]\n"
     ]
    },
    {
     "name": "stdout",
     "output_type": "stream",
     "text": [
      "Epoch: 186 - TrainRecLoss: nan - ValidRecLoss: nan\n",
      "Epoch: 186 - TrainDivLoss: nan - ValidDivLoss: nan\n"
     ]
    },
    {
     "name": "stderr",
     "output_type": "stream",
     "text": [
      "100%|██████████████████████████████████████████████████████████████████| 704/704 [01:07<00:00, 10.39it/s]\n",
      "100%|██████████████████████████████████████████████████████████████████| 704/704 [00:21<00:00, 32.73it/s]\n"
     ]
    },
    {
     "name": "stdout",
     "output_type": "stream",
     "text": [
      "Epoch: 187 - TrainRecLoss: nan - ValidRecLoss: nan\n",
      "Epoch: 187 - TrainDivLoss: nan - ValidDivLoss: nan\n"
     ]
    },
    {
     "name": "stderr",
     "output_type": "stream",
     "text": [
      "100%|██████████████████████████████████████████████████████████████████| 704/704 [01:07<00:00, 10.38it/s]\n",
      "100%|██████████████████████████████████████████████████████████████████| 704/704 [00:21<00:00, 32.69it/s]\n"
     ]
    },
    {
     "name": "stdout",
     "output_type": "stream",
     "text": [
      "Epoch: 188 - TrainRecLoss: nan - ValidRecLoss: nan\n",
      "Epoch: 188 - TrainDivLoss: nan - ValidDivLoss: nan\n"
     ]
    },
    {
     "name": "stderr",
     "output_type": "stream",
     "text": [
      "100%|██████████████████████████████████████████████████████████████████| 704/704 [01:07<00:00, 10.39it/s]\n",
      "100%|██████████████████████████████████████████████████████████████████| 704/704 [00:21<00:00, 32.54it/s]\n"
     ]
    },
    {
     "name": "stdout",
     "output_type": "stream",
     "text": [
      "Epoch: 189 - TrainRecLoss: nan - ValidRecLoss: nan\n",
      "Epoch: 189 - TrainDivLoss: nan - ValidDivLoss: nan\n"
     ]
    },
    {
     "name": "stderr",
     "output_type": "stream",
     "text": [
      "100%|██████████████████████████████████████████████████████████████████| 704/704 [01:07<00:00, 10.39it/s]\n",
      "100%|██████████████████████████████████████████████████████████████████| 704/704 [00:21<00:00, 32.70it/s]\n"
     ]
    },
    {
     "name": "stdout",
     "output_type": "stream",
     "text": [
      "Epoch: 190 - TrainRecLoss: nan - ValidRecLoss: nan\n",
      "Epoch: 190 - TrainDivLoss: nan - ValidDivLoss: nan\n"
     ]
    },
    {
     "name": "stderr",
     "output_type": "stream",
     "text": [
      "100%|██████████████████████████████████████████████████████████████████| 704/704 [01:07<00:00, 10.37it/s]\n",
      "100%|██████████████████████████████████████████████████████████████████| 704/704 [00:21<00:00, 32.71it/s]\n"
     ]
    },
    {
     "name": "stdout",
     "output_type": "stream",
     "text": [
      "Epoch: 191 - TrainRecLoss: nan - ValidRecLoss: nan\n",
      "Epoch: 191 - TrainDivLoss: nan - ValidDivLoss: nan\n"
     ]
    },
    {
     "name": "stderr",
     "output_type": "stream",
     "text": [
      "100%|██████████████████████████████████████████████████████████████████| 704/704 [01:07<00:00, 10.38it/s]\n",
      "100%|██████████████████████████████████████████████████████████████████| 704/704 [00:21<00:00, 32.67it/s]\n"
     ]
    },
    {
     "name": "stdout",
     "output_type": "stream",
     "text": [
      "Epoch: 192 - TrainRecLoss: nan - ValidRecLoss: nan\n",
      "Epoch: 192 - TrainDivLoss: nan - ValidDivLoss: nan\n"
     ]
    },
    {
     "name": "stderr",
     "output_type": "stream",
     "text": [
      "100%|██████████████████████████████████████████████████████████████████| 704/704 [01:07<00:00, 10.38it/s]\n",
      "100%|██████████████████████████████████████████████████████████████████| 704/704 [00:21<00:00, 32.64it/s]\n"
     ]
    },
    {
     "name": "stdout",
     "output_type": "stream",
     "text": [
      "Epoch: 193 - TrainRecLoss: nan - ValidRecLoss: nan\n",
      "Epoch: 193 - TrainDivLoss: nan - ValidDivLoss: nan\n"
     ]
    },
    {
     "name": "stderr",
     "output_type": "stream",
     "text": [
      "100%|██████████████████████████████████████████████████████████████████| 704/704 [01:07<00:00, 10.38it/s]\n",
      "100%|██████████████████████████████████████████████████████████████████| 704/704 [00:21<00:00, 32.67it/s]\n"
     ]
    },
    {
     "name": "stdout",
     "output_type": "stream",
     "text": [
      "Epoch: 194 - TrainRecLoss: nan - ValidRecLoss: nan\n",
      "Epoch: 194 - TrainDivLoss: nan - ValidDivLoss: nan\n"
     ]
    },
    {
     "name": "stderr",
     "output_type": "stream",
     "text": [
      "100%|██████████████████████████████████████████████████████████████████| 704/704 [01:07<00:00, 10.38it/s]\n",
      "100%|██████████████████████████████████████████████████████████████████| 704/704 [00:21<00:00, 32.61it/s]\n"
     ]
    },
    {
     "name": "stdout",
     "output_type": "stream",
     "text": [
      "Epoch: 195 - TrainRecLoss: nan - ValidRecLoss: nan\n",
      "Epoch: 195 - TrainDivLoss: nan - ValidDivLoss: nan\n"
     ]
    },
    {
     "name": "stderr",
     "output_type": "stream",
     "text": [
      "100%|██████████████████████████████████████████████████████████████████| 704/704 [01:07<00:00, 10.38it/s]\n",
      "100%|██████████████████████████████████████████████████████████████████| 704/704 [00:21<00:00, 32.70it/s]\n"
     ]
    },
    {
     "name": "stdout",
     "output_type": "stream",
     "text": [
      "Epoch: 196 - TrainRecLoss: nan - ValidRecLoss: nan\n",
      "Epoch: 196 - TrainDivLoss: nan - ValidDivLoss: nan\n"
     ]
    },
    {
     "name": "stderr",
     "output_type": "stream",
     "text": [
      "100%|██████████████████████████████████████████████████████████████████| 704/704 [01:07<00:00, 10.39it/s]\n",
      "100%|██████████████████████████████████████████████████████████████████| 704/704 [00:21<00:00, 32.71it/s]\n"
     ]
    },
    {
     "name": "stdout",
     "output_type": "stream",
     "text": [
      "Epoch: 197 - TrainRecLoss: nan - ValidRecLoss: nan\n",
      "Epoch: 197 - TrainDivLoss: nan - ValidDivLoss: nan\n"
     ]
    },
    {
     "name": "stderr",
     "output_type": "stream",
     "text": [
      "100%|██████████████████████████████████████████████████████████████████| 704/704 [01:07<00:00, 10.38it/s]\n",
      "100%|██████████████████████████████████████████████████████████████████| 704/704 [00:21<00:00, 32.71it/s]\n"
     ]
    },
    {
     "name": "stdout",
     "output_type": "stream",
     "text": [
      "Epoch: 198 - TrainRecLoss: nan - ValidRecLoss: nan\n",
      "Epoch: 198 - TrainDivLoss: nan - ValidDivLoss: nan\n"
     ]
    },
    {
     "name": "stderr",
     "output_type": "stream",
     "text": [
      "100%|██████████████████████████████████████████████████████████████████| 704/704 [01:07<00:00, 10.38it/s]\n",
      "100%|██████████████████████████████████████████████████████████████████| 704/704 [00:21<00:00, 32.65it/s]"
     ]
    },
    {
     "name": "stdout",
     "output_type": "stream",
     "text": [
      "Epoch: 199 - TrainRecLoss: nan - ValidRecLoss: nan\n",
      "Epoch: 199 - TrainDivLoss: nan - ValidDivLoss: nan\n"
     ]
    },
    {
     "name": "stderr",
     "output_type": "stream",
     "text": [
      "\n"
     ]
    }
   ],
   "source": [
    "for epoch in range(epochs):\n",
    "    model.train()\n",
    "    tr_total_loss = {\n",
    "        \"rec_loss\" : 0,\n",
    "        \"kl_loss\" : 0\n",
    "    }\n",
    "    for train_img, _ in tqdm(train_dl):\n",
    "        train_img = train_img.to(device)\n",
    "\n",
    "        gen_img, train_mu, train_lv = model(train_img)\n",
    "        train_rec_loss = loss_fn(gen_img, train_img)\n",
    "        train_kl_loss = gaussian_kls(train_mu, train_lv)\n",
    "        train_loss = train_rec_loss + train_kl_loss\n",
    "\n",
    "        optimizer.zero_grad()\n",
    "        train_loss.backward()\n",
    "        optimizer.step()\n",
    "\n",
    "        scheduler.step()\n",
    "\n",
    "        tr_total_loss[\"rec_loss\"] += train_rec_loss.item()\n",
    "        tr_total_loss[\"kl_loss\"] += train_kl_loss.item()\n",
    "\n",
    "    model.eval()\n",
    "    with torch.no_grad():\n",
    "        va_total_loss = {\n",
    "            \"rec_loss\" : 0,\n",
    "            \"kl_loss\" : 0\n",
    "        }\n",
    "        for valid_img, _ in tqdm(valid_dl):\n",
    "            valid_img = valid_img.to(device)\n",
    "\n",
    "            gen_img, valid_mu, valid_lv = model(valid_img)\n",
    "            valid_rec_loss = loss_fn(gen_img, valid_img)\n",
    "            valid_kl_loss = gaussian_kls(valid_mu, valid_lv)\n",
    "            valid_loss = valid_rec_loss + valid_kl_loss\n",
    "\n",
    "            va_total_loss[\"rec_loss\"] += valid_rec_loss.item()\n",
    "            va_total_loss[\"kl_loss\"] += valid_kl_loss.item()\n",
    "\n",
    "    print(f\"Epoch: {epoch} - TrainRecLoss: {tr_total_loss['rec_loss']/len(train_dl)} - ValidRecLoss: {va_total_loss['rec_loss']/len(valid_dl)}\")\n",
    "    print(f\"Epoch: {epoch} - TrainDivLoss: {tr_total_loss['kl_loss']/len(train_dl)} - ValidDivLoss: {va_total_loss['kl_loss']/len(valid_dl)}\")"
   ]
  },
  {
   "cell_type": "code",
   "execution_count": 8,
   "id": "5a3d3829-28ad-428d-9b5d-996908d90c2f",
   "metadata": {
    "execution": {
     "iopub.execute_input": "2023-12-21T17:18:02.442452Z",
     "iopub.status.busy": "2023-12-21T17:18:02.442288Z",
     "iopub.status.idle": "2023-12-21T17:18:24.002359Z",
     "shell.execute_reply": "2023-12-21T17:18:24.001932Z"
    }
   },
   "outputs": [
    {
     "name": "stderr",
     "output_type": "stream",
     "text": [
      "100%|██████████████████████████████████████████████████████████████████| 704/704 [00:21<00:00, 32.66it/s]"
     ]
    },
    {
     "name": "stdout",
     "output_type": "stream",
     "text": [
      "TestRecLoss: nan\n",
      "TestDivLoss: nan\n"
     ]
    },
    {
     "name": "stderr",
     "output_type": "stream",
     "text": [
      "\n"
     ]
    }
   ],
   "source": [
    "model.eval()\n",
    "with torch.no_grad():\n",
    "    va_total_loss = {\n",
    "        \"rec_loss\" : 0,\n",
    "        \"kl_loss\" : 0\n",
    "    }\n",
    "    for valid_img, _ in tqdm(test_dl):\n",
    "        valid_img = valid_img.to(device)\n",
    "\n",
    "        gen_img, valid_mu, valid_lv = model(valid_img)\n",
    "        valid_rec_loss = loss_fn(gen_img, valid_img)\n",
    "        valid_kl_loss = gaussian_kls(valid_mu, valid_lv)\n",
    "        valid_loss = valid_rec_loss + valid_kl_loss\n",
    "\n",
    "        va_total_loss[\"rec_loss\"] += valid_rec_loss.item()\n",
    "        va_total_loss[\"kl_loss\"] += valid_kl_loss.item()\n",
    "\n",
    "print(f\"TestRecLoss: {va_total_loss['rec_loss']/len(valid_dl)}\")\n",
    "print(f\"TestDivLoss: {va_total_loss['kl_loss']/len(valid_dl)}\")"
   ]
  },
  {
   "cell_type": "code",
   "execution_count": 9,
   "id": "76f337f4-4f19-40d2-a663-e43132f051c6",
   "metadata": {
    "execution": {
     "iopub.execute_input": "2023-12-21T17:18:24.004060Z",
     "iopub.status.busy": "2023-12-21T17:18:24.003829Z",
     "iopub.status.idle": "2023-12-21T17:18:24.007185Z",
     "shell.execute_reply": "2023-12-21T17:18:24.006835Z"
    }
   },
   "outputs": [],
   "source": [
    "def show(imgs):\n",
    "    if not isinstance(imgs, list):\n",
    "        imgs = [imgs]\n",
    "    fig, axs = plt.subplots(ncols=len(imgs), squeeze=False, figsize=(40, 40))\n",
    "    for i, img in enumerate(imgs):\n",
    "        img = img.detach()\n",
    "        img = F.to_pil_image(img)\n",
    "        axs[0, i].imshow(np.asarray(img))\n",
    "        axs[0, i].set(xticklabels=[], yticklabels=[], xticks=[], yticks=[])"
   ]
  },
  {
   "cell_type": "code",
   "execution_count": 10,
   "id": "d42c0d61-6101-493a-85eb-05c272718da1",
   "metadata": {
    "execution": {
     "iopub.execute_input": "2023-12-21T17:18:24.008862Z",
     "iopub.status.busy": "2023-12-21T17:18:24.008360Z",
     "iopub.status.idle": "2023-12-21T17:18:25.797563Z",
     "shell.execute_reply": "2023-12-21T17:18:25.796941Z"
    }
   },
   "outputs": [
    {
     "data": {
      "image/png": "[encoded data removed]",
      "text/plain": [
       "<Figure size 4000x4000 with 1 Axes>"
      ]
     },
     "metadata": {},
     "output_type": "display_data"
    }
   ],
   "source": [
    "test_input, _ = next(iter(test_dl))\n",
    "test_input = test_input.to(device)\n",
    "\n",
    "# mean = [0.47889522, 0.47227842, 0.43047404]\n",
    "# std = [0.24205776, 0.23828046, 0.25874835]\n",
    "\n",
    "invnorm = transforms.Compose(\n",
    "    [\n",
    "        transforms.Normalize(mean = [0., 0., 0.], std = [1/0.24205776, 1/0.23828046, 1/0.25874835]),\n",
    "        transforms.Normalize(mean = [-0.47889522, -0.47227842, -0.43047404], std = [1., 1., 1.]),\n",
    "    ]\n",
    ")\n",
    "\n",
    "model.eval()\n",
    "with torch.no_grad():\n",
    "    recons, _, _ = model(test_input)\n",
    "\n",
    "    inv_recons = invnorm(recons)\n",
    "\n",
    "grid = make_grid(inv_recons)\n",
    "show(grid)"
   ]
  },
  {
   "cell_type": "code",
   "execution_count": 11,
   "id": "f19359e6-e431-4723-9fb4-583197bcf292",
   "metadata": {
    "execution": {
     "iopub.execute_input": "2023-12-21T17:18:25.799314Z",
     "iopub.status.busy": "2023-12-21T17:18:25.799186Z",
     "iopub.status.idle": "2023-12-21T17:18:26.880090Z",
     "shell.execute_reply": "2023-12-21T17:18:26.879483Z"
    }
   },
   "outputs": [
    {
     "data": {
      "image/png": "[encoded data removed]",
      "text/plain": [
       "<Figure size 4000x4000 with 1 Axes>"
      ]
     },
     "metadata": {},
     "output_type": "display_data"
    }
   ],
   "source": [
    "z = torch.randn(144, 512).to(device)\n",
    "\n",
    "samples = model.decoder(z)\n",
    "\n",
    "grid = make_grid(invnorm(samples), nrow=12)\n",
    "show(grid)"
   ]
  }
 ],
 "metadata": {
  "kernelspec": {
   "display_name": "Python 3 (ipykernel)",
   "language": "python",
   "name": "python3"
  },
  "language_info": {
   "codemirror_mode": {
    "name": "ipython",
    "version": 3
   },
   "file_extension": ".py",
   "mimetype": "text/x-python",
   "name": "python",
   "nbconvert_exporter": "python",
   "pygments_lexer": "ipython3",
   "version": "3.10.7"
  },
  "widgets": {
   "application/vnd.jupyter.widget-state+json": {
    "state": {},
    "version_major": 2,
    "version_minor": 0
   }
  }
 },
 "nbformat": 4,
 "nbformat_minor": 5
}
