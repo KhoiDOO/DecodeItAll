{
 "cells": [
  {
   "cell_type": "code",
   "execution_count": 1,
   "id": "b1197a52-f493-445a-87a0-3156b089bf73",
   "metadata": {},
   "outputs": [],
   "source": [
    "import torch\n",
    "from torch.nn.utils.rnn import pad_sequence\n",
    "from torch.utils.data import DataLoader\n",
    "import torch.nn as nn\n",
    "import torch.optim as optim\n",
    "import torch.nn.functional as F\n",
    "from torch import Tensor\n",
    "\n",
    "import torchtext\n",
    "from torchtext.data.utils import get_tokenizer\n",
    "from torchtext.vocab import vocab, Vocab\n",
    "from torchtext.utils import download_from_url, extract_archive\n",
    "\n",
    "import io\n",
    "from collections import Counter\n",
    "from tqdm import tqdm\n",
    "import random\n",
    "from typing import Tuple\n",
    "import math\n",
    "import time\n",
    "import copy"
   ]
  },
  {
   "cell_type": "code",
   "execution_count": 2,
   "id": "5b514265-ad79-49a5-90e1-33dcf77e5418",
   "metadata": {},
   "outputs": [],
   "source": [
    "url_base = 'https://raw.githubusercontent.com/multi30k/dataset/master/data/task1/raw/'\n",
    "train_urls = ('train.de.gz', 'train.en.gz')\n",
    "val_urls = ('val.de.gz', 'val.en.gz')\n",
    "test_urls = ('test_2016_flickr.de.gz', 'test_2016_flickr.en.gz')\n",
    "\n",
    "train_filepaths = [extract_archive(download_from_url(url_base + url))[0] for url in train_urls]\n",
    "val_filepaths = [extract_archive(download_from_url(url_base + url))[0] for url in val_urls]\n",
    "test_filepaths = [extract_archive(download_from_url(url_base + url))[0] for url in test_urls]"
   ]
  },
  {
   "cell_type": "code",
   "execution_count": 3,
   "id": "abdde7e0-2197-48c2-aa65-f9abb5d8259c",
   "metadata": {},
   "outputs": [],
   "source": [
    "de_tokenizer = get_tokenizer('spacy', language='de_core_news_sm')\n",
    "en_tokenizer = get_tokenizer('spacy', language='en_core_web_sm')"
   ]
  },
  {
   "cell_type": "code",
   "execution_count": 4,
   "id": "94faef3e-cf61-4886-aed1-3dff7c8e1f0b",
   "metadata": {},
   "outputs": [
    {
     "name": "stderr",
     "output_type": "stream",
     "text": [
      "29000it [00:01, 24210.07it/s]\n",
      "29000it [00:00, 35350.05it/s]\n"
     ]
    }
   ],
   "source": [
    "def build_vocab(filepath, tokenizer):\n",
    "    counter = Counter()\n",
    "    with io.open(filepath, encoding=\"utf8\") as f:\n",
    "        for string_ in tqdm(f):\n",
    "            counter.update(tokenizer(string_))\n",
    "    base_vocab = vocab(\n",
    "        ordered_dict = counter, \n",
    "        specials=['<unk>', '<pad>', '<bos>', '<eos>'],\n",
    "        min_freq = 2, \n",
    "    )\n",
    "    base_vocab.set_default_index(base_vocab['<unk>'])\n",
    "    return Vocab(base_vocab)\n",
    "\n",
    "de_vocab = build_vocab(train_filepaths[0], de_tokenizer)\n",
    "en_vocab = build_vocab(train_filepaths[1], en_tokenizer)"
   ]
  },
  {
   "cell_type": "code",
   "execution_count": 5,
   "id": "e9110987-d279-4386-aa1a-c2dee287749c",
   "metadata": {},
   "outputs": [
    {
     "name": "stdout",
     "output_type": "stream",
     "text": [
      "de_vocab type: <class 'torchtext.vocab.vocab.Vocab'>\n",
      "en_vocab type: <class 'torchtext.vocab.vocab.Vocab'>\n",
      "de_vocab length: 8015\n",
      "en_vocab length: 6192\n"
     ]
    }
   ],
   "source": [
    "print(f\"de_vocab type: {type(de_vocab)}\")\n",
    "print(f\"en_vocab type: {type(en_vocab)}\")\n",
    "\n",
    "print(f\"de_vocab length: {len(de_vocab)}\")\n",
    "print(f\"en_vocab length: {len(en_vocab)}\")"
   ]
  },
  {
   "cell_type": "code",
   "execution_count": 6,
   "id": "6c221cb3-bf8a-44a7-945d-e2955985da38",
   "metadata": {},
   "outputs": [
    {
     "name": "stderr",
     "output_type": "stream",
     "text": [
      "29000it [00:02, 12932.02it/s]\n",
      "1014it [00:00, 9664.14it/s]\n",
      "1000it [00:00, 10276.78it/s]\n"
     ]
    }
   ],
   "source": [
    "def data_process(filepaths):\n",
    "    raw_de_iter = iter(io.open(filepaths[0], encoding=\"utf8\"))\n",
    "    raw_en_iter = iter(io.open(filepaths[1], encoding=\"utf8\"))\n",
    "    data = []\n",
    "    for (raw_de, raw_en) in tqdm(zip(raw_de_iter, raw_en_iter)):\n",
    "        de_tensor_ = torch.tensor([de_vocab[token] for token in de_tokenizer(raw_de)], dtype=torch.long)\n",
    "        en_tensor_ = torch.tensor([en_vocab[token] for token in en_tokenizer(raw_en)], dtype=torch.long)\n",
    "        data.append((de_tensor_, en_tensor_))\n",
    "    \n",
    "    return data\n",
    "\n",
    "train_data = data_process(train_filepaths)\n",
    "val_data = data_process(val_filepaths)\n",
    "test_data = data_process(test_filepaths)"
   ]
  },
  {
   "cell_type": "code",
   "execution_count": 7,
   "id": "8dc90b6a-0676-423e-a831-7501d9c9458b",
   "metadata": {},
   "outputs": [
    {
     "name": "stdout",
     "output_type": "stream",
     "text": [
      "Train Data Type: <class 'list'>\n",
      "Val Data Type: <class 'list'>\n",
      "Test Data Type: <class 'list'>\n"
     ]
    }
   ],
   "source": [
    "print(f\"Train Data Type: {type(train_data)}\")\n",
    "print(f\"Val Data Type: {type(val_data)}\")\n",
    "print(f\"Test Data Type: {type(test_data)}\")"
   ]
  },
  {
   "cell_type": "code",
   "execution_count": 8,
   "id": "96288325-d448-40ef-8205-4da3160aeb17",
   "metadata": {},
   "outputs": [
    {
     "name": "stdout",
     "output_type": "stream",
     "text": [
      "#Training Samples: 29000\n",
      "#Validation Samples: 1014\n",
      "#Testing Samples: 1000\n"
     ]
    }
   ],
   "source": [
    "print(f\"#Training Samples: {len(train_data)}\")\n",
    "print(f\"#Validation Samples: {len(val_data)}\")\n",
    "print(f\"#Testing Samples: {len(test_data)}\")"
   ]
  },
  {
   "cell_type": "code",
   "execution_count": 9,
   "id": "a48bfdb1-b09e-462f-a685-d30bd9a55ae1",
   "metadata": {},
   "outputs": [],
   "source": [
    "BATCH_SIZE = 128\n",
    "PAD_IDX = de_vocab['<pad>']\n",
    "BOS_IDX = de_vocab['<bos>']\n",
    "EOS_IDX = de_vocab['<eos>']\n",
    "\n",
    "def generate_batch(data_batch):\n",
    "    de_batch, en_batch = [], []\n",
    "    for (de_item, en_item) in data_batch:\n",
    "        de_batch.append(torch.cat([torch.tensor([BOS_IDX]), de_item, torch.tensor([EOS_IDX])], dim=0))\n",
    "        en_batch.append(torch.cat([torch.tensor([BOS_IDX]), en_item, torch.tensor([EOS_IDX])], dim=0))\n",
    "    de_batch = pad_sequence(de_batch, padding_value=PAD_IDX)\n",
    "    en_batch = pad_sequence(en_batch, padding_value=PAD_IDX)\n",
    "    return de_batch, en_batch\n",
    "\n",
    "train_iter = DataLoader(train_data, batch_size=BATCH_SIZE, shuffle=True, collate_fn=generate_batch)\n",
    "valid_iter = DataLoader(val_data, batch_size=BATCH_SIZE, shuffle=True, collate_fn=generate_batch)\n",
    "test_iter = DataLoader(test_data, batch_size=BATCH_SIZE, shuffle=True, collate_fn=generate_batch)"
   ]
  },
  {
   "cell_type": "code",
   "execution_count": 10,
   "id": "5bffcb26-590a-456a-9f0f-3c0851ef810a",
   "metadata": {},
   "outputs": [
    {
     "name": "stdout",
     "output_type": "stream",
     "text": [
      "#Training Batches: 227\n",
      "#Validation Batches: 8\n",
      "#Testing Batches: 8\n"
     ]
    }
   ],
   "source": [
    "print(f\"#Training Batches: {len(train_iter)}\")\n",
    "print(f\"#Validation Batches: {len(valid_iter)}\")\n",
    "print(f\"#Testing Batches: {len(test_iter)}\")"
   ]
  },
  {
   "cell_type": "code",
   "execution_count": 11,
   "id": "4f52ff09-7b81-4116-b915-6822845dd433",
   "metadata": {},
   "outputs": [
    {
     "name": "stdout",
     "output_type": "stream",
     "text": [
      "torch.Size([27, 128])\n",
      "torch.Size([27, 128])\n"
     ]
    }
   ],
   "source": [
    "for sample_de, sample_en in train_iter:\n",
    "    print(sample_de.shape)\n",
    "    print(sample_en.shape)\n",
    "    break"
   ]
  },
  {
   "cell_type": "code",
   "execution_count": 12,
   "id": "172cff01-4385-4337-a0ec-42afd68a1503",
   "metadata": {},
   "outputs": [],
   "source": [
    "class Encoder(nn.Module):\n",
    "    def __init__(self, input_dim, emb_dim, hid_dim, n_layers, dropout):\n",
    "        super().__init__()\n",
    "        \n",
    "        self.hid_dim = hid_dim\n",
    "        self.n_layers = n_layers\n",
    "        \n",
    "        self.embedding = nn.Embedding(input_dim, emb_dim)\n",
    "        \n",
    "        self.rnn = nn.LSTM(emb_dim, hid_dim, n_layers, dropout = dropout)\n",
    "        \n",
    "        self.dropout = nn.Dropout(dropout)\n",
    "        \n",
    "    def forward(self, src):\n",
    "        \n",
    "        embedded = self.dropout(self.embedding(src))\n",
    "        \n",
    "        outputs, (hidden, cell) = self.rnn(embedded)\n",
    "        \n",
    "        return hidden, cell"
   ]
  },
  {
   "cell_type": "code",
   "execution_count": 13,
   "id": "bad44635-ceb4-4fca-b825-d85b807227f2",
   "metadata": {},
   "outputs": [],
   "source": [
    "class Decoder(nn.Module):\n",
    "    def __init__(self, output_dim, emb_dim, hid_dim, n_layers, dropout):\n",
    "        super().__init__()\n",
    "        \n",
    "        self.output_dim = output_dim\n",
    "        self.hid_dim = hid_dim\n",
    "        self.n_layers = n_layers\n",
    "        \n",
    "        self.embedding = nn.Embedding(output_dim, emb_dim)\n",
    "        \n",
    "        self.rnn = nn.LSTM(emb_dim, hid_dim, n_layers, dropout = dropout)\n",
    "        \n",
    "        self.fc_out = nn.Linear(hid_dim, output_dim)\n",
    "        \n",
    "        self.dropout = nn.Dropout(dropout)\n",
    "        \n",
    "    def forward(self, input, hidden, cell):\n",
    "        input = input.unsqueeze(0)\n",
    "        \n",
    "        embedded = self.dropout(self.embedding(input))        \n",
    "                \n",
    "        output, (hidden, cell) = self.rnn(embedded, (hidden, cell))\n",
    "        \n",
    "        prediction = self.fc_out(output.squeeze(0))\n",
    "        \n",
    "        return prediction, hidden, cell"
   ]
  },
  {
   "cell_type": "code",
   "execution_count": 14,
   "id": "bc9d43a8-946c-4b3e-9e22-e6be7a6ff33e",
   "metadata": {},
   "outputs": [],
   "source": [
    "class Seq2Seq(nn.Module):\n",
    "    def __init__(self, encoder, decoder, device):\n",
    "        super().__init__()\n",
    "        \n",
    "        self.encoder = encoder\n",
    "        self.decoder = decoder\n",
    "        self.device = device\n",
    "        \n",
    "        assert encoder.hid_dim == decoder.hid_dim, \\\n",
    "            \"Hidden dimensions of encoder and decoder must be equal!\"\n",
    "        assert encoder.n_layers == decoder.n_layers, \\\n",
    "            \"Encoder and decoder must have equal number of layers!\"\n",
    "        \n",
    "    def forward(self, src, trg, teacher_forcing_ratio = 0.5):       \n",
    "        \n",
    "        batch_size = trg.shape[1]\n",
    "        trg_len = trg.shape[0]\n",
    "        trg_vocab_size = self.decoder.output_dim\n",
    "        \n",
    "        outputs = torch.zeros(trg_len, batch_size, trg_vocab_size).to(self.device)\n",
    "        \n",
    "        hidden, cell = self.encoder(src)\n",
    "        \n",
    "        input = trg[0,:]\n",
    "        \n",
    "        for t in range(1, trg_len):\n",
    "            output, hidden, cell = self.decoder(input, hidden, cell)\n",
    "            \n",
    "            outputs[t] = output\n",
    "            \n",
    "            teacher_force = random.random() < teacher_forcing_ratio\n",
    "                    \n",
    "            top1 = output.argmax(1) \n",
    "            \n",
    "            input = trg[t] if teacher_force else top1\n",
    "        \n",
    "        return outputs\n",
    "    \n",
    "    def single_predict(self, src, max_len = 100):\n",
    "        if self.training:\n",
    "            self.training = False\n",
    "\n",
    "        print(src.shape)\n",
    "        hidden, cell = self.encoder(src)\n",
    "\n",
    "        input = copy.deepcopy(src[0, :])\n",
    "\n",
    "        outputs = []\n",
    "\n",
    "        while input.item() != EOS_IDX and len(outputs) < 100:\n",
    "            output, hidden, cell = self.decoder(input, hidden, cell)\n",
    "\n",
    "            input = output.argmax(1) \n",
    "\n",
    "            outputs.append(input.item())\n",
    "\n",
    "        return outputs"
   ]
  },
  {
   "cell_type": "code",
   "execution_count": 15,
   "id": "b8a3cdb5-f29c-419a-bda5-10f9ff623e6f",
   "metadata": {},
   "outputs": [],
   "source": [
    "INPUT_DIM = len(de_vocab)\n",
    "OUTPUT_DIM = len(en_vocab)\n",
    "ENC_EMB_DIM = 256\n",
    "DEC_EMB_DIM = 256\n",
    "HID_DIM = 512\n",
    "N_LAYERS = 2\n",
    "ENC_DROPOUT = 0.5\n",
    "DEC_DROPOUT = 0.5\n",
    "N_EPOCHS = 100\n",
    "\n",
    "device = torch.device('cuda' if torch.cuda.is_available() else 'cpu', index = 0)\n",
    "\n",
    "enc = Encoder(INPUT_DIM, ENC_EMB_DIM, HID_DIM, N_LAYERS, ENC_DROPOUT)\n",
    "dec = Decoder(OUTPUT_DIM, DEC_EMB_DIM, HID_DIM, N_LAYERS, DEC_DROPOUT)\n",
    "\n",
    "model = Seq2Seq(enc, dec, device).to(device)\n",
    "\n",
    "optimizer = optim.Adam(model.parameters())\n",
    "\n",
    "PAD_IDX = en_vocab['<pad>']\n",
    "\n",
    "criterion = nn.CrossEntropyLoss(ignore_index=PAD_IDX)"
   ]
  },
  {
   "cell_type": "code",
   "execution_count": 16,
   "id": "deb293a8-d73c-4cab-ad58-5ccc5917a704",
   "metadata": {},
   "outputs": [
    {
     "data": {
      "text/plain": [
       "Seq2Seq(\n",
       "  (encoder): Encoder(\n",
       "    (embedding): Embedding(8015, 256)\n",
       "    (rnn): LSTM(256, 512, num_layers=2, dropout=0.5)\n",
       "    (dropout): Dropout(p=0.5, inplace=False)\n",
       "  )\n",
       "  (decoder): Decoder(\n",
       "    (embedding): Embedding(6192, 256)\n",
       "    (rnn): LSTM(256, 512, num_layers=2, dropout=0.5)\n",
       "    (fc_out): Linear(in_features=512, out_features=6192, bias=True)\n",
       "    (dropout): Dropout(p=0.5, inplace=False)\n",
       "  )\n",
       ")"
      ]
     },
     "execution_count": 16,
     "metadata": {},
     "output_type": "execute_result"
    }
   ],
   "source": [
    "def init_weights(m):\n",
    "    for name, param in m.named_parameters():\n",
    "        nn.init.uniform_(param.data, -0.08, 0.08)\n",
    "        \n",
    "model.apply(init_weights)"
   ]
  },
  {
   "cell_type": "code",
   "execution_count": 17,
   "id": "4366585d-fc03-4f4b-b69b-bf0777726133",
   "metadata": {},
   "outputs": [
    {
     "name": "stdout",
     "output_type": "stream",
     "text": [
      "The model has 14,169,904 trainable parameters\n"
     ]
    }
   ],
   "source": [
    "def count_parameters(model):\n",
    "    return sum(p.numel() for p in model.parameters() if p.requires_grad)\n",
    "\n",
    "print(f'The model has {count_parameters(model):,} trainable parameters')"
   ]
  },
  {
   "cell_type": "code",
   "execution_count": 18,
   "id": "902bc0d0-8ee2-41b8-b53b-a2b5294a9b86",
   "metadata": {},
   "outputs": [
    {
     "name": "stderr",
     "output_type": "stream",
     "text": [
      "100%|██████████████████████████████████████████████████████████████████████| 227/227 [00:14<00:00, 15.53it/s]\n",
      "100%|██████████████████████████████████████████████████████████████████████████| 8/8 [00:00<00:00, 32.63it/s]\n"
     ]
    },
    {
     "name": "stdout",
     "output_type": "stream",
     "text": [
      "Epoch: 0 - Mean Train Loss: 4.913150900786143 - Mean Valid Loss: 4.89428174495697\n"
     ]
    },
    {
     "name": "stderr",
     "output_type": "stream",
     "text": [
      "100%|██████████████████████████████████████████████████████████████████████| 227/227 [00:14<00:00, 15.66it/s]\n",
      "100%|██████████████████████████████████████████████████████████████████████████| 8/8 [00:00<00:00, 31.58it/s]\n"
     ]
    },
    {
     "name": "stdout",
     "output_type": "stream",
     "text": [
      "Epoch: 1 - Mean Train Loss: 4.2851835977663555 - Mean Valid Loss: 4.597559452056885\n"
     ]
    },
    {
     "name": "stderr",
     "output_type": "stream",
     "text": [
      "100%|██████████████████████████████████████████████████████████████████████| 227/227 [00:14<00:00, 15.64it/s]\n",
      "100%|██████████████████████████████████████████████████████████████████████████| 8/8 [00:00<00:00, 32.22it/s]\n"
     ]
    },
    {
     "name": "stdout",
     "output_type": "stream",
     "text": [
      "Epoch: 2 - Mean Train Loss: 3.9325344404985203 - Mean Valid Loss: 4.441369473934174\n"
     ]
    },
    {
     "name": "stderr",
     "output_type": "stream",
     "text": [
      "100%|██████████████████████████████████████████████████████████████████████| 227/227 [00:14<00:00, 15.61it/s]\n",
      "100%|██████████████████████████████████████████████████████████████████████████| 8/8 [00:00<00:00, 31.86it/s]\n"
     ]
    },
    {
     "name": "stdout",
     "output_type": "stream",
     "text": [
      "Epoch: 3 - Mean Train Loss: 3.754130692208916 - Mean Valid Loss: 4.246088981628418\n"
     ]
    },
    {
     "name": "stderr",
     "output_type": "stream",
     "text": [
      "100%|██████████████████████████████████████████████████████████████████████| 227/227 [00:14<00:00, 15.59it/s]\n",
      "100%|██████████████████████████████████████████████████████████████████████████| 8/8 [00:00<00:00, 33.71it/s]\n"
     ]
    },
    {
     "name": "stdout",
     "output_type": "stream",
     "text": [
      "Epoch: 4 - Mean Train Loss: 3.5818571267148998 - Mean Valid Loss: 4.179526150226593\n"
     ]
    },
    {
     "name": "stderr",
     "output_type": "stream",
     "text": [
      "100%|██████████████████████████████████████████████████████████████████████| 227/227 [00:14<00:00, 15.45it/s]\n",
      "100%|██████████████████████████████████████████████████████████████████████████| 8/8 [00:00<00:00, 32.93it/s]\n"
     ]
    },
    {
     "name": "stdout",
     "output_type": "stream",
     "text": [
      "Epoch: 5 - Mean Train Loss: 3.4447159641114626 - Mean Valid Loss: 4.05039569735527\n"
     ]
    },
    {
     "name": "stderr",
     "output_type": "stream",
     "text": [
      "100%|██████████████████████████████████████████████████████████████████████| 227/227 [00:14<00:00, 15.42it/s]\n",
      "100%|██████████████████████████████████████████████████████████████████████████| 8/8 [00:00<00:00, 34.16it/s]\n"
     ]
    },
    {
     "name": "stdout",
     "output_type": "stream",
     "text": [
      "Epoch: 6 - Mean Train Loss: 3.331933914302204 - Mean Valid Loss: 4.0473567843437195\n"
     ]
    },
    {
     "name": "stderr",
     "output_type": "stream",
     "text": [
      "100%|██████████████████████████████████████████████████████████████████████| 227/227 [00:14<00:00, 15.50it/s]\n",
      "100%|██████████████████████████████████████████████████████████████████████████| 8/8 [00:00<00:00, 32.14it/s]\n"
     ]
    },
    {
     "name": "stdout",
     "output_type": "stream",
     "text": [
      "Epoch: 7 - Mean Train Loss: 3.212470124996706 - Mean Valid Loss: 3.9929239749908447\n"
     ]
    },
    {
     "name": "stderr",
     "output_type": "stream",
     "text": [
      "100%|██████████████████████████████████████████████████████████████████████| 227/227 [00:14<00:00, 15.46it/s]\n",
      "100%|██████████████████████████████████████████████████████████████████████████| 8/8 [00:00<00:00, 32.91it/s]\n"
     ]
    },
    {
     "name": "stdout",
     "output_type": "stream",
     "text": [
      "Epoch: 8 - Mean Train Loss: 3.0963029567365603 - Mean Valid Loss: 3.8764076828956604\n"
     ]
    },
    {
     "name": "stderr",
     "output_type": "stream",
     "text": [
      "100%|██████████████████████████████████████████████████████████████████████| 227/227 [00:14<00:00, 15.23it/s]\n",
      "100%|██████████████████████████████████████████████████████████████████████████| 8/8 [00:00<00:00, 33.18it/s]\n"
     ]
    },
    {
     "name": "stdout",
     "output_type": "stream",
     "text": [
      "Epoch: 9 - Mean Train Loss: 2.9854544711007946 - Mean Valid Loss: 3.841662436723709\n"
     ]
    },
    {
     "name": "stderr",
     "output_type": "stream",
     "text": [
      "100%|██████████████████████████████████████████████████████████████████████| 227/227 [00:14<00:00, 15.62it/s]\n",
      "100%|██████████████████████████████████████████████████████████████████████████| 8/8 [00:00<00:00, 33.25it/s]\n"
     ]
    },
    {
     "name": "stdout",
     "output_type": "stream",
     "text": [
      "Epoch: 10 - Mean Train Loss: 2.8889818223037382 - Mean Valid Loss: 3.8155685663223267\n"
     ]
    },
    {
     "name": "stderr",
     "output_type": "stream",
     "text": [
      "100%|██████████████████████████████████████████████████████████████████████| 227/227 [00:14<00:00, 15.58it/s]\n",
      "100%|██████████████████████████████████████████████████████████████████████████| 8/8 [00:00<00:00, 31.53it/s]\n"
     ]
    },
    {
     "name": "stdout",
     "output_type": "stream",
     "text": [
      "Epoch: 11 - Mean Train Loss: 2.782220235480086 - Mean Valid Loss: 3.870629161596298\n"
     ]
    },
    {
     "name": "stderr",
     "output_type": "stream",
     "text": [
      "100%|██████████████████████████████████████████████████████████████████████| 227/227 [00:14<00:00, 15.28it/s]\n",
      "100%|██████████████████████████████████████████████████████████████████████████| 8/8 [00:00<00:00, 31.69it/s]\n"
     ]
    },
    {
     "name": "stdout",
     "output_type": "stream",
     "text": [
      "Epoch: 12 - Mean Train Loss: 2.704104461333825 - Mean Valid Loss: 3.731717199087143\n"
     ]
    },
    {
     "name": "stderr",
     "output_type": "stream",
     "text": [
      "100%|██████████████████████████████████████████████████████████████████████| 227/227 [00:14<00:00, 15.43it/s]\n",
      "100%|██████████████████████████████████████████████████████████████████████████| 8/8 [00:00<00:00, 31.55it/s]\n"
     ]
    },
    {
     "name": "stdout",
     "output_type": "stream",
     "text": [
      "Epoch: 13 - Mean Train Loss: 2.60461786560025 - Mean Valid Loss: 3.729173421859741\n"
     ]
    },
    {
     "name": "stderr",
     "output_type": "stream",
     "text": [
      "100%|██████████████████████████████████████████████████████████████████████| 227/227 [00:14<00:00, 15.50it/s]\n",
      "100%|██████████████████████████████████████████████████████████████████████████| 8/8 [00:00<00:00, 32.71it/s]\n"
     ]
    },
    {
     "name": "stdout",
     "output_type": "stream",
     "text": [
      "Epoch: 14 - Mean Train Loss: 2.5450534326914647 - Mean Valid Loss: 3.712536245584488\n"
     ]
    },
    {
     "name": "stderr",
     "output_type": "stream",
     "text": [
      "100%|██████████████████████████████████████████████████████████████████████| 227/227 [00:14<00:00, 15.59it/s]\n",
      "100%|██████████████████████████████████████████████████████████████████████████| 8/8 [00:00<00:00, 30.92it/s]\n"
     ]
    },
    {
     "name": "stdout",
     "output_type": "stream",
     "text": [
      "Epoch: 15 - Mean Train Loss: 2.4470511354538838 - Mean Valid Loss: 3.7352353632450104\n"
     ]
    },
    {
     "name": "stderr",
     "output_type": "stream",
     "text": [
      "100%|██████████████████████████████████████████████████████████████████████| 227/227 [00:14<00:00, 15.74it/s]\n",
      "100%|██████████████████████████████████████████████████████████████████████████| 8/8 [00:00<00:00, 31.28it/s]\n"
     ]
    },
    {
     "name": "stdout",
     "output_type": "stream",
     "text": [
      "Epoch: 16 - Mean Train Loss: 2.3943967661668553 - Mean Valid Loss: 3.6583850979804993\n"
     ]
    },
    {
     "name": "stderr",
     "output_type": "stream",
     "text": [
      "100%|██████████████████████████████████████████████████████████████████████| 227/227 [00:14<00:00, 15.45it/s]\n",
      "100%|██████████████████████████████████████████████████████████████████████████| 8/8 [00:00<00:00, 33.96it/s]\n"
     ]
    },
    {
     "name": "stdout",
     "output_type": "stream",
     "text": [
      "Epoch: 17 - Mean Train Loss: 2.3401426560028007 - Mean Valid Loss: 3.607227861881256\n"
     ]
    },
    {
     "name": "stderr",
     "output_type": "stream",
     "text": [
      "100%|██████████████████████████████████████████████████████████████████████| 227/227 [00:14<00:00, 15.21it/s]\n",
      "100%|██████████████████████████████████████████████████████████████████████████| 8/8 [00:00<00:00, 33.87it/s]\n"
     ]
    },
    {
     "name": "stdout",
     "output_type": "stream",
     "text": [
      "Epoch: 18 - Mean Train Loss: 2.230250841195363 - Mean Valid Loss: 3.616761803627014\n"
     ]
    },
    {
     "name": "stderr",
     "output_type": "stream",
     "text": [
      "100%|██████████████████████████████████████████████████████████████████████| 227/227 [00:14<00:00, 15.38it/s]\n",
      "100%|██████████████████████████████████████████████████████████████████████████| 8/8 [00:00<00:00, 33.24it/s]\n"
     ]
    },
    {
     "name": "stdout",
     "output_type": "stream",
     "text": [
      "Epoch: 19 - Mean Train Loss: 2.2064762798174886 - Mean Valid Loss: 3.6757531464099884\n"
     ]
    },
    {
     "name": "stderr",
     "output_type": "stream",
     "text": [
      "100%|██████████████████████████████████████████████████████████████████████| 227/227 [00:14<00:00, 15.70it/s]\n",
      "100%|██████████████████████████████████████████████████████████████████████████| 8/8 [00:00<00:00, 33.85it/s]\n"
     ]
    },
    {
     "name": "stdout",
     "output_type": "stream",
     "text": [
      "Epoch: 20 - Mean Train Loss: 2.133227149820538 - Mean Valid Loss: 3.6990423798561096\n"
     ]
    },
    {
     "name": "stderr",
     "output_type": "stream",
     "text": [
      "100%|██████████████████████████████████████████████████████████████████████| 227/227 [00:14<00:00, 15.54it/s]\n",
      "100%|██████████████████████████████████████████████████████████████████████████| 8/8 [00:00<00:00, 30.95it/s]\n"
     ]
    },
    {
     "name": "stdout",
     "output_type": "stream",
     "text": [
      "Epoch: 21 - Mean Train Loss: 2.0678133906771956 - Mean Valid Loss: 3.6585184037685394\n"
     ]
    },
    {
     "name": "stderr",
     "output_type": "stream",
     "text": [
      "100%|██████████████████████████████████████████████████████████████████████| 227/227 [00:14<00:00, 15.47it/s]\n",
      "100%|██████████████████████████████████████████████████████████████████████████| 8/8 [00:00<00:00, 32.11it/s]\n"
     ]
    },
    {
     "name": "stdout",
     "output_type": "stream",
     "text": [
      "Epoch: 22 - Mean Train Loss: 2.015271686247267 - Mean Valid Loss: 3.718029111623764\n"
     ]
    },
    {
     "name": "stderr",
     "output_type": "stream",
     "text": [
      "100%|██████████████████████████████████████████████████████████████████████| 227/227 [00:14<00:00, 15.81it/s]\n",
      "100%|██████████████████████████████████████████████████████████████████████████| 8/8 [00:00<00:00, 33.53it/s]\n"
     ]
    },
    {
     "name": "stdout",
     "output_type": "stream",
     "text": [
      "Epoch: 23 - Mean Train Loss: 1.969142377639132 - Mean Valid Loss: 3.7700110971927643\n"
     ]
    },
    {
     "name": "stderr",
     "output_type": "stream",
     "text": [
      "100%|██████████████████████████████████████████████████████████████████████| 227/227 [00:14<00:00, 15.89it/s]\n",
      "100%|██████████████████████████████████████████████████████████████████████████| 8/8 [00:00<00:00, 32.52it/s]\n"
     ]
    },
    {
     "name": "stdout",
     "output_type": "stream",
     "text": [
      "Epoch: 24 - Mean Train Loss: 1.904567923314771 - Mean Valid Loss: 3.735703229904175\n"
     ]
    },
    {
     "name": "stderr",
     "output_type": "stream",
     "text": [
      "100%|██████████████████████████████████████████████████████████████████████| 227/227 [00:14<00:00, 15.39it/s]\n",
      "100%|██████████████████████████████████████████████████████████████████████████| 8/8 [00:00<00:00, 31.51it/s]\n"
     ]
    },
    {
     "name": "stdout",
     "output_type": "stream",
     "text": [
      "Epoch: 25 - Mean Train Loss: 1.8557771428566148 - Mean Valid Loss: 3.734908103942871\n"
     ]
    },
    {
     "name": "stderr",
     "output_type": "stream",
     "text": [
      "100%|██████████████████████████████████████████████████████████████████████| 227/227 [00:14<00:00, 15.52it/s]\n",
      "100%|██████████████████████████████████████████████████████████████████████████| 8/8 [00:00<00:00, 33.66it/s]\n"
     ]
    },
    {
     "name": "stdout",
     "output_type": "stream",
     "text": [
      "Epoch: 26 - Mean Train Loss: 1.8195312238474775 - Mean Valid Loss: 3.695535719394684\n"
     ]
    },
    {
     "name": "stderr",
     "output_type": "stream",
     "text": [
      "100%|██████████████████████████████████████████████████████████████████████| 227/227 [00:14<00:00, 15.96it/s]\n",
      "100%|██████████████████████████████████████████████████████████████████████████| 8/8 [00:00<00:00, 31.96it/s]\n"
     ]
    },
    {
     "name": "stdout",
     "output_type": "stream",
     "text": [
      "Epoch: 27 - Mean Train Loss: 1.7562556623887386 - Mean Valid Loss: 3.804613381624222\n"
     ]
    },
    {
     "name": "stderr",
     "output_type": "stream",
     "text": [
      "100%|██████████████████████████████████████████████████████████████████████| 227/227 [00:14<00:00, 15.24it/s]\n",
      "100%|██████████████████████████████████████████████████████████████████████████| 8/8 [00:00<00:00, 31.88it/s]\n"
     ]
    },
    {
     "name": "stdout",
     "output_type": "stream",
     "text": [
      "Epoch: 28 - Mean Train Loss: 1.7045644175113561 - Mean Valid Loss: 3.7980192601680756\n"
     ]
    },
    {
     "name": "stderr",
     "output_type": "stream",
     "text": [
      "100%|██████████████████████████████████████████████████████████████████████| 227/227 [00:14<00:00, 15.87it/s]\n",
      "100%|██████████████████████████████████████████████████████████████████████████| 8/8 [00:00<00:00, 33.08it/s]\n"
     ]
    },
    {
     "name": "stdout",
     "output_type": "stream",
     "text": [
      "Epoch: 29 - Mean Train Loss: 1.6794522071199796 - Mean Valid Loss: 3.7999314665794373\n"
     ]
    },
    {
     "name": "stderr",
     "output_type": "stream",
     "text": [
      "100%|██████████████████████████████████████████████████████████████████████| 227/227 [00:14<00:00, 15.45it/s]\n",
      "100%|██████████████████████████████████████████████████████████████████████████| 8/8 [00:00<00:00, 31.69it/s]\n"
     ]
    },
    {
     "name": "stdout",
     "output_type": "stream",
     "text": [
      "Epoch: 30 - Mean Train Loss: 1.6134008016880388 - Mean Valid Loss: 3.888736456632614\n"
     ]
    },
    {
     "name": "stderr",
     "output_type": "stream",
     "text": [
      "100%|██████████████████████████████████████████████████████████████████████| 227/227 [00:14<00:00, 15.59it/s]\n",
      "100%|██████████████████████████████████████████████████████████████████████████| 8/8 [00:00<00:00, 31.34it/s]\n"
     ]
    },
    {
     "name": "stdout",
     "output_type": "stream",
     "text": [
      "Epoch: 31 - Mean Train Loss: 1.5866785101953582 - Mean Valid Loss: 3.8688237369060516\n"
     ]
    },
    {
     "name": "stderr",
     "output_type": "stream",
     "text": [
      "100%|██████████████████████████████████████████████████████████████████████| 227/227 [00:14<00:00, 15.69it/s]\n",
      "100%|██████████████████████████████████████████████████████████████████████████| 8/8 [00:00<00:00, 31.82it/s]\n"
     ]
    },
    {
     "name": "stdout",
     "output_type": "stream",
     "text": [
      "Epoch: 32 - Mean Train Loss: 1.5586556374764127 - Mean Valid Loss: 3.8871260583400726\n"
     ]
    },
    {
     "name": "stderr",
     "output_type": "stream",
     "text": [
      "100%|██████████████████████████████████████████████████████████████████████| 227/227 [00:15<00:00, 15.03it/s]\n",
      "100%|██████████████████████████████████████████████████████████████████████████| 8/8 [00:00<00:00, 31.34it/s]\n"
     ]
    },
    {
     "name": "stdout",
     "output_type": "stream",
     "text": [
      "Epoch: 33 - Mean Train Loss: 1.4951223045718827 - Mean Valid Loss: 3.925633192062378\n"
     ]
    },
    {
     "name": "stderr",
     "output_type": "stream",
     "text": [
      "100%|██████████████████████████████████████████████████████████████████████| 227/227 [00:14<00:00, 15.22it/s]\n",
      "100%|██████████████████████████████████████████████████████████████████████████| 8/8 [00:00<00:00, 32.38it/s]\n"
     ]
    },
    {
     "name": "stdout",
     "output_type": "stream",
     "text": [
      "Epoch: 34 - Mean Train Loss: 1.4642884295417349 - Mean Valid Loss: 3.9402641355991364\n"
     ]
    },
    {
     "name": "stderr",
     "output_type": "stream",
     "text": [
      "100%|██████████████████████████████████████████████████████████████████████| 227/227 [00:14<00:00, 15.61it/s]\n",
      "100%|██████████████████████████████████████████████████████████████████████████| 8/8 [00:00<00:00, 31.62it/s]\n"
     ]
    },
    {
     "name": "stdout",
     "output_type": "stream",
     "text": [
      "Epoch: 35 - Mean Train Loss: 1.431064713368857 - Mean Valid Loss: 3.924244463443756\n"
     ]
    },
    {
     "name": "stderr",
     "output_type": "stream",
     "text": [
      "100%|██████████████████████████████████████████████████████████████████████| 227/227 [00:14<00:00, 15.52it/s]\n",
      "100%|██████████████████████████████████████████████████████████████████████████| 8/8 [00:00<00:00, 30.96it/s]\n"
     ]
    },
    {
     "name": "stdout",
     "output_type": "stream",
     "text": [
      "Epoch: 36 - Mean Train Loss: 1.367917984592757 - Mean Valid Loss: 4.050365895032883\n"
     ]
    },
    {
     "name": "stderr",
     "output_type": "stream",
     "text": [
      "100%|██████████████████████████████████████████████████████████████████████| 227/227 [00:14<00:00, 15.35it/s]\n",
      "100%|██████████████████████████████████████████████████████████████████████████| 8/8 [00:00<00:00, 34.38it/s]\n"
     ]
    },
    {
     "name": "stdout",
     "output_type": "stream",
     "text": [
      "Epoch: 37 - Mean Train Loss: 1.354247155168508 - Mean Valid Loss: 4.035813391208649\n"
     ]
    },
    {
     "name": "stderr",
     "output_type": "stream",
     "text": [
      "100%|██████████████████████████████████████████████████████████████████████| 227/227 [00:14<00:00, 15.29it/s]\n",
      "100%|██████████████████████████████████████████████████████████████████████████| 8/8 [00:00<00:00, 31.22it/s]\n"
     ]
    },
    {
     "name": "stdout",
     "output_type": "stream",
     "text": [
      "Epoch: 38 - Mean Train Loss: 1.3151357221183273 - Mean Valid Loss: 4.017041862010956\n"
     ]
    },
    {
     "name": "stderr",
     "output_type": "stream",
     "text": [
      "100%|██████████████████████████████████████████████████████████████████████| 227/227 [00:14<00:00, 15.35it/s]\n",
      "100%|██████████████████████████████████████████████████████████████████████████| 8/8 [00:00<00:00, 33.56it/s]\n"
     ]
    },
    {
     "name": "stdout",
     "output_type": "stream",
     "text": [
      "Epoch: 39 - Mean Train Loss: 1.2763897616432627 - Mean Valid Loss: 3.9982775151729584\n"
     ]
    },
    {
     "name": "stderr",
     "output_type": "stream",
     "text": [
      "100%|██████████████████████████████████████████████████████████████████████| 227/227 [00:14<00:00, 15.41it/s]\n",
      "100%|██████████████████████████████████████████████████████████████████████████| 8/8 [00:00<00:00, 31.91it/s]\n"
     ]
    },
    {
     "name": "stdout",
     "output_type": "stream",
     "text": [
      "Epoch: 40 - Mean Train Loss: 1.2547201298932147 - Mean Valid Loss: 4.129198402166367\n"
     ]
    },
    {
     "name": "stderr",
     "output_type": "stream",
     "text": [
      "100%|██████████████████████████████████████████████████████████████████████| 227/227 [00:14<00:00, 15.16it/s]\n",
      "100%|██████████████████████████████████████████████████████████████████████████| 8/8 [00:00<00:00, 34.26it/s]\n"
     ]
    },
    {
     "name": "stdout",
     "output_type": "stream",
     "text": [
      "Epoch: 41 - Mean Train Loss: 1.2049208288675888 - Mean Valid Loss: 4.144761919975281\n"
     ]
    },
    {
     "name": "stderr",
     "output_type": "stream",
     "text": [
      "100%|██████████████████████████████████████████████████████████████████████| 227/227 [00:14<00:00, 15.48it/s]\n",
      "100%|██████████████████████████████████████████████████████████████████████████| 8/8 [00:00<00:00, 32.03it/s]\n"
     ]
    },
    {
     "name": "stdout",
     "output_type": "stream",
     "text": [
      "Epoch: 42 - Mean Train Loss: 1.1979374066323436 - Mean Valid Loss: 4.143351137638092\n"
     ]
    },
    {
     "name": "stderr",
     "output_type": "stream",
     "text": [
      "100%|██████████████████████████████████████████████████████████████████████| 227/227 [00:14<00:00, 15.44it/s]\n",
      "100%|██████████████████████████████████████████████████████████████████████████| 8/8 [00:00<00:00, 32.85it/s]\n"
     ]
    },
    {
     "name": "stdout",
     "output_type": "stream",
     "text": [
      "Epoch: 43 - Mean Train Loss: 1.1427607344635782 - Mean Valid Loss: 4.257627010345459\n"
     ]
    },
    {
     "name": "stderr",
     "output_type": "stream",
     "text": [
      "100%|██████████████████████████████████████████████████████████████████████| 227/227 [00:14<00:00, 15.30it/s]\n",
      "100%|██████████████████████████████████████████████████████████████████████████| 8/8 [00:00<00:00, 33.41it/s]\n"
     ]
    },
    {
     "name": "stdout",
     "output_type": "stream",
     "text": [
      "Epoch: 44 - Mean Train Loss: 1.133662690675206 - Mean Valid Loss: 4.268932372331619\n"
     ]
    },
    {
     "name": "stderr",
     "output_type": "stream",
     "text": [
      "100%|██████████████████████████████████████████████████████████████████████| 227/227 [00:14<00:00, 15.35it/s]\n",
      "100%|██████████████████████████████████████████████████████████████████████████| 8/8 [00:00<00:00, 31.55it/s]\n"
     ]
    },
    {
     "name": "stdout",
     "output_type": "stream",
     "text": [
      "Epoch: 45 - Mean Train Loss: 1.0873020782344667 - Mean Valid Loss: 4.310432434082031\n"
     ]
    },
    {
     "name": "stderr",
     "output_type": "stream",
     "text": [
      "100%|██████████████████████████████████████████████████████████████████████| 227/227 [00:14<00:00, 15.73it/s]\n",
      "100%|██████████████████████████████████████████████████████████████████████████| 8/8 [00:00<00:00, 32.72it/s]\n"
     ]
    },
    {
     "name": "stdout",
     "output_type": "stream",
     "text": [
      "Epoch: 46 - Mean Train Loss: 1.0803241414645695 - Mean Valid Loss: 4.315974235534668\n"
     ]
    },
    {
     "name": "stderr",
     "output_type": "stream",
     "text": [
      "100%|██████████████████████████████████████████████████████████████████████| 227/227 [00:14<00:00, 15.55it/s]\n",
      "100%|██████████████████████████████████████████████████████████████████████████| 8/8 [00:00<00:00, 33.54it/s]\n"
     ]
    },
    {
     "name": "stdout",
     "output_type": "stream",
     "text": [
      "Epoch: 47 - Mean Train Loss: 1.0654362413851701 - Mean Valid Loss: 4.293097138404846\n"
     ]
    },
    {
     "name": "stderr",
     "output_type": "stream",
     "text": [
      "100%|██████████████████████████████████████████████████████████████████████| 227/227 [00:14<00:00, 15.35it/s]\n",
      "100%|██████████████████████████████████████████████████████████████████████████| 8/8 [00:00<00:00, 33.15it/s]\n"
     ]
    },
    {
     "name": "stdout",
     "output_type": "stream",
     "text": [
      "Epoch: 48 - Mean Train Loss: 1.0256278627769537 - Mean Valid Loss: 4.419122576713562\n"
     ]
    },
    {
     "name": "stderr",
     "output_type": "stream",
     "text": [
      "100%|██████████████████████████████████████████████████████████████████████| 227/227 [00:14<00:00, 15.29it/s]\n",
      "100%|██████████████████████████████████████████████████████████████████████████| 8/8 [00:00<00:00, 32.28it/s]\n"
     ]
    },
    {
     "name": "stdout",
     "output_type": "stream",
     "text": [
      "Epoch: 49 - Mean Train Loss: 0.9983480890416889 - Mean Valid Loss: 4.424874722957611\n"
     ]
    },
    {
     "name": "stderr",
     "output_type": "stream",
     "text": [
      "100%|██████████████████████████████████████████████████████████████████████| 227/227 [00:14<00:00, 15.21it/s]\n",
      "100%|██████████████████████████████████████████████████████████████████████████| 8/8 [00:00<00:00, 33.75it/s]\n"
     ]
    },
    {
     "name": "stdout",
     "output_type": "stream",
     "text": [
      "Epoch: 50 - Mean Train Loss: 0.9757284887036562 - Mean Valid Loss: 4.3984291553497314\n"
     ]
    },
    {
     "name": "stderr",
     "output_type": "stream",
     "text": [
      "100%|██████████████████████████████████████████████████████████████████████| 227/227 [00:14<00:00, 15.54it/s]\n",
      "100%|██████████████████████████████████████████████████████████████████████████| 8/8 [00:00<00:00, 32.93it/s]\n"
     ]
    },
    {
     "name": "stdout",
     "output_type": "stream",
     "text": [
      "Epoch: 51 - Mean Train Loss: 0.9539434098462176 - Mean Valid Loss: 4.481708109378815\n"
     ]
    },
    {
     "name": "stderr",
     "output_type": "stream",
     "text": [
      "100%|██████████████████████████████████████████████████████████████████████| 227/227 [00:14<00:00, 15.46it/s]\n",
      "100%|██████████████████████████████████████████████████████████████████████████| 8/8 [00:00<00:00, 32.62it/s]\n"
     ]
    },
    {
     "name": "stdout",
     "output_type": "stream",
     "text": [
      "Epoch: 52 - Mean Train Loss: 0.9288496663917004 - Mean Valid Loss: 4.5289266705513\n"
     ]
    },
    {
     "name": "stderr",
     "output_type": "stream",
     "text": [
      "100%|██████████████████████████████████████████████████████████████████████| 227/227 [00:14<00:00, 15.26it/s]\n",
      "100%|██████████████████████████████████████████████████████████████████████████| 8/8 [00:00<00:00, 30.77it/s]\n"
     ]
    },
    {
     "name": "stdout",
     "output_type": "stream",
     "text": [
      "Epoch: 53 - Mean Train Loss: 0.9007367032214934 - Mean Valid Loss: 4.559778153896332\n"
     ]
    },
    {
     "name": "stderr",
     "output_type": "stream",
     "text": [
      "100%|██████████████████████████████████████████████████████████████████████| 227/227 [00:14<00:00, 15.28it/s]\n",
      "100%|██████████████████████████████████████████████████████████████████████████| 8/8 [00:00<00:00, 33.99it/s]\n"
     ]
    },
    {
     "name": "stdout",
     "output_type": "stream",
     "text": [
      "Epoch: 54 - Mean Train Loss: 0.876018804863161 - Mean Valid Loss: 4.611750900745392\n"
     ]
    },
    {
     "name": "stderr",
     "output_type": "stream",
     "text": [
      "100%|██████████████████████████████████████████████████████████████████████| 227/227 [00:14<00:00, 15.51it/s]\n",
      "100%|██████████████████████████████████████████████████████████████████████████| 8/8 [00:00<00:00, 32.43it/s]\n"
     ]
    },
    {
     "name": "stdout",
     "output_type": "stream",
     "text": [
      "Epoch: 55 - Mean Train Loss: 0.8570579778780496 - Mean Valid Loss: 4.623691201210022\n"
     ]
    },
    {
     "name": "stderr",
     "output_type": "stream",
     "text": [
      "100%|██████████████████████████████████████████████████████████████████████| 227/227 [00:14<00:00, 15.53it/s]\n",
      "100%|██████████████████████████████████████████████████████████████████████████| 8/8 [00:00<00:00, 32.03it/s]\n"
     ]
    },
    {
     "name": "stdout",
     "output_type": "stream",
     "text": [
      "Epoch: 56 - Mean Train Loss: 0.8282535606543924 - Mean Valid Loss: 4.690254747867584\n"
     ]
    },
    {
     "name": "stderr",
     "output_type": "stream",
     "text": [
      "100%|██████████████████████████████████████████████████████████████████████| 227/227 [00:14<00:00, 15.21it/s]\n",
      "100%|██████████████████████████████████████████████████████████████████████████| 8/8 [00:00<00:00, 33.46it/s]\n"
     ]
    },
    {
     "name": "stdout",
     "output_type": "stream",
     "text": [
      "Epoch: 57 - Mean Train Loss: 0.829848417364028 - Mean Valid Loss: 4.691332459449768\n"
     ]
    },
    {
     "name": "stderr",
     "output_type": "stream",
     "text": [
      "100%|██████████████████████████████████████████████████████████████████████| 227/227 [00:14<00:00, 15.50it/s]\n",
      "100%|██████████████████████████████████████████████████████████████████████████| 8/8 [00:00<00:00, 32.15it/s]\n"
     ]
    },
    {
     "name": "stdout",
     "output_type": "stream",
     "text": [
      "Epoch: 58 - Mean Train Loss: 0.8007655863194739 - Mean Valid Loss: 4.7385066747665405\n"
     ]
    },
    {
     "name": "stderr",
     "output_type": "stream",
     "text": [
      "100%|██████████████████████████████████████████████████████████████████████| 227/227 [00:14<00:00, 15.51it/s]\n",
      "100%|██████████████████████████████████████████████████████████████████████████| 8/8 [00:00<00:00, 31.08it/s]\n"
     ]
    },
    {
     "name": "stdout",
     "output_type": "stream",
     "text": [
      "Epoch: 59 - Mean Train Loss: 0.7812142036034673 - Mean Valid Loss: 4.751550853252411\n"
     ]
    },
    {
     "name": "stderr",
     "output_type": "stream",
     "text": [
      "100%|██████████████████████████████████████████████████████████████████████| 227/227 [00:14<00:00, 15.31it/s]\n",
      "100%|██████████████████████████████████████████████████████████████████████████| 8/8 [00:00<00:00, 33.46it/s]\n"
     ]
    },
    {
     "name": "stdout",
     "output_type": "stream",
     "text": [
      "Epoch: 60 - Mean Train Loss: 0.7588434723505365 - Mean Valid Loss: 4.800324320793152\n"
     ]
    },
    {
     "name": "stderr",
     "output_type": "stream",
     "text": [
      "100%|██████████████████████████████████████████████████████████████████████| 227/227 [00:14<00:00, 15.52it/s]\n",
      "100%|██████████████████████████████████████████████████████████████████████████| 8/8 [00:00<00:00, 30.91it/s]\n"
     ]
    },
    {
     "name": "stdout",
     "output_type": "stream",
     "text": [
      "Epoch: 61 - Mean Train Loss: 0.7456817998497497 - Mean Valid Loss: 4.750196099281311\n"
     ]
    },
    {
     "name": "stderr",
     "output_type": "stream",
     "text": [
      "100%|██████████████████████████████████████████████████████████████████████| 227/227 [00:14<00:00, 15.40it/s]\n",
      "100%|██████████████████████████████████████████████████████████████████████████| 8/8 [00:00<00:00, 33.28it/s]\n"
     ]
    },
    {
     "name": "stdout",
     "output_type": "stream",
     "text": [
      "Epoch: 62 - Mean Train Loss: 0.7324029942441092 - Mean Valid Loss: 4.770630300045013\n"
     ]
    },
    {
     "name": "stderr",
     "output_type": "stream",
     "text": [
      "100%|██████████████████████████████████████████████████████████████████████| 227/227 [00:14<00:00, 15.63it/s]\n",
      "100%|██████████████████████████████████████████████████████████████████████████| 8/8 [00:00<00:00, 31.78it/s]\n"
     ]
    },
    {
     "name": "stdout",
     "output_type": "stream",
     "text": [
      "Epoch: 63 - Mean Train Loss: 0.7104474025150753 - Mean Valid Loss: 4.86171293258667\n"
     ]
    },
    {
     "name": "stderr",
     "output_type": "stream",
     "text": [
      "100%|██████████████████████████████████████████████████████████████████████| 227/227 [00:14<00:00, 15.71it/s]\n",
      "100%|██████████████████████████████████████████████████████████████████████████| 8/8 [00:00<00:00, 32.30it/s]\n"
     ]
    },
    {
     "name": "stdout",
     "output_type": "stream",
     "text": [
      "Epoch: 64 - Mean Train Loss: 0.6885447494258965 - Mean Valid Loss: 4.866591513156891\n"
     ]
    },
    {
     "name": "stderr",
     "output_type": "stream",
     "text": [
      "100%|██████████████████████████████████████████████████████████████████████| 227/227 [00:14<00:00, 15.52it/s]\n",
      "100%|██████████████████████████████████████████████████████████████████████████| 8/8 [00:00<00:00, 32.34it/s]\n"
     ]
    },
    {
     "name": "stdout",
     "output_type": "stream",
     "text": [
      "Epoch: 65 - Mean Train Loss: 0.6958614762396539 - Mean Valid Loss: 4.93176543712616\n"
     ]
    },
    {
     "name": "stderr",
     "output_type": "stream",
     "text": [
      "100%|██████████████████████████████████████████████████████████████████████| 227/227 [00:14<00:00, 15.38it/s]\n",
      "100%|██████████████████████████████████████████████████████████████████████████| 8/8 [00:00<00:00, 31.14it/s]\n"
     ]
    },
    {
     "name": "stdout",
     "output_type": "stream",
     "text": [
      "Epoch: 66 - Mean Train Loss: 0.6633714635729264 - Mean Valid Loss: 4.989718675613403\n"
     ]
    },
    {
     "name": "stderr",
     "output_type": "stream",
     "text": [
      "100%|██████████████████████████████████████████████████████████████████████| 227/227 [00:14<00:00, 15.84it/s]\n",
      "100%|██████████████████████████████████████████████████████████████████████████| 8/8 [00:00<00:00, 33.47it/s]\n"
     ]
    },
    {
     "name": "stdout",
     "output_type": "stream",
     "text": [
      "Epoch: 67 - Mean Train Loss: 0.6551253389944589 - Mean Valid Loss: 5.037292122840881\n"
     ]
    },
    {
     "name": "stderr",
     "output_type": "stream",
     "text": [
      "100%|██████████████████████████████████████████████████████████████████████| 227/227 [00:14<00:00, 15.99it/s]\n",
      "100%|██████████████████████████████████████████████████████████████████████████| 8/8 [00:00<00:00, 34.71it/s]\n"
     ]
    },
    {
     "name": "stdout",
     "output_type": "stream",
     "text": [
      "Epoch: 68 - Mean Train Loss: 0.6332807076134871 - Mean Valid Loss: 5.0947540402412415\n"
     ]
    },
    {
     "name": "stderr",
     "output_type": "stream",
     "text": [
      "100%|██████████████████████████████████████████████████████████████████████| 227/227 [00:14<00:00, 15.14it/s]\n",
      "100%|██████████████████████████████████████████████████████████████████████████| 8/8 [00:00<00:00, 32.40it/s]\n"
     ]
    },
    {
     "name": "stdout",
     "output_type": "stream",
     "text": [
      "Epoch: 69 - Mean Train Loss: 0.6232667482634473 - Mean Valid Loss: 5.026317834854126\n"
     ]
    },
    {
     "name": "stderr",
     "output_type": "stream",
     "text": [
      "100%|██████████████████████████████████████████████████████████████████████| 227/227 [00:14<00:00, 15.42it/s]\n",
      "100%|██████████████████████████████████████████████████████████████████████████| 8/8 [00:00<00:00, 33.97it/s]\n"
     ]
    },
    {
     "name": "stdout",
     "output_type": "stream",
     "text": [
      "Epoch: 70 - Mean Train Loss: 0.6094702811755798 - Mean Valid Loss: 5.05405330657959\n"
     ]
    },
    {
     "name": "stderr",
     "output_type": "stream",
     "text": [
      "100%|██████████████████████████████████████████████████████████████████████| 227/227 [00:15<00:00, 15.13it/s]\n",
      "100%|██████████████████████████████████████████████████████████████████████████| 8/8 [00:00<00:00, 30.86it/s]\n"
     ]
    },
    {
     "name": "stdout",
     "output_type": "stream",
     "text": [
      "Epoch: 71 - Mean Train Loss: 0.591106926685913 - Mean Valid Loss: 5.127446174621582\n"
     ]
    },
    {
     "name": "stderr",
     "output_type": "stream",
     "text": [
      "100%|██████████████████████████████████████████████████████████████████████| 227/227 [00:14<00:00, 15.19it/s]\n",
      "100%|██████████████████████████████████████████████████████████████████████████| 8/8 [00:00<00:00, 31.29it/s]\n"
     ]
    },
    {
     "name": "stdout",
     "output_type": "stream",
     "text": [
      "Epoch: 72 - Mean Train Loss: 0.5746329007957476 - Mean Valid Loss: 5.172759115695953\n"
     ]
    },
    {
     "name": "stderr",
     "output_type": "stream",
     "text": [
      "100%|██████████████████████████████████████████████████████████████████████| 227/227 [00:14<00:00, 15.35it/s]\n",
      "100%|██████████████████████████████████████████████████████████████████████████| 8/8 [00:00<00:00, 33.45it/s]\n"
     ]
    },
    {
     "name": "stdout",
     "output_type": "stream",
     "text": [
      "Epoch: 73 - Mean Train Loss: 0.5638530868790749 - Mean Valid Loss: 5.16600102186203\n"
     ]
    },
    {
     "name": "stderr",
     "output_type": "stream",
     "text": [
      "100%|██████████████████████████████████████████████████████████████████████| 227/227 [00:14<00:00, 15.42it/s]\n",
      "100%|██████████████████████████████████████████████████████████████████████████| 8/8 [00:00<00:00, 33.14it/s]\n"
     ]
    },
    {
     "name": "stdout",
     "output_type": "stream",
     "text": [
      "Epoch: 74 - Mean Train Loss: 0.5642604749108201 - Mean Valid Loss: 5.197135508060455\n"
     ]
    },
    {
     "name": "stderr",
     "output_type": "stream",
     "text": [
      "100%|██████████████████████████████████████████████████████████████████████| 227/227 [00:14<00:00, 15.33it/s]\n",
      "100%|██████████████████████████████████████████████████████████████████████████| 8/8 [00:00<00:00, 30.93it/s]\n"
     ]
    },
    {
     "name": "stdout",
     "output_type": "stream",
     "text": [
      "Epoch: 75 - Mean Train Loss: 0.5437561228936989 - Mean Valid Loss: 5.249274969100952\n"
     ]
    },
    {
     "name": "stderr",
     "output_type": "stream",
     "text": [
      "100%|██████████████████████████████████████████████████████████████████████| 227/227 [00:14<00:00, 15.32it/s]\n",
      "100%|██████████████████████████████████████████████████████████████████████████| 8/8 [00:00<00:00, 31.39it/s]\n"
     ]
    },
    {
     "name": "stdout",
     "output_type": "stream",
     "text": [
      "Epoch: 76 - Mean Train Loss: 0.5404885816941702 - Mean Valid Loss: 5.2473549246788025\n"
     ]
    },
    {
     "name": "stderr",
     "output_type": "stream",
     "text": [
      "100%|██████████████████████████████████████████████████████████████████████| 227/227 [00:14<00:00, 15.38it/s]\n",
      "100%|██████████████████████████████████████████████████████████████████████████| 8/8 [00:00<00:00, 32.18it/s]\n"
     ]
    },
    {
     "name": "stdout",
     "output_type": "stream",
     "text": [
      "Epoch: 77 - Mean Train Loss: 0.531544739585616 - Mean Valid Loss: 5.241768956184387\n"
     ]
    },
    {
     "name": "stderr",
     "output_type": "stream",
     "text": [
      "100%|██████████████████████████████████████████████████████████████████████| 227/227 [00:14<00:00, 15.45it/s]\n",
      "100%|██████████████████████████████████████████████████████████████████████████| 8/8 [00:00<00:00, 33.70it/s]\n"
     ]
    },
    {
     "name": "stdout",
     "output_type": "stream",
     "text": [
      "Epoch: 78 - Mean Train Loss: 0.5162036609282052 - Mean Valid Loss: 5.287991642951965\n"
     ]
    },
    {
     "name": "stderr",
     "output_type": "stream",
     "text": [
      "100%|██████████████████████████████████████████████████████████████████████| 227/227 [00:14<00:00, 15.55it/s]\n",
      "100%|██████████████████████████████████████████████████████████████████████████| 8/8 [00:00<00:00, 30.98it/s]\n"
     ]
    },
    {
     "name": "stdout",
     "output_type": "stream",
     "text": [
      "Epoch: 79 - Mean Train Loss: 0.5080322456517409 - Mean Valid Loss: 5.353097200393677\n"
     ]
    },
    {
     "name": "stderr",
     "output_type": "stream",
     "text": [
      "100%|██████████████████████████████████████████████████████████████████████| 227/227 [00:14<00:00, 15.37it/s]\n",
      "100%|██████████████████████████████████████████████████████████████████████████| 8/8 [00:00<00:00, 32.19it/s]\n"
     ]
    },
    {
     "name": "stdout",
     "output_type": "stream",
     "text": [
      "Epoch: 80 - Mean Train Loss: 0.49057452820471203 - Mean Valid Loss: 5.380710482597351\n"
     ]
    },
    {
     "name": "stderr",
     "output_type": "stream",
     "text": [
      "100%|██████████████████████████████████████████████████████████████████████| 227/227 [00:14<00:00, 15.34it/s]\n",
      "100%|██████████████████████████████████████████████████████████████████████████| 8/8 [00:00<00:00, 34.99it/s]\n"
     ]
    },
    {
     "name": "stdout",
     "output_type": "stream",
     "text": [
      "Epoch: 81 - Mean Train Loss: 0.48080046534013116 - Mean Valid Loss: 5.466189622879028\n"
     ]
    },
    {
     "name": "stderr",
     "output_type": "stream",
     "text": [
      "100%|██████████████████████████████████████████████████████████████████████| 227/227 [00:14<00:00, 15.15it/s]\n",
      "100%|██████████████████████████████████████████████████████████████████████████| 8/8 [00:00<00:00, 35.20it/s]\n"
     ]
    },
    {
     "name": "stdout",
     "output_type": "stream",
     "text": [
      "Epoch: 82 - Mean Train Loss: 0.4758974955733127 - Mean Valid Loss: 5.454509079456329\n"
     ]
    },
    {
     "name": "stderr",
     "output_type": "stream",
     "text": [
      "100%|██████████████████████████████████████████████████████████████████████| 227/227 [00:14<00:00, 15.53it/s]\n",
      "100%|██████████████████████████████████████████████████████████████████████████| 8/8 [00:00<00:00, 30.66it/s]\n"
     ]
    },
    {
     "name": "stdout",
     "output_type": "stream",
     "text": [
      "Epoch: 83 - Mean Train Loss: 0.4651600490057521 - Mean Valid Loss: 5.445854008197784\n"
     ]
    },
    {
     "name": "stderr",
     "output_type": "stream",
     "text": [
      "100%|██████████████████████████████████████████████████████████████████████| 227/227 [00:14<00:00, 15.54it/s]\n",
      "100%|██████████████████████████████████████████████████████████████████████████| 8/8 [00:00<00:00, 32.12it/s]\n"
     ]
    },
    {
     "name": "stdout",
     "output_type": "stream",
     "text": [
      "Epoch: 84 - Mean Train Loss: 0.45198586241789324 - Mean Valid Loss: 5.529317617416382\n"
     ]
    },
    {
     "name": "stderr",
     "output_type": "stream",
     "text": [
      "100%|██████████████████████████████████████████████████████████████████████| 227/227 [00:14<00:00, 15.53it/s]\n",
      "100%|██████████████████████████████████████████████████████████████████████████| 8/8 [00:00<00:00, 31.90it/s]\n"
     ]
    },
    {
     "name": "stdout",
     "output_type": "stream",
     "text": [
      "Epoch: 85 - Mean Train Loss: 0.4546845511980519 - Mean Valid Loss: 5.489774584770203\n"
     ]
    },
    {
     "name": "stderr",
     "output_type": "stream",
     "text": [
      "100%|██████████████████████████████████████████████████████████████████████| 227/227 [00:14<00:00, 15.40it/s]\n",
      "100%|██████████████████████████████████████████████████████████████████████████| 8/8 [00:00<00:00, 34.10it/s]\n"
     ]
    },
    {
     "name": "stdout",
     "output_type": "stream",
     "text": [
      "Epoch: 86 - Mean Train Loss: 0.44554161172081197 - Mean Valid Loss: 5.537730395793915\n"
     ]
    },
    {
     "name": "stderr",
     "output_type": "stream",
     "text": [
      "100%|██████████████████████████████████████████████████████████████████████| 227/227 [00:14<00:00, 15.65it/s]\n",
      "100%|██████████████████████████████████████████████████████████████████████████| 8/8 [00:00<00:00, 33.57it/s]\n"
     ]
    },
    {
     "name": "stdout",
     "output_type": "stream",
     "text": [
      "Epoch: 87 - Mean Train Loss: 0.42901004463565506 - Mean Valid Loss: 5.583018243312836\n"
     ]
    },
    {
     "name": "stderr",
     "output_type": "stream",
     "text": [
      "100%|██████████████████████████████████████████████████████████████████████| 227/227 [00:14<00:00, 15.38it/s]\n",
      "100%|██████████████████████████████████████████████████████████████████████████| 8/8 [00:00<00:00, 33.25it/s]\n"
     ]
    },
    {
     "name": "stdout",
     "output_type": "stream",
     "text": [
      "Epoch: 88 - Mean Train Loss: 0.4285476887803771 - Mean Valid Loss: 5.642302334308624\n"
     ]
    },
    {
     "name": "stderr",
     "output_type": "stream",
     "text": [
      "100%|██████████████████████████████████████████████████████████████████████| 227/227 [00:14<00:00, 15.84it/s]\n",
      "100%|██████████████████████████████████████████████████████████████████████████| 8/8 [00:00<00:00, 33.54it/s]\n"
     ]
    },
    {
     "name": "stdout",
     "output_type": "stream",
     "text": [
      "Epoch: 89 - Mean Train Loss: 0.4147499566036174 - Mean Valid Loss: 5.632393062114716\n"
     ]
    },
    {
     "name": "stderr",
     "output_type": "stream",
     "text": [
      "100%|██████████████████████████████████████████████████████████████████████| 227/227 [00:14<00:00, 15.44it/s]\n",
      "100%|██████████████████████████████████████████████████████████████████████████| 8/8 [00:00<00:00, 31.15it/s]\n"
     ]
    },
    {
     "name": "stdout",
     "output_type": "stream",
     "text": [
      "Epoch: 90 - Mean Train Loss: 0.40957059957382436 - Mean Valid Loss: 5.646507561206818\n"
     ]
    },
    {
     "name": "stderr",
     "output_type": "stream",
     "text": [
      "100%|██████████████████████████████████████████████████████████████████████| 227/227 [00:14<00:00, 15.42it/s]\n",
      "100%|██████████████████████████████████████████████████████████████████████████| 8/8 [00:00<00:00, 31.22it/s]\n"
     ]
    },
    {
     "name": "stdout",
     "output_type": "stream",
     "text": [
      "Epoch: 91 - Mean Train Loss: 0.4035152179816746 - Mean Valid Loss: 5.595771074295044\n"
     ]
    },
    {
     "name": "stderr",
     "output_type": "stream",
     "text": [
      "100%|██████████████████████████████████████████████████████████████████████| 227/227 [00:14<00:00, 15.58it/s]\n",
      "100%|██████████████████████████████████████████████████████████████████████████| 8/8 [00:00<00:00, 33.93it/s]\n"
     ]
    },
    {
     "name": "stdout",
     "output_type": "stream",
     "text": [
      "Epoch: 92 - Mean Train Loss: 0.39623169476240216 - Mean Valid Loss: 5.732118189334869\n"
     ]
    },
    {
     "name": "stderr",
     "output_type": "stream",
     "text": [
      "100%|██████████████████████████████████████████████████████████████████████| 227/227 [00:14<00:00, 15.23it/s]\n",
      "100%|██████████████████████████████████████████████████████████████████████████| 8/8 [00:00<00:00, 32.03it/s]\n"
     ]
    },
    {
     "name": "stdout",
     "output_type": "stream",
     "text": [
      "Epoch: 93 - Mean Train Loss: 0.38937686744765565 - Mean Valid Loss: 5.800301909446716\n"
     ]
    },
    {
     "name": "stderr",
     "output_type": "stream",
     "text": [
      "100%|██████████████████████████████████████████████████████████████████████| 227/227 [00:14<00:00, 15.33it/s]\n",
      "100%|██████████████████████████████████████████████████████████████████████████| 8/8 [00:00<00:00, 32.76it/s]\n"
     ]
    },
    {
     "name": "stdout",
     "output_type": "stream",
     "text": [
      "Epoch: 94 - Mean Train Loss: 0.38536963365676646 - Mean Valid Loss: 5.769947826862335\n"
     ]
    },
    {
     "name": "stderr",
     "output_type": "stream",
     "text": [
      "100%|██████████████████████████████████████████████████████████████████████| 227/227 [00:14<00:00, 15.24it/s]\n",
      "100%|██████████████████████████████████████████████████████████████████████████| 8/8 [00:00<00:00, 33.45it/s]\n"
     ]
    },
    {
     "name": "stdout",
     "output_type": "stream",
     "text": [
      "Epoch: 95 - Mean Train Loss: 0.3727066619280677 - Mean Valid Loss: 5.792653858661652\n"
     ]
    },
    {
     "name": "stderr",
     "output_type": "stream",
     "text": [
      "100%|██████████████████████████████████████████████████████████████████████| 227/227 [00:14<00:00, 15.22it/s]\n",
      "100%|██████████████████████████████████████████████████████████████████████████| 8/8 [00:00<00:00, 32.33it/s]\n"
     ]
    },
    {
     "name": "stdout",
     "output_type": "stream",
     "text": [
      "Epoch: 96 - Mean Train Loss: 0.3732162810501023 - Mean Valid Loss: 5.822566509246826\n"
     ]
    },
    {
     "name": "stderr",
     "output_type": "stream",
     "text": [
      "100%|██████████████████████████████████████████████████████████████████████| 227/227 [00:14<00:00, 15.28it/s]\n",
      "100%|██████████████████████████████████████████████████████████████████████████| 8/8 [00:00<00:00, 33.30it/s]\n"
     ]
    },
    {
     "name": "stdout",
     "output_type": "stream",
     "text": [
      "Epoch: 97 - Mean Train Loss: 0.3652272792245848 - Mean Valid Loss: 5.849691212177277\n"
     ]
    },
    {
     "name": "stderr",
     "output_type": "stream",
     "text": [
      "100%|██████████████████████████████████████████████████████████████████████| 227/227 [00:14<00:00, 15.43it/s]\n",
      "100%|██████████████████████████████████████████████████████████████████████████| 8/8 [00:00<00:00, 33.08it/s]\n"
     ]
    },
    {
     "name": "stdout",
     "output_type": "stream",
     "text": [
      "Epoch: 98 - Mean Train Loss: 0.3563655014211386 - Mean Valid Loss: 5.847384810447693\n"
     ]
    },
    {
     "name": "stderr",
     "output_type": "stream",
     "text": [
      "100%|██████████████████████████████████████████████████████████████████████| 227/227 [00:14<00:00, 15.25it/s]\n",
      "100%|██████████████████████████████████████████████████████████████████████████| 8/8 [00:00<00:00, 30.95it/s]"
     ]
    },
    {
     "name": "stdout",
     "output_type": "stream",
     "text": [
      "Epoch: 99 - Mean Train Loss: 0.3569537969675358 - Mean Valid Loss: 5.841828465461731\n"
     ]
    },
    {
     "name": "stderr",
     "output_type": "stream",
     "text": [
      "\n"
     ]
    }
   ],
   "source": [
    "best_valid_loss = float('inf')\n",
    "\n",
    "for epoch in range(N_EPOCHS):\n",
    "    model.train()\n",
    "    \n",
    "    total_train_loss = 0\n",
    "    for train_src, train_trg in tqdm(train_iter):\n",
    "        train_src, train_trg = train_src.to(device), train_trg.to(device)\n",
    "        \n",
    "        train_output = model(train_src, train_trg)\n",
    "        train_output_dim = train_output.shape[-1]\n",
    "        train_output = train_output[1:].view(-1, train_output_dim)\n",
    "        train_trg = train_trg[1:].view(-1)\n",
    "        \n",
    "        train_loss = criterion(train_output, train_trg)\n",
    "\n",
    "        optimizer.zero_grad()\n",
    "        \n",
    "        train_loss.backward()\n",
    "        \n",
    "        optimizer.step()\n",
    "        \n",
    "        total_train_loss += train_loss.item()\n",
    "\n",
    "    model.eval()\n",
    "\n",
    "    total_valid_loss = 0\n",
    "    with torch.no_grad():\n",
    "        for valid_src, valid_trg in tqdm(valid_iter):\n",
    "            valid_src, valid_trg = valid_src.to(device), valid_trg.to(device)\n",
    "\n",
    "            valid_output = model(valid_src, valid_trg, 0)\n",
    "            valid_output_dim = valid_output.shape[-1]\n",
    "            valid_output = valid_output[1:].view(-1, valid_output_dim)\n",
    "            valid_trg = valid_trg[1:].view(-1)\n",
    "\n",
    "            valid_loss = criterion(valid_output, valid_trg)\n",
    "            \n",
    "            total_valid_loss += valid_loss.item()\n",
    "\n",
    "    mean_train_loss = total_train_loss/len(train_iter)\n",
    "    mean_valid_loss = total_valid_loss/len(valid_iter)\n",
    "    \n",
    "\n",
    "    print(f\"Epoch: {epoch} - Mean Train Loss: {mean_train_loss} - Mean Valid Loss: {mean_valid_loss}\")"
   ]
  },
  {
   "cell_type": "code",
   "execution_count": 19,
   "id": "cf51ea81-ecc2-410f-8bc7-b0ef7d0632d6",
   "metadata": {},
   "outputs": [
    {
     "name": "stderr",
     "output_type": "stream",
     "text": [
      "100%|██████████████████████████████████████████████████████████████████████████| 8/8 [00:00<00:00, 32.91it/s]"
     ]
    },
    {
     "name": "stdout",
     "output_type": "stream",
     "text": [
      "Test Loss: 5.794943273067474\n"
     ]
    },
    {
     "name": "stderr",
     "output_type": "stream",
     "text": [
      "\n"
     ]
    }
   ],
   "source": [
    "model.eval()\n",
    "\n",
    "total_test_loss = 0\n",
    "with torch.no_grad():\n",
    "    for test_src, test_trg in tqdm(test_iter):\n",
    "        test_src, test_trg = test_src.to(device), test_trg.to(device)\n",
    "\n",
    "        test_output = model(test_src, test_trg, 0)\n",
    "        test_output_dim = test_output.shape[-1]\n",
    "        test_output = test_output[1:].view(-1, test_output_dim)\n",
    "        test_trg = test_trg[1:].view(-1)\n",
    "\n",
    "        test_loss = criterion(test_output, test_trg)\n",
    "        \n",
    "        total_test_loss += test_loss.item()\n",
    "\n",
    "mean_test_loss = total_test_loss/len(test_iter)\n",
    "\n",
    "print(f\"Test Loss: {mean_test_loss}\")"
   ]
  },
  {
   "cell_type": "code",
   "execution_count": 27,
   "id": "4d274a9b-3839-40eb-bd60-de580304f08e",
   "metadata": {},
   "outputs": [
    {
     "name": "stdout",
     "output_type": "stream",
     "text": [
      "CASE: 0\n",
      "\tSOURCE: Ein Mann mit einem orangefarbenen Hut , der etwas <unk> . \n",
      "\n",
      "\tTARGET: A man in an orange hat starring at something . \n",
      "\n",
      "torch.Size([12, 1])\n",
      "\tPREDICT: A man wearing an orange hat - up . \n",
      " <eos>\n",
      "CASE: 1\n",
      "\tSOURCE: Ein Boston Terrier läuft über <unk> Gras vor einem weißen Zaun . \n",
      "\n",
      "\tTARGET: A Boston Terrier is running on lush green grass in front of a white fence . \n",
      "\n",
      "torch.Size([13, 1])\n",
      "\tPREDICT: A brown dog runs across the grass of a fence . \n",
      " <eos>\n",
      "CASE: 2\n",
      "\tSOURCE: Ein Mädchen in einem Karateanzug bricht ein Brett mit einem Tritt . \n",
      "\n",
      "\tTARGET: A girl in karate uniform breaking a stick with a front kick . \n",
      "\n",
      "torch.Size([13, 1])\n",
      "\tPREDICT: A girl in a karate costume does a silly face . \n",
      " <eos>\n",
      "CASE: 3\n",
      "\tSOURCE: Fünf Leute in Winterjacken und mit Helmen stehen im Schnee mit <unk> im Hintergrund . \n",
      "\n",
      "\tTARGET: Five people wearing winter jackets and helmets stand in the snow , with <unk> in the background . \n",
      "\n",
      "torch.Size([16, 1])\n",
      "\tPREDICT: Five people wearing a sports suits and helmets are standing in the snow with mountains in the background . \n",
      " <eos>\n",
      "CASE: 4\n",
      "\tSOURCE: Leute <unk> das Dach eines Hauses . \n",
      "\n",
      "\tTARGET: People are fixing the roof of a house . \n",
      "\n",
      "torch.Size([8, 1])\n",
      "\tPREDICT: flying up at the side . \n",
      " <eos>\n",
      "CASE: 5\n",
      "\tSOURCE: Ein hell gekleideter Mann fotografiert eine Gruppe von Männern in dunklen Anzügen und mit Hüten , die um eine Frau in einem <unk> Kleid herum stehen . \n",
      "\n",
      "\tTARGET: A man in light colored clothing photographs a group of men wearing dark suits and hats standing around a woman dressed in a <unk> gown . \n",
      "\n",
      "torch.Size([28, 1])\n",
      "\tPREDICT: A man dressed in blue taking a picture of a lady in a in a purple dress white dress standing standing in a of a drum . \n",
      " <eos>\n",
      "CASE: 6\n",
      "\tSOURCE: Eine Gruppe von Menschen steht vor einem Iglu . \n",
      "\n",
      "\tTARGET: A group of people standing in front of an igloo . \n",
      "\n",
      "torch.Size([10, 1])\n",
      "\tPREDICT: of people standing in front of a house . \n",
      " <eos>\n",
      "CASE: 7\n",
      "\tSOURCE: Ein Junge in einem roten Trikot versucht , die Home Base zu erreichen , während der <unk> im blauen Trikot versucht , ihn zu fangen . \n",
      "\n",
      "\tTARGET: A boy in a red uniform is attempting to avoid getting out at home plate , while the catcher in the blue uniform is attempting to catch him . \n",
      "\n",
      "torch.Size([27, 1])\n",
      "\tPREDICT: A boy in a red uniform tries to get the ball to the the ball , to tag his striped striped striped . \n",
      " <eos>\n",
      "CASE: 8\n",
      "\tSOURCE: Ein Typ arbeitet an einem Gebäude . \n",
      "\n",
      "\tTARGET: A guy works on a building . \n",
      "\n",
      "torch.Size([8, 1])\n",
      "\tPREDICT: A guy on a platform . \n",
      " <eos>\n",
      "CASE: 9\n",
      "\tSOURCE: Ein Mann in einer Weste sitzt auf einem Stuhl und hält <unk> . \n",
      "\n",
      "\tTARGET: A man in a vest is sitting in a chair and holding magazines . \n",
      "\n",
      "torch.Size([14, 1])\n",
      "\tPREDICT: A man in a vest sitting on a chair holding a microphone . \n",
      " <eos>\n"
     ]
    }
   ],
   "source": [
    "for case, (idx_src, idx_trg) in enumerate(test_data[:10]):\n",
    "    token_src = de_vocab.lookup_tokens(idx_src.numpy().tolist())\n",
    "    token_trg = en_vocab.lookup_tokens(idx_trg.numpy().tolist())\n",
    "    print(f\"CASE: {case}\")\n",
    "    joined_token_src = \" \".join(token_src)\n",
    "    joined_token_trg = \" \".join(token_trg)\n",
    "    print(f\"\\tSOURCE: {joined_token_src}\")\n",
    "    print(f\"\\tTARGET: {joined_token_trg}\")\n",
    "\n",
    "    processed_idx_src = torch.cat([torch.tensor([BOS_IDX]), idx_src, torch.tensor([EOS_IDX])], dim=0)\n",
    "    processed_idx_trg = torch.cat([torch.tensor([BOS_IDX]), idx_trg, torch.tensor([EOS_IDX])], dim=0)\n",
    "\n",
    "    batch_idx_src = processed_idx_src.unsqueeze(1)\n",
    "    batch_idx_trg = processed_idx_trg.unsqueeze(1)\n",
    "\n",
    "    translated = model.single_predict(idx_src.to(device).unsqueeze(1))\n",
    "\n",
    "    token_translated = en_vocab.lookup_tokens(translated)\n",
    "    join_token_translated = \" \".join(token_translated)\n",
    "    print(f\"\\tPREDICT: {join_token_translated}\")"
   ]
  },
  {
   "cell_type": "code",
   "execution_count": null,
   "id": "31500186-a88b-4aac-9d20-d334c2278869",
   "metadata": {},
   "outputs": [],
   "source": []
  }
 ],
 "metadata": {
  "kernelspec": {
   "display_name": "Python 3 (ipykernel)",
   "language": "python",
   "name": "python3"
  },
  "language_info": {
   "codemirror_mode": {
    "name": "ipython",
    "version": 3
   },
   "file_extension": ".py",
   "mimetype": "text/x-python",
   "name": "python",
   "nbconvert_exporter": "python",
   "pygments_lexer": "ipython3",
   "version": "3.10.7"
  },
  "widgets": {
   "application/vnd.jupyter.widget-state+json": {
    "state": {},
    "version_major": 2,
    "version_minor": 0
   }
  }
 },
 "nbformat": 4,
 "nbformat_minor": 5
}
