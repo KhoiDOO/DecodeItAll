{
 "cells": [
  {
   "cell_type": "code",
   "execution_count": 1,
   "id": "7346139c-c01b-4cc1-9513-f3238f9fb067",
   "metadata": {},
   "outputs": [],
   "source": [
    "import os\n",
    "import pandas\n",
    "import matplotlib.pyplot as plt\n",
    "import seaborn\n",
    "from tqdm import tqdm\n",
    "import numpy as np\n",
    "import cv2\n",
    "\n",
    "import torch\n",
    "from torch import nn\n",
    "from torch.optim import Adam\n",
    "from torch.optim.lr_scheduler import CosineAnnealingLR\n",
    "from torch.utils.data import Dataset, DataLoader\n",
    "from torchvision.datasets import CelebA\n",
    "from torchvision import transforms\n",
    "import torchvision.transforms.functional as F\n",
    "from torchvision.utils import make_grid\n",
    "import albumentations as A\n",
    "\n",
    "plt.rcParams[\"savefig.bbox\"] = 'tight'"
   ]
  },
  {
   "cell_type": "code",
   "execution_count": 2,
   "id": "9da40362-2b05-406d-84d9-956dce6763f6",
   "metadata": {},
   "outputs": [],
   "source": [
    "class CustomCelebA(CelebA):\n",
    "    def __init__(self, root='/media/mountHDD2/data', split='train', download=True, \n",
    "                 target_type=['attr', 'identity', 'landmarks']):\n",
    "        super().__init__(root=root, split=split, target_type=target_type, download=download)\n",
    "\n",
    "        self.__transform = A.Compose(\n",
    "            [\n",
    "                A.Resize(64, 64),\n",
    "                A.HorizontalFlip(p=0.2),\n",
    "                A.Normalize(\n",
    "                    mean=(0.5, 0.5, 0.5), std=(0.5, 0.5, 0.5)\n",
    "                )\n",
    "            ], \n",
    "            keypoint_params=A.KeypointParams(format='xy')\n",
    "        )\n",
    "\n",
    "    def __len__(self):\n",
    "        return super().__len__()\n",
    "\n",
    "    def __getitem__(self, idx):\n",
    "        pil_img, raw_targets = super().__getitem__(idx)\n",
    "\n",
    "        np_img = np.array(pil_img)\n",
    "\n",
    "        raw_attr = raw_targets[0]\n",
    "        raw_idty = raw_targets[1]\n",
    "        raw_ldmk = raw_targets[2].numpy().reshape(5, 2).tolist()\n",
    "\n",
    "        transformed = self.__transform(image=np_img, keypoints=raw_ldmk)\n",
    "        transformed_img = transformed['image']\n",
    "        transformed_key = transformed['keypoints']\n",
    "\n",
    "        torch_img = torch.from_numpy(transformed_img).permute(-1, 0, 1)\n",
    "\n",
    "        targets = {\n",
    "            \"attr\" : raw_attr,\n",
    "            \"idty\" : raw_idty,\n",
    "            \"keypoints\" : transformed_key\n",
    "        }\n",
    "\n",
    "        return torch_img, raw_targets"
   ]
  },
  {
   "cell_type": "code",
   "execution_count": 3,
   "id": "5710ba2d-c807-4767-91bd-e6acb536dc15",
   "metadata": {},
   "outputs": [
    {
     "name": "stdout",
     "output_type": "stream",
     "text": [
      "Files already downloaded and verified\n"
     ]
    }
   ],
   "source": [
    "sample_ds = CustomCelebA(split='test')"
   ]
  },
  {
   "cell_type": "code",
   "execution_count": 4,
   "id": "0d2b68a3-0d08-4702-b634-79902e65767d",
   "metadata": {},
   "outputs": [
    {
     "name": "stderr",
     "output_type": "stream",
     "text": [
      "Clipping input data to the valid range for imshow with RGB data ([0..1] for floats or [0..255] for integers).\n"
     ]
    },
    {
     "name": "stdout",
     "output_type": "stream",
     "text": [
      "torch.Size([3, 64, 64])\n",
      "(tensor([0, 1, 0, 1, 0, 0, 0, 0, 0, 0, 0, 0, 0, 0, 0, 0, 0, 0, 0, 1, 0, 1, 0, 0,\n",
      "        1, 0, 0, 1, 0, 0, 0, 1, 0, 1, 1, 1, 0, 0, 0, 0]), tensor(7760), tensor([ 68, 111, 108, 112,  93, 137,  70, 152, 108, 151]))\n"
     ]
    },
    {
     "data": {
      "text/plain": [
       "<matplotlib.image.AxesImage at 0x7f2b735949a0>"
      ]
     },
     "execution_count": 4,
     "metadata": {},
     "output_type": "execute_result"
    },
    {
     "data": {
      "image/png": "[encoded data removed]",
      "text/plain": [
       "<Figure size 640x480 with 1 Axes>"
      ]
     },
     "metadata": {},
     "output_type": "display_data"
    }
   ],
   "source": [
    "img, targets = sample_ds[0]\n",
    "print(img.shape)\n",
    "print(targets)\n",
    "\n",
    "plt.imshow(img.permute(1, -1, 0).numpy())"
   ]
  },
  {
   "cell_type": "code",
   "execution_count": null,
   "id": "efe1e678-9dbd-4899-a543-4d98c96b7947",
   "metadata": {},
   "outputs": [],
   "source": []
  }
 ],
 "metadata": {
  "kernelspec": {
   "display_name": "Python 3 (ipykernel)",
   "language": "python",
   "name": "python3"
  },
  "language_info": {
   "codemirror_mode": {
    "name": "ipython",
    "version": 3
   },
   "file_extension": ".py",
   "mimetype": "text/x-python",
   "name": "python",
   "nbconvert_exporter": "python",
   "pygments_lexer": "ipython3",
   "version": "3.10.7"
  },
  "widgets": {
   "application/vnd.jupyter.widget-state+json": {
    "state": {},
    "version_major": 2,
    "version_minor": 0
   }
  }
 },
 "nbformat": 4,
 "nbformat_minor": 5
}
