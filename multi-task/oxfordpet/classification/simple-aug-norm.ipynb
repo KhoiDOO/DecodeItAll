{
 "cells": [
  {
   "cell_type": "code",
   "execution_count": 1,
   "id": "4b1b5744-347d-4d04-b2ca-ee910180718a",
   "metadata": {
    "execution": {
     "iopub.execute_input": "2023-11-09T04:19:52.523951Z",
     "iopub.status.busy": "2023-11-09T04:19:52.523751Z",
     "iopub.status.idle": "2023-11-09T04:19:54.496095Z",
     "shell.execute_reply": "2023-11-09T04:19:54.495597Z"
    }
   },
   "outputs": [],
   "source": [
    "import os\n",
    "import pandas as pd\n",
    "import matplotlib.pyplot as plt\n",
    "import seaborn as sns\n",
    "from tqdm import tqdm\n",
    "import numpy as np\n",
    "import cv2\n",
    "from PIL import Image\n",
    "\n",
    "import torch\n",
    "from torch.autograd import Variable\n",
    "from torch import nn\n",
    "from torch.optim import Adam\n",
    "from torch.optim.lr_scheduler import CosineAnnealingLR\n",
    "from torch.utils.data import Dataset, DataLoader\n",
    "from torchvision.datasets import OxfordIIITPet\n",
    "from torchvision import transforms\n",
    "import torchvision as tv\n",
    "import torch.nn.functional as F\n",
    "from torch import Tensor"
   ]
  },
  {
   "cell_type": "code",
   "execution_count": 2,
   "id": "dd3dda1f-3279-42d5-bac2-0e815ddaf231",
   "metadata": {
    "execution": {
     "iopub.execute_input": "2023-11-09T04:19:54.499101Z",
     "iopub.status.busy": "2023-11-09T04:19:54.498832Z",
     "iopub.status.idle": "2023-11-09T04:19:54.538915Z",
     "shell.execute_reply": "2023-11-09T04:19:54.538448Z"
    }
   },
   "outputs": [
    {
     "name": "stdout",
     "output_type": "stream",
     "text": [
      "#Training Samples: 3680\n",
      "#Testing Samples: 3669\n",
      "#Training Batch: 58\n",
      "#Testing Batch: 58\n",
      "# Class: 37\n"
     ]
    }
   ],
   "source": [
    "transform = transforms.Compose(\n",
    "    [\n",
    "        transforms.Resize((256, 256)),\n",
    "        transforms.RandomHorizontalFlip(0.3),\n",
    "        transforms.RandomAffine(\n",
    "            degrees=(-3, 3), translate=(0.05, 0.05),\n",
    "            interpolation=tv.transforms.InterpolationMode.BILINEAR\n",
    "        ),\n",
    "        transforms.ToTensor(), \n",
    "        transforms.Normalize(mean=[0.5, 0.5, 0.5], std=[0.5, 0.5, 0.5]),\n",
    "    ]\n",
    ")\n",
    "\n",
    "train_ds = OxfordIIITPet(\n",
    "    root = \"~/data\", split = \"trainval\", target_types = \"category\", transform = transform, download = True\n",
    ")\n",
    "\n",
    "test_ds = OxfordIIITPet(\n",
    "    root = \"~/data\", split = \"test\", target_types = \"category\", transform = transform, download = True\n",
    ")\n",
    "\n",
    "train_dl = DataLoader(train_ds, batch_size=64, shuffle=True, pin_memory = True, num_workers=24)\n",
    "test_dl = DataLoader(test_ds, batch_size=64, shuffle=True, pin_memory = True, num_workers=24)\n",
    "\n",
    "print(\"#Training Samples: {}\".format(len(train_ds)))\n",
    "print(\"#Testing Samples: {}\".format(len(test_ds)))\n",
    "print(\"#Training Batch: {}\".format(len(train_dl)))\n",
    "print(\"#Testing Batch: {}\".format(len(test_dl)))\n",
    "\n",
    "print(\"# Class: {}\".format(len(train_ds.class_to_idx)))"
   ]
  },
  {
   "cell_type": "code",
   "execution_count": 3,
   "id": "9a11da1f-3eac-4880-a859-ee503d85597e",
   "metadata": {
    "execution": {
     "iopub.execute_input": "2023-11-09T04:19:54.541210Z",
     "iopub.status.busy": "2023-11-09T04:19:54.541082Z",
     "iopub.status.idle": "2023-11-09T04:19:54.553273Z",
     "shell.execute_reply": "2023-11-09T04:19:54.552633Z"
    }
   },
   "outputs": [
    {
     "name": "stdout",
     "output_type": "stream",
     "text": [
      "data shape: torch.Size([3, 256, 256])\n",
      "cate data/type: 2/<class 'int'>\n"
     ]
    }
   ],
   "source": [
    "sample_data, sample_cate = train_ds[100]\n",
    "\n",
    "print(f\"data shape: {sample_data.shape}\")\n",
    "print(f\"cate data/type: {sample_cate}/{type(sample_cate)}\")"
   ]
  },
  {
   "cell_type": "code",
   "execution_count": 4,
   "id": "b7739b6d-78e2-4ae2-8c20-3db8c2fb1477",
   "metadata": {
    "execution": {
     "iopub.execute_input": "2023-11-09T04:19:54.554940Z",
     "iopub.status.busy": "2023-11-09T04:19:54.554771Z",
     "iopub.status.idle": "2023-11-09T04:19:54.558743Z",
     "shell.execute_reply": "2023-11-09T04:19:54.558169Z"
    }
   },
   "outputs": [],
   "source": [
    "class DoubleConv(nn.Module):\n",
    "    def __init__(self, in_channels, out_channels, mid_channels=None):\n",
    "        super().__init__()\n",
    "        if not mid_channels:\n",
    "            mid_channels = out_channels\n",
    "        self.double_conv = nn.Sequential(\n",
    "            nn.Conv2d(in_channels, mid_channels, kernel_size=3, padding=1, bias=False),\n",
    "            nn.BatchNorm2d(mid_channels),\n",
    "            nn.ReLU(inplace=True),\n",
    "            nn.Conv2d(mid_channels, out_channels, kernel_size=3, padding=1, bias=False),\n",
    "            nn.BatchNorm2d(out_channels),\n",
    "            nn.ReLU(inplace=True)\n",
    "        )\n",
    "\n",
    "    def forward(self, x):\n",
    "        return self.double_conv(x)"
   ]
  },
  {
   "cell_type": "code",
   "execution_count": 5,
   "id": "9098f576-a8f0-4358-ad6a-1593bc1cc65a",
   "metadata": {
    "execution": {
     "iopub.execute_input": "2023-11-09T04:19:54.560252Z",
     "iopub.status.busy": "2023-11-09T04:19:54.560103Z",
     "iopub.status.idle": "2023-11-09T04:19:54.563176Z",
     "shell.execute_reply": "2023-11-09T04:19:54.562625Z"
    }
   },
   "outputs": [],
   "source": [
    "class Down(nn.Module):\n",
    "\n",
    "    def __init__(self, in_channels, out_channels):\n",
    "        super().__init__()\n",
    "        self.maxpool_conv = nn.Sequential(\n",
    "            nn.MaxPool2d(2),\n",
    "            DoubleConv(in_channels, out_channels)\n",
    "        )\n",
    "\n",
    "    def forward(self, x):\n",
    "        return self.maxpool_conv(x)"
   ]
  },
  {
   "cell_type": "code",
   "execution_count": 6,
   "id": "710baa49-d3cc-4d14-bd3e-e4d351977c5b",
   "metadata": {
    "execution": {
     "iopub.execute_input": "2023-11-09T04:19:54.564518Z",
     "iopub.status.busy": "2023-11-09T04:19:54.564381Z",
     "iopub.status.idle": "2023-11-09T04:19:54.568580Z",
     "shell.execute_reply": "2023-11-09T04:19:54.568159Z"
    }
   },
   "outputs": [],
   "source": [
    "class UNet(nn.Module):\n",
    "    def __init__(self, n_channels, n_classes):\n",
    "        super(UNet, self).__init__()\n",
    "        self.n_channels = n_channels\n",
    "        self.n_classes = n_classes\n",
    "\n",
    "        self.inc = (DoubleConv(n_channels, 64))\n",
    "        self.down1 = (Down(64, 128)) #64, 128\n",
    "        self.down2 = (Down(128, 256)) #128, 256\n",
    "        self.down3 = (Down(256, 512)) #256, 512\n",
    "        self.down4 = (Down(512, 1024))\n",
    "        self.down5 = (Down(1024, 2048))\n",
    "        # self.down6 = (Down(1024, 2048))\n",
    "        \n",
    "        self.classifier = nn.Sequential(\n",
    "            # nn.AdaptiveAvgPool2d((1, 1)),\n",
    "            # nn.Flatten(),\n",
    "            nn.Linear(2048, 256),\n",
    "            nn.ReLU(),\n",
    "            nn.Linear(256, self.n_classes)\n",
    "        )\n",
    "\n",
    "    def forward(self, x):\n",
    "        x = self.inc(x)\n",
    "        x = self.down1(x)\n",
    "        x = self.down2(x)\n",
    "        x = self.down3(x)\n",
    "        x = self.down4(x)\n",
    "        x = self.down5(x)\n",
    "        # x = self.down6(x)\n",
    "        logits = self.classifier(x.mean(dim=(2, 3)))\n",
    "        return logits"
   ]
  },
  {
   "cell_type": "code",
   "execution_count": 7,
   "id": "7e6dea1f-82fa-410a-a272-6f7ff76436b7",
   "metadata": {
    "execution": {
     "iopub.execute_input": "2023-11-09T04:19:54.569903Z",
     "iopub.status.busy": "2023-11-09T04:19:54.569766Z",
     "iopub.status.idle": "2023-11-09T04:19:55.965274Z",
     "shell.execute_reply": "2023-11-09T04:19:55.964773Z"
    }
   },
   "outputs": [],
   "source": [
    "device = torch.device(\"cuda\" if torch.cuda.is_available() else \"cpu\", index = 0)\n",
    "\n",
    "model = UNet(3, 37).to(device)\n",
    "# model = tv.models.resnet18(num_classes = x = self.inc(x)37).to(device)\n",
    "\n",
    "optimizer = Adam(params = model.parameters(), lr = 0.001)\n",
    "\n",
    "epochs = 100\n",
    "\n",
    "scheduler = CosineAnnealingLR(optimizer, epochs * len(train_dl))\n",
    "\n",
    "loss_fn = nn.CrossEntropyLoss()"
   ]
  },
  {
   "cell_type": "code",
   "execution_count": 8,
   "id": "4a99ec3c-7a07-41d9-889c-912b909532fa",
   "metadata": {
    "execution": {
     "iopub.execute_input": "2023-11-09T04:19:55.967077Z",
     "iopub.status.busy": "2023-11-09T04:19:55.966911Z",
     "iopub.status.idle": "2023-11-09T05:29:05.803713Z",
     "shell.execute_reply": "2023-11-09T05:29:05.803249Z"
    }
   },
   "outputs": [
    {
     "name": "stderr",
     "output_type": "stream",
     "text": [
      "100%|████████████████████████████████████████████████████████████████████| 58/58 [00:28<00:00,  2.00it/s]\n",
      "100%|████████████████████████████████████████████████████████████████████| 58/58 [00:09<00:00,  6.24it/s]\n"
     ]
    },
    {
     "name": "stdout",
     "output_type": "stream",
     "text": [
      "Epoch: 0 - TrainLoss: 3.6385613351032653 - ValidLoss: 3.6179555079032637\n",
      "Epoch: 0 - TrainACC: 0.02826086956521739 - ValidACC: 0.02698282910874898\n"
     ]
    },
    {
     "name": "stderr",
     "output_type": "stream",
     "text": [
      "100%|████████████████████████████████████████████████████████████████████| 58/58 [00:29<00:00,  1.94it/s]\n",
      "100%|████████████████████████████████████████████████████████████████████| 58/58 [00:10<00:00,  5.33it/s]\n"
     ]
    },
    {
     "name": "stdout",
     "output_type": "stream",
     "text": [
      "Epoch: 1 - TrainLoss: 3.6077698345842033 - ValidLoss: 3.6204772858784118\n",
      "Epoch: 1 - TrainACC: 0.03179347826086956 - ValidACC: 0.03134369037884982\n"
     ]
    },
    {
     "name": "stderr",
     "output_type": "stream",
     "text": [
      "100%|████████████████████████████████████████████████████████████████████| 58/58 [00:32<00:00,  1.77it/s]\n",
      "100%|████████████████████████████████████████████████████████████████████| 58/58 [00:10<00:00,  5.33it/s]\n"
     ]
    },
    {
     "name": "stdout",
     "output_type": "stream",
     "text": [
      "Epoch: 2 - TrainLoss: 3.592787812496054 - ValidLoss: 3.6087433880773085\n",
      "Epoch: 2 - TrainACC: 0.03804347826086957 - ValidACC: 0.03188879803761243\n"
     ]
    },
    {
     "name": "stderr",
     "output_type": "stream",
     "text": [
      "100%|████████████████████████████████████████████████████████████████████| 58/58 [00:32<00:00,  1.79it/s]\n",
      "100%|████████████████████████████████████████████████████████████████████| 58/58 [00:10<00:00,  5.41it/s]\n"
     ]
    },
    {
     "name": "stdout",
     "output_type": "stream",
     "text": [
      "Epoch: 3 - TrainLoss: 3.573951536211474 - ValidLoss: 3.5893038552382897\n",
      "Epoch: 3 - TrainACC: 0.035869565217391305 - ValidACC: 0.033251567184518944\n"
     ]
    },
    {
     "name": "stderr",
     "output_type": "stream",
     "text": [
      "100%|████████████████████████████████████████████████████████████████████| 58/58 [00:32<00:00,  1.76it/s]\n",
      "100%|████████████████████████████████████████████████████████████████████| 58/58 [00:10<00:00,  5.40it/s]\n"
     ]
    },
    {
     "name": "stdout",
     "output_type": "stream",
     "text": [
      "Epoch: 4 - TrainLoss: 3.5574195878259065 - ValidLoss: 3.6130423545837402\n",
      "Epoch: 4 - TrainACC: 0.04565217391304348 - ValidACC: 0.02725538293813028\n"
     ]
    },
    {
     "name": "stderr",
     "output_type": "stream",
     "text": [
      "100%|████████████████████████████████████████████████████████████████████| 58/58 [00:31<00:00,  1.82it/s]\n",
      "100%|████████████████████████████████████████████████████████████████████| 58/58 [00:10<00:00,  5.36it/s]\n"
     ]
    },
    {
     "name": "stdout",
     "output_type": "stream",
     "text": [
      "Epoch: 5 - TrainLoss: 3.5703895256437104 - ValidLoss: 3.6084786900158585\n",
      "Epoch: 5 - TrainACC: 0.03451086956521739 - ValidACC: 0.041700735895339326\n"
     ]
    },
    {
     "name": "stderr",
     "output_type": "stream",
     "text": [
      "100%|████████████████████████████████████████████████████████████████████| 58/58 [00:32<00:00,  1.81it/s]\n",
      "100%|████████████████████████████████████████████████████████████████████| 58/58 [00:10<00:00,  5.47it/s]\n"
     ]
    },
    {
     "name": "stdout",
     "output_type": "stream",
     "text": [
      "Epoch: 6 - TrainLoss: 3.53438807767013 - ValidLoss: 3.5807710803788284\n",
      "Epoch: 6 - TrainACC: 0.050543478260869565 - ValidACC: 0.04279095121286454\n"
     ]
    },
    {
     "name": "stderr",
     "output_type": "stream",
     "text": [
      "100%|████████████████████████████████████████████████████████████████████| 58/58 [00:32<00:00,  1.79it/s]\n",
      "100%|████████████████████████████████████████████████████████████████████| 58/58 [00:11<00:00,  5.23it/s]\n"
     ]
    },
    {
     "name": "stdout",
     "output_type": "stream",
     "text": [
      "Epoch: 7 - TrainLoss: 3.4918546429995834 - ValidLoss: 3.641663830855797\n",
      "Epoch: 7 - TrainACC: 0.05679347826086956 - ValidACC: 0.044971381847914965\n"
     ]
    },
    {
     "name": "stderr",
     "output_type": "stream",
     "text": [
      "100%|████████████████████████████████████████████████████████████████████| 58/58 [00:32<00:00,  1.79it/s]\n",
      "100%|████████████████████████████████████████████████████████████████████| 58/58 [00:10<00:00,  5.41it/s]\n"
     ]
    },
    {
     "name": "stdout",
     "output_type": "stream",
     "text": [
      "Epoch: 8 - TrainLoss: 3.420478676927501 - ValidLoss: 3.5503569471425025\n",
      "Epoch: 8 - TrainACC: 0.07391304347826087 - ValidACC: 0.06350504224584355\n"
     ]
    },
    {
     "name": "stderr",
     "output_type": "stream",
     "text": [
      "100%|████████████████████████████████████████████████████████████████████| 58/58 [00:32<00:00,  1.76it/s]\n",
      "100%|████████████████████████████████████████████████████████████████████| 58/58 [00:10<00:00,  5.30it/s]\n"
     ]
    },
    {
     "name": "stdout",
     "output_type": "stream",
     "text": [
      "Epoch: 9 - TrainLoss: 3.375950266574991 - ValidLoss: 3.495073417137409\n",
      "Epoch: 9 - TrainACC: 0.07391304347826087 - ValidACC: 0.056146088852548376\n"
     ]
    },
    {
     "name": "stderr",
     "output_type": "stream",
     "text": [
      "100%|████████████████████████████████████████████████████████████████████| 58/58 [00:32<00:00,  1.78it/s]\n",
      "100%|████████████████████████████████████████████████████████████████████| 58/58 [00:10<00:00,  5.36it/s]\n"
     ]
    },
    {
     "name": "stdout",
     "output_type": "stream",
     "text": [
      "Epoch: 10 - TrainLoss: 3.317845632290018 - ValidLoss: 3.311328756398168\n",
      "Epoch: 10 - TrainACC: 0.07989130434782608 - ValidACC: 0.07631507222676479\n"
     ]
    },
    {
     "name": "stderr",
     "output_type": "stream",
     "text": [
      "100%|████████████████████████████████████████████████████████████████████| 58/58 [00:32<00:00,  1.78it/s]\n",
      "100%|████████████████████████████████████████████████████████████████████| 58/58 [00:10<00:00,  5.39it/s]\n"
     ]
    },
    {
     "name": "stdout",
     "output_type": "stream",
     "text": [
      "Epoch: 11 - TrainLoss: 3.275707355861006 - ValidLoss: 5.405207732628131\n",
      "Epoch: 11 - TrainACC: 0.08831521739130435 - ValidACC: 0.044426274189152355\n"
     ]
    },
    {
     "name": "stderr",
     "output_type": "stream",
     "text": [
      "100%|████████████████████████████████████████████████████████████████████| 58/58 [00:32<00:00,  1.77it/s]\n",
      "100%|████████████████████████████████████████████████████████████████████| 58/58 [00:10<00:00,  5.38it/s]\n"
     ]
    },
    {
     "name": "stdout",
     "output_type": "stream",
     "text": [
      "Epoch: 12 - TrainLoss: 3.223987184721848 - ValidLoss: 3.4903186847423684\n",
      "Epoch: 12 - TrainACC: 0.1 - ValidACC: 0.0765876260561461\n"
     ]
    },
    {
     "name": "stderr",
     "output_type": "stream",
     "text": [
      "100%|████████████████████████████████████████████████████████████████████| 58/58 [00:32<00:00,  1.78it/s]\n",
      "100%|████████████████████████████████████████████████████████████████████| 58/58 [00:10<00:00,  5.33it/s]\n"
     ]
    },
    {
     "name": "stdout",
     "output_type": "stream",
     "text": [
      "Epoch: 13 - TrainLoss: 3.1807400481454255 - ValidLoss: 3.338347241796296\n",
      "Epoch: 13 - TrainACC: 0.11059782608695652 - ValidACC: 0.09130553284273644\n"
     ]
    },
    {
     "name": "stderr",
     "output_type": "stream",
     "text": [
      "100%|████████████████████████████████████████████████████████████████████| 58/58 [00:32<00:00,  1.78it/s]\n",
      "100%|████████████████████████████████████████████████████████████████████| 58/58 [00:10<00:00,  5.32it/s]\n"
     ]
    },
    {
     "name": "stdout",
     "output_type": "stream",
     "text": [
      "Epoch: 14 - TrainLoss: 3.168348690559124 - ValidLoss: 3.2282160767193497\n",
      "Epoch: 14 - TrainACC: 0.11222826086956522 - ValidACC: 0.0973017170891251\n"
     ]
    },
    {
     "name": "stderr",
     "output_type": "stream",
     "text": [
      "100%|████████████████████████████████████████████████████████████████████| 58/58 [00:32<00:00,  1.79it/s]\n",
      "100%|████████████████████████████████████████████████████████████████████| 58/58 [00:10<00:00,  5.28it/s]\n"
     ]
    },
    {
     "name": "stdout",
     "output_type": "stream",
     "text": [
      "Epoch: 15 - TrainLoss: 3.12965072434524 - ValidLoss: 3.269030649086525\n",
      "Epoch: 15 - TrainACC: 0.11793478260869565 - ValidACC: 0.10111747070046334\n"
     ]
    },
    {
     "name": "stderr",
     "output_type": "stream",
     "text": [
      "100%|████████████████████████████████████████████████████████████████████| 58/58 [00:32<00:00,  1.79it/s]\n",
      "100%|████████████████████████████████████████████████████████████████████| 58/58 [00:10<00:00,  5.44it/s]\n"
     ]
    },
    {
     "name": "stdout",
     "output_type": "stream",
     "text": [
      "Epoch: 16 - TrainLoss: 3.081037159623771 - ValidLoss: 3.2294037177644928\n",
      "Epoch: 16 - TrainACC: 0.13695652173913042 - ValidACC: 0.10629599345870809\n"
     ]
    },
    {
     "name": "stderr",
     "output_type": "stream",
     "text": [
      "100%|████████████████████████████████████████████████████████████████████| 58/58 [00:32<00:00,  1.79it/s]\n",
      "100%|████████████████████████████████████████████████████████████████████| 58/58 [00:10<00:00,  5.51it/s]\n"
     ]
    },
    {
     "name": "stdout",
     "output_type": "stream",
     "text": [
      "Epoch: 17 - TrainLoss: 3.02499547086913 - ValidLoss: 3.0613384575679383\n",
      "Epoch: 17 - TrainACC: 0.14266304347826086 - ValidACC: 0.13436903788498228\n"
     ]
    },
    {
     "name": "stderr",
     "output_type": "stream",
     "text": [
      "100%|████████████████████████████████████████████████████████████████████| 58/58 [00:32<00:00,  1.79it/s]\n",
      "100%|████████████████████████████████████████████████████████████████████| 58/58 [00:10<00:00,  5.45it/s]\n"
     ]
    },
    {
     "name": "stdout",
     "output_type": "stream",
     "text": [
      "Epoch: 18 - TrainLoss: 2.9776472839815864 - ValidLoss: 3.1829926556554335\n",
      "Epoch: 18 - TrainACC: 0.15190217391304348 - ValidACC: 0.12019623875715454\n"
     ]
    },
    {
     "name": "stderr",
     "output_type": "stream",
     "text": [
      "100%|████████████████████████████████████████████████████████████████████| 58/58 [00:32<00:00,  1.79it/s]\n",
      "100%|████████████████████████████████████████████████████████████████████| 58/58 [00:11<00:00,  5.23it/s]\n"
     ]
    },
    {
     "name": "stdout",
     "output_type": "stream",
     "text": [
      "Epoch: 19 - TrainLoss: 2.9304587018900903 - ValidLoss: 3.119454096103537\n",
      "Epoch: 19 - TrainACC: 0.15679347826086956 - ValidACC: 0.13218860724993187\n"
     ]
    },
    {
     "name": "stderr",
     "output_type": "stream",
     "text": [
      "100%|████████████████████████████████████████████████████████████████████| 58/58 [00:32<00:00,  1.80it/s]\n",
      "100%|████████████████████████████████████████████████████████████████████| 58/58 [00:10<00:00,  5.37it/s]\n"
     ]
    },
    {
     "name": "stdout",
     "output_type": "stream",
     "text": [
      "Epoch: 20 - TrainLoss: 2.8980437969339303 - ValidLoss: 3.237665057182312\n",
      "Epoch: 20 - TrainACC: 0.1671195652173913 - ValidACC: 0.11801580812210412\n"
     ]
    },
    {
     "name": "stderr",
     "output_type": "stream",
     "text": [
      "100%|████████████████████████████████████████████████████████████████████| 58/58 [00:32<00:00,  1.81it/s]\n",
      "100%|████████████████████████████████████████████████████████████████████| 58/58 [00:10<00:00,  5.37it/s]\n"
     ]
    },
    {
     "name": "stdout",
     "output_type": "stream",
     "text": [
      "Epoch: 21 - TrainLoss: 2.840838650177265 - ValidLoss: 3.2266570864052606\n",
      "Epoch: 21 - TrainACC: 0.18233695652173912 - ValidACC: 0.12237666939220496\n"
     ]
    },
    {
     "name": "stderr",
     "output_type": "stream",
     "text": [
      "100%|████████████████████████████████████████████████████████████████████| 58/58 [00:32<00:00,  1.81it/s]\n",
      "100%|████████████████████████████████████████████████████████████████████| 58/58 [00:10<00:00,  5.44it/s]\n"
     ]
    },
    {
     "name": "stdout",
     "output_type": "stream",
     "text": [
      "Epoch: 22 - TrainLoss: 2.7782572466751625 - ValidLoss: 3.0467347605475066\n",
      "Epoch: 22 - TrainACC: 0.1907608695652174 - ValidACC: 0.15208503679476695\n"
     ]
    },
    {
     "name": "stderr",
     "output_type": "stream",
     "text": [
      "100%|████████████████████████████████████████████████████████████████████| 58/58 [00:32<00:00,  1.80it/s]\n",
      "100%|████████████████████████████████████████████████████████████████████| 58/58 [00:10<00:00,  5.45it/s]\n"
     ]
    },
    {
     "name": "stdout",
     "output_type": "stream",
     "text": [
      "Epoch: 23 - TrainLoss: 2.7545320247781686 - ValidLoss: 3.0250913356912545\n",
      "Epoch: 23 - TrainACC: 0.1923913043478261 - ValidACC: 0.14663396020714092\n"
     ]
    },
    {
     "name": "stderr",
     "output_type": "stream",
     "text": [
      "100%|████████████████████████████████████████████████████████████████████| 58/58 [00:32<00:00,  1.78it/s]\n",
      "100%|████████████████████████████████████████████████████████████████████| 58/58 [00:10<00:00,  5.47it/s]\n"
     ]
    },
    {
     "name": "stdout",
     "output_type": "stream",
     "text": [
      "Epoch: 24 - TrainLoss: 2.704903010664315 - ValidLoss: 2.9511749127815508\n",
      "Epoch: 24 - TrainACC: 0.20570652173913043 - ValidACC: 0.15808122104115563\n"
     ]
    },
    {
     "name": "stderr",
     "output_type": "stream",
     "text": [
      "100%|████████████████████████████████████████████████████████████████████| 58/58 [00:32<00:00,  1.81it/s]\n",
      "100%|████████████████████████████████████████████████████████████████████| 58/58 [00:10<00:00,  5.33it/s]\n"
     ]
    },
    {
     "name": "stdout",
     "output_type": "stream",
     "text": [
      "Epoch: 25 - TrainLoss: 2.6472947104223845 - ValidLoss: 2.8778869735783545\n",
      "Epoch: 25 - TrainACC: 0.21875 - ValidACC: 0.17388934314527119\n"
     ]
    },
    {
     "name": "stderr",
     "output_type": "stream",
     "text": [
      "100%|████████████████████████████████████████████████████████████████████| 58/58 [00:32<00:00,  1.78it/s]\n",
      "100%|████████████████████████████████████████████████████████████████████| 58/58 [00:10<00:00,  5.30it/s]\n"
     ]
    },
    {
     "name": "stdout",
     "output_type": "stream",
     "text": [
      "Epoch: 26 - TrainLoss: 2.601167711718329 - ValidLoss: 3.348367057997605\n",
      "Epoch: 26 - TrainACC: 0.23559782608695654 - ValidACC: 0.13954756064322704\n"
     ]
    },
    {
     "name": "stderr",
     "output_type": "stream",
     "text": [
      "100%|████████████████████████████████████████████████████████████████████| 58/58 [00:32<00:00,  1.79it/s]\n",
      "100%|████████████████████████████████████████████████████████████████████| 58/58 [00:10<00:00,  5.32it/s]\n"
     ]
    },
    {
     "name": "stdout",
     "output_type": "stream",
     "text": [
      "Epoch: 27 - TrainLoss: 2.5583579170292823 - ValidLoss: 2.9463545412852845\n",
      "Epoch: 27 - TrainACC: 0.2483695652173913 - ValidACC: 0.18806214227309895\n"
     ]
    },
    {
     "name": "stderr",
     "output_type": "stream",
     "text": [
      "100%|████████████████████████████████████████████████████████████████████| 58/58 [00:32<00:00,  1.79it/s]\n",
      "100%|████████████████████████████████████████████████████████████████████| 58/58 [00:11<00:00,  5.27it/s]\n"
     ]
    },
    {
     "name": "stdout",
     "output_type": "stream",
     "text": [
      "Epoch: 28 - TrainLoss: 2.5473180351586175 - ValidLoss: 2.956677325840654\n",
      "Epoch: 28 - TrainACC: 0.2513586956521739 - ValidACC: 0.15835377487053692\n"
     ]
    },
    {
     "name": "stderr",
     "output_type": "stream",
     "text": [
      "100%|████████████████████████████████████████████████████████████████████| 58/58 [00:32<00:00,  1.81it/s]\n",
      "100%|████████████████████████████████████████████████████████████████████| 58/58 [00:10<00:00,  5.50it/s]\n"
     ]
    },
    {
     "name": "stdout",
     "output_type": "stream",
     "text": [
      "Epoch: 29 - TrainLoss: 2.4826225494516305 - ValidLoss: 2.8042638877342485\n",
      "Epoch: 29 - TrainACC: 0.2625 - ValidACC: 0.2120468792586536\n"
     ]
    },
    {
     "name": "stderr",
     "output_type": "stream",
     "text": [
      "100%|████████████████████████████████████████████████████████████████████| 58/58 [00:31<00:00,  1.86it/s]\n",
      "100%|████████████████████████████████████████████████████████████████████| 58/58 [00:10<00:00,  5.46it/s]\n"
     ]
    },
    {
     "name": "stdout",
     "output_type": "stream",
     "text": [
      "Epoch: 30 - TrainLoss: 2.4144576006922227 - ValidLoss: 2.640504952134757\n",
      "Epoch: 30 - TrainACC: 0.2798913043478261 - ValidACC: 0.23085309348596347\n"
     ]
    },
    {
     "name": "stderr",
     "output_type": "stream",
     "text": [
      "100%|████████████████████████████████████████████████████████████████████| 58/58 [00:31<00:00,  1.86it/s]\n",
      "100%|████████████████████████████████████████████████████████████████████| 58/58 [00:09<00:00,  5.82it/s]\n"
     ]
    },
    {
     "name": "stdout",
     "output_type": "stream",
     "text": [
      "Epoch: 31 - TrainLoss: 2.3824241099686456 - ValidLoss: 3.4093071140091995\n",
      "Epoch: 31 - TrainACC: 0.2910326086956522 - ValidACC: 0.14336331425456528\n"
     ]
    },
    {
     "name": "stderr",
     "output_type": "stream",
     "text": [
      "100%|████████████████████████████████████████████████████████████████████| 58/58 [00:30<00:00,  1.91it/s]\n",
      "100%|████████████████████████████████████████████████████████████████████| 58/58 [00:10<00:00,  5.61it/s]\n"
     ]
    },
    {
     "name": "stdout",
     "output_type": "stream",
     "text": [
      "Epoch: 32 - TrainLoss: 2.322116313309505 - ValidLoss: 2.769131824888032\n",
      "Epoch: 32 - TrainACC: 0.3010869565217391 - ValidACC: 0.214227309893704\n"
     ]
    },
    {
     "name": "stderr",
     "output_type": "stream",
     "text": [
      "100%|████████████████████████████████████████████████████████████████████| 58/58 [00:31<00:00,  1.86it/s]\n",
      "100%|████████████████████████████████████████████████████████████████████| 58/58 [00:10<00:00,  5.53it/s]\n"
     ]
    },
    {
     "name": "stdout",
     "output_type": "stream",
     "text": [
      "Epoch: 33 - TrainLoss: 2.250131066503196 - ValidLoss: 3.0929282245964838\n",
      "Epoch: 33 - TrainACC: 0.32364130434782606 - ValidACC: 0.2144998637230853\n"
     ]
    },
    {
     "name": "stderr",
     "output_type": "stream",
     "text": [
      "100%|████████████████████████████████████████████████████████████████████| 58/58 [00:31<00:00,  1.86it/s]\n",
      "100%|████████████████████████████████████████████████████████████████████| 58/58 [00:10<00:00,  5.51it/s]\n"
     ]
    },
    {
     "name": "stdout",
     "output_type": "stream",
     "text": [
      "Epoch: 34 - TrainLoss: 2.2191749770065834 - ValidLoss: 2.7018564076259217\n",
      "Epoch: 34 - TrainACC: 0.328804347826087 - ValidACC: 0.2333060779503952\n"
     ]
    },
    {
     "name": "stderr",
     "output_type": "stream",
     "text": [
      "100%|████████████████████████████████████████████████████████████████████| 58/58 [00:31<00:00,  1.87it/s]\n",
      "100%|████████████████████████████████████████████████████████████████████| 58/58 [00:10<00:00,  5.59it/s]\n"
     ]
    },
    {
     "name": "stdout",
     "output_type": "stream",
     "text": [
      "Epoch: 35 - TrainLoss: 2.1415707653966445 - ValidLoss: 2.645175740636628\n",
      "Epoch: 35 - TrainACC: 0.3546195652173913 - ValidACC: 0.25947124557100026\n"
     ]
    },
    {
     "name": "stderr",
     "output_type": "stream",
     "text": [
      "100%|████████████████████████████████████████████████████████████████████| 58/58 [00:30<00:00,  1.89it/s]\n",
      "100%|████████████████████████████████████████████████████████████████████| 58/58 [00:10<00:00,  5.65it/s]\n"
     ]
    },
    {
     "name": "stdout",
     "output_type": "stream",
     "text": [
      "Epoch: 36 - TrainLoss: 2.093352305478063 - ValidLoss: 2.9612130789921203\n",
      "Epoch: 36 - TrainACC: 0.3673913043478261 - ValidACC: 0.22867266285091306\n"
     ]
    },
    {
     "name": "stderr",
     "output_type": "stream",
     "text": [
      "100%|████████████████████████████████████████████████████████████████████| 58/58 [00:30<00:00,  1.88it/s]\n",
      "100%|████████████████████████████████████████████████████████████████████| 58/58 [00:10<00:00,  5.64it/s]\n"
     ]
    },
    {
     "name": "stdout",
     "output_type": "stream",
     "text": [
      "Epoch: 37 - TrainLoss: 2.051236434229489 - ValidLoss: 2.8688319428213713\n",
      "Epoch: 37 - TrainACC: 0.3760869565217391 - ValidACC: 0.22703733987462524\n"
     ]
    },
    {
     "name": "stderr",
     "output_type": "stream",
     "text": [
      "100%|████████████████████████████████████████████████████████████████████| 58/58 [00:30<00:00,  1.88it/s]\n",
      "100%|████████████████████████████████████████████████████████████████████| 58/58 [00:10<00:00,  5.71it/s]\n"
     ]
    },
    {
     "name": "stdout",
     "output_type": "stream",
     "text": [
      "Epoch: 38 - TrainLoss: 1.9345776562033028 - ValidLoss: 2.5981427595533173\n",
      "Epoch: 38 - TrainACC: 0.40706521739130436 - ValidACC: 0.28509130553284273\n"
     ]
    },
    {
     "name": "stderr",
     "output_type": "stream",
     "text": [
      "100%|████████████████████████████████████████████████████████████████████| 58/58 [00:30<00:00,  1.87it/s]\n",
      "100%|████████████████████████████████████████████████████████████████████| 58/58 [00:10<00:00,  5.75it/s]\n"
     ]
    },
    {
     "name": "stdout",
     "output_type": "stream",
     "text": [
      "Epoch: 39 - TrainLoss: 1.8703570078159202 - ValidLoss: 2.6177223591968932\n",
      "Epoch: 39 - TrainACC: 0.4154891304347826 - ValidACC: 0.2815481057508858\n"
     ]
    },
    {
     "name": "stderr",
     "output_type": "stream",
     "text": [
      "100%|████████████████████████████████████████████████████████████████████| 58/58 [00:31<00:00,  1.86it/s]\n",
      "100%|████████████████████████████████████████████████████████████████████| 58/58 [00:10<00:00,  5.57it/s]\n"
     ]
    },
    {
     "name": "stdout",
     "output_type": "stream",
     "text": [
      "Epoch: 40 - TrainLoss: 1.826830477550112 - ValidLoss: 2.860769304735907\n",
      "Epoch: 40 - TrainACC: 0.42635869565217394 - ValidACC: 0.25483783047151815\n"
     ]
    },
    {
     "name": "stderr",
     "output_type": "stream",
     "text": [
      "100%|████████████████████████████████████████████████████████████████████| 58/58 [00:31<00:00,  1.87it/s]\n",
      "100%|████████████████████████████████████████████████████████████████████| 58/58 [00:10<00:00,  5.67it/s]\n"
     ]
    },
    {
     "name": "stdout",
     "output_type": "stream",
     "text": [
      "Epoch: 41 - TrainLoss: 1.7457082271575928 - ValidLoss: 2.4784290564471276\n",
      "Epoch: 41 - TrainACC: 0.45108695652173914 - ValidACC: 0.3038975197601526\n"
     ]
    },
    {
     "name": "stderr",
     "output_type": "stream",
     "text": [
      "100%|████████████████████████████████████████████████████████████████████| 58/58 [00:30<00:00,  1.89it/s]\n",
      "100%|██████████████████████████████████████████████████████████████████████████████████████████████████████████████████████████████████████████████████████████████████████████████| 58/58 [00:10<00:00,  5.60it/s]\n"
     ]
    },
    {
     "name": "stdout",
     "output_type": "stream",
     "text": [
      "Epoch: 42 - TrainLoss: 1.6717747408768227 - ValidLoss: 2.441816985607147\n",
      "Epoch: 42 - TrainACC: 0.4668478260869565 - ValidACC: 0.3295175797219951\n"
     ]
    },
    {
     "name": "stderr",
     "output_type": "stream",
     "text": [
      "100%|██████████████████████████████████████████████████████████████████████████████████████████████████████████████████████████████████████████████████████████████████████████████| 58/58 [00:31<00:00,  1.86it/s]\n",
      "100%|██████████████████████████████████████████████████████████████████████████████████████████████████████████████████████████████████████████████████████████████████████████████| 58/58 [00:10<00:00,  5.61it/s]\n"
     ]
    },
    {
     "name": "stdout",
     "output_type": "stream",
     "text": [
      "Epoch: 43 - TrainLoss: 1.626824833195785 - ValidLoss: 2.636343805954374\n",
      "Epoch: 43 - TrainACC: 0.483695652173913 - ValidACC: 0.3019896429544835\n"
     ]
    },
    {
     "name": "stderr",
     "output_type": "stream",
     "text": [
      "100%|██████████████████████████████████████████████████████████████████████████████████████████████████████████████████████████████████████████████████████████████████████████████| 58/58 [00:30<00:00,  1.90it/s]\n",
      "100%|██████████████████████████████████████████████████████████████████████████████████████████████████████████████████████████████████████████████████████████████████████████████| 58/58 [00:10<00:00,  5.65it/s]\n"
     ]
    },
    {
     "name": "stdout",
     "output_type": "stream",
     "text": [
      "Epoch: 44 - TrainLoss: 1.5674175599525715 - ValidLoss: 2.4341348286332756\n",
      "Epoch: 44 - TrainACC: 0.4953804347826087 - ValidACC: 0.33905696375034067\n"
     ]
    },
    {
     "name": "stderr",
     "output_type": "stream",
     "text": [
      "100%|██████████████████████████████████████████████████████████████████████████████████████████████████████████████████████████████████████████████████████████████████████████████| 58/58 [00:31<00:00,  1.86it/s]\n",
      "100%|██████████████████████████████████████████████████████████████████████████████████████████████████████████████████████████████████████████████████████████████████████████████| 58/58 [00:10<00:00,  5.60it/s]\n"
     ]
    },
    {
     "name": "stdout",
     "output_type": "stream",
     "text": [
      "Epoch: 45 - TrainLoss: 1.5188199076159248 - ValidLoss: 2.7065231717866043\n",
      "Epoch: 45 - TrainACC: 0.4970108695652174 - ValidACC: 0.2924502589261379\n"
     ]
    },
    {
     "name": "stderr",
     "output_type": "stream",
     "text": [
      "100%|██████████████████████████████████████████████████████████████████████████████████████████████████████████████████████████████████████████████████████████████████████████████| 58/58 [00:31<00:00,  1.87it/s]\n",
      "100%|██████████████████████████████████████████████████████████████████████████████████████████████████████████████████████████████████████████████████████████████████████████████| 58/58 [00:10<00:00,  5.55it/s]\n"
     ]
    },
    {
     "name": "stdout",
     "output_type": "stream",
     "text": [
      "Epoch: 46 - TrainLoss: 1.4206286524904186 - ValidLoss: 2.706674561418336\n",
      "Epoch: 46 - TrainACC: 0.5339673913043478 - ValidACC: 0.28945216680294356\n"
     ]
    },
    {
     "name": "stderr",
     "output_type": "stream",
     "text": [
      "100%|██████████████████████████████████████████████████████████████████████████████████████████████████████████████████████████████████████████████████████████████████████████████| 58/58 [00:30<00:00,  1.90it/s]\n",
      "100%|██████████████████████████████████████████████████████████████████████████████████████████████████████████████████████████████████████████████████████████████████████████████| 58/58 [00:10<00:00,  5.58it/s]\n"
     ]
    },
    {
     "name": "stdout",
     "output_type": "stream",
     "text": [
      "Epoch: 47 - TrainLoss: 1.4102205685500442 - ValidLoss: 2.168168943503807\n",
      "Epoch: 47 - TrainACC: 0.5456521739130434 - ValidACC: 0.3802125919869174\n"
     ]
    },
    {
     "name": "stderr",
     "output_type": "stream",
     "text": [
      "100%|██████████████████████████████████████████████████████████████████████████████████████████████████████████████████████████████████████████████████████████████████████████████| 58/58 [00:30<00:00,  1.90it/s]\n",
      "100%|██████████████████████████████████████████████████████████████████████████████████████████████████████████████████████████████████████████████████████████████████████████████| 58/58 [00:10<00:00,  5.59it/s]\n"
     ]
    },
    {
     "name": "stdout",
     "output_type": "stream",
     "text": [
      "Epoch: 48 - TrainLoss: 1.3075835160140334 - ValidLoss: 2.349079869944474\n",
      "Epoch: 48 - TrainACC: 0.5807065217391304 - ValidACC: 0.37530662305805396\n"
     ]
    },
    {
     "name": "stderr",
     "output_type": "stream",
     "text": [
      "100%|██████████████████████████████████████████████████████████████████████████████████████████████████████████████████████████████████████████████████████████████████████████████| 58/58 [00:30<00:00,  1.88it/s]\n",
      "100%|██████████████████████████████████████████████████████████████████████████████████████████████████████████████████████████████████████████████████████████████████████████████| 58/58 [00:10<00:00,  5.51it/s]\n"
     ]
    },
    {
     "name": "stdout",
     "output_type": "stream",
     "text": [
      "Epoch: 49 - TrainLoss: 1.2367893786265933 - ValidLoss: 2.2046553040372916\n",
      "Epoch: 49 - TrainACC: 0.5970108695652174 - ValidACC: 0.41155628236576725\n"
     ]
    },
    {
     "name": "stderr",
     "output_type": "stream",
     "text": [
      "100%|██████████████████████████████████████████████████████████████████████████████████████████████████████████████████████████████████████████████████████████████████████████████| 58/58 [00:31<00:00,  1.87it/s]\n",
      "100%|██████████████████████████████████████████████████████████████████████████████████████████████████████████████████████████████████████████████████████████████████████████████| 58/58 [00:10<00:00,  5.61it/s]\n"
     ]
    },
    {
     "name": "stdout",
     "output_type": "stream",
     "text": [
      "Epoch: 50 - TrainLoss: 1.2260344480646068 - ValidLoss: 2.560144839615657\n",
      "Epoch: 50 - TrainACC: 0.6029891304347826 - ValidACC: 0.3447805941673481\n"
     ]
    },
    {
     "name": "stderr",
     "output_type": "stream",
     "text": [
      "100%|██████████████████████████████████████████████████████████████████████████████████████████████████████████████████████████████████████████████████████████████████████████████| 58/58 [00:31<00:00,  1.86it/s]\n",
      "100%|██████████████████████████████████████████████████████████████████████████████████████████████████████████████████████████████████████████████████████████████████████████████| 58/58 [00:10<00:00,  5.48it/s]\n"
     ]
    },
    {
     "name": "stdout",
     "output_type": "stream",
     "text": [
      "Epoch: 51 - TrainLoss: 1.1348248874319011 - ValidLoss: 2.8573095181892656\n",
      "Epoch: 51 - TrainACC: 0.6198369565217391 - ValidACC: 0.3120741346415917\n"
     ]
    },
    {
     "name": "stderr",
     "output_type": "stream",
     "text": [
      "100%|██████████████████████████████████████████████████████████████████████████████████████████████████████████████████████████████████████████████████████████████████████████████| 58/58 [00:30<00:00,  1.90it/s]\n",
      "100%|██████████████████████████████████████████████████████████████████████████████████████████████████████████████████████████████████████████████████████████████████████████████| 58/58 [00:10<00:00,  5.67it/s]\n"
     ]
    },
    {
     "name": "stdout",
     "output_type": "stream",
     "text": [
      "Epoch: 52 - TrainLoss: 1.0553937800999345 - ValidLoss: 2.737079246290799\n",
      "Epoch: 52 - TrainACC: 0.6510869565217391 - ValidACC: 0.3603161624420823\n"
     ]
    },
    {
     "name": "stderr",
     "output_type": "stream",
     "text": [
      "100%|██████████████████████████████████████████████████████████████████████████████████████████████████████████████████████████████████████████████████████████████████████████████| 58/58 [00:30<00:00,  1.90it/s]\n",
      "100%|██████████████████████████████████████████████████████████████████████████████████████████████████████████████████████████████████████████████████████████████████████████████| 58/58 [00:10<00:00,  5.58it/s]\n"
     ]
    },
    {
     "name": "stdout",
     "output_type": "stream",
     "text": [
      "Epoch: 53 - TrainLoss: 1.0365501693610488 - ValidLoss: 2.1948678144093217\n",
      "Epoch: 53 - TrainACC: 0.6589673913043478 - ValidACC: 0.42518397383483236\n"
     ]
    },
    {
     "name": "stderr",
     "output_type": "stream",
     "text": [
      "100%|██████████████████████████████████████████████████████████████████████████████████████████████████████████████████████████████████████████████████████████████████████████████| 58/58 [00:31<00:00,  1.87it/s]\n",
      "100%|██████████████████████████████████████████████████████████████████████████████████████████████████████████████████████████████████████████████████████████████████████████████| 58/58 [00:10<00:00,  5.66it/s]\n"
     ]
    },
    {
     "name": "stdout",
     "output_type": "stream",
     "text": [
      "Epoch: 54 - TrainLoss: 0.9784565783780197 - ValidLoss: 2.3934145754781264\n",
      "Epoch: 54 - TrainACC: 0.6864130434782608 - ValidACC: 0.3872989915508313\n"
     ]
    },
    {
     "name": "stderr",
     "output_type": "stream",
     "text": [
      "100%|██████████████████████████████████████████████████████████████████████████████████████████████████████████████████████████████████████████████████████████████████████████████| 58/58 [00:28<00:00,  2.06it/s]\n",
      "100%|██████████████████████████████████████████████████████████████████████████████████████████████████████████████████████████████████████████████████████████████████████████████| 58/58 [00:08<00:00,  6.57it/s]\n"
     ]
    },
    {
     "name": "stdout",
     "output_type": "stream",
     "text": [
      "Epoch: 55 - TrainLoss: 0.9209454635093952 - ValidLoss: 2.289637466956829\n",
      "Epoch: 55 - TrainACC: 0.6956521739130435 - ValidACC: 0.40256200599618425\n"
     ]
    },
    {
     "name": "stderr",
     "output_type": "stream",
     "text": [
      "100%|██████████████████████████████████████████████████████████████████████████████████████████████████████████████████████████████████████████████████████████████████████████████| 58/58 [00:25<00:00,  2.23it/s]\n",
      "100%|██████████████████████████████████████████████████████████████████████████████████████████████████████████████████████████████████████████████████████████████████████████████| 58/58 [00:08<00:00,  6.50it/s]\n"
     ]
    },
    {
     "name": "stdout",
     "output_type": "stream",
     "text": [
      "Epoch: 56 - TrainLoss: 0.8633304279426048 - ValidLoss: 2.5001101000555632\n",
      "Epoch: 56 - TrainACC: 0.7141304347826087 - ValidACC: 0.3962932679204143\n"
     ]
    },
    {
     "name": "stderr",
     "output_type": "stream",
     "text": [
      "100%|██████████████████████████████████████████████████████████████████████████████████████████████████████████████████████████████████████████████████████████████████████████████| 58/58 [00:26<00:00,  2.23it/s]\n",
      "100%|██████████████████████████████████████████████████████████████████████████████████████████████████████████████████████████████████████████████████████████████████████████████| 58/58 [00:08<00:00,  6.51it/s]\n"
     ]
    },
    {
     "name": "stdout",
     "output_type": "stream",
     "text": [
      "Epoch: 57 - TrainLoss: 0.8640913583081344 - ValidLoss: 2.5652123895184746\n",
      "Epoch: 57 - TrainACC: 0.7190217391304348 - ValidACC: 0.37557917688743525\n"
     ]
    },
    {
     "name": "stderr",
     "output_type": "stream",
     "text": [
      "100%|██████████████████████████████████████████████████████████████████████████████████████████████████████████████████████████████████████████████████████████████████████████████| 58/58 [00:25<00:00,  2.24it/s]\n",
      "100%|██████████████████████████████████████████████████████████████████████████████████████████████████████████████████████████████████████████████████████████████████████████████| 58/58 [00:08<00:00,  6.49it/s]\n"
     ]
    },
    {
     "name": "stdout",
     "output_type": "stream",
     "text": [
      "Epoch: 58 - TrainLoss: 0.7687880571546226 - ValidLoss: 2.4873193954599313\n",
      "Epoch: 58 - TrainACC: 0.752445652173913 - ValidACC: 0.4009266830198964\n"
     ]
    },
    {
     "name": "stderr",
     "output_type": "stream",
     "text": [
      "100%|██████████████████████████████████████████████████████████████████████████████████████████████████████████████████████████████████████████████████████████████████████████████| 58/58 [00:30<00:00,  1.89it/s]\n",
      "100%|██████████████████████████████████████████████████████████████████████████████████████████████████████████████████████████████████████████████████████████████████████████████| 58/58 [00:10<00:00,  5.69it/s]\n"
     ]
    },
    {
     "name": "stdout",
     "output_type": "stream",
     "text": [
      "Epoch: 59 - TrainLoss: 0.6971276371643461 - ValidLoss: 2.440929157980557\n",
      "Epoch: 59 - TrainACC: 0.7771739130434783 - ValidACC: 0.41373671300081766\n"
     ]
    },
    {
     "name": "stderr",
     "output_type": "stream",
     "text": [
      "100%|██████████████████████████████████████████████████████████████████████████████████████████████████████████████████████████████████████████████████████████████████████████████| 58/58 [00:30<00:00,  1.89it/s]\n",
      "100%|██████████████████████████████████████████████████████████████████████████████████████████████████████████████████████████████████████████████████████████████████████████████| 58/58 [00:10<00:00,  5.60it/s]\n"
     ]
    },
    {
     "name": "stdout",
     "output_type": "stream",
     "text": [
      "Epoch: 60 - TrainLoss: 0.6565636447791395 - ValidLoss: 2.462824913962134\n",
      "Epoch: 60 - TrainACC: 0.7972826086956522 - ValidACC: 0.41155628236576725\n"
     ]
    },
    {
     "name": "stderr",
     "output_type": "stream",
     "text": [
      "100%|██████████████████████████████████████████████████████████████████████████████████████████████████████████████████████████████████████████████████████████████████████████████| 58/58 [00:30<00:00,  1.90it/s]\n",
      "100%|██████████████████████████████████████████████████████████████████████████████████████████████████████████████████████████████████████████████████████████████████████████████| 58/58 [00:10<00:00,  5.63it/s]\n"
     ]
    },
    {
     "name": "stdout",
     "output_type": "stream",
     "text": [
      "Epoch: 61 - TrainLoss: 0.611218728895845 - ValidLoss: 2.384108241262107\n",
      "Epoch: 61 - TrainACC: 0.8076086956521739 - ValidACC: 0.4172799127827746\n"
     ]
    },
    {
     "name": "stderr",
     "output_type": "stream",
     "text": [
      "100%|██████████████████████████████████████████████████████████████████████████████████████████████████████████████████████████████████████████████████████████████████████████████| 58/58 [00:30<00:00,  1.87it/s]\n",
      "100%|██████████████████████████████████████████████████████████████████████████████████████████████████████████████████████████████████████████████████████████████████████████████| 58/58 [00:10<00:00,  5.56it/s]\n"
     ]
    },
    {
     "name": "stdout",
     "output_type": "stream",
     "text": [
      "Epoch: 62 - TrainLoss: 0.6073834495297794 - ValidLoss: 2.466184466049589\n",
      "Epoch: 62 - TrainACC: 0.8065217391304348 - ValidACC: 0.4333605887162715\n"
     ]
    },
    {
     "name": "stderr",
     "output_type": "stream",
     "text": [
      "100%|██████████████████████████████████████████████████████████████████████████████████████████████████████████████████████████████████████████████████████████████████████████████| 58/58 [00:30<00:00,  1.90it/s]\n",
      "100%|██████████████████████████████████████████████████████████████████████████████████████████████████████████████████████████████████████████████████████████████████████████████| 58/58 [00:10<00:00,  5.66it/s]\n"
     ]
    },
    {
     "name": "stdout",
     "output_type": "stream",
     "text": [
      "Epoch: 63 - TrainLoss: 0.5548333016962841 - ValidLoss: 2.4228433822763376\n",
      "Epoch: 63 - TrainACC: 0.8279891304347826 - ValidACC: 0.4369037884982284\n"
     ]
    },
    {
     "name": "stderr",
     "output_type": "stream",
     "text": [
      "100%|██████████████████████████████████████████████████████████████████████████████████████████████████████████████████████████████████████████████████████████████████████████████| 58/58 [00:30<00:00,  1.89it/s]\n",
      "100%|██████████████████████████████████████████████████████████████████████████████████████████████████████████████████████████████████████████████████████████████████████████████| 58/58 [00:10<00:00,  5.52it/s]\n"
     ]
    },
    {
     "name": "stdout",
     "output_type": "stream",
     "text": [
      "Epoch: 64 - TrainLoss: 0.5232085955554041 - ValidLoss: 2.461582235221205\n",
      "Epoch: 64 - TrainACC: 0.8426630434782608 - ValidACC: 0.44262741891523577\n"
     ]
    },
    {
     "name": "stderr",
     "output_type": "stream",
     "text": [
      "100%|██████████████████████████████████████████████████████████████████████████████████████████████████████████████████████████████████████████████████████████████████████████████| 58/58 [00:30<00:00,  1.89it/s]\n",
      "100%|██████████████████████████████████████████████████████████████████████████████████████████████████████████████████████████████████████████████████████████████████████████████| 58/58 [00:10<00:00,  5.62it/s]\n"
     ]
    },
    {
     "name": "stdout",
     "output_type": "stream",
     "text": [
      "Epoch: 65 - TrainLoss: 0.4832787708989505 - ValidLoss: 2.3655401735470214\n",
      "Epoch: 65 - TrainACC: 0.8603260869565217 - ValidACC: 0.45216680294358136\n"
     ]
    },
    {
     "name": "stderr",
     "output_type": "stream",
     "text": [
      "100%|██████████████████████████████████████████████████████████████████████████████████████████████████████████████████████████████████████████████████████████████████████████████| 58/58 [00:30<00:00,  1.88it/s]\n",
      "100%|██████████████████████████████████████████████████████████████████████████████████████████████████████████████████████████████████████████████████████████████████████████████| 58/58 [00:10<00:00,  5.75it/s]\n"
     ]
    },
    {
     "name": "stdout",
     "output_type": "stream",
     "text": [
      "Epoch: 66 - TrainLoss: 0.4437270154213083 - ValidLoss: 2.3213572276049645\n",
      "Epoch: 66 - TrainACC: 0.8616847826086956 - ValidACC: 0.4420823112564731\n"
     ]
    },
    {
     "name": "stderr",
     "output_type": "stream",
     "text": [
      "100%|██████████████████████████████████████████████████████████████████████████████████████████████████████████████████████████████████████████████████████████████████████████████| 58/58 [00:30<00:00,  1.88it/s]\n",
      "100%|██████████████████████████████████████████████████████████████████████████████████████████████████████████████████████████████████████████████████████████████████████████████| 58/58 [00:10<00:00,  5.56it/s]\n"
     ]
    },
    {
     "name": "stdout",
     "output_type": "stream",
     "text": [
      "Epoch: 67 - TrainLoss: 0.4154527680627231 - ValidLoss: 2.4313801547576643\n",
      "Epoch: 67 - TrainACC: 0.8760869565217392 - ValidACC: 0.4475333878440992\n"
     ]
    },
    {
     "name": "stderr",
     "output_type": "stream",
     "text": [
      "100%|██████████████████████████████████████████████████████████████████████████████████████████████████████████████████████████████████████████████████████████████████████████████| 58/58 [00:30<00:00,  1.91it/s]\n",
      "100%|██████████████████████████████████████████████████████████████████████████████████████████████████████████████████████████████████████████████████████████████████████████████| 58/58 [00:10<00:00,  5.49it/s]\n"
     ]
    },
    {
     "name": "stdout",
     "output_type": "stream",
     "text": [
      "Epoch: 68 - TrainLoss: 0.4143962161294345 - ValidLoss: 2.2777250881852775\n",
      "Epoch: 68 - TrainACC: 0.8701086956521739 - ValidACC: 0.4668847097301717\n"
     ]
    },
    {
     "name": "stderr",
     "output_type": "stream",
     "text": [
      "100%|██████████████████████████████████████████████████████████████████████████████████████████████████████████████████████████████████████████████████████████████████████████████| 58/58 [00:31<00:00,  1.87it/s]\n",
      "100%|██████████████████████████████████████████████████████████████████████████████████████████████████████████████████████████████████████████████████████████████████████████████| 58/58 [00:10<00:00,  5.69it/s]\n"
     ]
    },
    {
     "name": "stdout",
     "output_type": "stream",
     "text": [
      "Epoch: 69 - TrainLoss: 0.3770759591254695 - ValidLoss: 2.378913291569414\n",
      "Epoch: 69 - TrainACC: 0.8926630434782609 - ValidACC: 0.47124557100027253\n"
     ]
    },
    {
     "name": "stderr",
     "output_type": "stream",
     "text": [
      "100%|██████████████████████████████████████████████████████████████████████████████████████████████████████████████████████████████████████████████████████████████████████████████| 58/58 [00:31<00:00,  1.85it/s]\n",
      "100%|██████████████████████████████████████████████████████████████████████████████████████████████████████████████████████████████████████████████████████████████████████████████| 58/58 [00:10<00:00,  5.53it/s]\n"
     ]
    },
    {
     "name": "stdout",
     "output_type": "stream",
     "text": [
      "Epoch: 70 - TrainLoss: 0.3377056234869464 - ValidLoss: 2.3079614885922135\n",
      "Epoch: 70 - TrainACC: 0.9081521739130435 - ValidACC: 0.4674298173889343\n"
     ]
    },
    {
     "name": "stderr",
     "output_type": "stream",
     "text": [
      "100%|██████████████████████████████████████████████████████████████████████████████████████████████████████████████████████████████████████████████████████████████████████████████| 58/58 [00:31<00:00,  1.87it/s]\n",
      "100%|██████████████████████████████████████████████████████████████████████████████████████████████████████████████████████████████████████████████████████████████████████████████| 58/58 [00:10<00:00,  5.68it/s]\n"
     ]
    },
    {
     "name": "stdout",
     "output_type": "stream",
     "text": [
      "Epoch: 71 - TrainLoss: 0.31527127402609795 - ValidLoss: 2.398324031254341\n",
      "Epoch: 71 - TrainACC: 0.9141304347826087 - ValidACC: 0.4627964022894522\n"
     ]
    },
    {
     "name": "stderr",
     "output_type": "stream",
     "text": [
      "100%|██████████████████████████████████████████████████████████████████████████████████████████████████████████████████████████████████████████████████████████████████████████████| 58/58 [00:30<00:00,  1.88it/s]\n",
      "100%|██████████████████████████████████████████████████████████████████████████████████████████████████████████████████████████████████████████████████████████████████████████████| 58/58 [00:10<00:00,  5.61it/s]\n"
     ]
    },
    {
     "name": "stdout",
     "output_type": "stream",
     "text": [
      "Epoch: 72 - TrainLoss: 0.3066100704258886 - ValidLoss: 2.435624634397441\n",
      "Epoch: 72 - TrainACC: 0.9198369565217391 - ValidACC: 0.4584355410193513\n"
     ]
    },
    {
     "name": "stderr",
     "output_type": "stream",
     "text": [
      "100%|██████████████████████████████████████████████████████████████████████████████████████████████████████████████████████████████████████████████████████████████████████████████| 58/58 [00:30<00:00,  1.88it/s]\n",
      "100%|██████████████████████████████████████████████████████████████████████████████████████████████████████████████████████████████████████████████████████████████████████████████| 58/58 [00:10<00:00,  5.56it/s]\n"
     ]
    },
    {
     "name": "stdout",
     "output_type": "stream",
     "text": [
      "Epoch: 73 - TrainLoss: 0.2771907677424365 - ValidLoss: 2.3937306856286935\n",
      "Epoch: 73 - TrainACC: 0.928804347826087 - ValidACC: 0.4630689561188335\n"
     ]
    },
    {
     "name": "stderr",
     "output_type": "stream",
     "text": [
      "100%|██████████████████████████████████████████████████████████████████████████████████████████████████████████████████████████████████████████████████████████████████████████████| 58/58 [00:30<00:00,  1.89it/s]\n",
      "100%|██████████████████████████████████████████████████████████████████████████████████████████████████████████████████████████████████████████████████████████████████████████████| 58/58 [00:10<00:00,  5.49it/s]\n"
     ]
    },
    {
     "name": "stdout",
     "output_type": "stream",
     "text": [
      "Epoch: 74 - TrainLoss: 0.26604902641526584 - ValidLoss: 2.404836085335962\n",
      "Epoch: 74 - TrainACC: 0.9320652173913043 - ValidACC: 0.46061597165440177\n"
     ]
    },
    {
     "name": "stderr",
     "output_type": "stream",
     "text": [
      "100%|██████████████████████████████████████████████████████████████████████████████████████████████████████████████████████████████████████████████████████████████████████████████| 58/58 [00:30<00:00,  1.90it/s]\n",
      "100%|██████████████████████████████████████████████████████████████████████████████████████████████████████████████████████████████████████████████████████████████████████████████| 58/58 [00:10<00:00,  5.60it/s]\n"
     ]
    },
    {
     "name": "stdout",
     "output_type": "stream",
     "text": [
      "Epoch: 75 - TrainLoss: 0.24270958941558313 - ValidLoss: 2.3678560421384613\n",
      "Epoch: 75 - TrainACC: 0.9358695652173913 - ValidACC: 0.476151539929136\n"
     ]
    },
    {
     "name": "stderr",
     "output_type": "stream",
     "text": [
      "100%|██████████████████████████████████████████████████████████████████████████████████████████████████████████████████████████████████████████████████████████████████████████████| 58/58 [00:31<00:00,  1.87it/s]\n",
      "100%|██████████████████████████████████████████████████████████████████████████████████████████████████████████████████████████████████████████████████████████████████████████████| 58/58 [00:10<00:00,  5.54it/s]\n"
     ]
    },
    {
     "name": "stdout",
     "output_type": "stream",
     "text": [
      "Epoch: 76 - TrainLoss: 0.23253086748821983 - ValidLoss: 2.428066113899494\n",
      "Epoch: 76 - TrainACC: 0.9456521739130435 - ValidACC: 0.4625238484600709\n"
     ]
    },
    {
     "name": "stderr",
     "output_type": "stream",
     "text": [
      "100%|██████████████████████████████████████████████████████████████████████████████████████████████████████████████████████████████████████████████████████████████████████████████| 58/58 [00:30<00:00,  1.88it/s]\n",
      "100%|██████████████████████████████████████████████████████████████████████████████████████████████████████████████████████████████████████████████████████████████████████████████| 58/58 [00:10<00:00,  5.61it/s]\n"
     ]
    },
    {
     "name": "stdout",
     "output_type": "stream",
     "text": [
      "Epoch: 77 - TrainLoss: 0.21997426809935733 - ValidLoss: 2.5951785979599786\n",
      "Epoch: 77 - TrainACC: 0.9510869565217391 - ValidACC: 0.4655219405832652\n"
     ]
    },
    {
     "name": "stderr",
     "output_type": "stream",
     "text": [
      "100%|██████████████████████████████████████████████████████████████████████████████████████████████████████████████████████████████████████████████████████████████████████████████| 58/58 [00:31<00:00,  1.86it/s]\n",
      "100%|██████████████████████████████████████████████████████████████████████████████████████████████████████████████████████████████████████████████████████████████████████████████| 58/58 [00:10<00:00,  5.60it/s]\n"
     ]
    },
    {
     "name": "stdout",
     "output_type": "stream",
     "text": [
      "Epoch: 78 - TrainLoss: 0.22112698403411898 - ValidLoss: 2.4006673878636855\n",
      "Epoch: 78 - TrainACC: 0.9489130434782609 - ValidACC: 0.48160261651676206\n"
     ]
    },
    {
     "name": "stderr",
     "output_type": "stream",
     "text": [
      "100%|██████████████████████████████████████████████████████████████████████████████████████████████████████████████████████████████████████████████████████████████████████████████| 58/58 [00:30<00:00,  1.89it/s]\n",
      "100%|██████████████████████████████████████████████████████████████████████████████████████████████████████████████████████████████████████████████████████████████████████████████| 58/58 [00:10<00:00,  5.56it/s]\n"
     ]
    },
    {
     "name": "stdout",
     "output_type": "stream",
     "text": [
      "Epoch: 79 - TrainLoss: 0.19455834336835762 - ValidLoss: 2.4827095496243445\n",
      "Epoch: 79 - TrainACC: 0.95625 - ValidACC: 0.4783319705641864\n"
     ]
    },
    {
     "name": "stderr",
     "output_type": "stream",
     "text": [
      "100%|██████████████████████████████████████████████████████████████████████████████████████████████████████████████████████████████████████████████████████████████████████████████| 58/58 [00:30<00:00,  1.90it/s]\n",
      "100%|██████████████████████████████████████████████████████████████████████████████████████████████████████████████████████████████████████████████████████████████████████████████| 58/58 [00:10<00:00,  5.45it/s]\n"
     ]
    },
    {
     "name": "stdout",
     "output_type": "stream",
     "text": [
      "Epoch: 80 - TrainLoss: 0.1974938129042757 - ValidLoss: 2.44866490569608\n",
      "Epoch: 80 - TrainACC: 0.9567934782608696 - ValidACC: 0.47260834014717906\n"
     ]
    },
    {
     "name": "stderr",
     "output_type": "stream",
     "text": [
      "100%|██████████████████████████████████████████████████████████████████████████████████████████████████████████████████████████████████████████████████████████████████████████████| 58/58 [00:31<00:00,  1.87it/s]\n",
      "100%|██████████████████████████████████████████████████████████████████████████████████████████████████████████████████████████████████████████████████████████████████████████████| 58/58 [00:10<00:00,  5.65it/s]\n"
     ]
    },
    {
     "name": "stdout",
     "output_type": "stream",
     "text": [
      "Epoch: 81 - TrainLoss: 0.19363652991837468 - ValidLoss: 2.463498890399933\n",
      "Epoch: 81 - TrainACC: 0.9581521739130435 - ValidACC: 0.467157263559553\n"
     ]
    },
    {
     "name": "stderr",
     "output_type": "stream",
     "text": [
      "100%|██████████████████████████████████████████████████████████████████████████████████████████████████████████████████████████████████████████████████████████████████████████████| 58/58 [00:30<00:00,  1.89it/s]\n",
      "100%|██████████████████████████████████████████████████████████████████████████████████████████████████████████████████████████████████████████████████████████████████████████████| 58/58 [00:10<00:00,  5.66it/s]\n"
     ]
    },
    {
     "name": "stdout",
     "output_type": "stream",
     "text": [
      "Epoch: 82 - TrainLoss: 0.17200872276363702 - ValidLoss: 2.457583998811656\n",
      "Epoch: 82 - TrainACC: 0.964945652173913 - ValidACC: 0.47124557100027253\n"
     ]
    },
    {
     "name": "stderr",
     "output_type": "stream",
     "text": [
      "100%|██████████████████████████████████████████████████████████████████████████████████████████████████████████████████████████████████████████████████████████████████████████████| 58/58 [00:30<00:00,  1.88it/s]\n",
      "100%|██████████████████████████████████████████████████████████████████████████████████████████████████████████████████████████████████████████████████████████████████████████████| 58/58 [00:10<00:00,  5.62it/s]\n"
     ]
    },
    {
     "name": "stdout",
     "output_type": "stream",
     "text": [
      "Epoch: 83 - TrainLoss: 0.15759217263809566 - ValidLoss: 2.5212981125404097\n",
      "Epoch: 83 - TrainACC: 0.9684782608695652 - ValidACC: 0.47260834014717906\n"
     ]
    },
    {
     "name": "stderr",
     "output_type": "stream",
     "text": [
      "100%|██████████████████████████████████████████████████████████████████████████████████████████████████████████████████████████████████████████████████████████████████████████████| 58/58 [00:31<00:00,  1.86it/s]\n",
      "100%|██████████████████████████████████████████████████████████████████████████████████████████████████████████████████████████████████████████████████████████████████████████████| 58/58 [00:10<00:00,  5.51it/s]\n"
     ]
    },
    {
     "name": "stdout",
     "output_type": "stream",
     "text": [
      "Epoch: 84 - TrainLoss: 0.16234097398560624 - ValidLoss: 2.4593413883242112\n",
      "Epoch: 84 - TrainACC: 0.9679347826086957 - ValidACC: 0.48432815481057506\n"
     ]
    },
    {
     "name": "stderr",
     "output_type": "stream",
     "text": [
      "100%|██████████████████████████████████████████████████████████████████████████████████████████████████████████████████████████████████████████████████████████████████████████████| 58/58 [00:30<00:00,  1.89it/s]\n",
      "100%|██████████████████████████████████████████████████████████████████████████████████████████████████████████████████████████████████████████████████████████████████████████████| 58/58 [00:10<00:00,  5.66it/s]\n"
     ]
    },
    {
     "name": "stdout",
     "output_type": "stream",
     "text": [
      "Epoch: 85 - TrainLoss: 0.14850618934323048 - ValidLoss: 2.4857058360658844\n",
      "Epoch: 85 - TrainACC: 0.972554347826087 - ValidACC: 0.48023984736985553\n"
     ]
    },
    {
     "name": "stderr",
     "output_type": "stream",
     "text": [
      "100%|██████████████████████████████████████████████████████████████████████████████████████████████████████████████████████████████████████████████████████████████████████████████| 58/58 [00:31<00:00,  1.87it/s]\n",
      "100%|██████████████████████████████████████████████████████████████████████████████████████████████████████████████████████████████████████████████████████████████████████████████| 58/58 [00:10<00:00,  5.64it/s]\n"
     ]
    },
    {
     "name": "stdout",
     "output_type": "stream",
     "text": [
      "Epoch: 86 - TrainLoss: 0.15228573798105635 - ValidLoss: 2.4839503210166405\n",
      "Epoch: 86 - TrainACC: 0.9698369565217392 - ValidACC: 0.47506132461161077\n"
     ]
    },
    {
     "name": "stderr",
     "output_type": "stream",
     "text": [
      "100%|██████████████████████████████████████████████████████████████████████████████████████████████████████████████████████████████████████████████████████████████████████████████| 58/58 [00:31<00:00,  1.86it/s]\n",
      "100%|██████████████████████████████████████████████████████████████████████████████████████████████████████████████████████████████████████████████████████████████████████████████| 58/58 [00:10<00:00,  5.66it/s]\n"
     ]
    },
    {
     "name": "stdout",
     "output_type": "stream",
     "text": [
      "Epoch: 87 - TrainLoss: 0.1383237236275755 - ValidLoss: 2.480632282536605\n",
      "Epoch: 87 - TrainACC: 0.9755434782608695 - ValidACC: 0.47288089397656036\n"
     ]
    },
    {
     "name": "stderr",
     "output_type": "stream",
     "text": [
      "100%|██████████████████████████████████████████████████████████████████████████████████████████████████████████████████████████████████████████████████████████████████████████████| 58/58 [00:30<00:00,  1.87it/s]\n",
      "100%|██████████████████████████████████████████████████████████████████████████████████████████████████████████████████████████████████████████████████████████████████████████████| 58/58 [00:10<00:00,  5.67it/s]\n"
     ]
    },
    {
     "name": "stdout",
     "output_type": "stream",
     "text": [
      "Epoch: 88 - TrainLoss: 0.1467382525061739 - ValidLoss: 2.4877224872852195\n",
      "Epoch: 88 - TrainACC: 0.9714673913043478 - ValidACC: 0.48242027800490594\n"
     ]
    },
    {
     "name": "stderr",
     "output_type": "stream",
     "text": [
      "100%|██████████████████████████████████████████████████████████████████████████████████████████████████████████████████████████████████████████████████████████████████████████████| 58/58 [00:31<00:00,  1.86it/s]\n",
      "100%|██████████████████████████████████████████████████████████████████████████████████████████████████████████████████████████████████████████████████████████████████████████████| 58/58 [00:10<00:00,  5.64it/s]\n"
     ]
    },
    {
     "name": "stdout",
     "output_type": "stream",
     "text": [
      "Epoch: 89 - TrainLoss: 0.13303726205024227 - ValidLoss: 2.4768425801704668\n",
      "Epoch: 89 - TrainACC: 0.9771739130434782 - ValidACC: 0.4829653856636686\n"
     ]
    },
    {
     "name": "stderr",
     "output_type": "stream",
     "text": [
      "100%|██████████████████████████████████████████████████████████████████████████████████████████████████████████████████████████████████████████████████████████████████████████████| 58/58 [00:31<00:00,  1.87it/s]\n",
      "100%|██████████████████████████████████████████████████████████████████████████████████████████████████████████████████████████████████████████████████████████████████████████████| 58/58 [00:10<00:00,  5.72it/s]\n"
     ]
    },
    {
     "name": "stdout",
     "output_type": "stream",
     "text": [
      "Epoch: 90 - TrainLoss: 0.1292420040559152 - ValidLoss: 2.4630790517247956\n",
      "Epoch: 90 - TrainACC: 0.9769021739130435 - ValidACC: 0.47751430907604253\n"
     ]
    },
    {
     "name": "stderr",
     "output_type": "stream",
     "text": [
      "100%|██████████████████████████████████████████████████████████████████████████████████████████████████████████████████████████████████████████████████████████████████████████████| 58/58 [00:30<00:00,  1.87it/s]\n",
      "100%|██████████████████████████████████████████████████████████████████████████████████████████████████████████████████████████████████████████████████████████████████████████████| 58/58 [00:10<00:00,  5.50it/s]\n"
     ]
    },
    {
     "name": "stdout",
     "output_type": "stream",
     "text": [
      "Epoch: 91 - TrainLoss: 0.13387549495131806 - ValidLoss: 2.4850197331658723\n",
      "Epoch: 91 - TrainACC: 0.9766304347826087 - ValidACC: 0.48160261651676206\n"
     ]
    },
    {
     "name": "stderr",
     "output_type": "stream",
     "text": [
      "100%|██████████████████████████████████████████████████████████████████████████████████████████████████████████████████████████████████████████████████████████████████████████████| 58/58 [00:30<00:00,  1.89it/s]\n",
      "100%|██████████████████████████████████████████████████████████████████████████████████████████████████████████████████████████████████████████████████████████████████████████████| 58/58 [00:10<00:00,  5.57it/s]\n"
     ]
    },
    {
     "name": "stdout",
     "output_type": "stream",
     "text": [
      "Epoch: 92 - TrainLoss: 0.13437663352695003 - ValidLoss: 2.4779638134199997\n",
      "Epoch: 92 - TrainACC: 0.9747282608695652 - ValidACC: 0.4756064322703734\n"
     ]
    },
    {
     "name": "stderr",
     "output_type": "stream",
     "text": [
      "100%|██████████████████████████████████████████████████████████████████████████████████████████████████████████████████████████████████████████████████████████████████████████████| 58/58 [00:31<00:00,  1.86it/s]\n",
      "100%|██████████████████████████████████████████████████████████████████████████████████████████████████████████████████████████████████████████████████████████████████████████████| 58/58 [00:10<00:00,  5.54it/s]\n"
     ]
    },
    {
     "name": "stdout",
     "output_type": "stream",
     "text": [
      "Epoch: 93 - TrainLoss: 0.13563905836179338 - ValidLoss: 2.4687797447730757\n",
      "Epoch: 93 - TrainACC: 0.9752717391304347 - ValidACC: 0.48023984736985553\n"
     ]
    },
    {
     "name": "stderr",
     "output_type": "stream",
     "text": [
      "100%|██████████████████████████████████████████████████████████████████████████████████████████████████████████████████████████████████████████████████████████████████████████████| 58/58 [00:30<00:00,  1.88it/s]\n",
      "100%|██████████████████████████████████████████████████████████████████████████████████████████████████████████████████████████████████████████████████████████████████████████████| 58/58 [00:10<00:00,  5.63it/s]\n"
     ]
    },
    {
     "name": "stdout",
     "output_type": "stream",
     "text": [
      "Epoch: 94 - TrainLoss: 0.13120445878855114 - ValidLoss: 2.4491452410303314\n",
      "Epoch: 94 - TrainACC: 0.9747282608695652 - ValidACC: 0.473426001635323\n"
     ]
    },
    {
     "name": "stderr",
     "output_type": "stream",
     "text": [
      "100%|██████████████████████████████████████████████████████████████████████████████████████████████████████████████████████████████████████████████████████████████████████████████| 58/58 [00:31<00:00,  1.86it/s]\n",
      "100%|██████████████████████████████████████████████████████████████████████████████████████████████████████████████████████████████████████████████████████████████████████████████| 58/58 [00:10<00:00,  5.66it/s]\n"
     ]
    },
    {
     "name": "stdout",
     "output_type": "stream",
     "text": [
      "Epoch: 95 - TrainLoss: 0.13601444905688023 - ValidLoss: 2.48492646833946\n",
      "Epoch: 95 - TrainACC: 0.9733695652173913 - ValidACC: 0.4783319705641864\n"
     ]
    },
    {
     "name": "stderr",
     "output_type": "stream",
     "text": [
      "100%|██████████████████████████████████████████████████████████████████████████████████████████████████████████████████████████████████████████████████████████████████████████████| 58/58 [00:30<00:00,  1.88it/s]\n",
      "100%|██████████████████████████████████████████████████████████████████████████████████████████████████████████████████████████████████████████████████████████████████████████████| 58/58 [00:10<00:00,  5.69it/s]\n"
     ]
    },
    {
     "name": "stdout",
     "output_type": "stream",
     "text": [
      "Epoch: 96 - TrainLoss: 0.12625762935856294 - ValidLoss: 2.446611836038787\n",
      "Epoch: 96 - TrainACC: 0.9771739130434782 - ValidACC: 0.4807849550286182\n"
     ]
    },
    {
     "name": "stderr",
     "output_type": "stream",
     "text": [
      "100%|██████████████████████████████████████████████████████████████████████████████████████████████████████████████████████████████████████████████████████████████████████████████| 58/58 [00:30<00:00,  1.90it/s]\n",
      "100%|██████████████████████████████████████████████████████████████████████████████████████████████████████████████████████████████████████████████████████████████████████████████| 58/58 [00:10<00:00,  5.63it/s]\n"
     ]
    },
    {
     "name": "stdout",
     "output_type": "stream",
     "text": [
      "Epoch: 97 - TrainLoss: 0.1298510174042192 - ValidLoss: 2.4520244618942\n",
      "Epoch: 97 - TrainACC: 0.9758152173913044 - ValidACC: 0.4963205233033524\n"
     ]
    },
    {
     "name": "stderr",
     "output_type": "stream",
     "text": [
      "100%|██████████████████████████████████████████████████████████████████████████████████████████████████████████████████████████████████████████████████████████████████████████████| 58/58 [00:30<00:00,  1.91it/s]\n",
      "100%|██████████████████████████████████████████████████████████████████████████████████████████████████████████████████████████████████████████████████████████████████████████████| 58/58 [00:10<00:00,  5.75it/s]\n"
     ]
    },
    {
     "name": "stdout",
     "output_type": "stream",
     "text": [
      "Epoch: 98 - TrainLoss: 0.13880460002812847 - ValidLoss: 2.4420919685528197\n",
      "Epoch: 98 - TrainACC: 0.9706521739130435 - ValidACC: 0.48105750885799947\n"
     ]
    },
    {
     "name": "stderr",
     "output_type": "stream",
     "text": [
      "100%|██████████████████████████████████████████████████████████████████████████████████████████████████████████████████████████████████████████████████████████████████████████████| 58/58 [00:30<00:00,  1.90it/s]\n",
      "100%|██████████████████████████████████████████████████████████████████████████████████████████████████████████████████████████████████████████████████████████████████████████████| 58/58 [00:10<00:00,  5.61it/s]"
     ]
    },
    {
     "name": "stdout",
     "output_type": "stream",
     "text": [
      "Epoch: 99 - TrainLoss: 0.12355983604131074 - ValidLoss: 2.485822529628359\n",
      "Epoch: 99 - TrainACC: 0.9820652173913044 - ValidACC: 0.47942218588171165\n"
     ]
    },
    {
     "name": "stderr",
     "output_type": "stream",
     "text": [
      "\n"
     ]
    },
    {
     "data": {
      "text/plain": [
       "<All keys matched successfully>"
      ]
     },
     "execution_count": 8,
     "metadata": {},
     "output_type": "execute_result"
    }
   ],
   "source": [
    "old_loss = 1e26\n",
    "best_dct = None\n",
    "last_dst = None\n",
    "for epoch in range(epochs):\n",
    "    model.train()\n",
    "    tr_total_loss = 0\n",
    "    tr_total_corr = 0 \n",
    "    for train_img, train_cate in tqdm(train_dl):\n",
    "        train_img = train_img.to(device)\n",
    "        train_cate = train_cate.to(device)\n",
    "\n",
    "        train_logits = model(train_img)\n",
    "        train_loss = loss_fn(train_logits, train_cate)\n",
    "\n",
    "        optimizer.zero_grad()\n",
    "        train_loss.backward()\n",
    "        optimizer.step()\n",
    "\n",
    "        scheduler.step()\n",
    "\n",
    "        tr_total_loss += train_loss.item()\n",
    "        tr_total_corr += (train_logits.argmax(dim=1) == train_cate).sum().item()\n",
    "\n",
    "    model.eval()\n",
    "    with torch.no_grad():\n",
    "        va_total_loss = 0\n",
    "        va_total_corr = 0\n",
    "        for valid_img, valid_cate in tqdm(test_dl):\n",
    "            valid_img = valid_img.to(device)\n",
    "            valid_cate = valid_cate.to(device)\n",
    "            \n",
    "            valid_logits = model(valid_img)\n",
    "            valid_loss = loss_fn(valid_logits, valid_cate)\n",
    "\n",
    "            va_total_loss += valid_loss.item()\n",
    "            va_total_corr += (valid_logits.argmax(dim=1) == valid_cate).sum().item()\n",
    "            \n",
    "    mean_train_loss = tr_total_loss/len(train_dl)\n",
    "    mean_valid_loss = va_total_loss/len(test_dl)\n",
    "\n",
    "    if mean_valid_loss <= old_loss:\n",
    "        old_loss = mean_valid_loss\n",
    "        best_dct = model.state_dict()\n",
    "    \n",
    "    last_dct = model.state_dict()\n",
    "\n",
    "    mean_train_corr = tr_total_corr/len(train_ds)\n",
    "    mean_valid_corr = va_total_corr/len(test_ds)\n",
    "\n",
    "    print(f\"Epoch: {epoch} - TrainLoss: {mean_train_loss} - ValidLoss: {mean_valid_loss}\")\n",
    "    print(f\"Epoch: {epoch} - TrainACC: {mean_train_corr} - ValidACC: {mean_valid_corr}\")\n",
    "model.load_state_dict(best_dct)"
   ]
  },
  {
   "cell_type": "code",
   "execution_count": 9,
   "id": "f3e2d73d-f013-4a5d-a32d-eaf5fee417c6",
   "metadata": {
    "execution": {
     "iopub.execute_input": "2023-11-09T05:29:05.805400Z",
     "iopub.status.busy": "2023-11-09T05:29:05.805272Z",
     "iopub.status.idle": "2023-11-09T05:29:15.998982Z",
     "shell.execute_reply": "2023-11-09T05:29:15.998480Z"
    }
   },
   "outputs": [
    {
     "name": "stderr",
     "output_type": "stream",
     "text": [
      "100%|██████████████████████████████████████████████████████████████████████████████████████████████████████████████████████████████████████████████████████████████████████████████| 58/58 [00:10<00:00,  5.69it/s]"
     ]
    },
    {
     "name": "stdout",
     "output_type": "stream",
     "text": [
      "TestLoss: 2.497348629195115 - TestACC: 0.48814390842191335\n"
     ]
    },
    {
     "name": "stderr",
     "output_type": "stream",
     "text": [
      "\n"
     ]
    }
   ],
   "source": [
    "model.eval()\n",
    "with torch.no_grad():\n",
    "    ts_total_loss = 0\n",
    "    ts_total_corr = 0\n",
    "    for test_img, test_cate in tqdm(test_dl):\n",
    "        test_img = test_img.to(device)\n",
    "        test_cate = test_cate.to(device)\n",
    "        \n",
    "        test_logits = model(test_img)\n",
    "        test_loss = loss_fn(test_logits, test_cate)\n",
    "\n",
    "        ts_total_loss += test_loss.cpu().item()\n",
    "        ts_total_corr += (test_logits.argmax(dim=1) == test_cate).sum().item()\n",
    "\n",
    "mean_test_loss = ts_total_loss/len(test_dl)\n",
    "mean_test_corr = ts_total_corr/len(test_ds)\n",
    "\n",
    "print(f\"TestLoss: {mean_test_loss} - TestACC: {mean_test_corr}\")"
   ]
  }
 ],
 "metadata": {
  "kernelspec": {
   "display_name": "Python 3 (ipykernel)",
   "language": "python",
   "name": "python3"
  },
  "language_info": {
   "codemirror_mode": {
    "name": "ipython",
    "version": 3
   },
   "file_extension": ".py",
   "mimetype": "text/x-python",
   "name": "python",
   "nbconvert_exporter": "python",
   "pygments_lexer": "ipython3",
   "version": "3.10.7"
  },
  "widgets": {
   "application/vnd.jupyter.widget-state+json": {
    "state": {},
    "version_major": 2,
    "version_minor": 0
   }
  }
 },
 "nbformat": 4,
 "nbformat_minor": 5
}
