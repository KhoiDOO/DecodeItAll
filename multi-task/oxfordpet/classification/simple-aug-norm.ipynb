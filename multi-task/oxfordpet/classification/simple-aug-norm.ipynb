{
 "cells": [
  {
   "cell_type": "code",
   "execution_count": 1,
   "id": "4b1b5744-347d-4d04-b2ca-ee910180718a",
   "metadata": {},
   "outputs": [],
   "source": [
    "import os\n",
    "import pandas as pd\n",
    "import matplotlib.pyplot as plt\n",
    "import seaborn as sns\n",
    "from tqdm import tqdm\n",
    "import numpy as np\n",
    "import cv2\n",
    "from PIL import Image\n",
    "\n",
    "import torch\n",
    "from torch.autograd import Variable\n",
    "from torch import nn\n",
    "from torch.optim import Adam\n",
    "from torch.optim.lr_scheduler import CosineAnnealingLR\n",
    "from torch.utils.data import Dataset, DataLoader\n",
    "from torchvision.datasets import OxfordIIITPet\n",
    "from torchvision import transforms\n",
    "import torchvision as tv\n",
    "import torch.nn.functional as F\n",
    "from torch import Tensor"
   ]
  },
  {
   "cell_type": "code",
   "execution_count": 2,
   "id": "dd3dda1f-3279-42d5-bac2-0e815ddaf231",
   "metadata": {},
   "outputs": [
    {
     "name": "stdout",
     "output_type": "stream",
     "text": [
      "#Training Samples: 3680\n",
      "#Testing Samples: 3669\n",
      "#Training Batch: 58\n",
      "#Testing Batch: 58\n",
      "# Class: 37\n"
     ]
    }
   ],
   "source": [
    "transform = transforms.Compose(\n",
    "    [\n",
    "        transforms.Resize((256, 256)),\n",
    "        transforms.RandomHorizontalFlip(0.3),\n",
    "        transforms.RandomAffine(\n",
    "            degrees=(-3, 3), translate=(0.05, 0.05),\n",
    "            interpolation=tv.transforms.InterpolationMode.BILINEAR\n",
    "        ),\n",
    "        transforms.ToTensor(), \n",
    "        transforms.Normalize(mean=[0.5, 0.5, 0.5], std=[0.5, 0.5, 0.5]),\n",
    "    ]\n",
    ")\n",
    "\n",
    "train_ds = OxfordIIITPet(\n",
    "    root = \"~/data\", split = \"trainval\", target_types = \"category\", transform = transform, download = True\n",
    ")\n",
    "\n",
    "test_ds = OxfordIIITPet(\n",
    "    root = \"~/data\", split = \"test\", target_types = \"category\", transform = transform, download = True\n",
    ")\n",
    "\n",
    "train_dl = DataLoader(train_ds, batch_size=64, shuffle=True, pin_memory = True, num_workers=24)\n",
    "test_dl = DataLoader(test_ds, batch_size=64, shuffle=True, pin_memory = True, num_workers=24)\n",
    "\n",
    "print(\"#Training Samples: {}\".format(len(train_ds)))\n",
    "print(\"#Testing Samples: {}\".format(len(test_ds)))\n",
    "print(\"#Training Batch: {}\".format(len(train_dl)))\n",
    "print(\"#Testing Batch: {}\".format(len(test_dl)))\n",
    "\n",
    "print(\"# Class: {}\".format(len(train_ds.class_to_idx)))"
   ]
  },
  {
   "cell_type": "code",
   "execution_count": 3,
   "id": "9a11da1f-3eac-4880-a859-ee503d85597e",
   "metadata": {},
   "outputs": [
    {
     "name": "stdout",
     "output_type": "stream",
     "text": [
      "data shape: torch.Size([3, 256, 256])\n",
      "cate data/type: 2/<class 'int'>\n"
     ]
    }
   ],
   "source": [
    "sample_data, sample_cate = train_ds[100]\n",
    "\n",
    "print(f\"data shape: {sample_data.shape}\")\n",
    "print(f\"cate data/type: {sample_cate}/{type(sample_cate)}\")"
   ]
  },
  {
   "cell_type": "code",
   "execution_count": 4,
   "id": "b7739b6d-78e2-4ae2-8c20-3db8c2fb1477",
   "metadata": {},
   "outputs": [],
   "source": [
    "class DoubleConv(nn.Module):\n",
    "    def __init__(self, in_channels, out_channels, mid_channels=None):\n",
    "        super().__init__()\n",
    "        if not mid_channels:\n",
    "            mid_channels = out_channels\n",
    "        self.double_conv = nn.Sequential(\n",
    "            nn.Conv2d(in_channels, mid_channels, kernel_size=3, padding=1, bias=False),\n",
    "            nn.BatchNorm2d(mid_channels),\n",
    "            nn.ReLU(inplace=True),\n",
    "            nn.Conv2d(mid_channels, out_channels, kernel_size=3, padding=1, bias=False),\n",
    "            nn.BatchNorm2d(out_channels),\n",
    "            nn.ReLU(inplace=True)\n",
    "        )\n",
    "\n",
    "    def forward(self, x):\n",
    "        return self.double_conv(x)"
   ]
  },
  {
   "cell_type": "code",
   "execution_count": 5,
   "id": "9098f576-a8f0-4358-ad6a-1593bc1cc65a",
   "metadata": {},
   "outputs": [],
   "source": [
    "class Down(nn.Module):\n",
    "\n",
    "    def __init__(self, in_channels, out_channels):\n",
    "        super().__init__()\n",
    "        self.maxpool_conv = nn.Sequential(\n",
    "            nn.MaxPool2d(2),\n",
    "            DoubleConv(in_channels, out_channels)\n",
    "        )\n",
    "\n",
    "    def forward(self, x):\n",
    "        return self.maxpool_conv(x)"
   ]
  },
  {
   "cell_type": "code",
   "execution_count": 6,
   "id": "710baa49-d3cc-4d14-bd3e-e4d351977c5b",
   "metadata": {},
   "outputs": [],
   "source": [
    "class UNet(nn.Module):\n",
    "    def __init__(self, n_channels, n_classes):\n",
    "        super(UNet, self).__init__()\n",
    "        self.n_channels = n_channels\n",
    "        self.n_classes = n_classes\n",
    "\n",
    "        self.inc = (DoubleConv(n_channels, 64))\n",
    "        self.down1 = (Down(64, 128)) #64, 128\n",
    "        self.down2 = (Down(128, 256)) #128, 256\n",
    "        self.down3 = (Down(256, 512)) #256, 512\n",
    "        self.down4 = (Down(512, 1024))\n",
    "        self.down5 = (Down(1024, 2048))\n",
    "        # self.down6 = (Down(1024, 2048))\n",
    "        \n",
    "        self.classifier = nn.Sequential(\n",
    "            # nn.AdaptiveAvgPool2d((1, 1)),\n",
    "            # nn.Flatten(),\n",
    "            nn.Linear(2048, 256),\n",
    "            nn.ReLU(),\n",
    "            nn.Linear(256, self.n_classes)\n",
    "        )\n",
    "\n",
    "    def forward(self, x):\n",
    "        x = self.inc(x)\n",
    "        x = self.down1(x)\n",
    "        x = self.down2(x)\n",
    "        x = self.down3(x)\n",
    "        x = self.down4(x)\n",
    "        x = self.down5(x)\n",
    "        # x = self.down6(x)\n",
    "        logits = self.classifier(x.mean(dim=(2, 3)))\n",
    "        return logits"
   ]
  },
  {
   "cell_type": "code",
   "execution_count": 7,
   "id": "7e6dea1f-82fa-410a-a272-6f7ff76436b7",
   "metadata": {},
   "outputs": [],
   "source": [
    "device = torch.device(\"cuda\" if torch.cuda.is_available() else \"cpu\", index = 0)\n",
    "\n",
    "model = UNet(3, 37).to(device)\n",
    "# model = tv.models.resnet18(num_classes = x = self.inc(x)37).to(device)\n",
    "\n",
    "optimizer = Adam(params = model.parameters(), lr = 0.001)\n",
    "\n",
    "epochs = 100\n",
    "\n",
    "scheduler = CosineAnnealingLR(optimizer, epochs * len(train_dl))\n",
    "\n",
    "loss_fn = nn.CrossEntropyLoss()"
   ]
  },
  {
   "cell_type": "code",
   "execution_count": null,
   "id": "4a99ec3c-7a07-41d9-889c-912b909532fa",
   "metadata": {},
   "outputs": [
    {
     "name": "stderr",
     "output_type": "stream",
     "text": [
      "100%|████████████████████████████████████████████████████████████████████| 58/58 [00:24<00:00,  2.33it/s]\n",
      "100%|████████████████████████████████████████████████████████████████████| 58/58 [00:07<00:00,  7.26it/s]\n"
     ]
    },
    {
     "name": "stdout",
     "output_type": "stream",
     "text": [
      "Epoch: 0 - TrainLoss: 3.655877479191484 - ValidLoss: 3.6279674398488013\n",
      "Epoch: 0 - TrainACC: 0.027717391304347826 - ValidACC: 0.035977105478331974\n"
     ]
    },
    {
     "name": "stderr",
     "output_type": "stream",
     "text": [
      "100%|████████████████████████████████████████████████████████████████████| 58/58 [00:22<00:00,  2.56it/s]\n",
      "100%|████████████████████████████████████████████████████████████████████| 58/58 [00:07<00:00,  7.43it/s]\n"
     ]
    },
    {
     "name": "stdout",
     "output_type": "stream",
     "text": [
      "Epoch: 1 - TrainLoss: 3.5724609679189223 - ValidLoss: 3.6352711011623513\n",
      "Epoch: 1 - TrainACC: 0.049456521739130434 - ValidACC: 0.04333605887162715\n"
     ]
    },
    {
     "name": "stderr",
     "output_type": "stream",
     "text": [
      "100%|████████████████████████████████████████████████████████████████████| 58/58 [00:22<00:00,  2.55it/s]\n",
      "100%|████████████████████████████████████████████████████████████████████| 58/58 [00:07<00:00,  7.32it/s]\n"
     ]
    },
    {
     "name": "stdout",
     "output_type": "stream",
     "text": [
      "Epoch: 2 - TrainLoss: 3.5091523302012475 - ValidLoss: 3.8433138008775383\n",
      "Epoch: 2 - TrainACC: 0.05733695652173913 - ValidACC: 0.03706732079585718\n"
     ]
    },
    {
     "name": "stderr",
     "output_type": "stream",
     "text": [
      "100%|████████████████████████████████████████████████████████████████████| 58/58 [00:22<00:00,  2.55it/s]\n",
      "100%|████████████████████████████████████████████████████████████████████| 58/58 [00:07<00:00,  7.36it/s]\n"
     ]
    },
    {
     "name": "stdout",
     "output_type": "stream",
     "text": [
      "Epoch: 3 - TrainLoss: 3.4378436187217973 - ValidLoss: 4.325702991978876\n",
      "Epoch: 3 - TrainACC: 0.06766304347826087 - ValidACC: 0.03979285908967021\n"
     ]
    },
    {
     "name": "stderr",
     "output_type": "stream",
     "text": [
      "100%|████████████████████████████████████████████████████████████████████| 58/58 [00:22<00:00,  2.55it/s]\n",
      "100%|████████████████████████████████████████████████████████████████████| 58/58 [00:07<00:00,  7.34it/s]\n"
     ]
    },
    {
     "name": "stdout",
     "output_type": "stream",
     "text": [
      "Epoch: 4 - TrainLoss: 3.3810329231722602 - ValidLoss: 3.497290113876606\n",
      "Epoch: 4 - TrainACC: 0.0779891304347826 - ValidACC: 0.05996184246388662\n"
     ]
    },
    {
     "name": "stderr",
     "output_type": "stream",
     "text": [
      "100%|████████████████████████████████████████████████████████████████████| 58/58 [00:22<00:00,  2.56it/s]\n",
      "100%|████████████████████████████████████████████████████████████████████| 58/58 [00:07<00:00,  7.45it/s]\n"
     ]
    },
    {
     "name": "stdout",
     "output_type": "stream",
     "text": [
      "Epoch: 5 - TrainLoss: 3.3219827495772263 - ValidLoss: 3.4148888464631706\n",
      "Epoch: 5 - TrainACC: 0.09130434782608696 - ValidACC: 0.08176614881439084\n"
     ]
    },
    {
     "name": "stderr",
     "output_type": "stream",
     "text": [
      "100%|████████████████████████████████████████████████████████████████████| 58/58 [00:22<00:00,  2.55it/s]\n",
      "100%|████████████████████████████████████████████████████████████████████| 58/58 [00:08<00:00,  7.15it/s]\n"
     ]
    },
    {
     "name": "stdout",
     "output_type": "stream",
     "text": [
      "Epoch: 6 - TrainLoss: 3.281523416782248 - ValidLoss: 3.6415982821892046\n",
      "Epoch: 6 - TrainACC: 0.0953804347826087 - ValidACC: 0.06704824202780049\n"
     ]
    },
    {
     "name": "stderr",
     "output_type": "stream",
     "text": [
      "100%|████████████████████████████████████████████████████████████████████| 58/58 [00:22<00:00,  2.54it/s]\n",
      "100%|████████████████████████████████████████████████████████████████████| 58/58 [00:07<00:00,  7.31it/s]\n"
     ]
    },
    {
     "name": "stdout",
     "output_type": "stream",
     "text": [
      "Epoch: 7 - TrainLoss: 3.2471508404304243 - ValidLoss: 3.3874144924098046\n",
      "Epoch: 7 - TrainACC: 0.10217391304347827 - ValidACC: 0.07522485690923958\n"
     ]
    },
    {
     "name": "stderr",
     "output_type": "stream",
     "text": [
      "100%|████████████████████████████████████████████████████████████████████| 58/58 [00:22<00:00,  2.56it/s]\n",
      "100%|████████████████████████████████████████████████████████████████████| 58/58 [00:07<00:00,  7.27it/s]\n"
     ]
    },
    {
     "name": "stdout",
     "output_type": "stream",
     "text": [
      "Epoch: 8 - TrainLoss: 3.21519175480152 - ValidLoss: 3.3417711093507965\n",
      "Epoch: 8 - TrainACC: 0.10896739130434782 - ValidACC: 0.08258381030253475\n"
     ]
    },
    {
     "name": "stderr",
     "output_type": "stream",
     "text": [
      "100%|████████████████████████████████████████████████████████████████████| 58/58 [00:22<00:00,  2.55it/s]\n",
      "100%|████████████████████████████████████████████████████████████████████| 58/58 [00:08<00:00,  7.14it/s]\n"
     ]
    },
    {
     "name": "stdout",
     "output_type": "stream",
     "text": [
      "Epoch: 9 - TrainLoss: 3.185360949614952 - ValidLoss: 3.4833097663419\n",
      "Epoch: 9 - TrainACC: 0.11657608695652173 - ValidACC: 0.07985827200872173\n"
     ]
    },
    {
     "name": "stderr",
     "output_type": "stream",
     "text": [
      "100%|████████████████████████████████████████████████████████████████████| 58/58 [00:22<00:00,  2.56it/s]\n",
      "100%|████████████████████████████████████████████████████████████████████| 58/58 [00:08<00:00,  7.23it/s]\n"
     ]
    },
    {
     "name": "stdout",
     "output_type": "stream",
     "text": [
      "Epoch: 10 - TrainLoss: 3.145201617273791 - ValidLoss: 3.4513777823283753\n",
      "Epoch: 10 - TrainACC: 0.11467391304347826 - ValidACC: 0.09185064050149905\n"
     ]
    },
    {
     "name": "stderr",
     "output_type": "stream",
     "text": [
      "100%|████████████████████████████████████████████████████████████████████| 58/58 [00:22<00:00,  2.55it/s]\n",
      "100%|████████████████████████████████████████████████████████████████████| 58/58 [00:07<00:00,  7.41it/s]\n"
     ]
    },
    {
     "name": "stdout",
     "output_type": "stream",
     "text": [
      "Epoch: 11 - TrainLoss: 3.11512985722772 - ValidLoss: 3.3446369376675835\n",
      "Epoch: 11 - TrainACC: 0.13342391304347825 - ValidACC: 0.09266830198964296\n"
     ]
    },
    {
     "name": "stderr",
     "output_type": "stream",
     "text": [
      "100%|████████████████████████████████████████████████████████████████████| 58/58 [00:22<00:00,  2.53it/s]\n",
      "100%|████████████████████████████████████████████████████████████████████| 58/58 [00:07<00:00,  7.41it/s]\n"
     ]
    },
    {
     "name": "stdout",
     "output_type": "stream",
     "text": [
      "Epoch: 12 - TrainLoss: 3.0945089192226014 - ValidLoss: 3.297510258082686\n",
      "Epoch: 12 - TrainACC: 0.13125 - ValidACC: 0.09811937857726902\n"
     ]
    },
    {
     "name": "stderr",
     "output_type": "stream",
     "text": [
      "100%|████████████████████████████████████████████████████████████████████| 58/58 [00:22<00:00,  2.57it/s]\n",
      "100%|████████████████████████████████████████████████████████████████████| 58/58 [00:07<00:00,  7.32it/s]\n"
     ]
    },
    {
     "name": "stdout",
     "output_type": "stream",
     "text": [
      "Epoch: 13 - TrainLoss: 3.049666264961506 - ValidLoss: 3.3910271628149626\n",
      "Epoch: 13 - TrainACC: 0.13804347826086957 - ValidACC: 0.08421913327882256\n"
     ]
    },
    {
     "name": "stderr",
     "output_type": "stream",
     "text": [
      "100%|████████████████████████████████████████████████████████████████████| 58/58 [00:22<00:00,  2.54it/s]\n",
      "100%|████████████████████████████████████████████████████████████████████| 58/58 [00:08<00:00,  7.15it/s]\n"
     ]
    },
    {
     "name": "stdout",
     "output_type": "stream",
     "text": [
      "Epoch: 14 - TrainLoss: 3.003500165610478 - ValidLoss: 3.4768614851195236\n",
      "Epoch: 14 - TrainACC: 0.15081521739130435 - ValidACC: 0.08530934859634778\n"
     ]
    },
    {
     "name": "stderr",
     "output_type": "stream",
     "text": [
      "100%|████████████████████████████████████████████████████████████████████| 58/58 [00:22<00:00,  2.56it/s]\n",
      "100%|████████████████████████████████████████████████████████████████████| 58/58 [00:07<00:00,  7.40it/s]\n"
     ]
    },
    {
     "name": "stdout",
     "output_type": "stream",
     "text": [
      "Epoch: 15 - TrainLoss: 2.9868483214542785 - ValidLoss: 3.3096860852734795\n",
      "Epoch: 15 - TrainACC: 0.1625 - ValidACC: 0.10193513218860725\n"
     ]
    },
    {
     "name": "stderr",
     "output_type": "stream",
     "text": [
      "100%|████████████████████████████████████████████████████████████████████| 58/58 [00:22<00:00,  2.55it/s]\n",
      "100%|████████████████████████████████████████████████████████████████████| 58/58 [00:08<00:00,  7.19it/s]\n"
     ]
    },
    {
     "name": "stdout",
     "output_type": "stream",
     "text": [
      "Epoch: 16 - TrainLoss: 2.9044059391679435 - ValidLoss: 3.354924045760056\n",
      "Epoch: 16 - TrainACC: 0.16657608695652174 - ValidACC: 0.11937857726901063\n"
     ]
    },
    {
     "name": "stderr",
     "output_type": "stream",
     "text": [
      "100%|████████████████████████████████████████████████████████████████████| 58/58 [00:22<00:00,  2.53it/s]\n",
      "100%|████████████████████████████████████████████████████████████████████| 58/58 [00:08<00:00,  7.21it/s]\n"
     ]
    },
    {
     "name": "stdout",
     "output_type": "stream",
     "text": [
      "Epoch: 17 - TrainLoss: 2.87740722606922 - ValidLoss: 3.3023450497923226\n",
      "Epoch: 17 - TrainACC: 0.1796195652173913 - ValidACC: 0.11092940855819024\n"
     ]
    },
    {
     "name": "stderr",
     "output_type": "stream",
     "text": [
      "100%|████████████████████████████████████████████████████████████████████| 58/58 [00:22<00:00,  2.54it/s]\n",
      "100%|████████████████████████████████████████████████████████████████████| 58/58 [00:07<00:00,  7.38it/s]\n"
     ]
    },
    {
     "name": "stdout",
     "output_type": "stream",
     "text": [
      "Epoch: 18 - TrainLoss: 2.825109469479528 - ValidLoss: 3.0882968779267936\n",
      "Epoch: 18 - TrainACC: 0.18804347826086956 - ValidACC: 0.14118288361951487\n"
     ]
    },
    {
     "name": "stderr",
     "output_type": "stream",
     "text": [
      "100%|████████████████████████████████████████████████████████████████████| 58/58 [00:22<00:00,  2.55it/s]\n",
      "100%|████████████████████████████████████████████████████████████████████| 58/58 [00:08<00:00,  7.20it/s]\n"
     ]
    },
    {
     "name": "stdout",
     "output_type": "stream",
     "text": [
      "Epoch: 19 - TrainLoss: 2.74665655349863 - ValidLoss: 4.253248473693585\n",
      "Epoch: 19 - TrainACC: 0.2105978260869565 - ValidACC: 0.08530934859634778\n"
     ]
    },
    {
     "name": "stderr",
     "output_type": "stream",
     "text": [
      "100%|████████████████████████████████████████████████████████████████████| 58/58 [00:22<00:00,  2.54it/s]\n",
      "100%|████████████████████████████████████████████████████████████████████| 58/58 [00:07<00:00,  7.40it/s]\n"
     ]
    },
    {
     "name": "stdout",
     "output_type": "stream",
     "text": [
      "Epoch: 20 - TrainLoss: 2.706711900645289 - ValidLoss: 3.3524299243400835\n",
      "Epoch: 20 - TrainACC: 0.2141304347826087 - ValidACC: 0.12891796129735622\n"
     ]
    },
    {
     "name": "stderr",
     "output_type": "stream",
     "text": [
      "100%|████████████████████████████████████████████████████████████████████| 58/58 [00:22<00:00,  2.55it/s]\n",
      "100%|████████████████████████████████████████████████████████████████████| 58/58 [00:08<00:00,  7.22it/s]\n"
     ]
    },
    {
     "name": "stdout",
     "output_type": "stream",
     "text": [
      "Epoch: 21 - TrainLoss: 2.653663285847368 - ValidLoss: 3.144373051051436\n",
      "Epoch: 21 - TrainACC: 0.21521739130434783 - ValidACC: 0.1460888525483783\n"
     ]
    },
    {
     "name": "stderr",
     "output_type": "stream",
     "text": [
      "100%|████████████████████████████████████████████████████████████████████| 58/58 [00:22<00:00,  2.55it/s]\n",
      "100%|████████████████████████████████████████████████████████████████████| 58/58 [00:07<00:00,  7.32it/s]\n"
     ]
    },
    {
     "name": "stdout",
     "output_type": "stream",
     "text": [
      "Epoch: 22 - TrainLoss: 2.5766232095915695 - ValidLoss: 3.2121838290115883\n",
      "Epoch: 22 - TrainACC: 0.23994565217391303 - ValidACC: 0.14227309893704007\n"
     ]
    },
    {
     "name": "stderr",
     "output_type": "stream",
     "text": [
      "100%|████████████████████████████████████████████████████████████████████| 58/58 [00:22<00:00,  2.57it/s]\n",
      "100%|████████████████████████████████████████████████████████████████████| 58/58 [00:07<00:00,  7.36it/s]\n"
     ]
    },
    {
     "name": "stdout",
     "output_type": "stream",
     "text": [
      "Epoch: 23 - TrainLoss: 2.534762213970053 - ValidLoss: 3.764107317760073\n",
      "Epoch: 23 - TrainACC: 0.2483695652173913 - ValidACC: 0.09893704006541292\n"
     ]
    },
    {
     "name": "stderr",
     "output_type": "stream",
     "text": [
      "100%|████████████████████████████████████████████████████████████████████| 58/58 [00:22<00:00,  2.53it/s]\n",
      "100%|████████████████████████████████████████████████████████████████████| 58/58 [00:07<00:00,  7.34it/s]\n"
     ]
    },
    {
     "name": "stdout",
     "output_type": "stream",
     "text": [
      "Epoch: 24 - TrainLoss: 2.4618127798211984 - ValidLoss: 3.1966507023778457\n",
      "Epoch: 24 - TrainACC: 0.2722826086956522 - ValidACC: 0.15208503679476695\n"
     ]
    },
    {
     "name": "stderr",
     "output_type": "stream",
     "text": [
      "100%|████████████████████████████████████████████████████████████████████| 58/58 [00:22<00:00,  2.56it/s]\n",
      "100%|████████████████████████████████████████████████████████████████████| 58/58 [00:07<00:00,  7.32it/s]\n"
     ]
    },
    {
     "name": "stdout",
     "output_type": "stream",
     "text": [
      "Epoch: 25 - TrainLoss: 2.412773510505413 - ValidLoss: 3.1534859558631636\n",
      "Epoch: 25 - TrainACC: 0.2842391304347826 - ValidACC: 0.16598528209321342\n"
     ]
    },
    {
     "name": "stderr",
     "output_type": "stream",
     "text": [
      "100%|████████████████████████████████████████████████████████████████████| 58/58 [00:22<00:00,  2.56it/s]\n",
      "100%|████████████████████████████████████████████████████████████████████| 58/58 [00:08<00:00,  7.24it/s]\n"
     ]
    },
    {
     "name": "stdout",
     "output_type": "stream",
     "text": [
      "Epoch: 26 - TrainLoss: 2.3291817821305374 - ValidLoss: 2.8388416520480453\n",
      "Epoch: 26 - TrainACC: 0.30190217391304347 - ValidACC: 0.21613518669937312\n"
     ]
    },
    {
     "name": "stderr",
     "output_type": "stream",
     "text": [
      "100%|████████████████████████████████████████████████████████████████████| 58/58 [00:22<00:00,  2.55it/s]\n",
      "100%|████████████████████████████████████████████████████████████████████| 58/58 [00:07<00:00,  7.38it/s]\n"
     ]
    },
    {
     "name": "stdout",
     "output_type": "stream",
     "text": [
      "Epoch: 27 - TrainLoss: 2.250340315802344 - ValidLoss: 2.974124254851506\n",
      "Epoch: 27 - TrainACC: 0.31277173913043477 - ValidACC: 0.1926955573725811\n"
     ]
    },
    {
     "name": "stderr",
     "output_type": "stream",
     "text": [
      "100%|████████████████████████████████████████████████████████████████████| 58/58 [00:22<00:00,  2.55it/s]\n",
      "100%|████████████████████████████████████████████████████████████████████| 58/58 [00:07<00:00,  7.32it/s]\n"
     ]
    },
    {
     "name": "stdout",
     "output_type": "stream",
     "text": [
      "Epoch: 28 - TrainLoss: 2.1308606657488594 - ValidLoss: 3.272489124330981\n",
      "Epoch: 28 - TrainACC: 0.3448369565217391 - ValidACC: 0.1834287271736168\n"
     ]
    },
    {
     "name": "stderr",
     "output_type": "stream",
     "text": [
      "100%|████████████████████████████████████████████████████████████████████| 58/58 [00:22<00:00,  2.54it/s]\n",
      "100%|████████████████████████████████████████████████████████████████████| 58/58 [00:07<00:00,  7.37it/s]\n"
     ]
    },
    {
     "name": "stdout",
     "output_type": "stream",
     "text": [
      "Epoch: 29 - TrainLoss: 2.066705052194924 - ValidLoss: 3.1667683823355315\n",
      "Epoch: 29 - TrainACC: 0.3654891304347826 - ValidACC: 0.2033251567184519\n"
     ]
    },
    {
     "name": "stderr",
     "output_type": "stream",
     "text": [
      "100%|████████████████████████████████████████████████████████████████████| 58/58 [00:22<00:00,  2.57it/s]\n",
      "100%|████████████████████████████████████████████████████████████████████| 58/58 [00:07<00:00,  7.29it/s]\n"
     ]
    },
    {
     "name": "stdout",
     "output_type": "stream",
     "text": [
      "Epoch: 30 - TrainLoss: 1.9698962281490195 - ValidLoss: 3.5570399267920134\n",
      "Epoch: 30 - TrainACC: 0.38559782608695653 - ValidACC: 0.15099482147724175\n"
     ]
    },
    {
     "name": "stderr",
     "output_type": "stream",
     "text": [
      "100%|████████████████████████████████████████████████████████████████████| 58/58 [00:22<00:00,  2.57it/s]\n",
      "100%|████████████████████████████████████████████████████████████████████| 58/58 [00:07<00:00,  7.41it/s]\n"
     ]
    },
    {
     "name": "stdout",
     "output_type": "stream",
     "text": [
      "Epoch: 31 - TrainLoss: 1.8663815321593449 - ValidLoss: 2.898165826139779\n",
      "Epoch: 31 - TrainACC: 0.42418478260869563 - ValidACC: 0.22567457072771874\n"
     ]
    },
    {
     "name": "stderr",
     "output_type": "stream",
     "text": [
      "100%|████████████████████████████████████████████████████████████████████| 58/58 [00:22<00:00,  2.57it/s]\n",
      "100%|████████████████████████████████████████████████████████████████████| 58/58 [00:07<00:00,  7.29it/s]\n"
     ]
    },
    {
     "name": "stdout",
     "output_type": "stream",
     "text": [
      "Epoch: 32 - TrainLoss: 1.8096263655300797 - ValidLoss: 3.4209978333834945\n",
      "Epoch: 32 - TrainACC: 0.4277173913043478 - ValidACC: 0.18669937312619242\n"
     ]
    },
    {
     "name": "stderr",
     "output_type": "stream",
     "text": [
      "100%|████████████████████████████████████████████████████████████████████| 58/58 [00:22<00:00,  2.57it/s]\n",
      "100%|████████████████████████████████████████████████████████████████████| 58/58 [00:08<00:00,  7.23it/s]\n"
     ]
    },
    {
     "name": "stdout",
     "output_type": "stream",
     "text": [
      "Epoch: 33 - TrainLoss: 1.697832450784486 - ValidLoss: 3.6107210825229514\n",
      "Epoch: 33 - TrainACC: 0.46141304347826084 - ValidACC: 0.175524666121559\n"
     ]
    },
    {
     "name": "stderr",
     "output_type": "stream",
     "text": [
      "100%|████████████████████████████████████████████████████████████████████| 58/58 [00:22<00:00,  2.53it/s]\n",
      "100%|████████████████████████████████████████████████████████████████████| 58/58 [00:08<00:00,  7.20it/s]\n"
     ]
    },
    {
     "name": "stdout",
     "output_type": "stream",
     "text": [
      "Epoch: 34 - TrainLoss: 1.5672092869363983 - ValidLoss: 3.0955157321074913\n",
      "Epoch: 34 - TrainACC: 0.49755434782608693 - ValidACC: 0.2327609702916326\n"
     ]
    },
    {
     "name": "stderr",
     "output_type": "stream",
     "text": [
      " 41%|████████████████████████████▏                                       | 24/58 [00:10<00:12,  2.72it/s]"
     ]
    }
   ],
   "source": [
    "old_loss = 1e26\n",
    "best_dct = None\n",
    "last_dst = None\n",
    "for epoch in range(epochs):\n",
    "    model.train()\n",
    "    tr_total_loss = 0\n",
    "    tr_total_corr = 0 \n",
    "    for train_img, train_cate in tqdm(train_dl):\n",
    "        train_img = train_img.to(device)\n",
    "        train_cate = train_cate.to(device)\n",
    "\n",
    "        train_logits = model(train_img)\n",
    "        train_loss = loss_fn(train_logits, train_cate)\n",
    "\n",
    "        optimizer.zero_grad()\n",
    "        train_loss.backward()\n",
    "        optimizer.step()\n",
    "\n",
    "        scheduler.step()\n",
    "\n",
    "        tr_total_loss += train_loss.item()\n",
    "        tr_total_corr += (train_logits.argmax(dim=1) == train_cate).sum().item()\n",
    "\n",
    "    model.eval()\n",
    "    with torch.no_grad():\n",
    "        va_total_loss = 0\n",
    "        va_total_corr = 0\n",
    "        for valid_img, valid_cate in tqdm(test_dl):\n",
    "            valid_img = valid_img.to(device)\n",
    "            valid_cate = valid_cate.to(device)\n",
    "            \n",
    "            valid_logits = model(valid_img)\n",
    "            valid_loss = loss_fn(valid_logits, valid_cate)\n",
    "\n",
    "            va_total_loss += valid_loss.item()\n",
    "            va_total_corr += (valid_logits.argmax(dim=1) == valid_cate).sum().item()\n",
    "            \n",
    "    mean_train_loss = tr_total_loss/len(train_dl)\n",
    "    mean_valid_loss = va_total_loss/len(test_dl)\n",
    "\n",
    "    if mean_valid_loss <= old_loss:\n",
    "        old_loss = mean_valid_loss\n",
    "        best_dct = model.state_dict()\n",
    "    \n",
    "    last_dct = model.state_dict()\n",
    "\n",
    "    mean_train_corr = tr_total_corr/len(train_ds)\n",
    "    mean_valid_corr = va_total_corr/len(test_ds)\n",
    "\n",
    "    print(f\"Epoch: {epoch} - TrainLoss: {mean_train_loss} - ValidLoss: {mean_valid_loss}\")\n",
    "    print(f\"Epoch: {epoch} - TrainACC: {mean_train_corr} - ValidACC: {mean_valid_corr}\")\n",
    "model.load_state_dict(best_dct)"
   ]
  },
  {
   "cell_type": "code",
   "execution_count": null,
   "id": "f3e2d73d-f013-4a5d-a32d-eaf5fee417c6",
   "metadata": {},
   "outputs": [],
   "source": [
    "model.eval()\n",
    "with torch.no_grad():\n",
    "    ts_total_loss = 0\n",
    "    ts_total_corr = 0\n",
    "    for test_img, test_cate in tqdm(test_dl):\n",
    "        test_img = test_img.to(device)\n",
    "        test_cate = test_cate.to(device)\n",
    "        \n",
    "        test_logits = model(test_img)\n",
    "        test_loss = loss_fn(test_logits, test_cate)\n",
    "\n",
    "        ts_total_loss += test_loss.cpu().item()\n",
    "        ts_total_corr += (test_logits.argmax(dim=1) == test_cate).sum().item()\n",
    "\n",
    "mean_test_loss = ts_total_loss/len(test_dl)\n",
    "mean_test_corr = ts_total_corr/len(test_ds)\n",
    "\n",
    "print(f\"TestLoss: {mean_test_loss} - TestACC: {mean_test_corr}\")"
   ]
  }
 ],
 "metadata": {
  "kernelspec": {
   "display_name": "Python 3 (ipykernel)",
   "language": "python",
   "name": "python3"
  },
  "language_info": {
   "codemirror_mode": {
    "name": "ipython",
    "version": 3
   },
   "file_extension": ".py",
   "mimetype": "text/x-python",
   "name": "python",
   "nbconvert_exporter": "python",
   "pygments_lexer": "ipython3",
   "version": "3.10.7"
  },
  "widgets": {
   "application/vnd.jupyter.widget-state+json": {
    "state": {},
    "version_major": 2,
    "version_minor": 0
   }
  }
 },
 "nbformat": 4,
 "nbformat_minor": 5
}
