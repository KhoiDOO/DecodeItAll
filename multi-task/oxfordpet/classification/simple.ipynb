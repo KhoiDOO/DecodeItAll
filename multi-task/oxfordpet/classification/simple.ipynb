{
 "cells": [
  {
   "cell_type": "code",
   "execution_count": 1,
   "id": "4b1b5744-347d-4d04-b2ca-ee910180718a",
   "metadata": {},
   "outputs": [],
   "source": [
    "import os\n",
    "import pandas as pd\n",
    "import matplotlib.pyplot as plt\n",
    "import seaborn as sns\n",
    "from tqdm import tqdm\n",
    "import numpy as np\n",
    "import cv2\n",
    "from PIL import Image\n",
    "\n",
    "import torch\n",
    "from torch.autograd import Variable\n",
    "from torch import nn\n",
    "from torch.optim import Adam\n",
    "from torch.optim.lr_scheduler import CosineAnnealingLR\n",
    "from torch.utils.data import Dataset, DataLoader\n",
    "from torchvision.datasets import OxfordIIITPet\n",
    "from torchvision import transforms\n",
    "import torchvision as tv\n",
    "import torch.nn.functional as F\n",
    "from torch import Tensor"
   ]
  },
  {
   "cell_type": "code",
   "execution_count": 2,
   "id": "dd3dda1f-3279-42d5-bac2-0e815ddaf231",
   "metadata": {},
   "outputs": [
    {
     "name": "stdout",
     "output_type": "stream",
     "text": [
      "#Training Samples: 3680\n",
      "#Testing Samples: 3669\n",
      "#Training Batch: 58\n",
      "#Testing Batch: 58\n",
      "# Class: 37\n"
     ]
    }
   ],
   "source": [
    "transform = transforms.Compose(\n",
    "    [\n",
    "        transforms.Resize((256, 256)),\n",
    "        transforms.ToTensor(), \n",
    "    ]\n",
    ")\n",
    "\n",
    "train_ds = OxfordIIITPet(\n",
    "    root = \"~/data\", split = \"trainval\", target_types = \"category\", transform = transform, download = True\n",
    ")\n",
    "\n",
    "test_ds = OxfordIIITPet(\n",
    "    root = \"~/data\", split = \"test\", target_types = \"category\", transform = transform, download = True\n",
    ")\n",
    "\n",
    "train_dl = DataLoader(train_ds, batch_size=64, shuffle=True, pin_memory = True, num_workers=24)\n",
    "test_dl = DataLoader(test_ds, batch_size=64, shuffle=True, pin_memory = True, num_workers=24)\n",
    "\n",
    "print(\"#Training Samples: {}\".format(len(train_ds)))\n",
    "print(\"#Testing Samples: {}\".format(len(test_ds)))\n",
    "print(\"#Training Batch: {}\".format(len(train_dl)))\n",
    "print(\"#Testing Batch: {}\".format(len(test_dl)))\n",
    "\n",
    "print(\"# Class: {}\".format(len(train_ds.class_to_idx)))"
   ]
  },
  {
   "cell_type": "code",
   "execution_count": 3,
   "id": "9a11da1f-3eac-4880-a859-ee503d85597e",
   "metadata": {},
   "outputs": [
    {
     "name": "stdout",
     "output_type": "stream",
     "text": [
      "data shape: torch.Size([3, 256, 256])\n",
      "cate data/type: 2/<class 'int'>\n"
     ]
    }
   ],
   "source": [
    "sample_data, sample_cate = train_ds[100]\n",
    "\n",
    "print(f\"data shape: {sample_data.shape}\")\n",
    "print(f\"cate data/type: {sample_cate}/{type(sample_cate)}\")"
   ]
  },
  {
   "cell_type": "code",
   "execution_count": 4,
   "id": "b7739b6d-78e2-4ae2-8c20-3db8c2fb1477",
   "metadata": {},
   "outputs": [],
   "source": [
    "class DoubleConv(nn.Module):\n",
    "    def __init__(self, in_channels, out_channels, mid_channels=None):\n",
    "        super().__init__()\n",
    "        if not mid_channels:\n",
    "            mid_channels = out_channels\n",
    "        self.double_conv = nn.Sequential(\n",
    "            nn.Conv2d(in_channels, mid_channels, kernel_size=3, padding=1, bias=False),\n",
    "            nn.BatchNorm2d(mid_channels),\n",
    "            nn.ReLU(inplace=True),\n",
    "            nn.Conv2d(mid_channels, out_channels, kernel_size=3, padding=1, bias=False),\n",
    "            nn.BatchNorm2d(out_channels),\n",
    "            nn.ReLU(inplace=True)\n",
    "        )\n",
    "\n",
    "    def forward(self, x):\n",
    "        return self.double_conv(x)"
   ]
  },
  {
   "cell_type": "code",
   "execution_count": 5,
   "id": "9098f576-a8f0-4358-ad6a-1593bc1cc65a",
   "metadata": {},
   "outputs": [],
   "source": [
    "class Down(nn.Module):\n",
    "\n",
    "    def __init__(self, in_channels, out_channels):\n",
    "        super().__init__()\n",
    "        self.maxpool_conv = nn.Sequential(\n",
    "            nn.MaxPool2d(2),\n",
    "            DoubleConv(in_channels, out_channels)\n",
    "        )\n",
    "\n",
    "    def forward(self, x):\n",
    "        return self.maxpool_conv(x)"
   ]
  },
  {
   "cell_type": "code",
   "execution_count": 6,
   "id": "710baa49-d3cc-4d14-bd3e-e4d351977c5b",
   "metadata": {},
   "outputs": [],
   "source": [
    "class UNet(nn.Module):\n",
    "    def __init__(self, n_channels, n_classes):\n",
    "        super(UNet, self).__init__()\n",
    "        self.n_channels = n_channels\n",
    "        self.n_classes = n_classes\n",
    "\n",
    "        self.inc = (DoubleConv(n_channels, 64))\n",
    "        self.down1 = (Down(64, 128)) #64, 128\n",
    "        self.down2 = (Down(128, 256)) #128, 256\n",
    "        self.down3 = (Down(256, 512)) #256, 512\n",
    "        self.down4 = (Down(512, 1024))\n",
    "        self.down5 = (Down(1024, 2048))\n",
    "        # self.down6 = (Down(1024, 2048))\n",
    "        \n",
    "        self.classifier = nn.Sequential(\n",
    "            # nn.AdaptiveAvgPool2d((1, 1)),\n",
    "            # nn.Flatten(),\n",
    "            nn.Linear(2048, 256),\n",
    "            nn.ReLU(),\n",
    "            nn.Linear(256, self.n_classes)\n",
    "        )\n",
    "\n",
    "    def forward(self, x):\n",
    "        x = self.inc(x)\n",
    "        x = self.down1(x)\n",
    "        x = self.down2(x)\n",
    "        x = self.down3(x)\n",
    "        x = self.down4(x)\n",
    "        x = self.down5(x)\n",
    "        # x = self.down6(x)\n",
    "        logits = self.classifier(x.mean(dim=(2, 3)))\n",
    "        return logits"
   ]
  },
  {
   "cell_type": "code",
   "execution_count": 7,
   "id": "7e6dea1f-82fa-410a-a272-6f7ff76436b7",
   "metadata": {},
   "outputs": [],
   "source": [
    "device = torch.device(\"cuda\" if torch.cuda.is_available() else \"cpu\", index = 1)\n",
    "\n",
    "model = UNet(3, 37).to(device)\n",
    "# model = tv.models.resnet18(num_classes = x = self.inc(x)37).to(device)\n",
    "\n",
    "optimizer = Adam(params = model.parameters(), lr = 0.001)\n",
    "\n",
    "epochs = 100\n",
    "\n",
    "scheduler = CosineAnnealingLR(optimizer, epochs * len(train_dl))\n",
    "\n",
    "loss_fn = nn.CrossEntropyLoss()"
   ]
  },
  {
   "cell_type": "code",
   "execution_count": 8,
   "id": "4a99ec3c-7a07-41d9-889c-912b909532fa",
   "metadata": {},
   "outputs": [
    {
     "name": "stderr",
     "output_type": "stream",
     "text": [
      "100%|████████████████████████████████████████████████████████████████████| 58/58 [00:24<00:00,  2.33it/s]\n",
      "100%|████████████████████████████████████████████████████████████████████| 58/58 [00:07<00:00,  7.26it/s]\n"
     ]
    },
    {
     "name": "stdout",
     "output_type": "stream",
     "text": [
      "Epoch: 0 - TrainLoss: 3.655877479191484 - ValidLoss: 3.6279674398488013\n",
      "Epoch: 0 - TrainACC: 0.027717391304347826 - ValidACC: 0.035977105478331974\n"
     ]
    },
    {
     "name": "stderr",
     "output_type": "stream",
     "text": [
      "100%|████████████████████████████████████████████████████████████████████| 58/58 [00:22<00:00,  2.56it/s]\n",
      "100%|████████████████████████████████████████████████████████████████████| 58/58 [00:07<00:00,  7.43it/s]\n"
     ]
    },
    {
     "name": "stdout",
     "output_type": "stream",
     "text": [
      "Epoch: 1 - TrainLoss: 3.5724609679189223 - ValidLoss: 3.6352711011623513\n",
      "Epoch: 1 - TrainACC: 0.049456521739130434 - ValidACC: 0.04333605887162715\n"
     ]
    },
    {
     "name": "stderr",
     "output_type": "stream",
     "text": [
      "100%|████████████████████████████████████████████████████████████████████| 58/58 [00:22<00:00,  2.55it/s]\n",
      "100%|████████████████████████████████████████████████████████████████████| 58/58 [00:07<00:00,  7.32it/s]\n"
     ]
    },
    {
     "name": "stdout",
     "output_type": "stream",
     "text": [
      "Epoch: 2 - TrainLoss: 3.5091523302012475 - ValidLoss: 3.8433138008775383\n",
      "Epoch: 2 - TrainACC: 0.05733695652173913 - ValidACC: 0.03706732079585718\n"
     ]
    },
    {
     "name": "stderr",
     "output_type": "stream",
     "text": [
      "100%|████████████████████████████████████████████████████████████████████| 58/58 [00:22<00:00,  2.55it/s]\n",
      "100%|████████████████████████████████████████████████████████████████████| 58/58 [00:07<00:00,  7.36it/s]\n"
     ]
    },
    {
     "name": "stdout",
     "output_type": "stream",
     "text": [
      "Epoch: 3 - TrainLoss: 3.4378436187217973 - ValidLoss: 4.325702991978876\n",
      "Epoch: 3 - TrainACC: 0.06766304347826087 - ValidACC: 0.03979285908967021\n"
     ]
    },
    {
     "name": "stderr",
     "output_type": "stream",
     "text": [
      "100%|████████████████████████████████████████████████████████████████████| 58/58 [00:22<00:00,  2.55it/s]\n",
      "100%|████████████████████████████████████████████████████████████████████| 58/58 [00:07<00:00,  7.34it/s]\n"
     ]
    },
    {
     "name": "stdout",
     "output_type": "stream",
     "text": [
      "Epoch: 4 - TrainLoss: 3.3810329231722602 - ValidLoss: 3.497290113876606\n",
      "Epoch: 4 - TrainACC: 0.0779891304347826 - ValidACC: 0.05996184246388662\n"
     ]
    },
    {
     "name": "stderr",
     "output_type": "stream",
     "text": [
      "100%|████████████████████████████████████████████████████████████████████| 58/58 [00:22<00:00,  2.56it/s]\n",
      "100%|████████████████████████████████████████████████████████████████████| 58/58 [00:07<00:00,  7.45it/s]\n"
     ]
    },
    {
     "name": "stdout",
     "output_type": "stream",
     "text": [
      "Epoch: 5 - TrainLoss: 3.3219827495772263 - ValidLoss: 3.4148888464631706\n",
      "Epoch: 5 - TrainACC: 0.09130434782608696 - ValidACC: 0.08176614881439084\n"
     ]
    },
    {
     "name": "stderr",
     "output_type": "stream",
     "text": [
      "100%|████████████████████████████████████████████████████████████████████| 58/58 [00:22<00:00,  2.55it/s]\n",
      "100%|████████████████████████████████████████████████████████████████████| 58/58 [00:08<00:00,  7.15it/s]\n"
     ]
    },
    {
     "name": "stdout",
     "output_type": "stream",
     "text": [
      "Epoch: 6 - TrainLoss: 3.281523416782248 - ValidLoss: 3.6415982821892046\n",
      "Epoch: 6 - TrainACC: 0.0953804347826087 - ValidACC: 0.06704824202780049\n"
     ]
    },
    {
     "name": "stderr",
     "output_type": "stream",
     "text": [
      "100%|████████████████████████████████████████████████████████████████████| 58/58 [00:22<00:00,  2.54it/s]\n",
      "100%|████████████████████████████████████████████████████████████████████| 58/58 [00:07<00:00,  7.31it/s]\n"
     ]
    },
    {
     "name": "stdout",
     "output_type": "stream",
     "text": [
      "Epoch: 7 - TrainLoss: 3.2471508404304243 - ValidLoss: 3.3874144924098046\n",
      "Epoch: 7 - TrainACC: 0.10217391304347827 - ValidACC: 0.07522485690923958\n"
     ]
    },
    {
     "name": "stderr",
     "output_type": "stream",
     "text": [
      "100%|████████████████████████████████████████████████████████████████████| 58/58 [00:22<00:00,  2.56it/s]\n",
      "100%|████████████████████████████████████████████████████████████████████| 58/58 [00:07<00:00,  7.27it/s]\n"
     ]
    },
    {
     "name": "stdout",
     "output_type": "stream",
     "text": [
      "Epoch: 8 - TrainLoss: 3.21519175480152 - ValidLoss: 3.3417711093507965\n",
      "Epoch: 8 - TrainACC: 0.10896739130434782 - ValidACC: 0.08258381030253475\n"
     ]
    },
    {
     "name": "stderr",
     "output_type": "stream",
     "text": [
      "100%|████████████████████████████████████████████████████████████████████| 58/58 [00:22<00:00,  2.55it/s]\n",
      "100%|████████████████████████████████████████████████████████████████████| 58/58 [00:08<00:00,  7.14it/s]\n"
     ]
    },
    {
     "name": "stdout",
     "output_type": "stream",
     "text": [
      "Epoch: 9 - TrainLoss: 3.185360949614952 - ValidLoss: 3.4833097663419\n",
      "Epoch: 9 - TrainACC: 0.11657608695652173 - ValidACC: 0.07985827200872173\n"
     ]
    },
    {
     "name": "stderr",
     "output_type": "stream",
     "text": [
      "100%|████████████████████████████████████████████████████████████████████| 58/58 [00:22<00:00,  2.56it/s]\n",
      "100%|████████████████████████████████████████████████████████████████████| 58/58 [00:08<00:00,  7.23it/s]\n"
     ]
    },
    {
     "name": "stdout",
     "output_type": "stream",
     "text": [
      "Epoch: 10 - TrainLoss: 3.145201617273791 - ValidLoss: 3.4513777823283753\n",
      "Epoch: 10 - TrainACC: 0.11467391304347826 - ValidACC: 0.09185064050149905\n"
     ]
    },
    {
     "name": "stderr",
     "output_type": "stream",
     "text": [
      "100%|████████████████████████████████████████████████████████████████████| 58/58 [00:22<00:00,  2.55it/s]\n",
      "100%|████████████████████████████████████████████████████████████████████| 58/58 [00:07<00:00,  7.41it/s]\n"
     ]
    },
    {
     "name": "stdout",
     "output_type": "stream",
     "text": [
      "Epoch: 11 - TrainLoss: 3.11512985722772 - ValidLoss: 3.3446369376675835\n",
      "Epoch: 11 - TrainACC: 0.13342391304347825 - ValidACC: 0.09266830198964296\n"
     ]
    },
    {
     "name": "stderr",
     "output_type": "stream",
     "text": [
      "100%|████████████████████████████████████████████████████████████████████| 58/58 [00:22<00:00,  2.53it/s]\n",
      "100%|████████████████████████████████████████████████████████████████████| 58/58 [00:07<00:00,  7.41it/s]\n"
     ]
    },
    {
     "name": "stdout",
     "output_type": "stream",
     "text": [
      "Epoch: 12 - TrainLoss: 3.0945089192226014 - ValidLoss: 3.297510258082686\n",
      "Epoch: 12 - TrainACC: 0.13125 - ValidACC: 0.09811937857726902\n"
     ]
    },
    {
     "name": "stderr",
     "output_type": "stream",
     "text": [
      "100%|████████████████████████████████████████████████████████████████████| 58/58 [00:22<00:00,  2.57it/s]\n",
      "100%|████████████████████████████████████████████████████████████████████| 58/58 [00:07<00:00,  7.32it/s]\n"
     ]
    },
    {
     "name": "stdout",
     "output_type": "stream",
     "text": [
      "Epoch: 13 - TrainLoss: 3.049666264961506 - ValidLoss: 3.3910271628149626\n",
      "Epoch: 13 - TrainACC: 0.13804347826086957 - ValidACC: 0.08421913327882256\n"
     ]
    },
    {
     "name": "stderr",
     "output_type": "stream",
     "text": [
      "100%|████████████████████████████████████████████████████████████████████| 58/58 [00:22<00:00,  2.54it/s]\n",
      "100%|████████████████████████████████████████████████████████████████████| 58/58 [00:08<00:00,  7.15it/s]\n"
     ]
    },
    {
     "name": "stdout",
     "output_type": "stream",
     "text": [
      "Epoch: 14 - TrainLoss: 3.003500165610478 - ValidLoss: 3.4768614851195236\n",
      "Epoch: 14 - TrainACC: 0.15081521739130435 - ValidACC: 0.08530934859634778\n"
     ]
    },
    {
     "name": "stderr",
     "output_type": "stream",
     "text": [
      "100%|████████████████████████████████████████████████████████████████████| 58/58 [00:22<00:00,  2.56it/s]\n",
      "100%|████████████████████████████████████████████████████████████████████| 58/58 [00:07<00:00,  7.40it/s]\n"
     ]
    },
    {
     "name": "stdout",
     "output_type": "stream",
     "text": [
      "Epoch: 15 - TrainLoss: 2.9868483214542785 - ValidLoss: 3.3096860852734795\n",
      "Epoch: 15 - TrainACC: 0.1625 - ValidACC: 0.10193513218860725\n"
     ]
    },
    {
     "name": "stderr",
     "output_type": "stream",
     "text": [
      "100%|████████████████████████████████████████████████████████████████████| 58/58 [00:22<00:00,  2.55it/s]\n",
      "100%|████████████████████████████████████████████████████████████████████| 58/58 [00:08<00:00,  7.19it/s]\n"
     ]
    },
    {
     "name": "stdout",
     "output_type": "stream",
     "text": [
      "Epoch: 16 - TrainLoss: 2.9044059391679435 - ValidLoss: 3.354924045760056\n",
      "Epoch: 16 - TrainACC: 0.16657608695652174 - ValidACC: 0.11937857726901063\n"
     ]
    },
    {
     "name": "stderr",
     "output_type": "stream",
     "text": [
      "100%|████████████████████████████████████████████████████████████████████| 58/58 [00:22<00:00,  2.53it/s]\n",
      "100%|████████████████████████████████████████████████████████████████████| 58/58 [00:08<00:00,  7.21it/s]\n"
     ]
    },
    {
     "name": "stdout",
     "output_type": "stream",
     "text": [
      "Epoch: 17 - TrainLoss: 2.87740722606922 - ValidLoss: 3.3023450497923226\n",
      "Epoch: 17 - TrainACC: 0.1796195652173913 - ValidACC: 0.11092940855819024\n"
     ]
    },
    {
     "name": "stderr",
     "output_type": "stream",
     "text": [
      "100%|████████████████████████████████████████████████████████████████████| 58/58 [00:22<00:00,  2.54it/s]\n",
      "100%|████████████████████████████████████████████████████████████████████| 58/58 [00:07<00:00,  7.38it/s]\n"
     ]
    },
    {
     "name": "stdout",
     "output_type": "stream",
     "text": [
      "Epoch: 18 - TrainLoss: 2.825109469479528 - ValidLoss: 3.0882968779267936\n",
      "Epoch: 18 - TrainACC: 0.18804347826086956 - ValidACC: 0.14118288361951487\n"
     ]
    },
    {
     "name": "stderr",
     "output_type": "stream",
     "text": [
      "100%|████████████████████████████████████████████████████████████████████| 58/58 [00:22<00:00,  2.55it/s]\n",
      "100%|████████████████████████████████████████████████████████████████████| 58/58 [00:08<00:00,  7.20it/s]\n"
     ]
    },
    {
     "name": "stdout",
     "output_type": "stream",
     "text": [
      "Epoch: 19 - TrainLoss: 2.74665655349863 - ValidLoss: 4.253248473693585\n",
      "Epoch: 19 - TrainACC: 0.2105978260869565 - ValidACC: 0.08530934859634778\n"
     ]
    },
    {
     "name": "stderr",
     "output_type": "stream",
     "text": [
      "100%|████████████████████████████████████████████████████████████████████| 58/58 [00:22<00:00,  2.54it/s]\n",
      "100%|████████████████████████████████████████████████████████████████████| 58/58 [00:07<00:00,  7.40it/s]\n"
     ]
    },
    {
     "name": "stdout",
     "output_type": "stream",
     "text": [
      "Epoch: 20 - TrainLoss: 2.706711900645289 - ValidLoss: 3.3524299243400835\n",
      "Epoch: 20 - TrainACC: 0.2141304347826087 - ValidACC: 0.12891796129735622\n"
     ]
    },
    {
     "name": "stderr",
     "output_type": "stream",
     "text": [
      "100%|████████████████████████████████████████████████████████████████████| 58/58 [00:22<00:00,  2.55it/s]\n",
      "100%|████████████████████████████████████████████████████████████████████| 58/58 [00:08<00:00,  7.22it/s]\n"
     ]
    },
    {
     "name": "stdout",
     "output_type": "stream",
     "text": [
      "Epoch: 21 - TrainLoss: 2.653663285847368 - ValidLoss: 3.144373051051436\n",
      "Epoch: 21 - TrainACC: 0.21521739130434783 - ValidACC: 0.1460888525483783\n"
     ]
    },
    {
     "name": "stderr",
     "output_type": "stream",
     "text": [
      "100%|████████████████████████████████████████████████████████████████████| 58/58 [00:22<00:00,  2.55it/s]\n",
      "100%|████████████████████████████████████████████████████████████████████| 58/58 [00:07<00:00,  7.32it/s]\n"
     ]
    },
    {
     "name": "stdout",
     "output_type": "stream",
     "text": [
      "Epoch: 22 - TrainLoss: 2.5766232095915695 - ValidLoss: 3.2121838290115883\n",
      "Epoch: 22 - TrainACC: 0.23994565217391303 - ValidACC: 0.14227309893704007\n"
     ]
    },
    {
     "name": "stderr",
     "output_type": "stream",
     "text": [
      "100%|████████████████████████████████████████████████████████████████████| 58/58 [00:22<00:00,  2.57it/s]\n",
      "100%|████████████████████████████████████████████████████████████████████| 58/58 [00:07<00:00,  7.36it/s]\n"
     ]
    },
    {
     "name": "stdout",
     "output_type": "stream",
     "text": [
      "Epoch: 23 - TrainLoss: 2.534762213970053 - ValidLoss: 3.764107317760073\n",
      "Epoch: 23 - TrainACC: 0.2483695652173913 - ValidACC: 0.09893704006541292\n"
     ]
    },
    {
     "name": "stderr",
     "output_type": "stream",
     "text": [
      "100%|████████████████████████████████████████████████████████████████████| 58/58 [00:22<00:00,  2.53it/s]\n",
      "100%|████████████████████████████████████████████████████████████████████| 58/58 [00:07<00:00,  7.34it/s]\n"
     ]
    },
    {
     "name": "stdout",
     "output_type": "stream",
     "text": [
      "Epoch: 24 - TrainLoss: 2.4618127798211984 - ValidLoss: 3.1966507023778457\n",
      "Epoch: 24 - TrainACC: 0.2722826086956522 - ValidACC: 0.15208503679476695\n"
     ]
    },
    {
     "name": "stderr",
     "output_type": "stream",
     "text": [
      "100%|████████████████████████████████████████████████████████████████████| 58/58 [00:22<00:00,  2.56it/s]\n",
      "100%|████████████████████████████████████████████████████████████████████| 58/58 [00:07<00:00,  7.32it/s]\n"
     ]
    },
    {
     "name": "stdout",
     "output_type": "stream",
     "text": [
      "Epoch: 25 - TrainLoss: 2.412773510505413 - ValidLoss: 3.1534859558631636\n",
      "Epoch: 25 - TrainACC: 0.2842391304347826 - ValidACC: 0.16598528209321342\n"
     ]
    },
    {
     "name": "stderr",
     "output_type": "stream",
     "text": [
      "100%|████████████████████████████████████████████████████████████████████| 58/58 [00:22<00:00,  2.56it/s]\n",
      "100%|████████████████████████████████████████████████████████████████████| 58/58 [00:08<00:00,  7.24it/s]\n"
     ]
    },
    {
     "name": "stdout",
     "output_type": "stream",
     "text": [
      "Epoch: 26 - TrainLoss: 2.3291817821305374 - ValidLoss: 2.8388416520480453\n",
      "Epoch: 26 - TrainACC: 0.30190217391304347 - ValidACC: 0.21613518669937312\n"
     ]
    },
    {
     "name": "stderr",
     "output_type": "stream",
     "text": [
      "100%|████████████████████████████████████████████████████████████████████| 58/58 [00:22<00:00,  2.55it/s]\n",
      "100%|████████████████████████████████████████████████████████████████████| 58/58 [00:07<00:00,  7.38it/s]\n"
     ]
    },
    {
     "name": "stdout",
     "output_type": "stream",
     "text": [
      "Epoch: 27 - TrainLoss: 2.250340315802344 - ValidLoss: 2.974124254851506\n",
      "Epoch: 27 - TrainACC: 0.31277173913043477 - ValidACC: 0.1926955573725811\n"
     ]
    },
    {
     "name": "stderr",
     "output_type": "stream",
     "text": [
      "100%|████████████████████████████████████████████████████████████████████| 58/58 [00:22<00:00,  2.55it/s]\n",
      "100%|████████████████████████████████████████████████████████████████████| 58/58 [00:07<00:00,  7.32it/s]\n"
     ]
    },
    {
     "name": "stdout",
     "output_type": "stream",
     "text": [
      "Epoch: 28 - TrainLoss: 2.1308606657488594 - ValidLoss: 3.272489124330981\n",
      "Epoch: 28 - TrainACC: 0.3448369565217391 - ValidACC: 0.1834287271736168\n"
     ]
    },
    {
     "name": "stderr",
     "output_type": "stream",
     "text": [
      "100%|████████████████████████████████████████████████████████████████████| 58/58 [00:22<00:00,  2.54it/s]\n",
      "100%|████████████████████████████████████████████████████████████████████| 58/58 [00:07<00:00,  7.37it/s]\n"
     ]
    },
    {
     "name": "stdout",
     "output_type": "stream",
     "text": [
      "Epoch: 29 - TrainLoss: 2.066705052194924 - ValidLoss: 3.1667683823355315\n",
      "Epoch: 29 - TrainACC: 0.3654891304347826 - ValidACC: 0.2033251567184519\n"
     ]
    },
    {
     "name": "stderr",
     "output_type": "stream",
     "text": [
      "100%|████████████████████████████████████████████████████████████████████| 58/58 [00:22<00:00,  2.57it/s]\n",
      "100%|████████████████████████████████████████████████████████████████████| 58/58 [00:07<00:00,  7.29it/s]\n"
     ]
    },
    {
     "name": "stdout",
     "output_type": "stream",
     "text": [
      "Epoch: 30 - TrainLoss: 1.9698962281490195 - ValidLoss: 3.5570399267920134\n",
      "Epoch: 30 - TrainACC: 0.38559782608695653 - ValidACC: 0.15099482147724175\n"
     ]
    },
    {
     "name": "stderr",
     "output_type": "stream",
     "text": [
      "100%|████████████████████████████████████████████████████████████████████| 58/58 [00:22<00:00,  2.57it/s]\n",
      "100%|████████████████████████████████████████████████████████████████████| 58/58 [00:07<00:00,  7.41it/s]\n"
     ]
    },
    {
     "name": "stdout",
     "output_type": "stream",
     "text": [
      "Epoch: 31 - TrainLoss: 1.8663815321593449 - ValidLoss: 2.898165826139779\n",
      "Epoch: 31 - TrainACC: 0.42418478260869563 - ValidACC: 0.22567457072771874\n"
     ]
    },
    {
     "name": "stderr",
     "output_type": "stream",
     "text": [
      "100%|████████████████████████████████████████████████████████████████████| 58/58 [00:22<00:00,  2.57it/s]\n",
      "100%|████████████████████████████████████████████████████████████████████| 58/58 [00:07<00:00,  7.29it/s]\n"
     ]
    },
    {
     "name": "stdout",
     "output_type": "stream",
     "text": [
      "Epoch: 32 - TrainLoss: 1.8096263655300797 - ValidLoss: 3.4209978333834945\n",
      "Epoch: 32 - TrainACC: 0.4277173913043478 - ValidACC: 0.18669937312619242\n"
     ]
    },
    {
     "name": "stderr",
     "output_type": "stream",
     "text": [
      "100%|████████████████████████████████████████████████████████████████████| 58/58 [00:22<00:00,  2.57it/s]\n",
      "100%|████████████████████████████████████████████████████████████████████| 58/58 [00:08<00:00,  7.23it/s]\n"
     ]
    },
    {
     "name": "stdout",
     "output_type": "stream",
     "text": [
      "Epoch: 33 - TrainLoss: 1.697832450784486 - ValidLoss: 3.6107210825229514\n",
      "Epoch: 33 - TrainACC: 0.46141304347826084 - ValidACC: 0.175524666121559\n"
     ]
    },
    {
     "name": "stderr",
     "output_type": "stream",
     "text": [
      "100%|████████████████████████████████████████████████████████████████████| 58/58 [00:22<00:00,  2.53it/s]\n",
      "100%|████████████████████████████████████████████████████████████████████| 58/58 [00:08<00:00,  7.20it/s]\n"
     ]
    },
    {
     "name": "stdout",
     "output_type": "stream",
     "text": [
      "Epoch: 34 - TrainLoss: 1.5672092869363983 - ValidLoss: 3.0955157321074913\n",
      "Epoch: 34 - TrainACC: 0.49755434782608693 - ValidACC: 0.2327609702916326\n"
     ]
    },
    {
     "name": "stderr",
     "output_type": "stream",
     "text": [
      "100%|████████████████████████████████████████████████████████████████████| 58/58 [00:22<00:00,  2.55it/s]\n",
      "100%|████████████████████████████████████████████████████████████████████| 58/58 [00:08<00:00,  7.15it/s]\n"
     ]
    },
    {
     "name": "stdout",
     "output_type": "stream",
     "text": [
      "Epoch: 35 - TrainLoss: 1.4588902736532277 - ValidLoss: 3.4601418437628912\n",
      "Epoch: 35 - TrainACC: 0.5239130434782608 - ValidACC: 0.1946034341782502\n"
     ]
    },
    {
     "name": "stderr",
     "output_type": "stream",
     "text": [
      "100%|████████████████████████████████████████████████████████████████████| 58/58 [00:22<00:00,  2.57it/s]\n",
      "100%|████████████████████████████████████████████████████████████████████| 58/58 [00:08<00:00,  7.20it/s]\n"
     ]
    },
    {
     "name": "stdout",
     "output_type": "stream",
     "text": [
      "Epoch: 36 - TrainLoss: 1.3370551857455024 - ValidLoss: 3.4499645973074027\n",
      "Epoch: 36 - TrainACC: 0.5608695652173913 - ValidACC: 0.22921777050967565\n"
     ]
    },
    {
     "name": "stderr",
     "output_type": "stream",
     "text": [
      "100%|████████████████████████████████████████████████████████████████████| 58/58 [00:22<00:00,  2.54it/s]\n",
      "100%|████████████████████████████████████████████████████████████████████| 58/58 [00:08<00:00,  7.18it/s]\n"
     ]
    },
    {
     "name": "stdout",
     "output_type": "stream",
     "text": [
      "Epoch: 37 - TrainLoss: 1.1637990104741063 - ValidLoss: 3.7562878707359575\n",
      "Epoch: 37 - TrainACC: 0.6171195652173913 - ValidACC: 0.22158626328699918\n"
     ]
    },
    {
     "name": "stderr",
     "output_type": "stream",
     "text": [
      "100%|████████████████████████████████████████████████████████████████████| 58/58 [00:22<00:00,  2.57it/s]\n",
      "100%|████████████████████████████████████████████████████████████████████| 58/58 [00:08<00:00,  7.14it/s]\n"
     ]
    },
    {
     "name": "stdout",
     "output_type": "stream",
     "text": [
      "Epoch: 38 - TrainLoss: 1.0793838315996631 - ValidLoss: 3.542113320580844\n",
      "Epoch: 38 - TrainACC: 0.652445652173913 - ValidACC: 0.2330335241210139\n"
     ]
    },
    {
     "name": "stderr",
     "output_type": "stream",
     "text": [
      "100%|████████████████████████████████████████████████████████████████████| 58/58 [00:22<00:00,  2.56it/s]\n",
      "100%|████████████████████████████████████████████████████████████████████| 58/58 [00:07<00:00,  7.40it/s]\n"
     ]
    },
    {
     "name": "stdout",
     "output_type": "stream",
     "text": [
      "Epoch: 39 - TrainLoss: 0.965633881503138 - ValidLoss: 3.894870141456867\n",
      "Epoch: 39 - TrainACC: 0.6855978260869565 - ValidACC: 0.21913327882256745\n"
     ]
    },
    {
     "name": "stderr",
     "output_type": "stream",
     "text": [
      "100%|████████████████████████████████████████████████████████████████████| 58/58 [00:22<00:00,  2.57it/s]\n",
      "100%|████████████████████████████████████████████████████████████████████| 58/58 [00:08<00:00,  7.20it/s]\n"
     ]
    },
    {
     "name": "stdout",
     "output_type": "stream",
     "text": [
      "Epoch: 40 - TrainLoss: 0.8863601787336941 - ValidLoss: 4.093658644577553\n",
      "Epoch: 40 - TrainACC: 0.7116847826086956 - ValidACC: 0.21695284818751703\n"
     ]
    },
    {
     "name": "stderr",
     "output_type": "stream",
     "text": [
      "100%|████████████████████████████████████████████████████████████████████| 58/58 [00:22<00:00,  2.54it/s]\n",
      "100%|████████████████████████████████████████████████████████████████████| 58/58 [00:08<00:00,  7.17it/s]\n"
     ]
    },
    {
     "name": "stdout",
     "output_type": "stream",
     "text": [
      "Epoch: 41 - TrainLoss: 0.7177922705124165 - ValidLoss: 3.7773909897639832\n",
      "Epoch: 41 - TrainACC: 0.7671195652173913 - ValidACC: 0.24638866176069774\n"
     ]
    },
    {
     "name": "stderr",
     "output_type": "stream",
     "text": [
      "100%|████████████████████████████████████████████████████████████████████| 58/58 [00:22<00:00,  2.55it/s]\n",
      "100%|████████████████████████████████████████████████████████████████████| 58/58 [00:07<00:00,  7.41it/s]\n"
     ]
    },
    {
     "name": "stdout",
     "output_type": "stream",
     "text": [
      "Epoch: 42 - TrainLoss: 0.5849798568363848 - ValidLoss: 3.8558543838303665\n",
      "Epoch: 42 - TrainACC: 0.8222826086956522 - ValidACC: 0.2616516762060507\n"
     ]
    },
    {
     "name": "stderr",
     "output_type": "stream",
     "text": [
      "100%|████████████████████████████████████████████████████████████████████| 58/58 [00:22<00:00,  2.56it/s]\n",
      "100%|████████████████████████████████████████████████████████████████████| 58/58 [00:07<00:00,  7.43it/s]\n"
     ]
    },
    {
     "name": "stdout",
     "output_type": "stream",
     "text": [
      "Epoch: 43 - TrainLoss: 0.4910522498961153 - ValidLoss: 4.13033873048322\n",
      "Epoch: 43 - TrainACC: 0.846195652173913 - ValidACC: 0.22976287816843827\n"
     ]
    },
    {
     "name": "stderr",
     "output_type": "stream",
     "text": [
      "100%|████████████████████████████████████████████████████████████████████| 58/58 [00:22<00:00,  2.54it/s]\n",
      "100%|████████████████████████████████████████████████████████████████████| 58/58 [00:08<00:00,  7.23it/s]\n"
     ]
    },
    {
     "name": "stdout",
     "output_type": "stream",
     "text": [
      "Epoch: 44 - TrainLoss: 0.42304179637596523 - ValidLoss: 5.764657143888803\n",
      "Epoch: 44 - TrainACC: 0.8741847826086957 - ValidACC: 0.19678386481330062\n"
     ]
    },
    {
     "name": "stderr",
     "output_type": "stream",
     "text": [
      "100%|████████████████████████████████████████████████████████████████████| 58/58 [00:22<00:00,  2.55it/s]\n",
      "100%|████████████████████████████████████████████████████████████████████| 58/58 [00:07<00:00,  7.28it/s]\n"
     ]
    },
    {
     "name": "stdout",
     "output_type": "stream",
     "text": [
      "Epoch: 45 - TrainLoss: 0.3667930382592925 - ValidLoss: 4.700187391248242\n",
      "Epoch: 45 - TrainACC: 0.8888586956521739 - ValidACC: 0.2423003543199782\n"
     ]
    },
    {
     "name": "stderr",
     "output_type": "stream",
     "text": [
      "100%|████████████████████████████████████████████████████████████████████| 58/58 [00:22<00:00,  2.54it/s]\n",
      "100%|████████████████████████████████████████████████████████████████████| 58/58 [00:08<00:00,  7.15it/s]\n"
     ]
    },
    {
     "name": "stdout",
     "output_type": "stream",
     "text": [
      "Epoch: 46 - TrainLoss: 0.28299573860291777 - ValidLoss: 4.801512142707562\n",
      "Epoch: 46 - TrainACC: 0.9184782608695652 - ValidACC: 0.23194330880348868\n"
     ]
    },
    {
     "name": "stderr",
     "output_type": "stream",
     "text": [
      "100%|████████████████████████████████████████████████████████████████████| 58/58 [00:22<00:00,  2.57it/s]\n",
      "100%|████████████████████████████████████████████████████████████████████| 58/58 [00:07<00:00,  7.44it/s]\n"
     ]
    },
    {
     "name": "stdout",
     "output_type": "stream",
     "text": [
      "Epoch: 47 - TrainLoss: 0.19925925880670547 - ValidLoss: 4.551882521859531\n",
      "Epoch: 47 - TrainACC: 0.9538043478260869 - ValidACC: 0.2635595530117198\n"
     ]
    },
    {
     "name": "stderr",
     "output_type": "stream",
     "text": [
      "100%|████████████████████████████████████████████████████████████████████| 58/58 [00:22<00:00,  2.54it/s]\n",
      "100%|████████████████████████████████████████████████████████████████████| 58/58 [00:07<00:00,  7.32it/s]\n"
     ]
    },
    {
     "name": "stdout",
     "output_type": "stream",
     "text": [
      "Epoch: 48 - TrainLoss: 0.13699167170401277 - ValidLoss: 5.434477962296585\n",
      "Epoch: 48 - TrainACC: 0.9752717391304347 - ValidACC: 0.2313982011447261\n"
     ]
    },
    {
     "name": "stderr",
     "output_type": "stream",
     "text": [
      "100%|████████████████████████████████████████████████████████████████████| 58/58 [00:22<00:00,  2.54it/s]\n",
      "100%|████████████████████████████████████████████████████████████████████| 58/58 [00:07<00:00,  7.41it/s]\n"
     ]
    },
    {
     "name": "stdout",
     "output_type": "stream",
     "text": [
      "Epoch: 49 - TrainLoss: 0.10277964682157698 - ValidLoss: 4.214798331260681\n",
      "Epoch: 49 - TrainACC: 0.9828804347826087 - ValidACC: 0.2804578904333606\n"
     ]
    },
    {
     "name": "stderr",
     "output_type": "stream",
     "text": [
      "100%|████████████████████████████████████████████████████████████████████| 58/58 [00:22<00:00,  2.54it/s]\n",
      "100%|████████████████████████████████████████████████████████████████████| 58/58 [00:07<00:00,  7.26it/s]\n"
     ]
    },
    {
     "name": "stdout",
     "output_type": "stream",
     "text": [
      "Epoch: 50 - TrainLoss: 0.08825070462350187 - ValidLoss: 4.45713419749819\n",
      "Epoch: 50 - TrainACC: 0.9875 - ValidACC: 0.27991278277459797\n"
     ]
    },
    {
     "name": "stderr",
     "output_type": "stream",
     "text": [
      "100%|████████████████████████████████████████████████████████████████████| 58/58 [00:22<00:00,  2.56it/s]\n",
      "100%|████████████████████████████████████████████████████████████████████| 58/58 [00:07<00:00,  7.27it/s]\n"
     ]
    },
    {
     "name": "stdout",
     "output_type": "stream",
     "text": [
      "Epoch: 51 - TrainLoss: 0.05436246681573062 - ValidLoss: 4.403213188566011\n",
      "Epoch: 51 - TrainACC: 0.9948369565217391 - ValidACC: 0.2804578904333606\n"
     ]
    },
    {
     "name": "stderr",
     "output_type": "stream",
     "text": [
      "100%|████████████████████████████████████████████████████████████████████| 58/58 [00:22<00:00,  2.56it/s]\n",
      "100%|████████████████████████████████████████████████████████████████████| 58/58 [00:07<00:00,  7.26it/s]\n"
     ]
    },
    {
     "name": "stdout",
     "output_type": "stream",
     "text": [
      "Epoch: 52 - TrainLoss: 0.04952646082202936 - ValidLoss: 4.674252592284104\n",
      "Epoch: 52 - TrainACC: 0.9940217391304348 - ValidACC: 0.2703733987462524\n"
     ]
    },
    {
     "name": "stderr",
     "output_type": "stream",
     "text": [
      "100%|████████████████████████████████████████████████████████████████████| 58/58 [00:22<00:00,  2.53it/s]\n",
      "100%|████████████████████████████████████████████████████████████████████| 58/58 [00:07<00:00,  7.32it/s]\n"
     ]
    },
    {
     "name": "stdout",
     "output_type": "stream",
     "text": [
      "Epoch: 53 - TrainLoss: 0.07709376244195576 - ValidLoss: 4.554077226540138\n",
      "Epoch: 53 - TrainACC: 0.9853260869565217 - ValidACC: 0.27718724448078497\n"
     ]
    },
    {
     "name": "stderr",
     "output_type": "stream",
     "text": [
      "100%|████████████████████████████████████████████████████████████████████| 58/58 [00:22<00:00,  2.56it/s]\n",
      "100%|████████████████████████████████████████████████████████████████████| 58/58 [00:07<00:00,  7.37it/s]\n"
     ]
    },
    {
     "name": "stdout",
     "output_type": "stream",
     "text": [
      "Epoch: 54 - TrainLoss: 0.05734294713956529 - ValidLoss: 4.78409154250704\n",
      "Epoch: 54 - TrainACC: 0.9915760869565218 - ValidACC: 0.2810029980921232\n"
     ]
    },
    {
     "name": "stderr",
     "output_type": "stream",
     "text": [
      "100%|████████████████████████████████████████████████████████████████████| 58/58 [00:22<00:00,  2.54it/s]\n",
      "100%|████████████████████████████████████████████████████████████████████| 58/58 [00:07<00:00,  7.27it/s]\n"
     ]
    },
    {
     "name": "stdout",
     "output_type": "stream",
     "text": [
      "Epoch: 55 - TrainLoss: 0.02726441096707151 - ValidLoss: 4.73462019295528\n",
      "Epoch: 55 - TrainACC: 0.9989130434782608 - ValidACC: 0.27609702916325973\n"
     ]
    },
    {
     "name": "stderr",
     "output_type": "stream",
     "text": [
      "100%|████████████████████████████████████████████████████████████████████| 58/58 [00:22<00:00,  2.54it/s]\n",
      "100%|████████████████████████████████████████████████████████████████████| 58/58 [00:07<00:00,  7.35it/s]\n"
     ]
    },
    {
     "name": "stdout",
     "output_type": "stream",
     "text": [
      "Epoch: 56 - TrainLoss: 0.022583419168046837 - ValidLoss: 4.583174261553534\n",
      "Epoch: 56 - TrainACC: 0.998641304347826 - ValidACC: 0.2741891523575906\n"
     ]
    },
    {
     "name": "stderr",
     "output_type": "stream",
     "text": [
      "100%|████████████████████████████████████████████████████████████████████| 58/58 [00:22<00:00,  2.54it/s]\n",
      "100%|████████████████████████████████████████████████████████████████████| 58/58 [00:07<00:00,  7.38it/s]\n"
     ]
    },
    {
     "name": "stdout",
     "output_type": "stream",
     "text": [
      "Epoch: 57 - TrainLoss: 0.017876132142505254 - ValidLoss: 4.62013984137568\n",
      "Epoch: 57 - TrainACC: 0.9994565217391305 - ValidACC: 0.28890705914418097\n"
     ]
    },
    {
     "name": "stderr",
     "output_type": "stream",
     "text": [
      "100%|████████████████████████████████████████████████████████████████████| 58/58 [00:22<00:00,  2.57it/s]\n",
      "100%|████████████████████████████████████████████████████████████████████| 58/58 [00:07<00:00,  7.26it/s]\n"
     ]
    },
    {
     "name": "stdout",
     "output_type": "stream",
     "text": [
      "Epoch: 58 - TrainLoss: 0.014686579093465517 - ValidLoss: 4.557682288104091\n",
      "Epoch: 58 - TrainACC: 0.9994565217391305 - ValidACC: 0.3008994276369583\n"
     ]
    },
    {
     "name": "stderr",
     "output_type": "stream",
     "text": [
      "100%|████████████████████████████████████████████████████████████████████| 58/58 [00:22<00:00,  2.54it/s]\n",
      "100%|████████████████████████████████████████████████████████████████████| 58/58 [00:08<00:00,  7.20it/s]\n"
     ]
    },
    {
     "name": "stdout",
     "output_type": "stream",
     "text": [
      "Epoch: 59 - TrainLoss: 0.014158439188232196 - ValidLoss: 4.643812870157176\n",
      "Epoch: 59 - TrainACC: 0.9994565217391305 - ValidACC: 0.29626601253747614\n"
     ]
    },
    {
     "name": "stderr",
     "output_type": "stream",
     "text": [
      "100%|████████████████████████████████████████████████████████████████████| 58/58 [00:22<00:00,  2.56it/s]\n",
      "100%|████████████████████████████████████████████████████████████████████| 58/58 [00:07<00:00,  7.30it/s]\n"
     ]
    },
    {
     "name": "stdout",
     "output_type": "stream",
     "text": [
      "Epoch: 60 - TrainLoss: 0.013121265444326503 - ValidLoss: 4.920774776360084\n",
      "Epoch: 60 - TrainACC: 0.9991847826086957 - ValidACC: 0.28018533660397926\n"
     ]
    },
    {
     "name": "stderr",
     "output_type": "stream",
     "text": [
      "100%|████████████████████████████████████████████████████████████████████| 58/58 [00:22<00:00,  2.55it/s]\n",
      "100%|████████████████████████████████████████████████████████████████████| 58/58 [00:08<00:00,  7.12it/s]\n"
     ]
    },
    {
     "name": "stdout",
     "output_type": "stream",
     "text": [
      "Epoch: 61 - TrainLoss: 0.01246845448421764 - ValidLoss: 4.852960344018607\n",
      "Epoch: 61 - TrainACC: 0.9997282608695652 - ValidACC: 0.28236576723902973\n"
     ]
    },
    {
     "name": "stderr",
     "output_type": "stream",
     "text": [
      "100%|████████████████████████████████████████████████████████████████████| 58/58 [00:22<00:00,  2.55it/s]\n",
      "100%|████████████████████████████████████████████████████████████████████| 58/58 [00:08<00:00,  7.20it/s]\n"
     ]
    },
    {
     "name": "stdout",
     "output_type": "stream",
     "text": [
      "Epoch: 62 - TrainLoss: 0.015755118440900898 - ValidLoss: 5.002615192840839\n",
      "Epoch: 62 - TrainACC: 0.998641304347826 - ValidACC: 0.2804578904333606\n"
     ]
    },
    {
     "name": "stderr",
     "output_type": "stream",
     "text": [
      "100%|████████████████████████████████████████████████████████████████████| 58/58 [00:22<00:00,  2.55it/s]\n",
      "100%|████████████████████████████████████████████████████████████████████| 58/58 [00:08<00:00,  7.17it/s]\n"
     ]
    },
    {
     "name": "stdout",
     "output_type": "stream",
     "text": [
      "Epoch: 63 - TrainLoss: 0.01233385459134548 - ValidLoss: 4.820295670936847\n",
      "Epoch: 63 - TrainACC: 0.9994565217391305 - ValidACC: 0.29599345870809485\n"
     ]
    },
    {
     "name": "stderr",
     "output_type": "stream",
     "text": [
      "100%|████████████████████████████████████████████████████████████████████| 58/58 [00:22<00:00,  2.55it/s]\n",
      "100%|████████████████████████████████████████████████████████████████████| 58/58 [00:08<00:00,  7.16it/s]\n"
     ]
    },
    {
     "name": "stdout",
     "output_type": "stream",
     "text": [
      "Epoch: 64 - TrainLoss: 0.009959700099866966 - ValidLoss: 4.673277147885027\n",
      "Epoch: 64 - TrainACC: 0.9994565217391305 - ValidACC: 0.2878168438266558\n"
     ]
    },
    {
     "name": "stderr",
     "output_type": "stream",
     "text": [
      "100%|████████████████████████████████████████████████████████████████████| 58/58 [00:22<00:00,  2.55it/s]\n",
      "100%|████████████████████████████████████████████████████████████████████| 58/58 [00:08<00:00,  7.00it/s]\n"
     ]
    },
    {
     "name": "stdout",
     "output_type": "stream",
     "text": [
      "Epoch: 65 - TrainLoss: 0.006283093978458181 - ValidLoss: 4.7312481855524\n",
      "Epoch: 65 - TrainACC: 1.0 - ValidACC: 0.2880893976560371\n"
     ]
    },
    {
     "name": "stderr",
     "output_type": "stream",
     "text": [
      "100%|████████████████████████████████████████████████████████████████████| 58/58 [00:22<00:00,  2.56it/s]\n",
      "100%|████████████████████████████████████████████████████████████████████| 58/58 [00:07<00:00,  7.32it/s]\n"
     ]
    },
    {
     "name": "stdout",
     "output_type": "stream",
     "text": [
      "Epoch: 66 - TrainLoss: 0.0055401484473961695 - ValidLoss: 4.76908083208676\n",
      "Epoch: 66 - TrainACC: 1.0 - ValidACC: 0.28727173616789314\n"
     ]
    },
    {
     "name": "stderr",
     "output_type": "stream",
     "text": [
      "100%|████████████████████████████████████████████████████████████████████| 58/58 [00:22<00:00,  2.56it/s]\n",
      "100%|████████████████████████████████████████████████████████████████████| 58/58 [00:08<00:00,  7.25it/s]\n"
     ]
    },
    {
     "name": "stdout",
     "output_type": "stream",
     "text": [
      "Epoch: 67 - TrainLoss: 0.005862666145448798 - ValidLoss: 4.746010513141237\n",
      "Epoch: 67 - TrainACC: 1.0 - ValidACC: 0.2913600436086127\n"
     ]
    },
    {
     "name": "stderr",
     "output_type": "stream",
     "text": [
      "100%|████████████████████████████████████████████████████████████████████| 58/58 [00:22<00:00,  2.56it/s]\n",
      "100%|████████████████████████████████████████████████████████████████████| 58/58 [00:08<00:00,  7.16it/s]\n"
     ]
    },
    {
     "name": "stdout",
     "output_type": "stream",
     "text": [
      "Epoch: 68 - TrainLoss: 0.00493465434631397 - ValidLoss: 4.819797820058362\n",
      "Epoch: 68 - TrainACC: 1.0 - ValidACC: 0.2902698282910875\n"
     ]
    },
    {
     "name": "stderr",
     "output_type": "stream",
     "text": [
      "100%|████████████████████████████████████████████████████████████████████| 58/58 [00:22<00:00,  2.54it/s]\n",
      "100%|████████████████████████████████████████████████████████████████████| 58/58 [00:07<00:00,  7.27it/s]\n"
     ]
    },
    {
     "name": "stdout",
     "output_type": "stream",
     "text": [
      "Epoch: 69 - TrainLoss: 0.004182306656228571 - ValidLoss: 4.802532570115451\n",
      "Epoch: 69 - TrainACC: 1.0 - ValidACC: 0.2905423821204688\n"
     ]
    },
    {
     "name": "stderr",
     "output_type": "stream",
     "text": [
      "100%|████████████████████████████████████████████████████████████████████| 58/58 [00:22<00:00,  2.54it/s]\n",
      "100%|████████████████████████████████████████████████████████████████████| 58/58 [00:08<00:00,  7.22it/s]\n"
     ]
    },
    {
     "name": "stdout",
     "output_type": "stream",
     "text": [
      "Epoch: 70 - TrainLoss: 0.004393593865800007 - ValidLoss: 4.847175832452445\n",
      "Epoch: 70 - TrainACC: 1.0 - ValidACC: 0.2910874897792314\n"
     ]
    },
    {
     "name": "stderr",
     "output_type": "stream",
     "text": [
      "100%|████████████████████████████████████████████████████████████████████| 58/58 [00:22<00:00,  2.52it/s]\n",
      "100%|████████████████████████████████████████████████████████████████████| 58/58 [00:07<00:00,  7.31it/s]\n"
     ]
    },
    {
     "name": "stdout",
     "output_type": "stream",
     "text": [
      "Epoch: 71 - TrainLoss: 0.004562303464024745 - ValidLoss: 4.834292847534706\n",
      "Epoch: 71 - TrainACC: 0.9997282608695652 - ValidACC: 0.2883619514854184\n"
     ]
    },
    {
     "name": "stderr",
     "output_type": "stream",
     "text": [
      "100%|████████████████████████████████████████████████████████████████████| 58/58 [00:22<00:00,  2.54it/s]\n",
      "100%|████████████████████████████████████████████████████████████████████| 58/58 [00:07<00:00,  7.26it/s]\n"
     ]
    },
    {
     "name": "stdout",
     "output_type": "stream",
     "text": [
      "Epoch: 72 - TrainLoss: 0.0038544224828064187 - ValidLoss: 4.810581338816676\n",
      "Epoch: 72 - TrainACC: 1.0 - ValidACC: 0.2924502589261379\n"
     ]
    },
    {
     "name": "stderr",
     "output_type": "stream",
     "text": [
      "100%|████████████████████████████████████████████████████████████████████| 58/58 [00:22<00:00,  2.54it/s]\n",
      "100%|████████████████████████████████████████████████████████████████████| 58/58 [00:07<00:00,  7.40it/s]\n"
     ]
    },
    {
     "name": "stdout",
     "output_type": "stream",
     "text": [
      "Epoch: 73 - TrainLoss: 0.004143473254677294 - ValidLoss: 4.902757796747931\n",
      "Epoch: 73 - TrainACC: 1.0 - ValidACC: 0.2883619514854184\n"
     ]
    },
    {
     "name": "stderr",
     "output_type": "stream",
     "text": [
      "100%|████████████████████████████████████████████████████████████████████| 58/58 [00:22<00:00,  2.54it/s]\n",
      "100%|████████████████████████████████████████████████████████████████████| 58/58 [00:07<00:00,  7.38it/s]\n"
     ]
    },
    {
     "name": "stdout",
     "output_type": "stream",
     "text": [
      "Epoch: 74 - TrainLoss: 0.003615783852653514 - ValidLoss: 4.897106232314274\n",
      "Epoch: 74 - TrainACC: 1.0 - ValidACC: 0.2924502589261379\n"
     ]
    },
    {
     "name": "stderr",
     "output_type": "stream",
     "text": [
      "100%|████████████████████████████████████████████████████████████████████| 58/58 [00:22<00:00,  2.56it/s]\n",
      "100%|████████████████████████████████████████████████████████████████████| 58/58 [00:07<00:00,  7.40it/s]\n"
     ]
    },
    {
     "name": "stdout",
     "output_type": "stream",
     "text": [
      "Epoch: 75 - TrainLoss: 0.0033744119874458633 - ValidLoss: 4.855150124122357\n",
      "Epoch: 75 - TrainACC: 1.0 - ValidACC: 0.2905423821204688\n"
     ]
    },
    {
     "name": "stderr",
     "output_type": "stream",
     "text": [
      "100%|████████████████████████████████████████████████████████████████████| 58/58 [00:22<00:00,  2.55it/s]\n",
      "100%|████████████████████████████████████████████████████████████████████| 58/58 [00:07<00:00,  7.30it/s]\n"
     ]
    },
    {
     "name": "stdout",
     "output_type": "stream",
     "text": [
      "Epoch: 76 - TrainLoss: 0.003641936942083954 - ValidLoss: 4.879215137711887\n",
      "Epoch: 76 - TrainACC: 1.0 - ValidACC: 0.28727173616789314\n"
     ]
    },
    {
     "name": "stderr",
     "output_type": "stream",
     "text": [
      "100%|████████████████████████████████████████████████████████████████████| 58/58 [00:22<00:00,  2.54it/s]\n",
      "100%|████████████████████████████████████████████████████████████████████| 58/58 [00:07<00:00,  7.34it/s]\n"
     ]
    },
    {
     "name": "stdout",
     "output_type": "stream",
     "text": [
      "Epoch: 77 - TrainLoss: 0.0034545753030748717 - ValidLoss: 4.884834359432089\n",
      "Epoch: 77 - TrainACC: 1.0 - ValidACC: 0.2919051512673753\n"
     ]
    },
    {
     "name": "stderr",
     "output_type": "stream",
     "text": [
      "100%|████████████████████████████████████████████████████████████████████| 58/58 [00:22<00:00,  2.54it/s]\n",
      "100%|████████████████████████████████████████████████████████████████████| 58/58 [00:07<00:00,  7.33it/s]\n"
     ]
    },
    {
     "name": "stdout",
     "output_type": "stream",
     "text": [
      "Epoch: 78 - TrainLoss: 0.0027478422572161875 - ValidLoss: 4.862258520619623\n",
      "Epoch: 78 - TrainACC: 1.0 - ValidACC: 0.2910874897792314\n"
     ]
    },
    {
     "name": "stderr",
     "output_type": "stream",
     "text": [
      "100%|████████████████████████████████████████████████████████████████████| 58/58 [00:22<00:00,  2.55it/s]\n",
      "100%|████████████████████████████████████████████████████████████████████| 58/58 [00:08<00:00,  7.12it/s]\n"
     ]
    },
    {
     "name": "stdout",
     "output_type": "stream",
     "text": [
      "Epoch: 79 - TrainLoss: 0.0030617971768088894 - ValidLoss: 4.9023717066337325\n",
      "Epoch: 79 - TrainACC: 1.0 - ValidACC: 0.291632597437994\n"
     ]
    },
    {
     "name": "stderr",
     "output_type": "stream",
     "text": [
      "100%|████████████████████████████████████████████████████████████████████| 58/58 [00:22<00:00,  2.56it/s]\n",
      "100%|████████████████████████████████████████████████████████████████████| 58/58 [00:08<00:00,  7.14it/s]\n"
     ]
    },
    {
     "name": "stdout",
     "output_type": "stream",
     "text": [
      "Epoch: 80 - TrainLoss: 0.0029401685460470617 - ValidLoss: 4.837792441762727\n",
      "Epoch: 80 - TrainACC: 1.0 - ValidACC: 0.2924502589261379\n"
     ]
    },
    {
     "name": "stderr",
     "output_type": "stream",
     "text": [
      "100%|████████████████████████████████████████████████████████████████████| 58/58 [00:22<00:00,  2.57it/s]\n",
      "100%|████████████████████████████████████████████████████████████████████| 58/58 [00:08<00:00,  7.20it/s]\n"
     ]
    },
    {
     "name": "stdout",
     "output_type": "stream",
     "text": [
      "Epoch: 81 - TrainLoss: 0.0032588740718422523 - ValidLoss: 4.87331473005229\n",
      "Epoch: 81 - TrainACC: 1.0 - ValidACC: 0.29599345870809485\n"
     ]
    },
    {
     "name": "stderr",
     "output_type": "stream",
     "text": [
      "100%|████████████████████████████████████████████████████████████████████| 58/58 [00:22<00:00,  2.54it/s]\n",
      "100%|████████████████████████████████████████████████████████████████████| 58/58 [00:08<00:00,  7.22it/s]\n"
     ]
    },
    {
     "name": "stdout",
     "output_type": "stream",
     "text": [
      "Epoch: 82 - TrainLoss: 0.003417647997688117 - ValidLoss: 4.9309735215943435\n",
      "Epoch: 82 - TrainACC: 0.9997282608695652 - ValidACC: 0.2949032433905696\n"
     ]
    },
    {
     "name": "stderr",
     "output_type": "stream",
     "text": [
      "100%|████████████████████████████████████████████████████████████████████| 58/58 [00:23<00:00,  2.52it/s]\n",
      "100%|████████████████████████████████████████████████████████████████████| 58/58 [00:08<00:00,  7.01it/s]\n"
     ]
    },
    {
     "name": "stdout",
     "output_type": "stream",
     "text": [
      "Epoch: 83 - TrainLoss: 0.0029235660873257138 - ValidLoss: 4.894691138431944\n",
      "Epoch: 83 - TrainACC: 1.0 - ValidACC: 0.29408558190242573\n"
     ]
    },
    {
     "name": "stderr",
     "output_type": "stream",
     "text": [
      "100%|████████████████████████████████████████████████████████████████████| 58/58 [00:22<00:00,  2.55it/s]\n",
      "100%|████████████████████████████████████████████████████████████████████| 58/58 [00:07<00:00,  7.38it/s]\n"
     ]
    },
    {
     "name": "stdout",
     "output_type": "stream",
     "text": [
      "Epoch: 84 - TrainLoss: 0.0031558631714594006 - ValidLoss: 4.854513431417531\n",
      "Epoch: 84 - TrainACC: 1.0 - ValidACC: 0.2946306895611883\n"
     ]
    },
    {
     "name": "stderr",
     "output_type": "stream",
     "text": [
      "100%|████████████████████████████████████████████████████████████████████| 58/58 [00:22<00:00,  2.54it/s]\n",
      "100%|████████████████████████████████████████████████████████████████████| 58/58 [00:07<00:00,  7.30it/s]\n"
     ]
    },
    {
     "name": "stdout",
     "output_type": "stream",
     "text": [
      "Epoch: 85 - TrainLoss: 0.0030423829829769916 - ValidLoss: 4.9032009511158385\n",
      "Epoch: 85 - TrainACC: 1.0 - ValidACC: 0.2946306895611883\n"
     ]
    },
    {
     "name": "stderr",
     "output_type": "stream",
     "text": [
      "100%|████████████████████████████████████████████████████████████████████| 58/58 [00:22<00:00,  2.55it/s]\n",
      "100%|████████████████████████████████████████████████████████████████████| 58/58 [00:07<00:00,  7.31it/s]\n"
     ]
    },
    {
     "name": "stdout",
     "output_type": "stream",
     "text": [
      "Epoch: 86 - TrainLoss: 0.002335235500579764 - ValidLoss: 4.908602730981235\n",
      "Epoch: 86 - TrainACC: 1.0 - ValidACC: 0.2949032433905696\n"
     ]
    },
    {
     "name": "stderr",
     "output_type": "stream",
     "text": [
      "100%|████████████████████████████████████████████████████████████████████| 58/58 [00:22<00:00,  2.53it/s]\n",
      "100%|████████████████████████████████████████████████████████████████████| 58/58 [00:07<00:00,  7.30it/s]\n"
     ]
    },
    {
     "name": "stdout",
     "output_type": "stream",
     "text": [
      "Epoch: 87 - TrainLoss: 0.002909904885796252 - ValidLoss: 4.901594466176526\n",
      "Epoch: 87 - TrainACC: 1.0 - ValidACC: 0.2949032433905696\n"
     ]
    },
    {
     "name": "stderr",
     "output_type": "stream",
     "text": [
      "100%|████████████████████████████████████████████████████████████████████| 58/58 [00:22<00:00,  2.55it/s]\n",
      "100%|████████████████████████████████████████████████████████████████████| 58/58 [00:08<00:00,  7.22it/s]\n"
     ]
    },
    {
     "name": "stdout",
     "output_type": "stream",
     "text": [
      "Epoch: 88 - TrainLoss: 0.002668102827838397 - ValidLoss: 4.910401512836588\n",
      "Epoch: 88 - TrainACC: 1.0 - ValidACC: 0.2910874897792314\n"
     ]
    },
    {
     "name": "stderr",
     "output_type": "stream",
     "text": [
      "100%|████████████████████████████████████████████████████████████████████| 58/58 [00:22<00:00,  2.55it/s]\n",
      "100%|████████████████████████████████████████████████████████████████████| 58/58 [00:07<00:00,  7.25it/s]\n"
     ]
    },
    {
     "name": "stdout",
     "output_type": "stream",
     "text": [
      "Epoch: 89 - TrainLoss: 0.0032400889021087565 - ValidLoss: 4.937147506352129\n",
      "Epoch: 89 - TrainACC: 1.0 - ValidACC: 0.29790133551376397\n"
     ]
    },
    {
     "name": "stderr",
     "output_type": "stream",
     "text": [
      "100%|████████████████████████████████████████████████████████████████████| 58/58 [00:22<00:00,  2.57it/s]\n",
      "100%|████████████████████████████████████████████████████████████████████| 58/58 [00:08<00:00,  7.04it/s]\n"
     ]
    },
    {
     "name": "stdout",
     "output_type": "stream",
     "text": [
      "Epoch: 90 - TrainLoss: 0.002372604403403941 - ValidLoss: 4.8885600320224105\n",
      "Epoch: 90 - TrainACC: 1.0 - ValidACC: 0.29653856636685744\n"
     ]
    },
    {
     "name": "stderr",
     "output_type": "stream",
     "text": [
      "100%|████████████████████████████████████████████████████████████████████| 58/58 [00:22<00:00,  2.55it/s]\n",
      "100%|████████████████████████████████████████████████████████████████████| 58/58 [00:07<00:00,  7.28it/s]\n"
     ]
    },
    {
     "name": "stdout",
     "output_type": "stream",
     "text": [
      "Epoch: 91 - TrainLoss: 0.0024967454755197055 - ValidLoss: 4.8963174532199725\n",
      "Epoch: 91 - TrainACC: 1.0 - ValidACC: 0.2946306895611883\n"
     ]
    },
    {
     "name": "stderr",
     "output_type": "stream",
     "text": [
      "100%|████████████████████████████████████████████████████████████████████| 58/58 [00:22<00:00,  2.54it/s]\n",
      "100%|████████████████████████████████████████████████████████████████████| 58/58 [00:07<00:00,  7.31it/s]\n"
     ]
    },
    {
     "name": "stdout",
     "output_type": "stream",
     "text": [
      "Epoch: 92 - TrainLoss: 0.0026330838525860474 - ValidLoss: 4.919978236329967\n",
      "Epoch: 92 - TrainACC: 1.0 - ValidACC: 0.2998092123194331\n"
     ]
    },
    {
     "name": "stderr",
     "output_type": "stream",
     "text": [
      "100%|████████████████████████████████████████████████████████████████████| 58/58 [00:22<00:00,  2.56it/s]\n",
      "100%|████████████████████████████████████████████████████████████████████| 58/58 [00:07<00:00,  7.33it/s]\n"
     ]
    },
    {
     "name": "stdout",
     "output_type": "stream",
     "text": [
      "Epoch: 93 - TrainLoss: 0.0027209464741613843 - ValidLoss: 4.868335941742206\n",
      "Epoch: 93 - TrainACC: 1.0 - ValidACC: 0.29544835104933226\n"
     ]
    },
    {
     "name": "stderr",
     "output_type": "stream",
     "text": [
      "100%|████████████████████████████████████████████████████████████████████| 58/58 [00:22<00:00,  2.55it/s]\n",
      "100%|████████████████████████████████████████████████████████████████████| 58/58 [00:07<00:00,  7.41it/s]\n"
     ]
    },
    {
     "name": "stdout",
     "output_type": "stream",
     "text": [
      "Epoch: 94 - TrainLoss: 0.0030267814069922113 - ValidLoss: 4.9365833381126665\n",
      "Epoch: 94 - TrainACC: 1.0 - ValidACC: 0.29544835104933226\n"
     ]
    },
    {
     "name": "stderr",
     "output_type": "stream",
     "text": [
      "100%|████████████████████████████████████████████████████████████████████| 58/58 [00:22<00:00,  2.57it/s]\n",
      "100%|████████████████████████████████████████████████████████████████████| 58/58 [00:07<00:00,  7.28it/s]\n"
     ]
    },
    {
     "name": "stdout",
     "output_type": "stream",
     "text": [
      "Epoch: 95 - TrainLoss: 0.003165702020412247 - ValidLoss: 4.946991924581857\n",
      "Epoch: 95 - TrainACC: 1.0 - ValidACC: 0.28618152085036797\n"
     ]
    },
    {
     "name": "stderr",
     "output_type": "stream",
     "text": [
      "100%|████████████████████████████████████████████████████████████████████| 58/58 [00:22<00:00,  2.55it/s]\n",
      "100%|████████████████████████████████████████████████████████████████████| 58/58 [00:08<00:00,  7.21it/s]\n"
     ]
    },
    {
     "name": "stdout",
     "output_type": "stream",
     "text": [
      "Epoch: 96 - TrainLoss: 0.002646045291651811 - ValidLoss: 4.9021279195259355\n",
      "Epoch: 96 - TrainACC: 1.0 - ValidACC: 0.29381302807304444\n"
     ]
    },
    {
     "name": "stderr",
     "output_type": "stream",
     "text": [
      "100%|████████████████████████████████████████████████████████████████████| 58/58 [00:22<00:00,  2.53it/s]\n",
      "100%|████████████████████████████████████████████████████████████████████| 58/58 [00:08<00:00,  6.88it/s]\n"
     ]
    },
    {
     "name": "stdout",
     "output_type": "stream",
     "text": [
      "Epoch: 97 - TrainLoss: 0.002489815120874294 - ValidLoss: 4.909319076044806\n",
      "Epoch: 97 - TrainACC: 1.0 - ValidACC: 0.29517579721995096\n"
     ]
    },
    {
     "name": "stderr",
     "output_type": "stream",
     "text": [
      "100%|████████████████████████████████████████████████████████████████████| 58/58 [00:22<00:00,  2.53it/s]\n",
      "100%|████████████████████████████████████████████████████████████████████| 58/58 [00:07<00:00,  7.25it/s]\n"
     ]
    },
    {
     "name": "stdout",
     "output_type": "stream",
     "text": [
      "Epoch: 98 - TrainLoss: 0.0027252989921494036 - ValidLoss: 4.905947857889636\n",
      "Epoch: 98 - TrainACC: 1.0 - ValidACC: 0.29626601253747614\n"
     ]
    },
    {
     "name": "stderr",
     "output_type": "stream",
     "text": [
      "100%|████████████████████████████████████████████████████████████████████| 58/58 [00:22<00:00,  2.57it/s]\n",
      "100%|████████████████████████████████████████████████████████████████████| 58/58 [00:07<00:00,  7.40it/s]"
     ]
    },
    {
     "name": "stdout",
     "output_type": "stream",
     "text": [
      "Epoch: 99 - TrainLoss: 0.002378509797412774 - ValidLoss: 4.868993664609975\n",
      "Epoch: 99 - TrainACC: 1.0 - ValidACC: 0.29572090487871355\n"
     ]
    },
    {
     "name": "stderr",
     "output_type": "stream",
     "text": [
      "\n"
     ]
    },
    {
     "data": {
      "text/plain": [
       "<All keys matched successfully>"
      ]
     },
     "execution_count": 8,
     "metadata": {},
     "output_type": "execute_result"
    }
   ],
   "source": [
    "old_loss = 1e26\n",
    "best_dct = None\n",
    "last_dst = None\n",
    "for epoch in range(epochs):\n",
    "    model.train()\n",
    "    tr_total_loss = 0\n",
    "    tr_total_corr = 0 \n",
    "    for train_img, train_cate in tqdm(train_dl):\n",
    "        train_img = train_img.to(device)\n",
    "        train_cate = train_cate.to(device)\n",
    "\n",
    "        train_logits = model(train_img)\n",
    "        train_loss = loss_fn(train_logits, train_cate)\n",
    "\n",
    "        optimizer.zero_grad()\n",
    "        train_loss.backward()\n",
    "        optimizer.step()\n",
    "\n",
    "        scheduler.step()\n",
    "\n",
    "        tr_total_loss += train_loss.item()\n",
    "        tr_total_corr += (train_logits.argmax(dim=1) == train_cate).sum().item()\n",
    "\n",
    "    model.eval()\n",
    "    with torch.no_grad():\n",
    "        va_total_loss = 0\n",
    "        va_total_corr = 0\n",
    "        for valid_img, valid_cate in tqdm(test_dl):\n",
    "            valid_img = valid_img.to(device)\n",
    "            valid_cate = valid_cate.to(device)\n",
    "            \n",
    "            valid_logits = model(valid_img)\n",
    "            valid_loss = loss_fn(valid_logits, valid_cate)\n",
    "\n",
    "            va_total_loss += valid_loss.item()\n",
    "            va_total_corr += (valid_logits.argmax(dim=1) == valid_cate).sum().item()\n",
    "            \n",
    "    mean_train_loss = tr_total_loss/len(train_dl)\n",
    "    mean_valid_loss = va_total_loss/len(test_dl)\n",
    "\n",
    "    if mean_valid_loss <= old_loss:\n",
    "        old_loss = mean_valid_loss\n",
    "        best_dct = model.state_dict()\n",
    "    \n",
    "    last_dct = model.state_dict()\n",
    "\n",
    "    mean_train_corr = tr_total_corr/len(train_ds)\n",
    "    mean_valid_corr = va_total_corr/len(test_ds)\n",
    "\n",
    "    print(f\"Epoch: {epoch} - TrainLoss: {mean_train_loss} - ValidLoss: {mean_valid_loss}\")\n",
    "    print(f\"Epoch: {epoch} - TrainACC: {mean_train_corr} - ValidACC: {mean_valid_corr}\")\n",
    "model.load_state_dict(best_dct)"
   ]
  },
  {
   "cell_type": "code",
   "execution_count": 9,
   "id": "f3e2d73d-f013-4a5d-a32d-eaf5fee417c6",
   "metadata": {},
   "outputs": [
    {
     "name": "stderr",
     "output_type": "stream",
     "text": [
      "100%|████████████████████████████████████████████████████████████████████| 58/58 [00:08<00:00,  7.10it/s]"
     ]
    },
    {
     "name": "stdout",
     "output_type": "stream",
     "text": [
      "TestLoss: 4.905471546896573 - TestACC: 0.29572090487871355\n"
     ]
    },
    {
     "name": "stderr",
     "output_type": "stream",
     "text": [
      "\n"
     ]
    }
   ],
   "source": [
    "model.eval()\n",
    "with torch.no_grad():\n",
    "    ts_total_loss = 0\n",
    "    ts_total_corr = 0\n",
    "    for test_img, test_cate in tqdm(test_dl):\n",
    "        test_img = test_img.to(device)\n",
    "        test_cate = test_cate.to(device)\n",
    "        \n",
    "        test_logits = model(test_img)\n",
    "        test_loss = loss_fn(test_logits, test_cate)\n",
    "\n",
    "        ts_total_loss += test_loss.cpu().item()\n",
    "        ts_total_corr += (test_logits.argmax(dim=1) == test_cate).sum().item()\n",
    "\n",
    "mean_test_loss = ts_total_loss/len(test_dl)\n",
    "mean_test_corr = ts_total_corr/len(test_ds)\n",
    "\n",
    "print(f\"TestLoss: {mean_test_loss} - TestACC: {mean_test_corr}\")"
   ]
  }
 ],
 "metadata": {
  "kernelspec": {
   "display_name": "Python 3 (ipykernel)",
   "language": "python",
   "name": "python3"
  },
  "language_info": {
   "codemirror_mode": {
    "name": "ipython",
    "version": 3
   },
   "file_extension": ".py",
   "mimetype": "text/x-python",
   "name": "python",
   "nbconvert_exporter": "python",
   "pygments_lexer": "ipython3",
   "version": "3.10.7"
  },
  "widgets": {
   "application/vnd.jupyter.widget-state+json": {
    "state": {},
    "version_major": 2,
    "version_minor": 0
   }
  }
 },
 "nbformat": 4,
 "nbformat_minor": 5
}
