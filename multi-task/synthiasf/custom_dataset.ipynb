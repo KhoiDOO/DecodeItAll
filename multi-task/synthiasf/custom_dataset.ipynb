{
 "cells": [
  {
   "cell_type": "code",
   "execution_count": 1,
   "id": "78924091-4615-4a6a-8729-9cb34f5ceae6",
   "metadata": {},
   "outputs": [],
   "source": [
    "import os\n",
    "import pandas\n",
    "import matplotlib.pyplot as plt\n",
    "import seaborn\n",
    "from tqdm import tqdm\n",
    "import numpy as np\n",
    "\n",
    "import torch\n",
    "from torch import nn\n",
    "from torch.optim import Adam\n",
    "from torch.optim.lr_scheduler import CosineAnnealingLR\n",
    "from torch.utils.data import Dataset, DataLoader, random_split\n",
    "from torchvision import transforms\n",
    "import torchvision.transforms.functional as F\n",
    "from torchvision.utils import make_grid\n",
    "\n",
    "import albumentations as A"
   ]
  },
  {
   "cell_type": "code",
   "execution_count": null,
   "id": "2bd47b9b-9f2f-4069-b846-8abf45880d37",
   "metadata": {},
   "outputs": [],
   "source": [
    "class CustomSynthiaDS(Dataset):\n",
    "    def __init__(self, root = \"/media/mountHDD2/synthia-sf\", mode = \"Left\"):\n",
    "        self.mode = mode\n",
    "        self.imgs = sorted(glob(root + f\"/*/RGB{self.mode}/*\"))\n",
    "        self.masks = sorted(glob(root + f\"/*/GT{self.mode}Debug/*\"))\n",
    "        self.depths = sorted(glob(root + f\"/*/DepthDebug{self.mode}/*\"))\n",
    "\n",
    "        self.transform = A.Compose(\n",
    "            [\n",
    "                # A.Resize(256, 256),\n",
    "                A.HorizontalFlip(p=0.2),\n",
    "            ]\n",
    "        )\n",
    "\n",
    "        self.outer_transform = A.Compose(\n",
    "            [\n",
    "                A.Normalize(mean=(0.5, 0.5, 0.5), std=(0.5, 0.5, 0.5)),\n",
    "            ]\n",
    "        )\n",
    "\n",
    "        self.\n",
    "\n",
    "    def __len__(self):\n",
    "        return len(self.imgs)\n",
    "\n",
    "    @property\n",
    "    def num_img(self):\n",
    "        return len(self.imgs)\n",
    "\n",
    "    @property\n",
    "    def num_msk(self):\n",
    "        return len(self.masks)\n",
    "\n",
    "    @property\n",
    "    def num_dpt(self):\n",
    "        return len(self.depths)\n",
    "\n",
    "    @staticmethod\n",
    "    def process_mask(x):\n",
    "        uniques = torch.unique(x, sorted = True)\n",
    "        for i, v in enumerate(uniques):\n",
    "            x[x == v] = i\n",
    "        \n",
    "        x = x.to(dtype=torch.long)\n",
    "        onehot = F.one_hot(x.squeeze(1), 3).permute(0, 3, 1, 2)[0].float()\n",
    "        return onehot\n",
    "\n",
    "    def __getitem__(self, idx):\n",
    "        img_path = self.imgs[idx]\n",
    "        msk_path = self.masks[idx]\n",
    "        dpt_path = self.depths[idx]\n",
    "\n",
    "        "
   ]
  }
 ],
 "metadata": {
  "kernelspec": {
   "display_name": "Python 3 (ipykernel)",
   "language": "python",
   "name": "python3"
  },
  "language_info": {
   "codemirror_mode": {
    "name": "ipython",
    "version": 3
   },
   "file_extension": ".py",
   "mimetype": "text/x-python",
   "name": "python",
   "nbconvert_exporter": "python",
   "pygments_lexer": "ipython3",
   "version": "3.10.7"
  },
  "widgets": {
   "application/vnd.jupyter.widget-state+json": {
    "state": {},
    "version_major": 2,
    "version_minor": 0
   }
  }
 },
 "nbformat": 4,
 "nbformat_minor": 5
}
