{
 "cells": [
  {
   "cell_type": "code",
   "execution_count": 10,
   "id": "7dea2f99-4289-48c3-b5a2-0460b75ab8fc",
   "metadata": {},
   "outputs": [],
   "source": [
    "import os\n",
    "import pandas as pd\n",
    "import matplotlib.pyplot as plt\n",
    "import seaborn as sns\n",
    "from tqdm import tqdm\n",
    "import numpy as np\n",
    "import cv2\n",
    "from glob import glob\n",
    "import random\n",
    "\n",
    "import torch\n",
    "from torch import nn\n",
    "from torch.optim import Adam\n",
    "from torch.optim.lr_scheduler import CosineAnnealingLR\n",
    "from torch.utils.data import Dataset, DataLoader\n",
    "from torchvision import transforms\n",
    "import torchvision as tv\n",
    "import torch.nn.functional as F\n",
    "from torch import Tensor\n",
    "\n",
    "from vedo import Volume, dataurl\n",
    "from vedo.applications import RayCastPlotter"
   ]
  },
  {
   "cell_type": "code",
   "execution_count": 2,
   "id": "6a4ae6e3-e8e3-41cc-867a-b454028b769e",
   "metadata": {},
   "outputs": [
    {
     "name": "stdout",
     "output_type": "stream",
     "text": [
      "['._imagesTr', '._labelsTr', 'imagesTr', 'imagesTs', 'labelsTr', '._imagesTs', 'dataset.json', '._dataset.json']\n"
     ]
    }
   ],
   "source": [
    "data_dir = \"/media/mountHDD2/decalthon\"\n",
    "task_dir = data_dir + \"/Task03_Liver\"\n",
    "print(os.listdir(task_dir))"
   ]
  },
  {
   "cell_type": "code",
   "execution_count": 8,
   "id": "12dbd929-3b6b-478d-a318-fd25f6661ca6",
   "metadata": {},
   "outputs": [
    {
     "name": "stdout",
     "output_type": "stream",
     "text": [
      "#Train Sample: 131\n",
      "#Test Sample: 70\n",
      "#Train Label: 131\n"
     ]
    }
   ],
   "source": [
    "train_sample_dir = task_dir + \"/imagesTr\"\n",
    "test_sample_dir = task_dir + \"/imagesTs\"\n",
    "train_label_dir = task_dir + \"/labelsTr\"\n",
    "\n",
    "train_samples = glob(train_sample_dir + \"/*\")\n",
    "test_samples = glob(test_sample_dir + \"/*\")\n",
    "train_labels = glob(train_sample_dir + \"/*\")\n",
    "\n",
    "print(f\"#Train Sample: {len(train_samples)}\")\n",
    "print(f\"#Test Sample: {len(test_samples)}\")\n",
    "print(f\"#Train Label: {len(train_labels)}\")"
   ]
  },
  {
   "cell_type": "code",
   "execution_count": 9,
   "id": "4e88067b-fc32-4b55-8fce-08159062966c",
   "metadata": {},
   "outputs": [
    {
     "name": "stdout",
     "output_type": "stream",
     "text": [
      "/media/mountHDD2/decalthon/Task03_Liver/imagesTr/liver_87.nii.gz\n"
     ]
    }
   ],
   "source": [
    "sample_path = train_samples[0]\n",
    "print(sample_path)"
   ]
  },
  {
   "cell_type": "code",
   "execution_count": 11,
   "id": "69a5dd4e-5dd2-4d3c-be43-6524474ee687",
   "metadata": {},
   "outputs": [],
   "source": [
    "embryo = Volume(sample_path).mode(1).c('jet')"
   ]
  },
  {
   "cell_type": "code",
   "execution_count": null,
   "id": "2e17f907-ac35-40b3-a63d-284fa61a2965",
   "metadata": {},
   "outputs": [],
   "source": [
    "plt = RayCastPlotter(embryo, bg='black', bg2='blackboard', axes=7)  # Plotter instance\n",
    "\n",
    "plt.show(viewup=\"z\").close()"
   ]
  },
  {
   "cell_type": "code",
   "execution_count": null,
   "id": "fefdbfc9-fb1d-4238-814c-3223133a56dc",
   "metadata": {},
   "outputs": [
    {
     "name": "stdout",
     "output_type": "stream",
     "text": [
      "\u001b[1m\u001b[32minside  points # 2493\u001b[0m\n",
      "\u001b[1m\u001b[31moutside points # 2507\u001b[0m\n",
      "\u001b[1masphericity: 0.5470242734424167\u001b[0m\n"
     ]
    }
   ],
   "source": [
    "from vedo import *\n",
    "import numpy as np\n",
    "\n",
    "# settings.default_backend = '2d' # or k3d, ipyvtk, or vtk\n",
    "\n",
    "plt = Plotter(size=(1000,500))\n",
    "\n",
    "pts = np.random.randn(5000, 3) * [3,2,1]# random gaussian point cloud\n",
    "\n",
    "elli = pca_ellipsoid(pts, pvalue=0.5)  # group of [ellipse, 3 axes]\n",
    "plt += elli\n",
    "\n",
    "ipts = elli.inside_points(pts) # select points inside mesh\n",
    "opts = elli.inside_points(pts, invert=True)\n",
    "plt += Points(ipts, c=\"g\")\n",
    "plt += Points(opts, c=\"r\")\n",
    "\n",
    "printc(\"inside  points #\", ipts.npoints, c='g')\n",
    "printc(\"outside points #\", opts.npoints, c='r')\n",
    "printc(\"asphericity:\", elli.asphericity())\n",
    "plt.show(axes=1)"
   ]
  },
  {
   "cell_type": "code",
   "execution_count": null,
   "id": "ebcc6b3b-2f83-42c1-9ebb-09d791a89b50",
   "metadata": {},
   "outputs": [],
   "source": []
  }
 ],
 "metadata": {
  "kernelspec": {
   "display_name": "Python 3 (ipykernel)",
   "language": "python",
   "name": "python3"
  },
  "language_info": {
   "codemirror_mode": {
    "name": "ipython",
    "version": 3
   },
   "file_extension": ".py",
   "mimetype": "text/x-python",
   "name": "python",
   "nbconvert_exporter": "python",
   "pygments_lexer": "ipython3",
   "version": "3.10.7"
  },
  "widgets": {
   "application/vnd.jupyter.widget-state+json": {
    "state": {},
    "version_major": 2,
    "version_minor": 0
   }
  }
 },
 "nbformat": 4,
 "nbformat_minor": 5
}
