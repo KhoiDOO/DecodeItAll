{
 "cells": [
  {
   "cell_type": "code",
   "execution_count": 2,
   "id": "7dea2f99-4289-48c3-b5a2-0460b75ab8fc",
   "metadata": {},
   "outputs": [],
   "source": [
    "import os\n",
    "import pandas as pd\n",
    "import matplotlib.pyplot as plt\n",
    "import seaborn as sns\n",
    "from tqdm import tqdm\n",
    "import numpy as np\n",
    "import cv2\n",
    "from glob import glob\n",
    "import random\n",
    "import json\n",
    "import nibabel as nib\n",
    "\n",
    "import torch\n",
    "from torch import nn\n",
    "from torch.optim import Adam\n",
    "from torch.optim.lr_scheduler import CosineAnnealingLR\n",
    "from torch.utils.data import Dataset, DataLoader\n",
    "from torchvision import transforms\n",
    "import torchvision as tv\n",
    "import torch.nn.functional as F\n",
    "from torch import Tensor"
   ]
  },
  {
   "cell_type": "code",
   "execution_count": 3,
   "id": "6a4ae6e3-e8e3-41cc-867a-b454028b769e",
   "metadata": {},
   "outputs": [
    {
     "name": "stdout",
     "output_type": "stream",
     "text": [
      "['._imagesTr', '._labelsTr', 'imagesTr', 'imagesTs', 'labelsTr', '._imagesTs', 'dataset.json', '._dataset.json']\n"
     ]
    }
   ],
   "source": [
    "data_dir = \"/media/mountHDD2/decalthon\"\n",
    "task_dir = data_dir + \"/Task03_Liver\"\n",
    "print(os.listdir(task_dir))"
   ]
  },
  {
   "cell_type": "code",
   "execution_count": 4,
   "id": "12dbd929-3b6b-478d-a318-fd25f6661ca6",
   "metadata": {},
   "outputs": [
    {
     "name": "stdout",
     "output_type": "stream",
     "text": [
      "#Train Sample: 131\n",
      "#Test Sample: 70\n",
      "#Train Label: 131\n"
     ]
    }
   ],
   "source": [
    "train_sample_dir = task_dir + \"/imagesTr\"\n",
    "test_sample_dir = task_dir + \"/imagesTs\"\n",
    "train_label_dir = task_dir + \"/labelsTr\"\n",
    "\n",
    "train_samples = glob(train_sample_dir + \"/*\")\n",
    "test_samples = glob(test_sample_dir + \"/*\")\n",
    "train_labels = glob(train_sample_dir + \"/*\")\n",
    "\n",
    "print(f\"#Train Sample: {len(train_samples)}\")\n",
    "print(f\"#Test Sample: {len(test_samples)}\")\n",
    "print(f\"#Train Label: {len(train_labels)}\")"
   ]
  },
  {
   "cell_type": "code",
   "execution_count": 5,
   "id": "ebcc6b3b-2f83-42c1-9ebb-09d791a89b50",
   "metadata": {},
   "outputs": [
    {
     "ename": "SyntaxError",
     "evalue": "incomplete input (3601330725.py, line 8)",
     "output_type": "error",
     "traceback": [
      "\u001b[0;36m  Cell \u001b[0;32mIn[5], line 8\u001b[0;36m\u001b[0m\n\u001b[0;31m    def __len__(self):\u001b[0m\n\u001b[0m                      ^\u001b[0m\n\u001b[0;31mSyntaxError\u001b[0m\u001b[0;31m:\u001b[0m incomplete input\n"
     ]
    }
   ],
   "source": [
    "class LiverDataSet(Dataset):\n",
    "    def __init__(self, data_dir, label_dir):\n",
    "        super().__init__()\n",
    "\n",
    "        self.data_dir = data_dir\n",
    "        self.label_dir = label_dir\n",
    "\n",
    "        self.data_paths = sorted(glob(self.data_dir + \"/*\"))\n",
    "        self.label_paths = sorted(glob(self.label_dir + \"/*\"))\n",
    "\n",
    "    def __len__(self):\n",
    "        return len(self.data_paths)\n",
    "\n",
    "    def __getitem__(self, idx):\n",
    "        data_path = self.data_paths[idx]\n",
    "        label_path = self.label_paths[idx]\n",
    "\n",
    "        data_np = nib.load(data_path).get_fdata()\n",
    "        label_np = nib.load(label_path).get_fdata()\n",
    "\n",
    "        "
   ]
  },
  {
   "cell_type": "code",
   "execution_count": null,
   "id": "99d4ed8a-7b45-45f9-9e80-667740d08124",
   "metadata": {},
   "outputs": [],
   "source": []
  }
 ],
 "metadata": {
  "kernelspec": {
   "display_name": "Python 3 (ipykernel)",
   "language": "python",
   "name": "python3"
  },
  "language_info": {
   "codemirror_mode": {
    "name": "ipython",
    "version": 3
   },
   "file_extension": ".py",
   "mimetype": "text/x-python",
   "name": "python",
   "nbconvert_exporter": "python",
   "pygments_lexer": "ipython3",
   "version": "3.10.7"
  },
  "widgets": {
   "application/vnd.jupyter.widget-state+json": {
    "state": {},
    "version_major": 2,
    "version_minor": 0
   }
  }
 },
 "nbformat": 4,
 "nbformat_minor": 5
}
